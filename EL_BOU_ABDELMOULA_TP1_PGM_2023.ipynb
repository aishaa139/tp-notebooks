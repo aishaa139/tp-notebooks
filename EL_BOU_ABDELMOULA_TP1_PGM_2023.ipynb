{
  "cells": [
    {
      "cell_type": "markdown",
      "metadata": {
        "id": "mlwHpOwciv1G"
      },
      "source": [
        "# Master Data Science, Lyon 1\n",
        "# TP1 PGM 2023 (durée 3h)\n",
        "\n",
        "Alex Aussem (aaussem@univ-lyon1.fr)\n",
        "\n",
        "***\n",
        "In this tutrial, you will learn how to create and train PGM models with **aGrUM/PyAGrUM**, a GRaphical Universal Modeler available at https://agrum.gitlab.io, developed at LIP6 - DESIR department - Decision Theory team, Université Sorbonne, by Pierre-Henri Wuillemin, Christophe Gonzales and many contributors (PhD students).\n",
        "\n",
        "The main concepts (conditional independencies, parameter learning, inference, structure learning etc.) seen in the PGM course (Master Data Science, Lyon 1) will be illustrated as well as the excerices.\n",
        "\n",
        "See also: https://gitlab.com/agrumery/aGrUM,\n",
        "\n",
        "Installation: conda install -c conda-forge pyagrum\n",
        "\n",
        "**aGrUM** is a C++ library for graphical models. It is designed for easily building applications using graphical models such as Bayesian networks, influence diagrams, decision trees, GAI networks or Markov decision processes.\n",
        "\n",
        "**PyAGrUM** is a Python wrapper for the C++ aGrUM library. It provides a high-level interface to the part of aGrUM allowing to create, handle and make computations into Bayesian Networks.\n",
        "\n",
        "In this notebook, you will learn how to\n",
        "\n",
        "- design a BN model with the basic building blocks provided by Agrum/pyAgrum,\n",
        "- learn its structure and the parameters from data\n",
        "- perform exact or approximate inference with evidence,\n",
        "- play with several benchmlark models like **ASIA** and **ALARM**.\n",
        "\n",
        "Template BNs in various formats are available at:\n",
        "https://github.com/eBay/bayesian-belief-networks/tree/master/bayesian/examples/bif"
      ]
    },
    {
      "cell_type": "code",
      "execution_count": null,
      "metadata": {
        "id": "kx_jxw65iv1I"
      },
      "outputs": [],
      "source": [
        "%matplotlib inline\n",
        "from pylab import *\n",
        "import matplotlib.pyplot as plt\n",
        "import os"
      ]
    },
    {
      "cell_type": "code",
      "execution_count": null,
      "metadata": {
        "colab": {
          "base_uri": "https://localhost:8080/"
        },
        "id": "KabTPFqsiv1I",
        "outputId": "b82fe1bb-f818-4305-a492-9938d71de1c3"
      },
      "outputs": [
        {
          "output_type": "stream",
          "name": "stdout",
          "text": [
            "Requirement already satisfied: pyAgrum in /usr/local/lib/python3.10/dist-packages (1.11.0)\n",
            "Requirement already satisfied: numpy in /usr/local/lib/python3.10/dist-packages (from pyAgrum) (1.23.5)\n",
            "Requirement already satisfied: matplotlib in /usr/local/lib/python3.10/dist-packages (from pyAgrum) (3.7.1)\n",
            "Requirement already satisfied: pydot in /usr/local/lib/python3.10/dist-packages (from pyAgrum) (1.4.2)\n",
            "Requirement already satisfied: contourpy>=1.0.1 in /usr/local/lib/python3.10/dist-packages (from matplotlib->pyAgrum) (1.2.0)\n",
            "Requirement already satisfied: cycler>=0.10 in /usr/local/lib/python3.10/dist-packages (from matplotlib->pyAgrum) (0.12.1)\n",
            "Requirement already satisfied: fonttools>=4.22.0 in /usr/local/lib/python3.10/dist-packages (from matplotlib->pyAgrum) (4.47.2)\n",
            "Requirement already satisfied: kiwisolver>=1.0.1 in /usr/local/lib/python3.10/dist-packages (from matplotlib->pyAgrum) (1.4.5)\n",
            "Requirement already satisfied: packaging>=20.0 in /usr/local/lib/python3.10/dist-packages (from matplotlib->pyAgrum) (23.2)\n",
            "Requirement already satisfied: pillow>=6.2.0 in /usr/local/lib/python3.10/dist-packages (from matplotlib->pyAgrum) (9.4.0)\n",
            "Requirement already satisfied: pyparsing>=2.3.1 in /usr/local/lib/python3.10/dist-packages (from matplotlib->pyAgrum) (3.1.1)\n",
            "Requirement already satisfied: python-dateutil>=2.7 in /usr/local/lib/python3.10/dist-packages (from matplotlib->pyAgrum) (2.8.2)\n",
            "Requirement already satisfied: six>=1.5 in /usr/local/lib/python3.10/dist-packages (from python-dateutil>=2.7->matplotlib->pyAgrum) (1.16.0)\n"
          ]
        }
      ],
      "source": [
        "!pip install pyAgrum\n",
        "import pyAgrum as gum\n",
        "import pyAgrum.lib.notebook as gnb"
      ]
    },
    {
      "cell_type": "code",
      "source": [
        "!pip install graphviz"
      ],
      "metadata": {
        "colab": {
          "base_uri": "https://localhost:8080/"
        },
        "id": "KaSmbBRDjWRb",
        "outputId": "eca10383-69e2-4f29-97ba-c8eb62672af3"
      },
      "execution_count": null,
      "outputs": [
        {
          "output_type": "stream",
          "name": "stdout",
          "text": [
            "Requirement already satisfied: graphviz in /usr/local/lib/python3.10/dist-packages (0.20.1)\n"
          ]
        }
      ]
    },
    {
      "cell_type": "code",
      "execution_count": null,
      "metadata": {
        "id": "DCrGvANSiv1J",
        "outputId": "60a8bedd-5978-47b1-ea80-0ff52a16ac10",
        "colab": {
          "base_uri": "https://localhost:8080/",
          "height": 207
        }
      },
      "outputs": [
        {
          "output_type": "display_data",
          "data": {
            "text/plain": [
              "<IPython.core.display.HTML object>"
            ],
            "text/html": [
              "<table><tr><th>Library</th><th>Version</th></tr><tr><td>OS</td><td>posix [linux]</td></tr><tr><td>Python</td><td>3.10.12 (main, Nov 20 2023, 15:14:05) [GCC 11.4.0]</td></tr><tr><td>IPython</td><td>7.34.0</td></tr><tr><td>Matplotlib</td><td>3.7.1</td></tr><tr><td>Numpy</td><td>1.23.5</td></tr><tr><td>pyDot</td><td>1.4.2</td></tr><tr><td>pyAgrum</td><td>1.11.0</td></tr></table><div align='right'><small>Wed Jan 24 19:31:30 2024 UTC</small></div>"
            ]
          },
          "metadata": {}
        }
      ],
      "source": [
        "gnb.configuration()"
      ]
    },
    {
      "cell_type": "markdown",
      "metadata": {
        "id": "90VFPZ4riv1J"
      },
      "source": [
        "## Create the network topology\n"
      ]
    },
    {
      "cell_type": "code",
      "execution_count": null,
      "metadata": {
        "id": "kc4xCbNNiv1K",
        "outputId": "037e9d7d-5dbf-4804-f52f-1ec5d3e47513",
        "colab": {
          "base_uri": "https://localhost:8080/"
        }
      },
      "outputs": [
        {
          "output_type": "stream",
          "name": "stdout",
          "text": [
            "BN{nodes: 0, arcs: 0, domainSize: 1, dim: 0, mem: 0o}\n"
          ]
        }
      ],
      "source": [
        "bn=gum.BayesNet('WaterSprinkler')\n",
        "print(bn)"
      ]
    },
    {
      "cell_type": "code",
      "execution_count": null,
      "metadata": {
        "id": "s-hUvTkKiv1K",
        "outputId": "4aaaeba5-dbc1-4a78-94c3-a159be5902da",
        "colab": {
          "base_uri": "https://localhost:8080/"
        }
      },
      "outputs": [
        {
          "output_type": "stream",
          "name": "stdout",
          "text": [
            "0\n"
          ]
        }
      ],
      "source": [
        "c=bn.add(gum.LabelizedVariable('c','cloudy ?',2))\n",
        "print(c)"
      ]
    },
    {
      "cell_type": "code",
      "execution_count": null,
      "metadata": {
        "id": "QgwZl1pAiv1L",
        "outputId": "0768c75c-bf51-4542-8c90-cf0a31cb2794",
        "colab": {
          "base_uri": "https://localhost:8080/"
        }
      },
      "outputs": [
        {
          "output_type": "stream",
          "name": "stdout",
          "text": [
            "1 2 3\n",
            "BN{nodes: 4, arcs: 0, domainSize: 16, dim: 4, mem: 64o}\n"
          ]
        }
      ],
      "source": [
        "s, r, w = [ bn.add(name, 2) for name in \"srw\" ] #bn.add(name, 2) === bn.add(gum.LabelizedVariable(name, name, 2))\n",
        "print (s,r,w)\n",
        "print (bn)"
      ]
    },
    {
      "cell_type": "code",
      "execution_count": null,
      "metadata": {
        "id": "kdTFQjuiiv1L"
      },
      "outputs": [],
      "source": [
        "bn.addArc(c,s)"
      ]
    },
    {
      "cell_type": "code",
      "execution_count": null,
      "metadata": {
        "id": "RDHeA6SLiv1L",
        "outputId": "666142a5-452e-46cb-a257-ef77c921c553",
        "colab": {
          "base_uri": "https://localhost:8080/"
        }
      },
      "outputs": [
        {
          "output_type": "stream",
          "name": "stdout",
          "text": [
            "BN{nodes: 4, arcs: 4, domainSize: 16, dim: 9, mem: 144o}\n"
          ]
        }
      ],
      "source": [
        "for link in [(c,r),(s,w),(r,w)]:\n",
        "    bn.addArc(*link)\n",
        "print(bn)"
      ]
    },
    {
      "cell_type": "code",
      "execution_count": null,
      "metadata": {
        "id": "EOY9tGqwiv1M",
        "outputId": "ebfa409e-47f8-4a55-d5b7-198d2e9fb5b8",
        "colab": {
          "base_uri": "https://localhost:8080/",
          "height": 272
        }
      },
      "outputs": [
        {
          "output_type": "execute_result",
          "data": {
            "text/plain": [
              "(pyAgrum.BayesNet<double>@0x5d18e3612960) BN{nodes: 4, arcs: 4, domainSize: 16, dim: 9, mem: 144o}"
            ],
            "text/html": [
              "<svg xmlns=\"http://www.w3.org/2000/svg\" xmlns:xlink=\"http://www.w3.org/1999/xlink\" width=\"134pt\" height=\"188pt\" viewBox=\"0.00 0.00 134.00 188.00\">\n",
              "<g id=\"graph0\" class=\"graph\" transform=\"scale(1 1) rotate(0) translate(4 184)\">\n",
              "<title>G</title>\n",
              "<!-- r -->\n",
              "<g id=\"node1\" class=\"node\">\n",
              "<title>r</title>\n",
              "<g id=\"a_node1\"><a xlink:title=\"(2) r\">\n",
              "<ellipse fill=\"#404040\" stroke=\"black\" cx=\"27\" cy=\"-90\" rx=\"27\" ry=\"18\"/>\n",
              "<text text-anchor=\"middle\" x=\"27\" y=\"-86.3\" font-family=\"Times,serif\" font-size=\"14.00\" fill=\"white\">r</text>\n",
              "</a>\n",
              "</g>\n",
              "</g>\n",
              "<!-- w -->\n",
              "<g id=\"node3\" class=\"node\">\n",
              "<title>w</title>\n",
              "<g id=\"a_node3\"><a xlink:title=\"(3) w\">\n",
              "<ellipse fill=\"#404040\" stroke=\"black\" cx=\"63\" cy=\"-18\" rx=\"27\" ry=\"18\"/>\n",
              "<text text-anchor=\"middle\" x=\"63\" y=\"-14.3\" font-family=\"Times,serif\" font-size=\"14.00\" fill=\"white\">w</text>\n",
              "</a>\n",
              "</g>\n",
              "</g>\n",
              "<!-- r&#45;&gt;w -->\n",
              "<g id=\"edge3\" class=\"edge\">\n",
              "<title>r-&gt;w</title>\n",
              "<g id=\"a_edge3\"><a xlink:title=\"2 → 3\">\n",
              "<path fill=\"none\" stroke=\"#4a4a4a\" d=\"M35.35,-72.76C39.71,-64.28 45.15,-53.71 50.04,-44.2\"/>\n",
              "<polygon fill=\"#4a4a4a\" stroke=\"#4a4a4a\" points=\"53.23,-45.64 54.7,-35.15 47.01,-42.44 53.23,-45.64\"/>\n",
              "</a>\n",
              "</g>\n",
              "</g>\n",
              "<!-- c -->\n",
              "<g id=\"node2\" class=\"node\">\n",
              "<title>c</title>\n",
              "<g id=\"a_node2\"><a xlink:title=\"(0) c\">\n",
              "<ellipse fill=\"#404040\" stroke=\"black\" cx=\"63\" cy=\"-162\" rx=\"27\" ry=\"18\"/>\n",
              "<text text-anchor=\"middle\" x=\"63\" y=\"-158.3\" font-family=\"Times,serif\" font-size=\"14.00\" fill=\"white\">c</text>\n",
              "</a>\n",
              "</g>\n",
              "</g>\n",
              "<!-- c&#45;&gt;r -->\n",
              "<g id=\"edge2\" class=\"edge\">\n",
              "<title>c-&gt;r</title>\n",
              "<g id=\"a_edge2\"><a xlink:title=\"0 → 2\">\n",
              "<path fill=\"none\" stroke=\"#4a4a4a\" d=\"M54.65,-144.76C50.29,-136.28 44.85,-125.71 39.96,-116.2\"/>\n",
              "<polygon fill=\"#4a4a4a\" stroke=\"#4a4a4a\" points=\"42.99,-114.44 35.3,-107.15 36.77,-117.64 42.99,-114.44\"/>\n",
              "</a>\n",
              "</g>\n",
              "</g>\n",
              "<!-- s -->\n",
              "<g id=\"node4\" class=\"node\">\n",
              "<title>s</title>\n",
              "<g id=\"a_node4\"><a xlink:title=\"(1) s\">\n",
              "<ellipse fill=\"#404040\" stroke=\"black\" cx=\"99\" cy=\"-90\" rx=\"27\" ry=\"18\"/>\n",
              "<text text-anchor=\"middle\" x=\"99\" y=\"-86.3\" font-family=\"Times,serif\" font-size=\"14.00\" fill=\"white\">s</text>\n",
              "</a>\n",
              "</g>\n",
              "</g>\n",
              "<!-- c&#45;&gt;s -->\n",
              "<g id=\"edge1\" class=\"edge\">\n",
              "<title>c-&gt;s</title>\n",
              "<g id=\"a_edge1\"><a xlink:title=\"0 → 1\">\n",
              "<path fill=\"none\" stroke=\"#4a4a4a\" d=\"M71.35,-144.76C75.71,-136.28 81.15,-125.71 86.04,-116.2\"/>\n",
              "<polygon fill=\"#4a4a4a\" stroke=\"#4a4a4a\" points=\"89.23,-117.64 90.7,-107.15 83.01,-114.44 89.23,-117.64\"/>\n",
              "</a>\n",
              "</g>\n",
              "</g>\n",
              "<!-- s&#45;&gt;w -->\n",
              "<g id=\"edge4\" class=\"edge\">\n",
              "<title>s-&gt;w</title>\n",
              "<g id=\"a_edge4\"><a xlink:title=\"1 → 3\">\n",
              "<path fill=\"none\" stroke=\"#4a4a4a\" d=\"M90.65,-72.76C86.29,-64.28 80.85,-53.71 75.96,-44.2\"/>\n",
              "<polygon fill=\"#4a4a4a\" stroke=\"#4a4a4a\" points=\"78.99,-42.44 71.3,-35.15 72.77,-45.64 78.99,-42.44\"/>\n",
              "</a>\n",
              "</g>\n",
              "</g>\n",
              "</g>\n",
              "</svg>"
            ]
          },
          "metadata": {},
          "execution_count": 17
        }
      ],
      "source": [
        "#import pyAgrum.lib.notebook as gnb\n",
        "bn"
      ]
    },
    {
      "cell_type": "code",
      "execution_count": null,
      "metadata": {
        "id": "f1CPwr-8iv1N",
        "outputId": "26d73db8-cc33-42c0-c11c-f03c0ef96bea",
        "colab": {
          "base_uri": "https://localhost:8080/",
          "height": 87
        }
      },
      "outputs": [
        {
          "output_type": "execute_result",
          "data": {
            "text/plain": [
              "(pyAgrum.Potential<double>@0x5d18e3120690) \n",
              "  c                |\n",
              "0        |1        |\n",
              "---------|---------|\n",
              " 0.5000  | 0.5000  |"
            ],
            "text/html": [
              "<table style=\"border:1px solid black;\">\n",
              "<tr style='border:1px solid black;color:black;background-color:#808080'>\n",
              "      <th colspan='2'><center>c</center></th></tr>\n",
              "<tr><th style='border:1px solid black;border-bottom-style: double;color:black;background-color:#BBBBBB'>\n",
              "      <center>0</center></th><th style='border:1px solid black;border-bottom-style: double;color:black;background-color:#BBBBBB'>\n",
              "      <center>1</center></th></tr>\n",
              "<tr><td style='color:black;background-color:#bfbf64;text-align:right;'>0.5000</td><td style='color:black;background-color:#bfbf64;text-align:right;'>0.5000</td></tr>\n",
              "</table>"
            ]
          },
          "metadata": {},
          "execution_count": 18
        }
      ],
      "source": [
        "bn.cpt(c).fillWith([0.5,0.5])"
      ]
    },
    {
      "cell_type": "code",
      "execution_count": null,
      "metadata": {
        "id": "9mzJUg4iiv1O",
        "outputId": "b4231e47-6500-4afc-b3b3-e3c8e91a964c",
        "colab": {
          "base_uri": "https://localhost:8080/",
          "height": 87
        }
      },
      "outputs": [
        {
          "output_type": "execute_result",
          "data": {
            "text/plain": [
              "(pyAgrum.Potential<double>@0x5d18e3120690) \n",
              "  c                |\n",
              "0        |1        |\n",
              "---------|---------|\n",
              " 0.4000  | 0.6000  |"
            ],
            "text/html": [
              "<table style=\"border:1px solid black;\">\n",
              "<tr style='border:1px solid black;color:black;background-color:#808080'>\n",
              "      <th colspan='2'><center>c</center></th></tr>\n",
              "<tr><th style='border:1px solid black;border-bottom-style: double;color:black;background-color:#BBBBBB'>\n",
              "      <center>0</center></th><th style='border:1px solid black;border-bottom-style: double;color:black;background-color:#BBBBBB'>\n",
              "      <center>1</center></th></tr>\n",
              "<tr><td style='color:black;background-color:#cbb264;text-align:right;'>0.4000</td><td style='color:black;background-color:#b2cb64;text-align:right;'>0.6000</td></tr>\n",
              "</table>"
            ]
          },
          "metadata": {},
          "execution_count": 19
        }
      ],
      "source": [
        "bn.cpt(\"c\").fillWith([0.4,0.6])"
      ]
    },
    {
      "cell_type": "code",
      "execution_count": null,
      "metadata": {
        "id": "TT-O4SKpiv1O",
        "outputId": "04ef0bbd-a776-48ba-faa5-00d8245d8bcf",
        "colab": {
          "base_uri": "https://localhost:8080/"
        }
      },
      "outputs": [
        {
          "output_type": "stream",
          "name": "stderr",
          "text": [
            "/usr/local/lib/python3.10/dist-packages/pyAgrum/pyAgrum.py:9367: UserWarning: \n",
            "** pyAgrum.Potential.var_names is obsolete in pyAgrum>0.22.9. Please use pyAgrum.Potential.names.\n",
            "\n",
            "  warnings.warn(\"\\n** pyAgrum.Potential.var_names is obsolete in pyAgrum>0.22.9. Please use pyAgrum.Potential.names.\\n\")\n"
          ]
        },
        {
          "output_type": "execute_result",
          "data": {
            "text/plain": [
              "['c', 's']"
            ]
          },
          "metadata": {},
          "execution_count": 20
        }
      ],
      "source": [
        "bn.cpt(s).var_names"
      ]
    },
    {
      "cell_type": "code",
      "execution_count": null,
      "metadata": {
        "id": "cudorZUGiv1O"
      },
      "outputs": [],
      "source": [
        "bn.cpt(s)[:]=[ [0.5,0.5],[0.9,0.1]]"
      ]
    },
    {
      "cell_type": "code",
      "execution_count": null,
      "metadata": {
        "id": "EqF1Zmbjiv1P",
        "outputId": "9080bff8-5d69-4fd9-c60d-69ecc92a6190",
        "colab": {
          "base_uri": "https://localhost:8080/"
        }
      },
      "outputs": [
        {
          "output_type": "stream",
          "name": "stdout",
          "text": [
            "[0.9 0.1]\n"
          ]
        }
      ],
      "source": [
        "print(bn.cpt(s)[1])"
      ]
    },
    {
      "cell_type": "code",
      "execution_count": null,
      "metadata": {
        "id": "KVZZpXCAiv1P",
        "outputId": "68f2f335-724d-40b3-ea3d-3a1631c75385",
        "colab": {
          "base_uri": "https://localhost:8080/",
          "height": 161
        }
      },
      "outputs": [
        {
          "output_type": "execute_result",
          "data": {
            "text/plain": [
              "(pyAgrum.Potential<double>@0x5d18e36133b0) \n",
              "             ||  w                |\n",
              "s     |r     ||0        |1        |\n",
              "------|------||---------|---------|\n",
              "0     |0     || 1.0000  | 0.0000  |\n",
              "1     |0     || 0.1000  | 0.9000  |\n",
              "0     |1     || 0.1000  | 0.9000  |\n",
              "1     |1     || 0.0100  | 0.9900  |"
            ],
            "text/html": [
              "<table style=\"border:1px solid black;\">\n",
              "<tr><th colspan='2'></th>\n",
              "      <th colspan='2' style='border:1px solid black;color:black;background-color:#808080;'><center>w</center>\n",
              "      </th></tr>\n",
              "<tr><th style='border:1px solid black;color:black;background-color:#808080'><center>r</center></th><th style='border:1px solid black;color:black;background-color:#808080'><center>s</center></th><th style='border:1px solid black;border-bottom-style: double;color:black;background-color:#BBBBBB'>\n",
              "      <center>0</center></th><th style='border:1px solid black;border-bottom-style: double;color:black;background-color:#BBBBBB'>\n",
              "      <center>1</center></th></tr>\n",
              "<tr><th style='border:1px solid black;color:black;background-color:#BBBBBB;' rowspan = '2'>\n",
              "            <center>0</center></th><th style='border:1px solid black;color:black;background-color:#BBBBBB'><center>0</center></th><td style='color:black;background-color:#7fff64;text-align:right;'>1.0000</td><td style='color:black;background-color:#ff7f64;text-align:right;'>0.0000</td></tr>\n",
              "<tr><th style='border:1px solid black;color:black;background-color:#BBBBBB'><center>1</center></th><td style='color:black;background-color:#f28b64;text-align:right;'>0.1000</td><td style='color:black;background-color:#8bf264;text-align:right;'>0.9000</td></tr>\n",
              "<tr><th style='border:1px solid black;color:black;background-color:#BBBBBB;' rowspan = '2'>\n",
              "            <center>1</center></th><th style='border:1px solid black;color:black;background-color:#BBBBBB'><center>0</center></th><td style='color:black;background-color:#f28b64;text-align:right;'>0.1000</td><td style='color:black;background-color:#8bf264;text-align:right;'>0.9000</td></tr>\n",
              "<tr><th style='border:1px solid black;color:black;background-color:#BBBBBB'><center>1</center></th><td style='color:black;background-color:#fd8064;text-align:right;'>0.0100</td><td style='color:black;background-color:#80fd64;text-align:right;'>0.9900</td></tr>\n",
              "</table>"
            ]
          },
          "metadata": {},
          "execution_count": 23
        }
      ],
      "source": [
        "bn.cpt(w)[0,0,:] = [1, 0] # r=0,s=0\n",
        "bn.cpt(w)[0,1,:] = [0.1, 0.9] # r=0,s=1\n",
        "bn.cpt(w)[1,0,:] = [0.1, 0.9] # r=1,s=0\n",
        "bn.cpt(w)[1,1,:] = [0.01, 0.99] # r=1,s=1\n",
        "bn.cpt(w)"
      ]
    },
    {
      "cell_type": "code",
      "execution_count": null,
      "metadata": {
        "id": "Mey6yxFBiv1P"
      },
      "outputs": [],
      "source": [
        "bn.cpt(r)[{'c':0}]=[0.8,0.2]\n",
        "bn.cpt(r)[{'c':1}]=[0.2,0.8]"
      ]
    },
    {
      "cell_type": "markdown",
      "metadata": {
        "id": "O-C1Vt8iiv1Q"
      },
      "source": [
        "## Inference with evidence"
      ]
    },
    {
      "cell_type": "code",
      "execution_count": null,
      "metadata": {
        "id": "V38ILU5giv1Q"
      },
      "outputs": [],
      "source": [
        "ie=gum.LazyPropagation(bn)\n",
        "ie.makeInference()"
      ]
    },
    {
      "cell_type": "code",
      "execution_count": null,
      "metadata": {
        "id": "JDJA1Z3Hiv1Q",
        "outputId": "1b651197-f926-4702-9cf0-0e43795ec0d0",
        "colab": {
          "base_uri": "https://localhost:8080/"
        }
      },
      "outputs": [
        {
          "output_type": "stream",
          "name": "stdout",
          "text": [
            "\n",
            "  w                |\n",
            "0        |1        |\n",
            "---------|---------|\n",
            " 0.3333  | 0.6667  |\n",
            "\n"
          ]
        }
      ],
      "source": [
        "print (ie.posterior(w))"
      ]
    },
    {
      "cell_type": "code",
      "execution_count": null,
      "metadata": {
        "id": "P3jOfRICiv1R",
        "outputId": "cd3a887d-fca8-4e0e-ecb1-8eeb790c802b",
        "colab": {
          "base_uri": "https://localhost:8080/",
          "height": 87
        }
      },
      "outputs": [
        {
          "output_type": "execute_result",
          "data": {
            "text/plain": [
              "(pyAgrum.Potential<double>@0x5d18e2ad1840) \n",
              "  w                |\n",
              "0        |1        |\n",
              "---------|---------|\n",
              " 0.3333  | 0.6667  |"
            ],
            "text/html": [
              "<table style=\"border:1px solid black;\">\n",
              "<tr style='border:1px solid black;color:black;background-color:#808080'>\n",
              "      <th colspan='2'><center>w</center></th></tr>\n",
              "<tr><th style='border:1px solid black;border-bottom-style: double;color:black;background-color:#BBBBBB'>\n",
              "      <center>0</center></th><th style='border:1px solid black;border-bottom-style: double;color:black;background-color:#BBBBBB'>\n",
              "      <center>1</center></th></tr>\n",
              "<tr><td style='color:black;background-color:#d4a964;text-align:right;'>0.3333</td><td style='color:black;background-color:#a9d464;text-align:right;'>0.6667</td></tr>\n",
              "</table>"
            ]
          },
          "metadata": {},
          "execution_count": 27
        }
      ],
      "source": [
        "ie.posterior(w)"
      ]
    },
    {
      "cell_type": "code",
      "execution_count": null,
      "metadata": {
        "id": "MTf4SyPoiv1R",
        "outputId": "2609b9e2-b895-4ae9-d354-5da41116346e",
        "colab": {
          "base_uri": "https://localhost:8080/",
          "height": 87
        }
      },
      "outputs": [
        {
          "output_type": "execute_result",
          "data": {
            "text/plain": [
              "(pyAgrum.Potential<double>@0x5d18e2e65ef0) \n",
              "  w                |\n",
              "0        |1        |\n",
              "---------|---------|\n",
              " 0.8200  | 0.1800  |"
            ],
            "text/html": [
              "<table style=\"border:1px solid black;\">\n",
              "<tr style='border:1px solid black;color:black;background-color:#808080'>\n",
              "      <th colspan='2'><center>w</center></th></tr>\n",
              "<tr><th style='border:1px solid black;border-bottom-style: double;color:black;background-color:#BBBBBB'>\n",
              "      <center>0</center></th><th style='border:1px solid black;border-bottom-style: double;color:black;background-color:#BBBBBB'>\n",
              "      <center>1</center></th></tr>\n",
              "<tr><td style='color:black;background-color:#96e764;text-align:right;'>0.8200</td><td style='color:black;background-color:#e79664;text-align:right;'>0.1800</td></tr>\n",
              "</table>"
            ]
          },
          "metadata": {},
          "execution_count": 28
        }
      ],
      "source": [
        "ie.setEvidence({'s':0, 'c': 0})\n",
        "ie.makeInference()\n",
        "ie.posterior(w)"
      ]
    },
    {
      "cell_type": "code",
      "execution_count": null,
      "metadata": {
        "id": "jnIkNlMriv1S",
        "outputId": "31a34c49-4316-4537-fc0e-676522fdf1dc",
        "colab": {
          "base_uri": "https://localhost:8080/",
          "height": 87
        }
      },
      "outputs": [
        {
          "output_type": "execute_result",
          "data": {
            "text/plain": [
              "(pyAgrum.Potential<double>@0x5d18e2df67b0) \n",
              "  w                |\n",
              "0        |1        |\n",
              "---------|---------|\n",
              " 0.3280  | 0.6720  |"
            ],
            "text/html": [
              "<table style=\"border:1px solid black;\">\n",
              "<tr style='border:1px solid black;color:black;background-color:#808080'>\n",
              "      <th colspan='2'><center>w</center></th></tr>\n",
              "<tr><th style='border:1px solid black;border-bottom-style: double;color:black;background-color:#BBBBBB'>\n",
              "      <center>0</center></th><th style='border:1px solid black;border-bottom-style: double;color:black;background-color:#BBBBBB'>\n",
              "      <center>1</center></th></tr>\n",
              "<tr><td style='color:black;background-color:#d5a864;text-align:right;'>0.3280</td><td style='color:black;background-color:#a8d564;text-align:right;'>0.6720</td></tr>\n",
              "</table>"
            ]
          },
          "metadata": {},
          "execution_count": 29
        }
      ],
      "source": [
        "ie.setEvidence({'s': [0.5, 1], 'c': [1, 0]})\n",
        "ie.makeInference()\n",
        "ie.posterior(w) # using gnb's feature"
      ]
    },
    {
      "cell_type": "code",
      "execution_count": null,
      "metadata": {
        "id": "sS6xRcHgiv1S",
        "outputId": "051b90f2-b382-4654-d24f-dfd82f3c9ce3",
        "colab": {
          "base_uri": "https://localhost:8080/",
          "height": 87
        }
      },
      "outputs": [
        {
          "output_type": "execute_result",
          "data": {
            "text/plain": [
              "(pyAgrum.Potential<double>@0x5d18e2c97560) \n",
              "  w                |\n",
              "0        |1        |\n",
              "---------|---------|\n",
              " 0.2789  | 0.7211  |"
            ],
            "text/html": [
              "<table style=\"border:1px solid black;\">\n",
              "<tr style='border:1px solid black;color:black;background-color:#808080'>\n",
              "      <th colspan='2'><center>w</center></th></tr>\n",
              "<tr><th style='border:1px solid black;border-bottom-style: double;color:black;background-color:#BBBBBB'>\n",
              "      <center>0</center></th><th style='border:1px solid black;border-bottom-style: double;color:black;background-color:#BBBBBB'>\n",
              "      <center>1</center></th></tr>\n",
              "<tr><td style='color:black;background-color:#dba264;text-align:right;'>0.2789</td><td style='color:black;background-color:#a2db64;text-align:right;'>0.7211</td></tr>\n",
              "</table>"
            ]
          },
          "metadata": {},
          "execution_count": 30
        }
      ],
      "source": [
        "ie.setEvidence({'s': [0.5, 1]})\n",
        "ie.makeInference()\n",
        "ie.posterior(w) # using gnb's feature"
      ]
    },
    {
      "cell_type": "code",
      "execution_count": null,
      "metadata": {
        "id": "2FIdeya4iv1S",
        "outputId": "c30c2e4c-4711-4089-88d2-542e1be7ecbc",
        "colab": {
          "base_uri": "https://localhost:8080/",
          "height": 120
        }
      },
      "outputs": [
        {
          "output_type": "display_data",
          "data": {
            "text/plain": [
              "<Figure size 200x50 with 1 Axes>"
            ],
            "image/svg+xml": "<?xml version=\"1.0\" encoding=\"utf-8\" standalone=\"no\"?>\n<!DOCTYPE svg PUBLIC \"-//W3C//DTD SVG 1.1//EN\"\n  \"http://www.w3.org/Graphics/SVG/1.1/DTD/svg11.dtd\">\n<svg xmlns:xlink=\"http://www.w3.org/1999/xlink\" width=\"139.3625pt\" height=\"74.1755pt\" viewBox=\"0 0 139.3625 74.1755\" xmlns=\"http://www.w3.org/2000/svg\" version=\"1.1\">\n <metadata>\n  <rdf:RDF xmlns:dc=\"http://purl.org/dc/elements/1.1/\" xmlns:cc=\"http://creativecommons.org/ns#\" xmlns:rdf=\"http://www.w3.org/1999/02/22-rdf-syntax-ns#\">\n   <cc:Work>\n    <dc:type rdf:resource=\"http://purl.org/dc/dcmitype/StillImage\"/>\n    <dc:date>2024-01-24T19:31:32.120755</dc:date>\n    <dc:format>image/svg+xml</dc:format>\n    <dc:creator>\n     <cc:Agent>\n      <dc:title>Matplotlib v3.7.1, https://matplotlib.org/</dc:title>\n     </cc:Agent>\n    </dc:creator>\n   </cc:Work>\n  </rdf:RDF>\n </metadata>\n <defs>\n  <style type=\"text/css\">*{stroke-linejoin: round; stroke-linecap: butt}</style>\n </defs>\n <g id=\"figure_1\">\n  <g id=\"patch_1\">\n   <path d=\"M 0 74.1755 \nL 139.3625 74.1755 \nL 139.3625 0 \nL 0 0 \nz\n\" style=\"fill: #e0e0e0\"/>\n  </g>\n  <g id=\"axes_1\">\n   <g id=\"patch_2\">\n    <path d=\"M 20.5625 63.4755 \nL 132.1625 63.4755 \nL 132.1625 35.7555 \nL 20.5625 35.7555 \nz\n\" style=\"fill: #ffffff\"/>\n   </g>\n   <g id=\"patch_3\">\n    <path d=\"M 20.5625 63.4755 \nL 101.042043 63.4755 \nL 101.042043 51.1555 \nL 20.5625 51.1555 \nz\n\" clip-path=\"url(#pf7e9b89b09)\" style=\"fill: #8fbc8f\"/>\n   </g>\n   <g id=\"patch_4\">\n    <path d=\"M 20.5625 48.0755 \nL 51.682957 48.0755 \nL 51.682957 35.7555 \nL 20.5625 35.7555 \nz\n\" clip-path=\"url(#pf7e9b89b09)\" style=\"fill: #8fbc8f\"/>\n   </g>\n   <g id=\"matplotlib.axis_1\">\n    <g id=\"xtick_1\">\n     <g id=\"line2d_1\">\n      <path d=\"M 20.5625 63.4755 \nL 20.5625 35.7555 \n\" clip-path=\"url(#pf7e9b89b09)\" style=\"fill: none; stroke: #b0b0b0; stroke-width: 0.8; stroke-linecap: square\"/>\n     </g>\n     <g id=\"line2d_2\">\n      <defs>\n       <path id=\"m7ccfb8c0af\" d=\"M 0 0 \nL 0 3.5 \n\" style=\"stroke: #000000; stroke-width: 0.8\"/>\n      </defs>\n      <g>\n       <use xlink:href=\"#m7ccfb8c0af\" x=\"20.5625\" y=\"63.4755\" style=\"stroke: #000000; stroke-width: 0.8\"/>\n      </g>\n     </g>\n    </g>\n    <g id=\"xtick_2\">\n     <g id=\"line2d_3\">\n      <path d=\"M 76.3625 63.4755 \nL 76.3625 35.7555 \n\" clip-path=\"url(#pf7e9b89b09)\" style=\"fill: none; stroke: #b0b0b0; stroke-width: 0.8; stroke-linecap: square\"/>\n     </g>\n     <g id=\"line2d_4\">\n      <g>\n       <use xlink:href=\"#m7ccfb8c0af\" x=\"76.3625\" y=\"63.4755\" style=\"stroke: #000000; stroke-width: 0.8\"/>\n      </g>\n     </g>\n    </g>\n    <g id=\"xtick_3\">\n     <g id=\"line2d_5\">\n      <path d=\"M 132.1625 63.4755 \nL 132.1625 35.7555 \n\" clip-path=\"url(#pf7e9b89b09)\" style=\"fill: none; stroke: #b0b0b0; stroke-width: 0.8; stroke-linecap: square\"/>\n     </g>\n     <g id=\"line2d_6\">\n      <g>\n       <use xlink:href=\"#m7ccfb8c0af\" x=\"132.1625\" y=\"63.4755\" style=\"stroke: #000000; stroke-width: 0.8\"/>\n      </g>\n     </g>\n    </g>\n   </g>\n   <g id=\"matplotlib.axis_2\">\n    <g id=\"ytick_1\">\n     <g id=\"line2d_7\">\n      <defs>\n       <path id=\"m1671829974\" d=\"M 0 0 \nL -3.5 0 \n\" style=\"stroke: #000000; stroke-width: 0.8\"/>\n      </defs>\n      <g>\n       <use xlink:href=\"#m1671829974\" x=\"20.5625\" y=\"57.3155\" style=\"stroke: #000000; stroke-width: 0.8\"/>\n      </g>\n     </g>\n     <g id=\"text_1\">\n      <!-- 1 -->\n      <g transform=\"translate(7.2 61.114719) scale(0.1 -0.1)\">\n       <defs>\n        <path id=\"DejaVuSans-31\" d=\"M 794 531 \nL 1825 531 \nL 1825 4091 \nL 703 3866 \nL 703 4441 \nL 1819 4666 \nL 2450 4666 \nL 2450 531 \nL 3481 531 \nL 3481 0 \nL 794 0 \nL 794 531 \nz\n\" transform=\"scale(0.015625)\"/>\n       </defs>\n       <use xlink:href=\"#DejaVuSans-31\"/>\n      </g>\n     </g>\n    </g>\n    <g id=\"ytick_2\">\n     <g id=\"line2d_8\">\n      <g>\n       <use xlink:href=\"#m1671829974\" x=\"20.5625\" y=\"41.9155\" style=\"stroke: #000000; stroke-width: 0.8\"/>\n      </g>\n     </g>\n     <g id=\"text_2\">\n      <!-- 0 -->\n      <g transform=\"translate(7.2 45.714719) scale(0.1 -0.1)\">\n       <defs>\n        <path id=\"DejaVuSans-30\" d=\"M 2034 4250 \nQ 1547 4250 1301 3770 \nQ 1056 3291 1056 2328 \nQ 1056 1369 1301 889 \nQ 1547 409 2034 409 \nQ 2525 409 2770 889 \nQ 3016 1369 3016 2328 \nQ 3016 3291 2770 3770 \nQ 2525 4250 2034 4250 \nz\nM 2034 4750 \nQ 2819 4750 3233 4129 \nQ 3647 3509 3647 2328 \nQ 3647 1150 3233 529 \nQ 2819 -91 2034 -91 \nQ 1250 -91 836 529 \nQ 422 1150 422 2328 \nQ 422 3509 836 4129 \nQ 1250 4750 2034 4750 \nz\n\" transform=\"scale(0.015625)\"/>\n       </defs>\n       <use xlink:href=\"#DejaVuSans-30\"/>\n      </g>\n     </g>\n    </g>\n   </g>\n   <g id=\"patch_5\">\n    <path d=\"M 20.5625 63.4755 \nL 20.5625 35.7555 \n\" style=\"fill: none; stroke: #000000; stroke-width: 0.8; stroke-linejoin: miter; stroke-linecap: square\"/>\n   </g>\n   <g id=\"patch_6\">\n    <path d=\"M 132.1625 63.4755 \nL 132.1625 35.7555 \n\" style=\"fill: none; stroke: #000000; stroke-width: 0.8; stroke-linejoin: miter; stroke-linecap: square\"/>\n   </g>\n   <g id=\"patch_7\">\n    <path d=\"M 20.5625 63.4755 \nL 132.1625 63.4755 \n\" style=\"fill: none; stroke: #000000; stroke-width: 0.8; stroke-linejoin: miter; stroke-linecap: square\"/>\n   </g>\n   <g id=\"patch_8\">\n    <path d=\"M 20.5625 35.7555 \nL 132.1625 35.7555 \n\" style=\"fill: none; stroke: #000000; stroke-width: 0.8; stroke-linejoin: miter; stroke-linecap: square\"/>\n   </g>\n   <g id=\"text_3\">\n    <!-- 72.11% -->\n    <g transform=\"translate(94.032812 61.395812) scale(0.1 -0.1)\">\n     <defs>\n      <path id=\"DejaVuSans-37\" d=\"M 525 4666 \nL 3525 4666 \nL 3525 4397 \nL 1831 0 \nL 1172 0 \nL 2766 4134 \nL 525 4134 \nL 525 4666 \nz\n\" transform=\"scale(0.015625)\"/>\n      <path id=\"DejaVuSans-32\" d=\"M 1228 531 \nL 3431 531 \nL 3431 0 \nL 469 0 \nL 469 531 \nQ 828 903 1448 1529 \nQ 2069 2156 2228 2338 \nQ 2531 2678 2651 2914 \nQ 2772 3150 2772 3378 \nQ 2772 3750 2511 3984 \nQ 2250 4219 1831 4219 \nQ 1534 4219 1204 4116 \nQ 875 4013 500 3803 \nL 500 4441 \nQ 881 4594 1212 4672 \nQ 1544 4750 1819 4750 \nQ 2544 4750 2975 4387 \nQ 3406 4025 3406 3419 \nQ 3406 3131 3298 2873 \nQ 3191 2616 2906 2266 \nQ 2828 2175 2409 1742 \nQ 1991 1309 1228 531 \nz\n\" transform=\"scale(0.015625)\"/>\n      <path id=\"DejaVuSans-2e\" d=\"M 684 794 \nL 1344 794 \nL 1344 0 \nL 684 0 \nL 684 794 \nz\n\" transform=\"scale(0.015625)\"/>\n      <path id=\"DejaVuSans-25\" d=\"M 4653 2053 \nQ 4381 2053 4226 1822 \nQ 4072 1591 4072 1178 \nQ 4072 772 4226 539 \nQ 4381 306 4653 306 \nQ 4919 306 5073 539 \nQ 5228 772 5228 1178 \nQ 5228 1588 5073 1820 \nQ 4919 2053 4653 2053 \nz\nM 4653 2450 \nQ 5147 2450 5437 2106 \nQ 5728 1763 5728 1178 \nQ 5728 594 5436 251 \nQ 5144 -91 4653 -91 \nQ 4153 -91 3862 251 \nQ 3572 594 3572 1178 \nQ 3572 1766 3864 2108 \nQ 4156 2450 4653 2450 \nz\nM 1428 4353 \nQ 1159 4353 1004 4120 \nQ 850 3888 850 3481 \nQ 850 3069 1003 2837 \nQ 1156 2606 1428 2606 \nQ 1700 2606 1854 2837 \nQ 2009 3069 2009 3481 \nQ 2009 3884 1853 4118 \nQ 1697 4353 1428 4353 \nz\nM 4250 4750 \nL 4750 4750 \nL 1831 -91 \nL 1331 -91 \nL 4250 4750 \nz\nM 1428 4750 \nQ 1922 4750 2215 4408 \nQ 2509 4066 2509 3481 \nQ 2509 2891 2217 2550 \nQ 1925 2209 1428 2209 \nQ 931 2209 642 2551 \nQ 353 2894 353 3481 \nQ 353 4063 643 4406 \nQ 934 4750 1428 4750 \nz\n\" transform=\"scale(0.015625)\"/>\n     </defs>\n     <use xlink:href=\"#DejaVuSans-37\"/>\n     <use xlink:href=\"#DejaVuSans-32\" x=\"63.623047\"/>\n     <use xlink:href=\"#DejaVuSans-2e\" x=\"127.246094\"/>\n     <use xlink:href=\"#DejaVuSans-31\" x=\"159.033203\"/>\n     <use xlink:href=\"#DejaVuSans-31\" x=\"222.65625\"/>\n     <use xlink:href=\"#DejaVuSans-25\" x=\"286.279297\"/>\n    </g>\n   </g>\n   <g id=\"text_4\">\n    <!-- 27.89% -->\n    <g transform=\"translate(94.032812 45.995812) scale(0.1 -0.1)\">\n     <defs>\n      <path id=\"DejaVuSans-38\" d=\"M 2034 2216 \nQ 1584 2216 1326 1975 \nQ 1069 1734 1069 1313 \nQ 1069 891 1326 650 \nQ 1584 409 2034 409 \nQ 2484 409 2743 651 \nQ 3003 894 3003 1313 \nQ 3003 1734 2745 1975 \nQ 2488 2216 2034 2216 \nz\nM 1403 2484 \nQ 997 2584 770 2862 \nQ 544 3141 544 3541 \nQ 544 4100 942 4425 \nQ 1341 4750 2034 4750 \nQ 2731 4750 3128 4425 \nQ 3525 4100 3525 3541 \nQ 3525 3141 3298 2862 \nQ 3072 2584 2669 2484 \nQ 3125 2378 3379 2068 \nQ 3634 1759 3634 1313 \nQ 3634 634 3220 271 \nQ 2806 -91 2034 -91 \nQ 1263 -91 848 271 \nQ 434 634 434 1313 \nQ 434 1759 690 2068 \nQ 947 2378 1403 2484 \nz\nM 1172 3481 \nQ 1172 3119 1398 2916 \nQ 1625 2713 2034 2713 \nQ 2441 2713 2670 2916 \nQ 2900 3119 2900 3481 \nQ 2900 3844 2670 4047 \nQ 2441 4250 2034 4250 \nQ 1625 4250 1398 4047 \nQ 1172 3844 1172 3481 \nz\n\" transform=\"scale(0.015625)\"/>\n      <path id=\"DejaVuSans-39\" d=\"M 703 97 \nL 703 672 \nQ 941 559 1184 500 \nQ 1428 441 1663 441 \nQ 2288 441 2617 861 \nQ 2947 1281 2994 2138 \nQ 2813 1869 2534 1725 \nQ 2256 1581 1919 1581 \nQ 1219 1581 811 2004 \nQ 403 2428 403 3163 \nQ 403 3881 828 4315 \nQ 1253 4750 1959 4750 \nQ 2769 4750 3195 4129 \nQ 3622 3509 3622 2328 \nQ 3622 1225 3098 567 \nQ 2575 -91 1691 -91 \nQ 1453 -91 1209 -44 \nQ 966 3 703 97 \nz\nM 1959 2075 \nQ 2384 2075 2632 2365 \nQ 2881 2656 2881 3163 \nQ 2881 3666 2632 3958 \nQ 2384 4250 1959 4250 \nQ 1534 4250 1286 3958 \nQ 1038 3666 1038 3163 \nQ 1038 2656 1286 2365 \nQ 1534 2075 1959 2075 \nz\n\" transform=\"scale(0.015625)\"/>\n     </defs>\n     <use xlink:href=\"#DejaVuSans-32\"/>\n     <use xlink:href=\"#DejaVuSans-37\" x=\"63.623047\"/>\n     <use xlink:href=\"#DejaVuSans-2e\" x=\"127.246094\"/>\n     <use xlink:href=\"#DejaVuSans-38\" x=\"159.033203\"/>\n     <use xlink:href=\"#DejaVuSans-39\" x=\"222.65625\"/>\n     <use xlink:href=\"#DejaVuSans-25\" x=\"286.279297\"/>\n    </g>\n   </g>\n   <g id=\"text_5\">\n    <!-- w -->\n    <g transform=\"translate(71.455625 16.318125) scale(0.12 -0.12)\">\n     <defs>\n      <path id=\"DejaVuSans-77\" d=\"M 269 3500 \nL 844 3500 \nL 1563 769 \nL 2278 3500 \nL 2956 3500 \nL 3675 769 \nL 4391 3500 \nL 4966 3500 \nL 4050 0 \nL 3372 0 \nL 2619 2869 \nL 1863 0 \nL 1184 0 \nL 269 3500 \nz\n\" transform=\"scale(0.015625)\"/>\n     </defs>\n     <use xlink:href=\"#DejaVuSans-77\"/>\n    </g>\n    <!-- $\\mu=0.72$; $\\sigma=0.45$ -->\n    <g transform=\"translate(23.8025 29.7555) scale(0.12 -0.12)\">\n     <defs>\n      <path id=\"DejaVuSans-Oblique-3bc\" d=\"M -84 -1331 \nL 856 3500 \nL 1434 3500 \nL 1009 1322 \nQ 997 1256 987 1175 \nQ 978 1094 978 1013 \nQ 978 722 1161 565 \nQ 1344 409 1684 409 \nQ 2147 409 2431 671 \nQ 2716 934 2816 1459 \nL 3213 3500 \nL 3788 3500 \nL 3266 809 \nQ 3253 750 3248 706 \nQ 3244 663 3244 628 \nQ 3244 531 3283 486 \nQ 3322 441 3406 441 \nQ 3438 441 3492 456 \nQ 3547 472 3647 513 \nL 3559 50 \nQ 3422 -19 3297 -55 \nQ 3172 -91 3053 -91 \nQ 2847 -91 2730 40 \nQ 2613 172 2613 403 \nQ 2438 153 2195 31 \nQ 1953 -91 1625 -91 \nQ 1334 -91 1117 43 \nQ 900 178 831 397 \nL 494 -1331 \nL -84 -1331 \nz\n\" transform=\"scale(0.015625)\"/>\n      <path id=\"DejaVuSans-3d\" d=\"M 678 2906 \nL 4684 2906 \nL 4684 2381 \nL 678 2381 \nL 678 2906 \nz\nM 678 1631 \nL 4684 1631 \nL 4684 1100 \nL 678 1100 \nL 678 1631 \nz\n\" transform=\"scale(0.015625)\"/>\n      <path id=\"DejaVuSans-3b\" d=\"M 750 3309 \nL 1409 3309 \nL 1409 2516 \nL 750 2516 \nL 750 3309 \nz\nM 750 794 \nL 1409 794 \nL 1409 256 \nL 897 -744 \nL 494 -744 \nL 750 256 \nL 750 794 \nz\n\" transform=\"scale(0.015625)\"/>\n      <path id=\"DejaVuSans-20\" transform=\"scale(0.015625)\"/>\n      <path id=\"DejaVuSans-Oblique-3c3\" d=\"M 2219 3044 \nQ 1744 3044 1422 2700 \nQ 1081 2341 969 1747 \nQ 844 1119 1044 756 \nQ 1241 397 1706 397 \nQ 2166 397 2503 759 \nQ 2844 1122 2966 1747 \nQ 3075 2319 2881 2700 \nQ 2700 3044 2219 3044 \nz\nM 2309 3503 \nL 4219 3500 \nL 4106 2925 \nL 3463 2925 \nQ 3706 2438 3575 1747 \nQ 3406 888 2884 400 \nQ 2359 -91 1609 -91 \nQ 856 -91 525 400 \nQ 194 888 363 1747 \nQ 528 2609 1050 3097 \nQ 1484 3503 2309 3503 \nz\n\" transform=\"scale(0.015625)\"/>\n      <path id=\"DejaVuSans-34\" d=\"M 2419 4116 \nL 825 1625 \nL 2419 1625 \nL 2419 4116 \nz\nM 2253 4666 \nL 3047 4666 \nL 3047 1625 \nL 3713 1625 \nL 3713 1100 \nL 3047 1100 \nL 3047 0 \nL 2419 0 \nL 2419 1100 \nL 313 1100 \nL 313 1709 \nL 2253 4666 \nz\n\" transform=\"scale(0.015625)\"/>\n      <path id=\"DejaVuSans-35\" d=\"M 691 4666 \nL 3169 4666 \nL 3169 4134 \nL 1269 4134 \nL 1269 2991 \nQ 1406 3038 1543 3061 \nQ 1681 3084 1819 3084 \nQ 2600 3084 3056 2656 \nQ 3513 2228 3513 1497 \nQ 3513 744 3044 326 \nQ 2575 -91 1722 -91 \nQ 1428 -91 1123 -41 \nQ 819 9 494 109 \nL 494 744 \nQ 775 591 1075 516 \nQ 1375 441 1709 441 \nQ 2250 441 2565 725 \nQ 2881 1009 2881 1497 \nQ 2881 1984 2565 2268 \nQ 2250 2553 1709 2553 \nQ 1456 2553 1204 2497 \nQ 953 2441 691 2322 \nL 691 4666 \nz\n\" transform=\"scale(0.015625)\"/>\n     </defs>\n     <use xlink:href=\"#DejaVuSans-Oblique-3bc\" transform=\"translate(0 0.78125)\"/>\n     <use xlink:href=\"#DejaVuSans-3d\" transform=\"translate(83.105469 0.78125)\"/>\n     <use xlink:href=\"#DejaVuSans-30\" transform=\"translate(186.376953 0.78125)\"/>\n     <use xlink:href=\"#DejaVuSans-2e\" transform=\"translate(250 0.78125)\"/>\n     <use xlink:href=\"#DejaVuSans-37\" transform=\"translate(274.037109 0.78125)\"/>\n     <use xlink:href=\"#DejaVuSans-32\" transform=\"translate(337.660156 0.78125)\"/>\n     <use xlink:href=\"#DejaVuSans-3b\" transform=\"translate(401.283203 0.78125)\"/>\n     <use xlink:href=\"#DejaVuSans-20\" transform=\"translate(434.974609 0.78125)\"/>\n     <use xlink:href=\"#DejaVuSans-Oblique-3c3\" transform=\"translate(466.761719 0.78125)\"/>\n     <use xlink:href=\"#DejaVuSans-3d\" transform=\"translate(549.623047 0.78125)\"/>\n     <use xlink:href=\"#DejaVuSans-30\" transform=\"translate(652.894531 0.78125)\"/>\n     <use xlink:href=\"#DejaVuSans-2e\" transform=\"translate(716.517578 0.78125)\"/>\n     <use xlink:href=\"#DejaVuSans-34\" transform=\"translate(748.304688 0.78125)\"/>\n     <use xlink:href=\"#DejaVuSans-35\" transform=\"translate(811.927734 0.78125)\"/>\n    </g>\n   </g>\n  </g>\n </g>\n <defs>\n  <clipPath id=\"pf7e9b89b09\">\n   <rect x=\"20.5625\" y=\"35.7555\" width=\"111.6\" height=\"27.72\"/>\n  </clipPath>\n </defs>\n</svg>\n"
          },
          "metadata": {}
        }
      ],
      "source": [
        "%matplotlib inline\n",
        "gnb.showProba(ie.posterior(w))"
      ]
    },
    {
      "cell_type": "code",
      "execution_count": null,
      "metadata": {
        "id": "cupOzbs8iv1S",
        "outputId": "ee63d097-149f-48ab-a1e0-e98db939b516",
        "colab": {
          "base_uri": "https://localhost:8080/",
          "height": 87
        }
      },
      "outputs": [
        {
          "output_type": "execute_result",
          "data": {
            "text/plain": [
              "(pyAgrum.Potential<double>@0x5d18e36102c0) \n",
              "  w                |\n",
              "0        |1        |\n",
              "---------|---------|\n",
              " 0.2800  | 0.7200  |"
            ],
            "text/html": [
              "<table style=\"border:1px solid black;\">\n",
              "<tr style='border:1px solid black;color:black;background-color:#808080'>\n",
              "      <th colspan='2'><center>w</center></th></tr>\n",
              "<tr><th style='border:1px solid black;border-bottom-style: double;color:black;background-color:#BBBBBB'>\n",
              "      <center>0</center></th><th style='border:1px solid black;border-bottom-style: double;color:black;background-color:#BBBBBB'>\n",
              "      <center>1</center></th></tr>\n",
              "<tr><td style='color:black;background-color:#dba264;text-align:right;'>0.2800</td><td style='color:black;background-color:#a2db64;text-align:right;'>0.7200</td></tr>\n",
              "</table>"
            ]
          },
          "metadata": {},
          "execution_count": 32
        }
      ],
      "source": [
        "ie.setEvidence({'s': [1, 0], 'c': [0, 1]})\n",
        "ie.makeInference()\n",
        "ie.posterior(w) # using gnb's feature"
      ]
    },
    {
      "cell_type": "code",
      "execution_count": null,
      "metadata": {
        "id": "Ke8LlaIriv1S",
        "outputId": "8471549b-e035-46fd-a8fe-9a77e7d115c5",
        "colab": {
          "base_uri": "https://localhost:8080/",
          "height": 353
        }
      },
      "outputs": [
        {
          "output_type": "display_data",
          "data": {
            "text/plain": [
              "<IPython.core.display.SVG object>"
            ],
            "image/svg+xml": "<svg xmlns=\"http://www.w3.org/2000/svg\" xmlns:xlink=\"http://www.w3.org/1999/xlink\" width=\"228pt\" height=\"249pt\" viewBox=\"0.00 0.00 228.00 249.00\">\n<g id=\"graph0\" class=\"graph\" transform=\"scale(1 1) rotate(0) translate(4 245)\">\n<title>structs</title>\n<text text-anchor=\"middle\" x=\"110\" y=\"-7.8\" font-family=\"Times,serif\" font-size=\"14.00\" fill=\"#4a4a4a\">Inference in   0.49ms</text>\n<!-- c -->\n<g id=\"node1\" class=\"node\">\n<title>c</title>\n<polygon fill=\"#e0e0e0\" stroke=\"#000000\" points=\"160,-241 59,-241 59,-199 160,-199 160,-241\"/>\n<svg viewBox=\"0 0 132.1625 53.538125\" width=\"101px\" height=\"42px\" preserveAspectRatio=\"xMinYMin meet\" x=\"59\" y=\"-241\"> <metadata>\n  <rdf:RDF xmlns:dc=\"http://purl.org/dc/elements/1.1/\" xmlns:cc=\"http://creativecommons.org/ns#\" xmlns:rdf=\"http://www.w3.org/1999/02/22-rdf-syntax-ns#\">\n   <cc:Work>\n    <dc:type rdf:resource=\"http://purl.org/dc/dcmitype/StillImage\"/>\n    <dc:date>2024-01-24T19:31:32.571344</dc:date>\n    <dc:format>image/svg+xml</dc:format>\n    <dc:creator>\n     <cc:Agent>\n      <dc:title>Matplotlib v3.7.1, https://matplotlib.org/</dc:title>\n     </cc:Agent>\n    </dc:creator>\n   </cc:Work>\n  </rdf:RDF>\n </metadata>\n <defs>\n  <style type=\"text/css\">*{stroke-linejoin: round; stroke-linecap: butt}</style>\n </defs>\n <g id=\"figure_1\">\n  <g id=\"patch_1\">\n   <path d=\"M 0 53.538125  L 132.1625 53.538125  L 132.1625 0  L 0 0  z \" style=\"fill: #e0e0e0\"/>\n  </g>\n  <g id=\"axes_1\">\n   <g id=\"patch_2\">\n    <path d=\"M 16.9625 46.438125  L 128.5625 46.438125  L 128.5625 18.718125  L 16.9625 18.718125  z \" style=\"fill: #ffffff\"/>\n   </g>\n   <g id=\"patch_3\">\n    <path d=\"M 16.9625 46.438125  L 83.9225 46.438125  L 83.9225 34.118125  L 16.9625 34.118125  z \" clip-path=\"url(#pdf840f8822)\" style=\"fill: #8fbc8f\"/>\n   </g>\n   <g id=\"patch_4\">\n    <path d=\"M 16.9625 31.038125  L 61.6025 31.038125  L 61.6025 18.718125  L 16.9625 18.718125  z \" clip-path=\"url(#pdf840f8822)\" style=\"fill: #8fbc8f\"/>\n   </g>\n   <g id=\"matplotlib.axis_1\">\n    <g id=\"xtick_1\">\n     <g id=\"line2d_1\">\n      <path d=\"M 16.9625 46.438125  L 16.9625 18.718125  \" clip-path=\"url(#pdf840f8822)\" style=\"fill: none; stroke: #b0b0b0; stroke-width: 0.8; stroke-linecap: square\"/>\n     </g>\n     <g id=\"line2d_2\">\n      <defs>\n       <path id=\"mb9c1db108e\" d=\"M 0 0  L 0 3.5  \" style=\"stroke: #000000; stroke-width: 0.8\"/>\n      </defs>\n      <g>\n       <use xlink:href=\"#mb9c1db108e\" x=\"16.9625\" y=\"46.438125\" style=\"stroke: #000000; stroke-width: 0.8\"/>\n      </g>\n     </g>\n    </g>\n    <g id=\"xtick_2\">\n     <g id=\"line2d_3\">\n      <path d=\"M 72.7625 46.438125  L 72.7625 18.718125  \" clip-path=\"url(#pdf840f8822)\" style=\"fill: none; stroke: #b0b0b0; stroke-width: 0.8; stroke-linecap: square\"/>\n     </g>\n     <g id=\"line2d_4\">\n      <g>\n       <use xlink:href=\"#mb9c1db108e\" x=\"72.7625\" y=\"46.438125\" style=\"stroke: #000000; stroke-width: 0.8\"/>\n      </g>\n     </g>\n    </g>\n    <g id=\"xtick_3\">\n     <g id=\"line2d_5\">\n      <path d=\"M 128.5625 46.438125  L 128.5625 18.718125  \" clip-path=\"url(#pdf840f8822)\" style=\"fill: none; stroke: #b0b0b0; stroke-width: 0.8; stroke-linecap: square\"/>\n     </g>\n     <g id=\"line2d_6\">\n      <g>\n       <use xlink:href=\"#mb9c1db108e\" x=\"128.5625\" y=\"46.438125\" style=\"stroke: #000000; stroke-width: 0.8\"/>\n      </g>\n     </g>\n    </g>\n   </g>\n   <g id=\"matplotlib.axis_2\">\n    <g id=\"ytick_1\">\n     <g id=\"line2d_7\">\n      <defs>\n       <path id=\"m06ac182307\" d=\"M 0 0  L -3.5 0  \" style=\"stroke: #000000; stroke-width: 0.8\"/>\n      </defs>\n      <g>\n       <use xlink:href=\"#m06ac182307\" x=\"16.9625\" y=\"40.278125\" style=\"stroke: #000000; stroke-width: 0.8\"/>\n      </g>\n     </g>\n     <g id=\"text_1\">\n      <!-- 1 -->\n      <g transform=\"translate(3.6 44.077344) scale(0.1 -0.1)\">\n       <defs>\n        <path id=\"DejaVuSans-31\" d=\"M 794 531  L 1825 531  L 1825 4091  L 703 3866  L 703 4441  L 1819 4666  L 2450 4666  L 2450 531  L 3481 531  L 3481 0  L 794 0  L 794 531  z \" transform=\"scale(0.015625)\"/>\n       </defs>\n       <use xlink:href=\"#DejaVuSans-31\"/>\n      </g>\n     </g>\n    </g>\n    <g id=\"ytick_2\">\n     <g id=\"line2d_8\">\n      <g>\n       <use xlink:href=\"#m06ac182307\" x=\"16.9625\" y=\"24.878125\" style=\"stroke: #000000; stroke-width: 0.8\"/>\n      </g>\n     </g>\n     <g id=\"text_2\">\n      <!-- 0 -->\n      <g transform=\"translate(3.6 28.677344) scale(0.1 -0.1)\">\n       <defs>\n        <path id=\"DejaVuSans-30\" d=\"M 2034 4250  Q 1547 4250 1301 3770  Q 1056 3291 1056 2328  Q 1056 1369 1301 889  Q 1547 409 2034 409  Q 2525 409 2770 889  Q 3016 1369 3016 2328  Q 3016 3291 2770 3770  Q 2525 4250 2034 4250  z M 2034 4750  Q 2819 4750 3233 4129  Q 3647 3509 3647 2328  Q 3647 1150 3233 529  Q 2819 -91 2034 -91  Q 1250 -91 836 529  Q 422 1150 422 2328  Q 422 3509 836 4129  Q 1250 4750 2034 4750  z \" transform=\"scale(0.015625)\"/>\n       </defs>\n       <use xlink:href=\"#DejaVuSans-30\"/>\n      </g>\n     </g>\n    </g>\n   </g>\n   <g id=\"patch_5\">\n    <path d=\"M 16.9625 46.438125  L 16.9625 18.718125  \" style=\"fill: none; stroke: #000000; stroke-width: 0.8; stroke-linejoin: miter; stroke-linecap: square\"/>\n   </g>\n   <g id=\"patch_6\">\n    <path d=\"M 128.5625 46.438125  L 128.5625 18.718125  \" style=\"fill: none; stroke: #000000; stroke-width: 0.8; stroke-linejoin: miter; stroke-linecap: square\"/>\n   </g>\n   <g id=\"patch_7\">\n    <path d=\"M 16.9625 46.438125  L 128.5625 46.438125  \" style=\"fill: none; stroke: #000000; stroke-width: 0.8; stroke-linejoin: miter; stroke-linecap: square\"/>\n   </g>\n   <g id=\"patch_8\">\n    <path d=\"M 16.9625 18.718125  L 128.5625 18.718125  \" style=\"fill: none; stroke: #000000; stroke-width: 0.8; stroke-linejoin: miter; stroke-linecap: square\"/>\n   </g>\n   <g id=\"text_3\">\n    <!-- 60.00% -->\n    <g transform=\"translate(90.432812 44.358438) scale(0.1 -0.1)\">\n     <defs>\n      <path id=\"DejaVuSans-36\" d=\"M 2113 2584  Q 1688 2584 1439 2293  Q 1191 2003 1191 1497  Q 1191 994 1439 701  Q 1688 409 2113 409  Q 2538 409 2786 701  Q 3034 994 3034 1497  Q 3034 2003 2786 2293  Q 2538 2584 2113 2584  z M 3366 4563  L 3366 3988  Q 3128 4100 2886 4159  Q 2644 4219 2406 4219  Q 1781 4219 1451 3797  Q 1122 3375 1075 2522  Q 1259 2794 1537 2939  Q 1816 3084 2150 3084  Q 2853 3084 3261 2657  Q 3669 2231 3669 1497  Q 3669 778 3244 343  Q 2819 -91 2113 -91  Q 1303 -91 875 529  Q 447 1150 447 2328  Q 447 3434 972 4092  Q 1497 4750 2381 4750  Q 2619 4750 2861 4703  Q 3103 4656 3366 4563  z \" transform=\"scale(0.015625)\"/>\n      <path id=\"DejaVuSans-2e\" d=\"M 684 794  L 1344 794  L 1344 0  L 684 0  L 684 794  z \" transform=\"scale(0.015625)\"/>\n      <path id=\"DejaVuSans-25\" d=\"M 4653 2053  Q 4381 2053 4226 1822  Q 4072 1591 4072 1178  Q 4072 772 4226 539  Q 4381 306 4653 306  Q 4919 306 5073 539  Q 5228 772 5228 1178  Q 5228 1588 5073 1820  Q 4919 2053 4653 2053  z M 4653 2450  Q 5147 2450 5437 2106  Q 5728 1763 5728 1178  Q 5728 594 5436 251  Q 5144 -91 4653 -91  Q 4153 -91 3862 251  Q 3572 594 3572 1178  Q 3572 1766 3864 2108  Q 4156 2450 4653 2450  z M 1428 4353  Q 1159 4353 1004 4120  Q 850 3888 850 3481  Q 850 3069 1003 2837  Q 1156 2606 1428 2606  Q 1700 2606 1854 2837  Q 2009 3069 2009 3481  Q 2009 3884 1853 4118  Q 1697 4353 1428 4353  z M 4250 4750  L 4750 4750  L 1831 -91  L 1331 -91  L 4250 4750  z M 1428 4750  Q 1922 4750 2215 4408  Q 2509 4066 2509 3481  Q 2509 2891 2217 2550  Q 1925 2209 1428 2209  Q 931 2209 642 2551  Q 353 2894 353 3481  Q 353 4063 643 4406  Q 934 4750 1428 4750  z \" transform=\"scale(0.015625)\"/>\n     </defs>\n     <use xlink:href=\"#DejaVuSans-36\"/>\n     <use xlink:href=\"#DejaVuSans-30\" x=\"63.623047\"/>\n     <use xlink:href=\"#DejaVuSans-2e\" x=\"127.246094\"/>\n     <use xlink:href=\"#DejaVuSans-30\" x=\"159.033203\"/>\n     <use xlink:href=\"#DejaVuSans-30\" x=\"222.65625\"/>\n     <use xlink:href=\"#DejaVuSans-25\" x=\"286.279297\"/>\n    </g>\n   </g>\n   <g id=\"text_4\">\n    <!-- 40.00% -->\n    <g transform=\"translate(90.432812 28.958438) scale(0.1 -0.1)\">\n     <defs>\n      <path id=\"DejaVuSans-34\" d=\"M 2419 4116  L 825 1625  L 2419 1625  L 2419 4116  z M 2253 4666  L 3047 4666  L 3047 1625  L 3713 1625  L 3713 1100  L 3047 1100  L 3047 0  L 2419 0  L 2419 1100  L 313 1100  L 313 1709  L 2253 4666  z \" transform=\"scale(0.015625)\"/>\n     </defs>\n     <use xlink:href=\"#DejaVuSans-34\"/>\n     <use xlink:href=\"#DejaVuSans-30\" x=\"63.623047\"/>\n     <use xlink:href=\"#DejaVuSans-2e\" x=\"127.246094\"/>\n     <use xlink:href=\"#DejaVuSans-30\" x=\"159.033203\"/>\n     <use xlink:href=\"#DejaVuSans-30\" x=\"222.65625\"/>\n     <use xlink:href=\"#DejaVuSans-25\" x=\"286.279297\"/>\n    </g>\n   </g>\n   <g id=\"text_5\">\n    <!-- c -->\n    <g transform=\"translate(69.463437 12.718125) scale(0.12 -0.12)\">\n     <defs>\n      <path id=\"DejaVuSans-63\" d=\"M 3122 3366  L 3122 2828  Q 2878 2963 2633 3030  Q 2388 3097 2138 3097  Q 1578 3097 1268 2742  Q 959 2388 959 1747  Q 959 1106 1268 751  Q 1578 397 2138 397  Q 2388 397 2633 464  Q 2878 531 3122 666  L 3122 134  Q 2881 22 2623 -34  Q 2366 -91 2075 -91  Q 1284 -91 818 406  Q 353 903 353 1747  Q 353 2603 823 3093  Q 1294 3584 2113 3584  Q 2378 3584 2631 3529  Q 2884 3475 3122 3366  z \" transform=\"scale(0.015625)\"/>\n     </defs>\n     <use xlink:href=\"#DejaVuSans-63\"/>\n    </g>\n   </g>\n  </g>\n </g>\n <defs>\n  <clipPath id=\"pdf840f8822\">\n   <rect x=\"16.9625\" y=\"18.718125\" width=\"111.6\" height=\"27.72\"/>\n  </clipPath>\n </defs>\n</svg>\n\n</g>\n<!-- s -->\n<g id=\"node2\" class=\"node\">\n<title>s</title>\n<polygon fill=\"#e0e0e0\" stroke=\"#000000\" points=\"101,-163 0,-163 0,-111 101,-111 101,-163\"/>\n<svg viewBox=\"0 0 132.1625 66.9755\" width=\"101px\" height=\"52px\" preserveAspectRatio=\"xMinYMin meet\" x=\"0\" y=\"-163\"> <metadata>\n  <rdf:RDF xmlns:dc=\"http://purl.org/dc/elements/1.1/\" xmlns:cc=\"http://creativecommons.org/ns#\" xmlns:rdf=\"http://www.w3.org/1999/02/22-rdf-syntax-ns#\">\n   <cc:Work>\n    <dc:type rdf:resource=\"http://purl.org/dc/dcmitype/StillImage\"/>\n    <dc:date>2024-01-24T19:31:32.944444</dc:date>\n    <dc:format>image/svg+xml</dc:format>\n    <dc:creator>\n     <cc:Agent>\n      <dc:title>Matplotlib v3.7.1, https://matplotlib.org/</dc:title>\n     </cc:Agent>\n    </dc:creator>\n   </cc:Work>\n  </rdf:RDF>\n </metadata>\n <defs>\n  <style type=\"text/css\">*{stroke-linejoin: round; stroke-linecap: butt}</style>\n </defs>\n <g id=\"figure_1\">\n  <g id=\"patch_1\">\n   <path d=\"M 0 66.9755  L 132.1625 66.9755  L 132.1625 0  L 0 0  z \" style=\"fill: #e0e0e0\"/>\n  </g>\n  <g id=\"axes_1\">\n   <g id=\"patch_2\">\n    <path d=\"M 16.9625 59.8755  L 128.5625 59.8755  L 128.5625 32.1555  L 16.9625 32.1555  z \" style=\"fill: #ffffff\"/>\n   </g>\n   <g id=\"patch_3\">\n    <path d=\"M 16.9625 59.8755  L 45.9785 59.8755  L 45.9785 47.5555  L 16.9625 47.5555  z \" clip-path=\"url(#p4940973111)\" style=\"fill: #8fbc8f\"/>\n   </g>\n   <g id=\"patch_4\">\n    <path d=\"M 16.9625 44.4755  L 99.5465 44.4755  L 99.5465 32.1555  L 16.9625 32.1555  z \" clip-path=\"url(#p4940973111)\" style=\"fill: #8fbc8f\"/>\n   </g>\n   <g id=\"matplotlib.axis_1\">\n    <g id=\"xtick_1\">\n     <g id=\"line2d_1\">\n      <path d=\"M 16.9625 59.8755  L 16.9625 32.1555  \" clip-path=\"url(#p4940973111)\" style=\"fill: none; stroke: #b0b0b0; stroke-width: 0.8; stroke-linecap: square\"/>\n     </g>\n     <g id=\"line2d_2\">\n      <defs>\n       <path id=\"mcae68eeb08\" d=\"M 0 0  L 0 3.5  \" style=\"stroke: #000000; stroke-width: 0.8\"/>\n      </defs>\n      <g>\n       <use xlink:href=\"#mcae68eeb08\" x=\"16.9625\" y=\"59.8755\" style=\"stroke: #000000; stroke-width: 0.8\"/>\n      </g>\n     </g>\n    </g>\n    <g id=\"xtick_2\">\n     <g id=\"line2d_3\">\n      <path d=\"M 72.7625 59.8755  L 72.7625 32.1555  \" clip-path=\"url(#p4940973111)\" style=\"fill: none; stroke: #b0b0b0; stroke-width: 0.8; stroke-linecap: square\"/>\n     </g>\n     <g id=\"line2d_4\">\n      <g>\n       <use xlink:href=\"#mcae68eeb08\" x=\"72.7625\" y=\"59.8755\" style=\"stroke: #000000; stroke-width: 0.8\"/>\n      </g>\n     </g>\n    </g>\n    <g id=\"xtick_3\">\n     <g id=\"line2d_5\">\n      <path d=\"M 128.5625 59.8755  L 128.5625 32.1555  \" clip-path=\"url(#p4940973111)\" style=\"fill: none; stroke: #b0b0b0; stroke-width: 0.8; stroke-linecap: square\"/>\n     </g>\n     <g id=\"line2d_6\">\n      <g>\n       <use xlink:href=\"#mcae68eeb08\" x=\"128.5625\" y=\"59.8755\" style=\"stroke: #000000; stroke-width: 0.8\"/>\n      </g>\n     </g>\n    </g>\n   </g>\n   <g id=\"matplotlib.axis_2\">\n    <g id=\"ytick_1\">\n     <g id=\"line2d_7\">\n      <defs>\n       <path id=\"m34d9999705\" d=\"M 0 0  L -3.5 0  \" style=\"stroke: #000000; stroke-width: 0.8\"/>\n      </defs>\n      <g>\n       <use xlink:href=\"#m34d9999705\" x=\"16.9625\" y=\"53.7155\" style=\"stroke: #000000; stroke-width: 0.8\"/>\n      </g>\n     </g>\n     <g id=\"text_1\">\n      <!-- 1 -->\n      <g transform=\"translate(3.6 57.514719) scale(0.1 -0.1)\">\n       <defs>\n        <path id=\"DejaVuSans-31\" d=\"M 794 531  L 1825 531  L 1825 4091  L 703 3866  L 703 4441  L 1819 4666  L 2450 4666  L 2450 531  L 3481 531  L 3481 0  L 794 0  L 794 531  z \" transform=\"scale(0.015625)\"/>\n       </defs>\n       <use xlink:href=\"#DejaVuSans-31\"/>\n      </g>\n     </g>\n    </g>\n    <g id=\"ytick_2\">\n     <g id=\"line2d_8\">\n      <g>\n       <use xlink:href=\"#m34d9999705\" x=\"16.9625\" y=\"38.3155\" style=\"stroke: #000000; stroke-width: 0.8\"/>\n      </g>\n     </g>\n     <g id=\"text_2\">\n      <!-- 0 -->\n      <g transform=\"translate(3.6 42.114719) scale(0.1 -0.1)\">\n       <defs>\n        <path id=\"DejaVuSans-30\" d=\"M 2034 4250  Q 1547 4250 1301 3770  Q 1056 3291 1056 2328  Q 1056 1369 1301 889  Q 1547 409 2034 409  Q 2525 409 2770 889  Q 3016 1369 3016 2328  Q 3016 3291 2770 3770  Q 2525 4250 2034 4250  z M 2034 4750  Q 2819 4750 3233 4129  Q 3647 3509 3647 2328  Q 3647 1150 3233 529  Q 2819 -91 2034 -91  Q 1250 -91 836 529  Q 422 1150 422 2328  Q 422 3509 836 4129  Q 1250 4750 2034 4750  z \" transform=\"scale(0.015625)\"/>\n       </defs>\n       <use xlink:href=\"#DejaVuSans-30\"/>\n      </g>\n     </g>\n    </g>\n   </g>\n   <g id=\"patch_5\">\n    <path d=\"M 16.9625 59.8755  L 16.9625 32.1555  \" style=\"fill: none; stroke: #000000; stroke-width: 0.8; stroke-linejoin: miter; stroke-linecap: square\"/>\n   </g>\n   <g id=\"patch_6\">\n    <path d=\"M 128.5625 59.8755  L 128.5625 32.1555  \" style=\"fill: none; stroke: #000000; stroke-width: 0.8; stroke-linejoin: miter; stroke-linecap: square\"/>\n   </g>\n   <g id=\"patch_7\">\n    <path d=\"M 16.9625 59.8755  L 128.5625 59.8755  \" style=\"fill: none; stroke: #000000; stroke-width: 0.8; stroke-linejoin: miter; stroke-linecap: square\"/>\n   </g>\n   <g id=\"patch_8\">\n    <path d=\"M 16.9625 32.1555  L 128.5625 32.1555  \" style=\"fill: none; stroke: #000000; stroke-width: 0.8; stroke-linejoin: miter; stroke-linecap: square\"/>\n   </g>\n   <g id=\"text_3\">\n    <!-- 26.00% -->\n    <g transform=\"translate(90.432812 57.795812) scale(0.1 -0.1)\">\n     <defs>\n      <path id=\"DejaVuSans-32\" d=\"M 1228 531  L 3431 531  L 3431 0  L 469 0  L 469 531  Q 828 903 1448 1529  Q 2069 2156 2228 2338  Q 2531 2678 2651 2914  Q 2772 3150 2772 3378  Q 2772 3750 2511 3984  Q 2250 4219 1831 4219  Q 1534 4219 1204 4116  Q 875 4013 500 3803  L 500 4441  Q 881 4594 1212 4672  Q 1544 4750 1819 4750  Q 2544 4750 2975 4387  Q 3406 4025 3406 3419  Q 3406 3131 3298 2873  Q 3191 2616 2906 2266  Q 2828 2175 2409 1742  Q 1991 1309 1228 531  z \" transform=\"scale(0.015625)\"/>\n      <path id=\"DejaVuSans-36\" d=\"M 2113 2584  Q 1688 2584 1439 2293  Q 1191 2003 1191 1497  Q 1191 994 1439 701  Q 1688 409 2113 409  Q 2538 409 2786 701  Q 3034 994 3034 1497  Q 3034 2003 2786 2293  Q 2538 2584 2113 2584  z M 3366 4563  L 3366 3988  Q 3128 4100 2886 4159  Q 2644 4219 2406 4219  Q 1781 4219 1451 3797  Q 1122 3375 1075 2522  Q 1259 2794 1537 2939  Q 1816 3084 2150 3084  Q 2853 3084 3261 2657  Q 3669 2231 3669 1497  Q 3669 778 3244 343  Q 2819 -91 2113 -91  Q 1303 -91 875 529  Q 447 1150 447 2328  Q 447 3434 972 4092  Q 1497 4750 2381 4750  Q 2619 4750 2861 4703  Q 3103 4656 3366 4563  z \" transform=\"scale(0.015625)\"/>\n      <path id=\"DejaVuSans-2e\" d=\"M 684 794  L 1344 794  L 1344 0  L 684 0  L 684 794  z \" transform=\"scale(0.015625)\"/>\n      <path id=\"DejaVuSans-25\" d=\"M 4653 2053  Q 4381 2053 4226 1822  Q 4072 1591 4072 1178  Q 4072 772 4226 539  Q 4381 306 4653 306  Q 4919 306 5073 539  Q 5228 772 5228 1178  Q 5228 1588 5073 1820  Q 4919 2053 4653 2053  z M 4653 2450  Q 5147 2450 5437 2106  Q 5728 1763 5728 1178  Q 5728 594 5436 251  Q 5144 -91 4653 -91  Q 4153 -91 3862 251  Q 3572 594 3572 1178  Q 3572 1766 3864 2108  Q 4156 2450 4653 2450  z M 1428 4353  Q 1159 4353 1004 4120  Q 850 3888 850 3481  Q 850 3069 1003 2837  Q 1156 2606 1428 2606  Q 1700 2606 1854 2837  Q 2009 3069 2009 3481  Q 2009 3884 1853 4118  Q 1697 4353 1428 4353  z M 4250 4750  L 4750 4750  L 1831 -91  L 1331 -91  L 4250 4750  z M 1428 4750  Q 1922 4750 2215 4408  Q 2509 4066 2509 3481  Q 2509 2891 2217 2550  Q 1925 2209 1428 2209  Q 931 2209 642 2551  Q 353 2894 353 3481  Q 353 4063 643 4406  Q 934 4750 1428 4750  z \" transform=\"scale(0.015625)\"/>\n     </defs>\n     <use xlink:href=\"#DejaVuSans-32\"/>\n     <use xlink:href=\"#DejaVuSans-36\" x=\"63.623047\"/>\n     <use xlink:href=\"#DejaVuSans-2e\" x=\"127.246094\"/>\n     <use xlink:href=\"#DejaVuSans-30\" x=\"159.033203\"/>\n     <use xlink:href=\"#DejaVuSans-30\" x=\"222.65625\"/>\n     <use xlink:href=\"#DejaVuSans-25\" x=\"286.279297\"/>\n    </g>\n   </g>\n   <g id=\"text_4\">\n    <!-- 74.00% -->\n    <g transform=\"translate(90.432812 42.395812) scale(0.1 -0.1)\">\n     <defs>\n      <path id=\"DejaVuSans-37\" d=\"M 525 4666  L 3525 4666  L 3525 4397  L 1831 0  L 1172 0  L 2766 4134  L 525 4134  L 525 4666  z \" transform=\"scale(0.015625)\"/>\n      <path id=\"DejaVuSans-34\" d=\"M 2419 4116  L 825 1625  L 2419 1625  L 2419 4116  z M 2253 4666  L 3047 4666  L 3047 1625  L 3713 1625  L 3713 1100  L 3047 1100  L 3047 0  L 2419 0  L 2419 1100  L 313 1100  L 313 1709  L 2253 4666  z \" transform=\"scale(0.015625)\"/>\n     </defs>\n     <use xlink:href=\"#DejaVuSans-37\"/>\n     <use xlink:href=\"#DejaVuSans-34\" x=\"63.623047\"/>\n     <use xlink:href=\"#DejaVuSans-2e\" x=\"127.246094\"/>\n     <use xlink:href=\"#DejaVuSans-30\" x=\"159.033203\"/>\n     <use xlink:href=\"#DejaVuSans-30\" x=\"222.65625\"/>\n     <use xlink:href=\"#DejaVuSans-25\" x=\"286.279297\"/>\n    </g>\n   </g>\n   <g id=\"text_5\">\n    <!-- s -->\n    <g transform=\"translate(69.636875 12.718125) scale(0.12 -0.12)\">\n     <defs>\n      <path id=\"DejaVuSans-73\" d=\"M 2834 3397  L 2834 2853  Q 2591 2978 2328 3040  Q 2066 3103 1784 3103  Q 1356 3103 1142 2972  Q 928 2841 928 2578  Q 928 2378 1081 2264  Q 1234 2150 1697 2047  L 1894 2003  Q 2506 1872 2764 1633  Q 3022 1394 3022 966  Q 3022 478 2636 193  Q 2250 -91 1575 -91  Q 1294 -91 989 -36  Q 684 19 347 128  L 347 722  Q 666 556 975 473  Q 1284 391 1588 391  Q 1994 391 2212 530  Q 2431 669 2431 922  Q 2431 1156 2273 1281  Q 2116 1406 1581 1522  L 1381 1569  Q 847 1681 609 1914  Q 372 2147 372 2553  Q 372 3047 722 3315  Q 1072 3584 1716 3584  Q 2034 3584 2315 3537  Q 2597 3491 2834 3397  z \" transform=\"scale(0.015625)\"/>\n     </defs>\n     <use xlink:href=\"#DejaVuSans-73\"/>\n    </g>\n    <!-- $\\mu=0.26$; $\\sigma=0.44$ -->\n    <g transform=\"translate(20.0825 26.1555) scale(0.12 -0.12)\">\n     <defs>\n      <path id=\"DejaVuSans-Oblique-3bc\" d=\"M -84 -1331  L 856 3500  L 1434 3500  L 1009 1322  Q 997 1256 987 1175  Q 978 1094 978 1013  Q 978 722 1161 565  Q 1344 409 1684 409  Q 2147 409 2431 671  Q 2716 934 2816 1459  L 3213 3500  L 3788 3500  L 3266 809  Q 3253 750 3248 706  Q 3244 663 3244 628  Q 3244 531 3283 486  Q 3322 441 3406 441  Q 3438 441 3492 456  Q 3547 472 3647 513  L 3559 50  Q 3422 -19 3297 -55  Q 3172 -91 3053 -91  Q 2847 -91 2730 40  Q 2613 172 2613 403  Q 2438 153 2195 31  Q 1953 -91 1625 -91  Q 1334 -91 1117 43  Q 900 178 831 397  L 494 -1331  L -84 -1331  z \" transform=\"scale(0.015625)\"/>\n      <path id=\"DejaVuSans-3d\" d=\"M 678 2906  L 4684 2906  L 4684 2381  L 678 2381  L 678 2906  z M 678 1631  L 4684 1631  L 4684 1100  L 678 1100  L 678 1631  z \" transform=\"scale(0.015625)\"/>\n      <path id=\"DejaVuSans-3b\" d=\"M 750 3309  L 1409 3309  L 1409 2516  L 750 2516  L 750 3309  z M 750 794  L 1409 794  L 1409 256  L 897 -744  L 494 -744  L 750 256  L 750 794  z \" transform=\"scale(0.015625)\"/>\n      <path id=\"DejaVuSans-20\" transform=\"scale(0.015625)\"/>\n      <path id=\"DejaVuSans-Oblique-3c3\" d=\"M 2219 3044  Q 1744 3044 1422 2700  Q 1081 2341 969 1747  Q 844 1119 1044 756  Q 1241 397 1706 397  Q 2166 397 2503 759  Q 2844 1122 2966 1747  Q 3075 2319 2881 2700  Q 2700 3044 2219 3044  z M 2309 3503  L 4219 3500  L 4106 2925  L 3463 2925  Q 3706 2438 3575 1747  Q 3406 888 2884 400  Q 2359 -91 1609 -91  Q 856 -91 525 400  Q 194 888 363 1747  Q 528 2609 1050 3097  Q 1484 3503 2309 3503  z \" transform=\"scale(0.015625)\"/>\n     </defs>\n     <use xlink:href=\"#DejaVuSans-Oblique-3bc\" transform=\"translate(0 0.78125)\"/>\n     <use xlink:href=\"#DejaVuSans-3d\" transform=\"translate(83.105469 0.78125)\"/>\n     <use xlink:href=\"#DejaVuSans-30\" transform=\"translate(186.376953 0.78125)\"/>\n     <use xlink:href=\"#DejaVuSans-2e\" transform=\"translate(250 0.78125)\"/>\n     <use xlink:href=\"#DejaVuSans-32\" transform=\"translate(276.287109 0.78125)\"/>\n     <use xlink:href=\"#DejaVuSans-36\" transform=\"translate(339.910156 0.78125)\"/>\n     <use xlink:href=\"#DejaVuSans-3b\" transform=\"translate(403.533203 0.78125)\"/>\n     <use xlink:href=\"#DejaVuSans-20\" transform=\"translate(437.224609 0.78125)\"/>\n     <use xlink:href=\"#DejaVuSans-Oblique-3c3\" transform=\"translate(469.011719 0.78125)\"/>\n     <use xlink:href=\"#DejaVuSans-3d\" transform=\"translate(551.873047 0.78125)\"/>\n     <use xlink:href=\"#DejaVuSans-30\" transform=\"translate(655.144531 0.78125)\"/>\n     <use xlink:href=\"#DejaVuSans-2e\" transform=\"translate(718.767578 0.78125)\"/>\n     <use xlink:href=\"#DejaVuSans-34\" transform=\"translate(750.554688 0.78125)\"/>\n     <use xlink:href=\"#DejaVuSans-34\" transform=\"translate(814.177734 0.78125)\"/>\n    </g>\n   </g>\n  </g>\n </g>\n <defs>\n  <clipPath id=\"p4940973111\">\n   <rect x=\"16.9625\" y=\"32.1555\" width=\"111.6\" height=\"27.72\"/>\n  </clipPath>\n </defs>\n</svg>\n\n</g>\n<!-- c&#45;&gt;s -->\n<g id=\"edge1\" class=\"edge\">\n<title>c-&gt;s</title>\n<g id=\"a_edge1\"><a xlink:title=\"0 → 1\">\n<path fill=\"none\" stroke=\"#4a4a4a\" d=\"M94.92,-198.98C88.79,-190.57 81.51,-180.57 74.62,-171.12\"/>\n<polygon fill=\"#4a4a4a\" stroke=\"#4a4a4a\" points=\"77.44,-169.03 68.72,-163.01 71.78,-173.16 77.44,-169.03\"/>\n</a>\n</g>\n</g>\n<!-- r -->\n<g id=\"node3\" class=\"node\">\n<title>r</title>\n<polygon fill=\"#e0e0e0\" stroke=\"#000000\" points=\"220,-163 119,-163 119,-111 220,-111 220,-163\"/>\n<svg viewBox=\"0 0 132.1625 66.9755\" width=\"101px\" height=\"52px\" preserveAspectRatio=\"xMinYMin meet\" x=\"119\" y=\"-163\"> <metadata>\n  <rdf:RDF xmlns:dc=\"http://purl.org/dc/elements/1.1/\" xmlns:cc=\"http://creativecommons.org/ns#\" xmlns:rdf=\"http://www.w3.org/1999/02/22-rdf-syntax-ns#\">\n   <cc:Work>\n    <dc:type rdf:resource=\"http://purl.org/dc/dcmitype/StillImage\"/>\n    <dc:date>2024-01-24T19:31:33.355870</dc:date>\n    <dc:format>image/svg+xml</dc:format>\n    <dc:creator>\n     <cc:Agent>\n      <dc:title>Matplotlib v3.7.1, https://matplotlib.org/</dc:title>\n     </cc:Agent>\n    </dc:creator>\n   </cc:Work>\n  </rdf:RDF>\n </metadata>\n <defs>\n  <style type=\"text/css\">*{stroke-linejoin: round; stroke-linecap: butt}</style>\n </defs>\n <g id=\"figure_1\">\n  <g id=\"patch_1\">\n   <path d=\"M 0 66.9755  L 132.1625 66.9755  L 132.1625 0  L 0 0  z \" style=\"fill: #e0e0e0\"/>\n  </g>\n  <g id=\"axes_1\">\n   <g id=\"patch_2\">\n    <path d=\"M 16.9625 59.8755  L 128.5625 59.8755  L 128.5625 32.1555  L 16.9625 32.1555  z \" style=\"fill: #ffffff\"/>\n   </g>\n   <g id=\"patch_3\">\n    <path d=\"M 16.9625 59.8755  L 79.4585 59.8755  L 79.4585 47.5555  L 16.9625 47.5555  z \" clip-path=\"url(#p8989f7df58)\" style=\"fill: #8fbc8f\"/>\n   </g>\n   <g id=\"patch_4\">\n    <path d=\"M 16.9625 44.4755  L 66.0665 44.4755  L 66.0665 32.1555  L 16.9625 32.1555  z \" clip-path=\"url(#p8989f7df58)\" style=\"fill: #8fbc8f\"/>\n   </g>\n   <g id=\"matplotlib.axis_1\">\n    <g id=\"xtick_1\">\n     <g id=\"line2d_1\">\n      <path d=\"M 16.9625 59.8755  L 16.9625 32.1555  \" clip-path=\"url(#p8989f7df58)\" style=\"fill: none; stroke: #b0b0b0; stroke-width: 0.8; stroke-linecap: square\"/>\n     </g>\n     <g id=\"line2d_2\">\n      <defs>\n       <path id=\"m95b112ee85\" d=\"M 0 0  L 0 3.5  \" style=\"stroke: #000000; stroke-width: 0.8\"/>\n      </defs>\n      <g>\n       <use xlink:href=\"#m95b112ee85\" x=\"16.9625\" y=\"59.8755\" style=\"stroke: #000000; stroke-width: 0.8\"/>\n      </g>\n     </g>\n    </g>\n    <g id=\"xtick_2\">\n     <g id=\"line2d_3\">\n      <path d=\"M 72.7625 59.8755  L 72.7625 32.1555  \" clip-path=\"url(#p8989f7df58)\" style=\"fill: none; stroke: #b0b0b0; stroke-width: 0.8; stroke-linecap: square\"/>\n     </g>\n     <g id=\"line2d_4\">\n      <g>\n       <use xlink:href=\"#m95b112ee85\" x=\"72.7625\" y=\"59.8755\" style=\"stroke: #000000; stroke-width: 0.8\"/>\n      </g>\n     </g>\n    </g>\n    <g id=\"xtick_3\">\n     <g id=\"line2d_5\">\n      <path d=\"M 128.5625 59.8755  L 128.5625 32.1555  \" clip-path=\"url(#p8989f7df58)\" style=\"fill: none; stroke: #b0b0b0; stroke-width: 0.8; stroke-linecap: square\"/>\n     </g>\n     <g id=\"line2d_6\">\n      <g>\n       <use xlink:href=\"#m95b112ee85\" x=\"128.5625\" y=\"59.8755\" style=\"stroke: #000000; stroke-width: 0.8\"/>\n      </g>\n     </g>\n    </g>\n   </g>\n   <g id=\"matplotlib.axis_2\">\n    <g id=\"ytick_1\">\n     <g id=\"line2d_7\">\n      <defs>\n       <path id=\"med7f41aca2\" d=\"M 0 0  L -3.5 0  \" style=\"stroke: #000000; stroke-width: 0.8\"/>\n      </defs>\n      <g>\n       <use xlink:href=\"#med7f41aca2\" x=\"16.9625\" y=\"53.7155\" style=\"stroke: #000000; stroke-width: 0.8\"/>\n      </g>\n     </g>\n     <g id=\"text_1\">\n      <!-- 1 -->\n      <g transform=\"translate(3.6 57.514719) scale(0.1 -0.1)\">\n       <defs>\n        <path id=\"DejaVuSans-31\" d=\"M 794 531  L 1825 531  L 1825 4091  L 703 3866  L 703 4441  L 1819 4666  L 2450 4666  L 2450 531  L 3481 531  L 3481 0  L 794 0  L 794 531  z \" transform=\"scale(0.015625)\"/>\n       </defs>\n       <use xlink:href=\"#DejaVuSans-31\"/>\n      </g>\n     </g>\n    </g>\n    <g id=\"ytick_2\">\n     <g id=\"line2d_8\">\n      <g>\n       <use xlink:href=\"#med7f41aca2\" x=\"16.9625\" y=\"38.3155\" style=\"stroke: #000000; stroke-width: 0.8\"/>\n      </g>\n     </g>\n     <g id=\"text_2\">\n      <!-- 0 -->\n      <g transform=\"translate(3.6 42.114719) scale(0.1 -0.1)\">\n       <defs>\n        <path id=\"DejaVuSans-30\" d=\"M 2034 4250  Q 1547 4250 1301 3770  Q 1056 3291 1056 2328  Q 1056 1369 1301 889  Q 1547 409 2034 409  Q 2525 409 2770 889  Q 3016 1369 3016 2328  Q 3016 3291 2770 3770  Q 2525 4250 2034 4250  z M 2034 4750  Q 2819 4750 3233 4129  Q 3647 3509 3647 2328  Q 3647 1150 3233 529  Q 2819 -91 2034 -91  Q 1250 -91 836 529  Q 422 1150 422 2328  Q 422 3509 836 4129  Q 1250 4750 2034 4750  z \" transform=\"scale(0.015625)\"/>\n       </defs>\n       <use xlink:href=\"#DejaVuSans-30\"/>\n      </g>\n     </g>\n    </g>\n   </g>\n   <g id=\"patch_5\">\n    <path d=\"M 16.9625 59.8755  L 16.9625 32.1555  \" style=\"fill: none; stroke: #000000; stroke-width: 0.8; stroke-linejoin: miter; stroke-linecap: square\"/>\n   </g>\n   <g id=\"patch_6\">\n    <path d=\"M 128.5625 59.8755  L 128.5625 32.1555  \" style=\"fill: none; stroke: #000000; stroke-width: 0.8; stroke-linejoin: miter; stroke-linecap: square\"/>\n   </g>\n   <g id=\"patch_7\">\n    <path d=\"M 16.9625 59.8755  L 128.5625 59.8755  \" style=\"fill: none; stroke: #000000; stroke-width: 0.8; stroke-linejoin: miter; stroke-linecap: square\"/>\n   </g>\n   <g id=\"patch_8\">\n    <path d=\"M 16.9625 32.1555  L 128.5625 32.1555  \" style=\"fill: none; stroke: #000000; stroke-width: 0.8; stroke-linejoin: miter; stroke-linecap: square\"/>\n   </g>\n   <g id=\"text_3\">\n    <!-- 56.00% -->\n    <g transform=\"translate(90.432812 57.795812) scale(0.1 -0.1)\">\n     <defs>\n      <path id=\"DejaVuSans-35\" d=\"M 691 4666  L 3169 4666  L 3169 4134  L 1269 4134  L 1269 2991  Q 1406 3038 1543 3061  Q 1681 3084 1819 3084  Q 2600 3084 3056 2656  Q 3513 2228 3513 1497  Q 3513 744 3044 326  Q 2575 -91 1722 -91  Q 1428 -91 1123 -41  Q 819 9 494 109  L 494 744  Q 775 591 1075 516  Q 1375 441 1709 441  Q 2250 441 2565 725  Q 2881 1009 2881 1497  Q 2881 1984 2565 2268  Q 2250 2553 1709 2553  Q 1456 2553 1204 2497  Q 953 2441 691 2322  L 691 4666  z \" transform=\"scale(0.015625)\"/>\n      <path id=\"DejaVuSans-36\" d=\"M 2113 2584  Q 1688 2584 1439 2293  Q 1191 2003 1191 1497  Q 1191 994 1439 701  Q 1688 409 2113 409  Q 2538 409 2786 701  Q 3034 994 3034 1497  Q 3034 2003 2786 2293  Q 2538 2584 2113 2584  z M 3366 4563  L 3366 3988  Q 3128 4100 2886 4159  Q 2644 4219 2406 4219  Q 1781 4219 1451 3797  Q 1122 3375 1075 2522  Q 1259 2794 1537 2939  Q 1816 3084 2150 3084  Q 2853 3084 3261 2657  Q 3669 2231 3669 1497  Q 3669 778 3244 343  Q 2819 -91 2113 -91  Q 1303 -91 875 529  Q 447 1150 447 2328  Q 447 3434 972 4092  Q 1497 4750 2381 4750  Q 2619 4750 2861 4703  Q 3103 4656 3366 4563  z \" transform=\"scale(0.015625)\"/>\n      <path id=\"DejaVuSans-2e\" d=\"M 684 794  L 1344 794  L 1344 0  L 684 0  L 684 794  z \" transform=\"scale(0.015625)\"/>\n      <path id=\"DejaVuSans-25\" d=\"M 4653 2053  Q 4381 2053 4226 1822  Q 4072 1591 4072 1178  Q 4072 772 4226 539  Q 4381 306 4653 306  Q 4919 306 5073 539  Q 5228 772 5228 1178  Q 5228 1588 5073 1820  Q 4919 2053 4653 2053  z M 4653 2450  Q 5147 2450 5437 2106  Q 5728 1763 5728 1178  Q 5728 594 5436 251  Q 5144 -91 4653 -91  Q 4153 -91 3862 251  Q 3572 594 3572 1178  Q 3572 1766 3864 2108  Q 4156 2450 4653 2450  z M 1428 4353  Q 1159 4353 1004 4120  Q 850 3888 850 3481  Q 850 3069 1003 2837  Q 1156 2606 1428 2606  Q 1700 2606 1854 2837  Q 2009 3069 2009 3481  Q 2009 3884 1853 4118  Q 1697 4353 1428 4353  z M 4250 4750  L 4750 4750  L 1831 -91  L 1331 -91  L 4250 4750  z M 1428 4750  Q 1922 4750 2215 4408  Q 2509 4066 2509 3481  Q 2509 2891 2217 2550  Q 1925 2209 1428 2209  Q 931 2209 642 2551  Q 353 2894 353 3481  Q 353 4063 643 4406  Q 934 4750 1428 4750  z \" transform=\"scale(0.015625)\"/>\n     </defs>\n     <use xlink:href=\"#DejaVuSans-35\"/>\n     <use xlink:href=\"#DejaVuSans-36\" x=\"63.623047\"/>\n     <use xlink:href=\"#DejaVuSans-2e\" x=\"127.246094\"/>\n     <use xlink:href=\"#DejaVuSans-30\" x=\"159.033203\"/>\n     <use xlink:href=\"#DejaVuSans-30\" x=\"222.65625\"/>\n     <use xlink:href=\"#DejaVuSans-25\" x=\"286.279297\"/>\n    </g>\n   </g>\n   <g id=\"text_4\">\n    <!-- 44.00% -->\n    <g transform=\"translate(90.432812 42.395812) scale(0.1 -0.1)\">\n     <defs>\n      <path id=\"DejaVuSans-34\" d=\"M 2419 4116  L 825 1625  L 2419 1625  L 2419 4116  z M 2253 4666  L 3047 4666  L 3047 1625  L 3713 1625  L 3713 1100  L 3047 1100  L 3047 0  L 2419 0  L 2419 1100  L 313 1100  L 313 1709  L 2253 4666  z \" transform=\"scale(0.015625)\"/>\n     </defs>\n     <use xlink:href=\"#DejaVuSans-34\"/>\n     <use xlink:href=\"#DejaVuSans-34\" x=\"63.623047\"/>\n     <use xlink:href=\"#DejaVuSans-2e\" x=\"127.246094\"/>\n     <use xlink:href=\"#DejaVuSans-30\" x=\"159.033203\"/>\n     <use xlink:href=\"#DejaVuSans-30\" x=\"222.65625\"/>\n     <use xlink:href=\"#DejaVuSans-25\" x=\"286.279297\"/>\n    </g>\n   </g>\n   <g id=\"text_5\">\n    <!-- r -->\n    <g transform=\"translate(70.295938 12.718125) scale(0.12 -0.12)\">\n     <defs>\n      <path id=\"DejaVuSans-72\" d=\"M 2631 2963  Q 2534 3019 2420 3045  Q 2306 3072 2169 3072  Q 1681 3072 1420 2755  Q 1159 2438 1159 1844  L 1159 0  L 581 0  L 581 3500  L 1159 3500  L 1159 2956  Q 1341 3275 1631 3429  Q 1922 3584 2338 3584  Q 2397 3584 2469 3576  Q 2541 3569 2628 3553  L 2631 2963  z \" transform=\"scale(0.015625)\"/>\n     </defs>\n     <use xlink:href=\"#DejaVuSans-72\"/>\n    </g>\n    <!-- $\\mu=0.56$; $\\sigma=0.50$ -->\n    <g transform=\"translate(19.7225 26.1555) scale(0.12 -0.12)\">\n     <defs>\n      <path id=\"DejaVuSans-Oblique-3bc\" d=\"M -84 -1331  L 856 3500  L 1434 3500  L 1009 1322  Q 997 1256 987 1175  Q 978 1094 978 1013  Q 978 722 1161 565  Q 1344 409 1684 409  Q 2147 409 2431 671  Q 2716 934 2816 1459  L 3213 3500  L 3788 3500  L 3266 809  Q 3253 750 3248 706  Q 3244 663 3244 628  Q 3244 531 3283 486  Q 3322 441 3406 441  Q 3438 441 3492 456  Q 3547 472 3647 513  L 3559 50  Q 3422 -19 3297 -55  Q 3172 -91 3053 -91  Q 2847 -91 2730 40  Q 2613 172 2613 403  Q 2438 153 2195 31  Q 1953 -91 1625 -91  Q 1334 -91 1117 43  Q 900 178 831 397  L 494 -1331  L -84 -1331  z \" transform=\"scale(0.015625)\"/>\n      <path id=\"DejaVuSans-3d\" d=\"M 678 2906  L 4684 2906  L 4684 2381  L 678 2381  L 678 2906  z M 678 1631  L 4684 1631  L 4684 1100  L 678 1100  L 678 1631  z \" transform=\"scale(0.015625)\"/>\n      <path id=\"DejaVuSans-3b\" d=\"M 750 3309  L 1409 3309  L 1409 2516  L 750 2516  L 750 3309  z M 750 794  L 1409 794  L 1409 256  L 897 -744  L 494 -744  L 750 256  L 750 794  z \" transform=\"scale(0.015625)\"/>\n      <path id=\"DejaVuSans-20\" transform=\"scale(0.015625)\"/>\n      <path id=\"DejaVuSans-Oblique-3c3\" d=\"M 2219 3044  Q 1744 3044 1422 2700  Q 1081 2341 969 1747  Q 844 1119 1044 756  Q 1241 397 1706 397  Q 2166 397 2503 759  Q 2844 1122 2966 1747  Q 3075 2319 2881 2700  Q 2700 3044 2219 3044  z M 2309 3503  L 4219 3500  L 4106 2925  L 3463 2925  Q 3706 2438 3575 1747  Q 3406 888 2884 400  Q 2359 -91 1609 -91  Q 856 -91 525 400  Q 194 888 363 1747  Q 528 2609 1050 3097  Q 1484 3503 2309 3503  z \" transform=\"scale(0.015625)\"/>\n     </defs>\n     <use xlink:href=\"#DejaVuSans-Oblique-3bc\" transform=\"translate(0 0.78125)\"/>\n     <use xlink:href=\"#DejaVuSans-3d\" transform=\"translate(83.105469 0.78125)\"/>\n     <use xlink:href=\"#DejaVuSans-30\" transform=\"translate(186.376953 0.78125)\"/>\n     <use xlink:href=\"#DejaVuSans-2e\" transform=\"translate(250 0.78125)\"/>\n     <use xlink:href=\"#DejaVuSans-35\" transform=\"translate(281.787109 0.78125)\"/>\n     <use xlink:href=\"#DejaVuSans-36\" transform=\"translate(345.410156 0.78125)\"/>\n     <use xlink:href=\"#DejaVuSans-3b\" transform=\"translate(409.033203 0.78125)\"/>\n     <use xlink:href=\"#DejaVuSans-20\" transform=\"translate(442.724609 0.78125)\"/>\n     <use xlink:href=\"#DejaVuSans-Oblique-3c3\" transform=\"translate(474.511719 0.78125)\"/>\n     <use xlink:href=\"#DejaVuSans-3d\" transform=\"translate(557.373047 0.78125)\"/>\n     <use xlink:href=\"#DejaVuSans-30\" transform=\"translate(660.644531 0.78125)\"/>\n     <use xlink:href=\"#DejaVuSans-2e\" transform=\"translate(724.267578 0.78125)\"/>\n     <use xlink:href=\"#DejaVuSans-35\" transform=\"translate(756.054688 0.78125)\"/>\n     <use xlink:href=\"#DejaVuSans-30\" transform=\"translate(819.677734 0.78125)\"/>\n    </g>\n   </g>\n  </g>\n </g>\n <defs>\n  <clipPath id=\"p8989f7df58\">\n   <rect x=\"16.9625\" y=\"32.1555\" width=\"111.6\" height=\"27.72\"/>\n  </clipPath>\n </defs>\n</svg>\n\n</g>\n<!-- c&#45;&gt;r -->\n<g id=\"edge2\" class=\"edge\">\n<title>c-&gt;r</title>\n<g id=\"a_edge2\"><a xlink:title=\"0 → 2\">\n<path fill=\"none\" stroke=\"#4a4a4a\" d=\"M124.33,-198.98C130.56,-190.57 137.97,-180.57 144.97,-171.12\"/>\n<polygon fill=\"#4a4a4a\" stroke=\"#4a4a4a\" points=\"147.83,-173.13 150.97,-163.01 142.21,-168.96 147.83,-173.13\"/>\n</a>\n</g>\n</g>\n<!-- w -->\n<g id=\"node4\" class=\"node\">\n<title>w</title>\n<polygon fill=\"#e0e0e0\" stroke=\"#000000\" points=\"160,-75 59,-75 59,-23 160,-23 160,-75\"/>\n<svg viewBox=\"0 0 132.1625 66.9755\" width=\"101px\" height=\"52px\" preserveAspectRatio=\"xMinYMin meet\" x=\"59\" y=\"-75\"> <metadata>\n  <rdf:RDF xmlns:dc=\"http://purl.org/dc/elements/1.1/\" xmlns:cc=\"http://creativecommons.org/ns#\" xmlns:rdf=\"http://www.w3.org/1999/02/22-rdf-syntax-ns#\">\n   <cc:Work>\n    <dc:type rdf:resource=\"http://purl.org/dc/dcmitype/StillImage\"/>\n    <dc:date>2024-01-24T19:31:33.528597</dc:date>\n    <dc:format>image/svg+xml</dc:format>\n    <dc:creator>\n     <cc:Agent>\n      <dc:title>Matplotlib v3.7.1, https://matplotlib.org/</dc:title>\n     </cc:Agent>\n    </dc:creator>\n   </cc:Work>\n  </rdf:RDF>\n </metadata>\n <defs>\n  <style type=\"text/css\">*{stroke-linejoin: round; stroke-linecap: butt}</style>\n </defs>\n <g id=\"figure_1\">\n  <g id=\"patch_1\">\n   <path d=\"M 0 66.9755  L 132.1625 66.9755  L 132.1625 0  L 0 0  z \" style=\"fill: #e0e0e0\"/>\n  </g>\n  <g id=\"axes_1\">\n   <g id=\"patch_2\">\n    <path d=\"M 16.9625 59.8755  L 128.5625 59.8755  L 128.5625 32.1555  L 16.9625 32.1555  z \" style=\"fill: #ffffff\"/>\n   </g>\n   <g id=\"patch_3\">\n    <path d=\"M 16.9625 59.8755  L 91.368452 59.8755  L 91.368452 47.5555  L 16.9625 47.5555  z \" clip-path=\"url(#pc55b372c07)\" style=\"fill: #8fbc8f\"/>\n   </g>\n   <g id=\"patch_4\">\n    <path d=\"M 16.9625 44.4755  L 54.156548 44.4755  L 54.156548 32.1555  L 16.9625 32.1555  z \" clip-path=\"url(#pc55b372c07)\" style=\"fill: #8fbc8f\"/>\n   </g>\n   <g id=\"matplotlib.axis_1\">\n    <g id=\"xtick_1\">\n     <g id=\"line2d_1\">\n      <path d=\"M 16.9625 59.8755  L 16.9625 32.1555  \" clip-path=\"url(#pc55b372c07)\" style=\"fill: none; stroke: #b0b0b0; stroke-width: 0.8; stroke-linecap: square\"/>\n     </g>\n     <g id=\"line2d_2\">\n      <defs>\n       <path id=\"mfe1c011f70\" d=\"M 0 0  L 0 3.5  \" style=\"stroke: #000000; stroke-width: 0.8\"/>\n      </defs>\n      <g>\n       <use xlink:href=\"#mfe1c011f70\" x=\"16.9625\" y=\"59.8755\" style=\"stroke: #000000; stroke-width: 0.8\"/>\n      </g>\n     </g>\n    </g>\n    <g id=\"xtick_2\">\n     <g id=\"line2d_3\">\n      <path d=\"M 72.7625 59.8755  L 72.7625 32.1555  \" clip-path=\"url(#pc55b372c07)\" style=\"fill: none; stroke: #b0b0b0; stroke-width: 0.8; stroke-linecap: square\"/>\n     </g>\n     <g id=\"line2d_4\">\n      <g>\n       <use xlink:href=\"#mfe1c011f70\" x=\"72.7625\" y=\"59.8755\" style=\"stroke: #000000; stroke-width: 0.8\"/>\n      </g>\n     </g>\n    </g>\n    <g id=\"xtick_3\">\n     <g id=\"line2d_5\">\n      <path d=\"M 128.5625 59.8755  L 128.5625 32.1555  \" clip-path=\"url(#pc55b372c07)\" style=\"fill: none; stroke: #b0b0b0; stroke-width: 0.8; stroke-linecap: square\"/>\n     </g>\n     <g id=\"line2d_6\">\n      <g>\n       <use xlink:href=\"#mfe1c011f70\" x=\"128.5625\" y=\"59.8755\" style=\"stroke: #000000; stroke-width: 0.8\"/>\n      </g>\n     </g>\n    </g>\n   </g>\n   <g id=\"matplotlib.axis_2\">\n    <g id=\"ytick_1\">\n     <g id=\"line2d_7\">\n      <defs>\n       <path id=\"m5acdc6500c\" d=\"M 0 0  L -3.5 0  \" style=\"stroke: #000000; stroke-width: 0.8\"/>\n      </defs>\n      <g>\n       <use xlink:href=\"#m5acdc6500c\" x=\"16.9625\" y=\"53.7155\" style=\"stroke: #000000; stroke-width: 0.8\"/>\n      </g>\n     </g>\n     <g id=\"text_1\">\n      <!-- 1 -->\n      <g transform=\"translate(3.6 57.514719) scale(0.1 -0.1)\">\n       <defs>\n        <path id=\"DejaVuSans-31\" d=\"M 794 531  L 1825 531  L 1825 4091  L 703 3866  L 703 4441  L 1819 4666  L 2450 4666  L 2450 531  L 3481 531  L 3481 0  L 794 0  L 794 531  z \" transform=\"scale(0.015625)\"/>\n       </defs>\n       <use xlink:href=\"#DejaVuSans-31\"/>\n      </g>\n     </g>\n    </g>\n    <g id=\"ytick_2\">\n     <g id=\"line2d_8\">\n      <g>\n       <use xlink:href=\"#m5acdc6500c\" x=\"16.9625\" y=\"38.3155\" style=\"stroke: #000000; stroke-width: 0.8\"/>\n      </g>\n     </g>\n     <g id=\"text_2\">\n      <!-- 0 -->\n      <g transform=\"translate(3.6 42.114719) scale(0.1 -0.1)\">\n       <defs>\n        <path id=\"DejaVuSans-30\" d=\"M 2034 4250  Q 1547 4250 1301 3770  Q 1056 3291 1056 2328  Q 1056 1369 1301 889  Q 1547 409 2034 409  Q 2525 409 2770 889  Q 3016 1369 3016 2328  Q 3016 3291 2770 3770  Q 2525 4250 2034 4250  z M 2034 4750  Q 2819 4750 3233 4129  Q 3647 3509 3647 2328  Q 3647 1150 3233 529  Q 2819 -91 2034 -91  Q 1250 -91 836 529  Q 422 1150 422 2328  Q 422 3509 836 4129  Q 1250 4750 2034 4750  z \" transform=\"scale(0.015625)\"/>\n       </defs>\n       <use xlink:href=\"#DejaVuSans-30\"/>\n      </g>\n     </g>\n    </g>\n   </g>\n   <g id=\"patch_5\">\n    <path d=\"M 16.9625 59.8755  L 16.9625 32.1555  \" style=\"fill: none; stroke: #000000; stroke-width: 0.8; stroke-linejoin: miter; stroke-linecap: square\"/>\n   </g>\n   <g id=\"patch_6\">\n    <path d=\"M 128.5625 59.8755  L 128.5625 32.1555  \" style=\"fill: none; stroke: #000000; stroke-width: 0.8; stroke-linejoin: miter; stroke-linecap: square\"/>\n   </g>\n   <g id=\"patch_7\">\n    <path d=\"M 16.9625 59.8755  L 128.5625 59.8755  \" style=\"fill: none; stroke: #000000; stroke-width: 0.8; stroke-linejoin: miter; stroke-linecap: square\"/>\n   </g>\n   <g id=\"patch_8\">\n    <path d=\"M 16.9625 32.1555  L 128.5625 32.1555  \" style=\"fill: none; stroke: #000000; stroke-width: 0.8; stroke-linejoin: miter; stroke-linecap: square\"/>\n   </g>\n   <g id=\"text_3\">\n    <!-- 66.67% -->\n    <g transform=\"translate(90.432812 57.795812) scale(0.1 -0.1)\">\n     <defs>\n      <path id=\"DejaVuSans-36\" d=\"M 2113 2584  Q 1688 2584 1439 2293  Q 1191 2003 1191 1497  Q 1191 994 1439 701  Q 1688 409 2113 409  Q 2538 409 2786 701  Q 3034 994 3034 1497  Q 3034 2003 2786 2293  Q 2538 2584 2113 2584  z M 3366 4563  L 3366 3988  Q 3128 4100 2886 4159  Q 2644 4219 2406 4219  Q 1781 4219 1451 3797  Q 1122 3375 1075 2522  Q 1259 2794 1537 2939  Q 1816 3084 2150 3084  Q 2853 3084 3261 2657  Q 3669 2231 3669 1497  Q 3669 778 3244 343  Q 2819 -91 2113 -91  Q 1303 -91 875 529  Q 447 1150 447 2328  Q 447 3434 972 4092  Q 1497 4750 2381 4750  Q 2619 4750 2861 4703  Q 3103 4656 3366 4563  z \" transform=\"scale(0.015625)\"/>\n      <path id=\"DejaVuSans-2e\" d=\"M 684 794  L 1344 794  L 1344 0  L 684 0  L 684 794  z \" transform=\"scale(0.015625)\"/>\n      <path id=\"DejaVuSans-37\" d=\"M 525 4666  L 3525 4666  L 3525 4397  L 1831 0  L 1172 0  L 2766 4134  L 525 4134  L 525 4666  z \" transform=\"scale(0.015625)\"/>\n      <path id=\"DejaVuSans-25\" d=\"M 4653 2053  Q 4381 2053 4226 1822  Q 4072 1591 4072 1178  Q 4072 772 4226 539  Q 4381 306 4653 306  Q 4919 306 5073 539  Q 5228 772 5228 1178  Q 5228 1588 5073 1820  Q 4919 2053 4653 2053  z M 4653 2450  Q 5147 2450 5437 2106  Q 5728 1763 5728 1178  Q 5728 594 5436 251  Q 5144 -91 4653 -91  Q 4153 -91 3862 251  Q 3572 594 3572 1178  Q 3572 1766 3864 2108  Q 4156 2450 4653 2450  z M 1428 4353  Q 1159 4353 1004 4120  Q 850 3888 850 3481  Q 850 3069 1003 2837  Q 1156 2606 1428 2606  Q 1700 2606 1854 2837  Q 2009 3069 2009 3481  Q 2009 3884 1853 4118  Q 1697 4353 1428 4353  z M 4250 4750  L 4750 4750  L 1831 -91  L 1331 -91  L 4250 4750  z M 1428 4750  Q 1922 4750 2215 4408  Q 2509 4066 2509 3481  Q 2509 2891 2217 2550  Q 1925 2209 1428 2209  Q 931 2209 642 2551  Q 353 2894 353 3481  Q 353 4063 643 4406  Q 934 4750 1428 4750  z \" transform=\"scale(0.015625)\"/>\n     </defs>\n     <use xlink:href=\"#DejaVuSans-36\"/>\n     <use xlink:href=\"#DejaVuSans-36\" x=\"63.623047\"/>\n     <use xlink:href=\"#DejaVuSans-2e\" x=\"127.246094\"/>\n     <use xlink:href=\"#DejaVuSans-36\" x=\"159.033203\"/>\n     <use xlink:href=\"#DejaVuSans-37\" x=\"222.65625\"/>\n     <use xlink:href=\"#DejaVuSans-25\" x=\"286.279297\"/>\n    </g>\n   </g>\n   <g id=\"text_4\">\n    <!-- 33.33% -->\n    <g transform=\"translate(90.432812 42.395812) scale(0.1 -0.1)\">\n     <defs>\n      <path id=\"DejaVuSans-33\" d=\"M 2597 2516  Q 3050 2419 3304 2112  Q 3559 1806 3559 1356  Q 3559 666 3084 287  Q 2609 -91 1734 -91  Q 1441 -91 1130 -33  Q 819 25 488 141  L 488 750  Q 750 597 1062 519  Q 1375 441 1716 441  Q 2309 441 2620 675  Q 2931 909 2931 1356  Q 2931 1769 2642 2001  Q 2353 2234 1838 2234  L 1294 2234  L 1294 2753  L 1863 2753  Q 2328 2753 2575 2939  Q 2822 3125 2822 3475  Q 2822 3834 2567 4026  Q 2313 4219 1838 4219  Q 1578 4219 1281 4162  Q 984 4106 628 3988  L 628 4550  Q 988 4650 1302 4700  Q 1616 4750 1894 4750  Q 2613 4750 3031 4423  Q 3450 4097 3450 3541  Q 3450 3153 3228 2886  Q 3006 2619 2597 2516  z \" transform=\"scale(0.015625)\"/>\n     </defs>\n     <use xlink:href=\"#DejaVuSans-33\"/>\n     <use xlink:href=\"#DejaVuSans-33\" x=\"63.623047\"/>\n     <use xlink:href=\"#DejaVuSans-2e\" x=\"127.246094\"/>\n     <use xlink:href=\"#DejaVuSans-33\" x=\"159.033203\"/>\n     <use xlink:href=\"#DejaVuSans-33\" x=\"222.65625\"/>\n     <use xlink:href=\"#DejaVuSans-25\" x=\"286.279297\"/>\n    </g>\n   </g>\n   <g id=\"text_5\">\n    <!-- w -->\n    <g transform=\"translate(67.855625 12.718125) scale(0.12 -0.12)\">\n     <defs>\n      <path id=\"DejaVuSans-77\" d=\"M 269 3500  L 844 3500  L 1563 769  L 2278 3500  L 2956 3500  L 3675 769  L 4391 3500  L 4966 3500  L 4050 0  L 3372 0  L 2619 2869  L 1863 0  L 1184 0  L 269 3500  z \" transform=\"scale(0.015625)\"/>\n     </defs>\n     <use xlink:href=\"#DejaVuSans-77\"/>\n    </g>\n    <!-- $\\mu=0.67$; $\\sigma=0.47$ -->\n    <g transform=\"translate(19.7225 26.1555) scale(0.12 -0.12)\">\n     <defs>\n      <path id=\"DejaVuSans-Oblique-3bc\" d=\"M -84 -1331  L 856 3500  L 1434 3500  L 1009 1322  Q 997 1256 987 1175  Q 978 1094 978 1013  Q 978 722 1161 565  Q 1344 409 1684 409  Q 2147 409 2431 671  Q 2716 934 2816 1459  L 3213 3500  L 3788 3500  L 3266 809  Q 3253 750 3248 706  Q 3244 663 3244 628  Q 3244 531 3283 486  Q 3322 441 3406 441  Q 3438 441 3492 456  Q 3547 472 3647 513  L 3559 50  Q 3422 -19 3297 -55  Q 3172 -91 3053 -91  Q 2847 -91 2730 40  Q 2613 172 2613 403  Q 2438 153 2195 31  Q 1953 -91 1625 -91  Q 1334 -91 1117 43  Q 900 178 831 397  L 494 -1331  L -84 -1331  z \" transform=\"scale(0.015625)\"/>\n      <path id=\"DejaVuSans-3d\" d=\"M 678 2906  L 4684 2906  L 4684 2381  L 678 2381  L 678 2906  z M 678 1631  L 4684 1631  L 4684 1100  L 678 1100  L 678 1631  z \" transform=\"scale(0.015625)\"/>\n      <path id=\"DejaVuSans-3b\" d=\"M 750 3309  L 1409 3309  L 1409 2516  L 750 2516  L 750 3309  z M 750 794  L 1409 794  L 1409 256  L 897 -744  L 494 -744  L 750 256  L 750 794  z \" transform=\"scale(0.015625)\"/>\n      <path id=\"DejaVuSans-20\" transform=\"scale(0.015625)\"/>\n      <path id=\"DejaVuSans-Oblique-3c3\" d=\"M 2219 3044  Q 1744 3044 1422 2700  Q 1081 2341 969 1747  Q 844 1119 1044 756  Q 1241 397 1706 397  Q 2166 397 2503 759  Q 2844 1122 2966 1747  Q 3075 2319 2881 2700  Q 2700 3044 2219 3044  z M 2309 3503  L 4219 3500  L 4106 2925  L 3463 2925  Q 3706 2438 3575 1747  Q 3406 888 2884 400  Q 2359 -91 1609 -91  Q 856 -91 525 400  Q 194 888 363 1747  Q 528 2609 1050 3097  Q 1484 3503 2309 3503  z \" transform=\"scale(0.015625)\"/>\n      <path id=\"DejaVuSans-34\" d=\"M 2419 4116  L 825 1625  L 2419 1625  L 2419 4116  z M 2253 4666  L 3047 4666  L 3047 1625  L 3713 1625  L 3713 1100  L 3047 1100  L 3047 0  L 2419 0  L 2419 1100  L 313 1100  L 313 1709  L 2253 4666  z \" transform=\"scale(0.015625)\"/>\n     </defs>\n     <use xlink:href=\"#DejaVuSans-Oblique-3bc\" transform=\"translate(0 0.78125)\"/>\n     <use xlink:href=\"#DejaVuSans-3d\" transform=\"translate(83.105469 0.78125)\"/>\n     <use xlink:href=\"#DejaVuSans-30\" transform=\"translate(186.376953 0.78125)\"/>\n     <use xlink:href=\"#DejaVuSans-2e\" transform=\"translate(250 0.78125)\"/>\n     <use xlink:href=\"#DejaVuSans-36\" transform=\"translate(281.787109 0.78125)\"/>\n     <use xlink:href=\"#DejaVuSans-37\" transform=\"translate(345.410156 0.78125)\"/>\n     <use xlink:href=\"#DejaVuSans-3b\" transform=\"translate(409.033203 0.78125)\"/>\n     <use xlink:href=\"#DejaVuSans-20\" transform=\"translate(442.724609 0.78125)\"/>\n     <use xlink:href=\"#DejaVuSans-Oblique-3c3\" transform=\"translate(474.511719 0.78125)\"/>\n     <use xlink:href=\"#DejaVuSans-3d\" transform=\"translate(557.373047 0.78125)\"/>\n     <use xlink:href=\"#DejaVuSans-30\" transform=\"translate(660.644531 0.78125)\"/>\n     <use xlink:href=\"#DejaVuSans-2e\" transform=\"translate(724.267578 0.78125)\"/>\n     <use xlink:href=\"#DejaVuSans-34\" transform=\"translate(756.054688 0.78125)\"/>\n     <use xlink:href=\"#DejaVuSans-37\" transform=\"translate(819.677734 0.78125)\"/>\n    </g>\n   </g>\n  </g>\n </g>\n <defs>\n  <clipPath id=\"pc55b372c07\">\n   <rect x=\"16.9625\" y=\"32.1555\" width=\"111.6\" height=\"27.72\"/>\n  </clipPath>\n </defs>\n</svg>\n\n</g>\n<!-- s&#45;&gt;w -->\n<g id=\"edge4\" class=\"edge\">\n<title>s-&gt;w</title>\n<g id=\"a_edge4\"><a xlink:title=\"1 → 3\">\n<path fill=\"none\" stroke=\"#4a4a4a\" d=\"M67.88,-110.66C73.7,-102.18 80.29,-92.58 86.47,-83.57\"/>\n<polygon fill=\"#4a4a4a\" stroke=\"#4a4a4a\" points=\"89.47,-85.38 92.24,-75.16 83.7,-81.42 89.47,-85.38\"/>\n</a>\n</g>\n</g>\n<!-- r&#45;&gt;w -->\n<g id=\"edge3\" class=\"edge\">\n<title>r-&gt;w</title>\n<g id=\"a_edge3\"><a xlink:title=\"2 → 3\">\n<path fill=\"none\" stroke=\"#4a4a4a\" d=\"M151.82,-110.66C145.9,-102.18 139.21,-92.58 132.92,-83.57\"/>\n<polygon fill=\"#4a4a4a\" stroke=\"#4a4a4a\" points=\"135.64,-81.36 127.05,-75.16 129.9,-85.36 135.64,-81.36\"/>\n</a>\n</g>\n</g>\n</g>\n</svg>"
          },
          "metadata": {}
        }
      ],
      "source": [
        "gnb.showInference(bn,evs={})"
      ]
    },
    {
      "cell_type": "code",
      "execution_count": null,
      "metadata": {
        "id": "fUhkwfVfiv1T",
        "outputId": "5a0b756f-07ca-43f4-baa3-9415866ec1c7",
        "colab": {
          "base_uri": "https://localhost:8080/",
          "height": 353
        }
      },
      "outputs": [
        {
          "output_type": "display_data",
          "data": {
            "text/plain": [
              "<IPython.core.display.SVG object>"
            ],
            "image/svg+xml": "<svg xmlns=\"http://www.w3.org/2000/svg\" xmlns:xlink=\"http://www.w3.org/1999/xlink\" width=\"228pt\" height=\"249pt\" viewBox=\"0.00 0.00 228.00 249.00\">\n<g id=\"graph0\" class=\"graph\" transform=\"scale(1 1) rotate(0) translate(4 245)\">\n<title>structs</title>\n<text text-anchor=\"middle\" x=\"110\" y=\"-7.8\" font-family=\"Times,serif\" font-size=\"14.00\" fill=\"#4a4a4a\">Inference in   0.52ms</text>\n<!-- c -->\n<g id=\"node1\" class=\"node\">\n<title>c</title>\n<polygon fill=\"sandybrown\" stroke=\"#000000\" points=\"160,-241 59,-241 59,-199 160,-199 160,-241\"/>\n<svg viewBox=\"0 0 132.1625 53.538125\" width=\"101px\" height=\"42px\" preserveAspectRatio=\"xMinYMin meet\" x=\"59\" y=\"-241\"> <metadata>\n  <rdf:RDF xmlns:dc=\"http://purl.org/dc/elements/1.1/\" xmlns:cc=\"http://creativecommons.org/ns#\" xmlns:rdf=\"http://www.w3.org/1999/02/22-rdf-syntax-ns#\">\n   <cc:Work>\n    <dc:type rdf:resource=\"http://purl.org/dc/dcmitype/StillImage\"/>\n    <dc:date>2024-01-24T19:31:33.835136</dc:date>\n    <dc:format>image/svg+xml</dc:format>\n    <dc:creator>\n     <cc:Agent>\n      <dc:title>Matplotlib v3.7.1, https://matplotlib.org/</dc:title>\n     </cc:Agent>\n    </dc:creator>\n   </cc:Work>\n  </rdf:RDF>\n </metadata>\n <defs>\n  <style type=\"text/css\">*{stroke-linejoin: round; stroke-linecap: butt}</style>\n </defs>\n <g id=\"figure_1\">\n  <g id=\"patch_1\">\n   <path d=\"M 0 53.538125  L 132.1625 53.538125  L 132.1625 0  L 0 0  z \" style=\"fill: #f4a460\"/>\n  </g>\n  <g id=\"axes_1\">\n   <g id=\"patch_2\">\n    <path d=\"M 16.9625 46.438125  L 128.5625 46.438125  L 128.5625 18.718125  L 16.9625 18.718125  z \" style=\"fill: #ffffff\"/>\n   </g>\n   <g id=\"patch_3\">\n    <path d=\"M 16.9625 46.438125  L 16.9625 46.438125  L 16.9625 34.118125  L 16.9625 34.118125  z \" clip-path=\"url(#pcbadd61719)\" style=\"fill: #8fbc8f\"/>\n   </g>\n   <g id=\"patch_4\">\n    <path d=\"M 16.9625 31.038125  L 128.5625 31.038125  L 128.5625 18.718125  L 16.9625 18.718125  z \" clip-path=\"url(#pcbadd61719)\" style=\"fill: #8fbc8f\"/>\n   </g>\n   <g id=\"matplotlib.axis_1\">\n    <g id=\"xtick_1\">\n     <g id=\"line2d_1\">\n      <path d=\"M 16.9625 46.438125  L 16.9625 18.718125  \" clip-path=\"url(#pcbadd61719)\" style=\"fill: none; stroke: #b0b0b0; stroke-width: 0.8; stroke-linecap: square\"/>\n     </g>\n     <g id=\"line2d_2\">\n      <defs>\n       <path id=\"mc6ef03eba8\" d=\"M 0 0  L 0 3.5  \" style=\"stroke: #000000; stroke-width: 0.8\"/>\n      </defs>\n      <g>\n       <use xlink:href=\"#mc6ef03eba8\" x=\"16.9625\" y=\"46.438125\" style=\"stroke: #000000; stroke-width: 0.8\"/>\n      </g>\n     </g>\n    </g>\n    <g id=\"xtick_2\">\n     <g id=\"line2d_3\">\n      <path d=\"M 72.7625 46.438125  L 72.7625 18.718125  \" clip-path=\"url(#pcbadd61719)\" style=\"fill: none; stroke: #b0b0b0; stroke-width: 0.8; stroke-linecap: square\"/>\n     </g>\n     <g id=\"line2d_4\">\n      <g>\n       <use xlink:href=\"#mc6ef03eba8\" x=\"72.7625\" y=\"46.438125\" style=\"stroke: #000000; stroke-width: 0.8\"/>\n      </g>\n     </g>\n    </g>\n    <g id=\"xtick_3\">\n     <g id=\"line2d_5\">\n      <path d=\"M 128.5625 46.438125  L 128.5625 18.718125  \" clip-path=\"url(#pcbadd61719)\" style=\"fill: none; stroke: #b0b0b0; stroke-width: 0.8; stroke-linecap: square\"/>\n     </g>\n     <g id=\"line2d_6\">\n      <g>\n       <use xlink:href=\"#mc6ef03eba8\" x=\"128.5625\" y=\"46.438125\" style=\"stroke: #000000; stroke-width: 0.8\"/>\n      </g>\n     </g>\n    </g>\n   </g>\n   <g id=\"matplotlib.axis_2\">\n    <g id=\"ytick_1\">\n     <g id=\"line2d_7\">\n      <defs>\n       <path id=\"m7d2bd9ab34\" d=\"M 0 0  L -3.5 0  \" style=\"stroke: #000000; stroke-width: 0.8\"/>\n      </defs>\n      <g>\n       <use xlink:href=\"#m7d2bd9ab34\" x=\"16.9625\" y=\"40.278125\" style=\"stroke: #000000; stroke-width: 0.8\"/>\n      </g>\n     </g>\n     <g id=\"text_1\">\n      <!-- 1 -->\n      <g transform=\"translate(3.6 44.077344) scale(0.1 -0.1)\">\n       <defs>\n        <path id=\"DejaVuSans-31\" d=\"M 794 531  L 1825 531  L 1825 4091  L 703 3866  L 703 4441  L 1819 4666  L 2450 4666  L 2450 531  L 3481 531  L 3481 0  L 794 0  L 794 531  z \" transform=\"scale(0.015625)\"/>\n       </defs>\n       <use xlink:href=\"#DejaVuSans-31\"/>\n      </g>\n     </g>\n    </g>\n    <g id=\"ytick_2\">\n     <g id=\"line2d_8\">\n      <g>\n       <use xlink:href=\"#m7d2bd9ab34\" x=\"16.9625\" y=\"24.878125\" style=\"stroke: #000000; stroke-width: 0.8\"/>\n      </g>\n     </g>\n     <g id=\"text_2\">\n      <!-- 0 -->\n      <g transform=\"translate(3.6 28.677344) scale(0.1 -0.1)\">\n       <defs>\n        <path id=\"DejaVuSans-30\" d=\"M 2034 4250  Q 1547 4250 1301 3770  Q 1056 3291 1056 2328  Q 1056 1369 1301 889  Q 1547 409 2034 409  Q 2525 409 2770 889  Q 3016 1369 3016 2328  Q 3016 3291 2770 3770  Q 2525 4250 2034 4250  z M 2034 4750  Q 2819 4750 3233 4129  Q 3647 3509 3647 2328  Q 3647 1150 3233 529  Q 2819 -91 2034 -91  Q 1250 -91 836 529  Q 422 1150 422 2328  Q 422 3509 836 4129  Q 1250 4750 2034 4750  z \" transform=\"scale(0.015625)\"/>\n       </defs>\n       <use xlink:href=\"#DejaVuSans-30\"/>\n      </g>\n     </g>\n    </g>\n   </g>\n   <g id=\"patch_5\">\n    <path d=\"M 16.9625 46.438125  L 16.9625 18.718125  \" style=\"fill: none; stroke: #000000; stroke-width: 0.8; stroke-linejoin: miter; stroke-linecap: square\"/>\n   </g>\n   <g id=\"patch_6\">\n    <path d=\"M 128.5625 46.438125  L 128.5625 18.718125  \" style=\"fill: none; stroke: #000000; stroke-width: 0.8; stroke-linejoin: miter; stroke-linecap: square\"/>\n   </g>\n   <g id=\"patch_7\">\n    <path d=\"M 16.9625 46.438125  L 128.5625 46.438125  \" style=\"fill: none; stroke: #000000; stroke-width: 0.8; stroke-linejoin: miter; stroke-linecap: square\"/>\n   </g>\n   <g id=\"patch_8\">\n    <path d=\"M 16.9625 18.718125  L 128.5625 18.718125  \" style=\"fill: none; stroke: #000000; stroke-width: 0.8; stroke-linejoin: miter; stroke-linecap: square\"/>\n   </g>\n   <g id=\"text_3\">\n    <!-- 100.00% -->\n    <g transform=\"translate(84.070312 28.958438) scale(0.1 -0.1)\">\n     <defs>\n      <path id=\"DejaVuSans-2e\" d=\"M 684 794  L 1344 794  L 1344 0  L 684 0  L 684 794  z \" transform=\"scale(0.015625)\"/>\n      <path id=\"DejaVuSans-25\" d=\"M 4653 2053  Q 4381 2053 4226 1822  Q 4072 1591 4072 1178  Q 4072 772 4226 539  Q 4381 306 4653 306  Q 4919 306 5073 539  Q 5228 772 5228 1178  Q 5228 1588 5073 1820  Q 4919 2053 4653 2053  z M 4653 2450  Q 5147 2450 5437 2106  Q 5728 1763 5728 1178  Q 5728 594 5436 251  Q 5144 -91 4653 -91  Q 4153 -91 3862 251  Q 3572 594 3572 1178  Q 3572 1766 3864 2108  Q 4156 2450 4653 2450  z M 1428 4353  Q 1159 4353 1004 4120  Q 850 3888 850 3481  Q 850 3069 1003 2837  Q 1156 2606 1428 2606  Q 1700 2606 1854 2837  Q 2009 3069 2009 3481  Q 2009 3884 1853 4118  Q 1697 4353 1428 4353  z M 4250 4750  L 4750 4750  L 1831 -91  L 1331 -91  L 4250 4750  z M 1428 4750  Q 1922 4750 2215 4408  Q 2509 4066 2509 3481  Q 2509 2891 2217 2550  Q 1925 2209 1428 2209  Q 931 2209 642 2551  Q 353 2894 353 3481  Q 353 4063 643 4406  Q 934 4750 1428 4750  z \" transform=\"scale(0.015625)\"/>\n     </defs>\n     <use xlink:href=\"#DejaVuSans-31\"/>\n     <use xlink:href=\"#DejaVuSans-30\" x=\"63.623047\"/>\n     <use xlink:href=\"#DejaVuSans-30\" x=\"127.246094\"/>\n     <use xlink:href=\"#DejaVuSans-2e\" x=\"190.869141\"/>\n     <use xlink:href=\"#DejaVuSans-30\" x=\"222.65625\"/>\n     <use xlink:href=\"#DejaVuSans-30\" x=\"286.279297\"/>\n     <use xlink:href=\"#DejaVuSans-25\" x=\"349.902344\"/>\n    </g>\n   </g>\n   <g id=\"text_4\">\n    <!-- c -->\n    <g transform=\"translate(69.463437 12.718125) scale(0.12 -0.12)\">\n     <defs>\n      <path id=\"DejaVuSans-63\" d=\"M 3122 3366  L 3122 2828  Q 2878 2963 2633 3030  Q 2388 3097 2138 3097  Q 1578 3097 1268 2742  Q 959 2388 959 1747  Q 959 1106 1268 751  Q 1578 397 2138 397  Q 2388 397 2633 464  Q 2878 531 3122 666  L 3122 134  Q 2881 22 2623 -34  Q 2366 -91 2075 -91  Q 1284 -91 818 406  Q 353 903 353 1747  Q 353 2603 823 3093  Q 1294 3584 2113 3584  Q 2378 3584 2631 3529  Q 2884 3475 3122 3366  z \" transform=\"scale(0.015625)\"/>\n     </defs>\n     <use xlink:href=\"#DejaVuSans-63\"/>\n    </g>\n   </g>\n  </g>\n </g>\n <defs>\n  <clipPath id=\"pcbadd61719\">\n   <rect x=\"16.9625\" y=\"18.718125\" width=\"111.6\" height=\"27.72\"/>\n  </clipPath>\n </defs>\n</svg>\n\n</g>\n<!-- s -->\n<g id=\"node2\" class=\"node\">\n<title>s</title>\n<polygon fill=\"sandybrown\" stroke=\"#000000\" points=\"101,-158 0,-158 0,-116 101,-116 101,-158\"/>\n<svg viewBox=\"0 0 132.1625 53.538125\" width=\"101px\" height=\"42px\" preserveAspectRatio=\"xMinYMin meet\" x=\"0\" y=\"-158\"> <metadata>\n  <rdf:RDF xmlns:dc=\"http://purl.org/dc/elements/1.1/\" xmlns:cc=\"http://creativecommons.org/ns#\" xmlns:rdf=\"http://www.w3.org/1999/02/22-rdf-syntax-ns#\">\n   <cc:Work>\n    <dc:type rdf:resource=\"http://purl.org/dc/dcmitype/StillImage\"/>\n    <dc:date>2024-01-24T19:31:34.052927</dc:date>\n    <dc:format>image/svg+xml</dc:format>\n    <dc:creator>\n     <cc:Agent>\n      <dc:title>Matplotlib v3.7.1, https://matplotlib.org/</dc:title>\n     </cc:Agent>\n    </dc:creator>\n   </cc:Work>\n  </rdf:RDF>\n </metadata>\n <defs>\n  <style type=\"text/css\">*{stroke-linejoin: round; stroke-linecap: butt}</style>\n </defs>\n <g id=\"figure_1\">\n  <g id=\"patch_1\">\n   <path d=\"M 0 53.538125  L 132.1625 53.538125  L 132.1625 0  L 0 0  z \" style=\"fill: #f4a460\"/>\n  </g>\n  <g id=\"axes_1\">\n   <g id=\"patch_2\">\n    <path d=\"M 16.9625 46.438125  L 128.5625 46.438125  L 128.5625 18.718125  L 16.9625 18.718125  z \" style=\"fill: #ffffff\"/>\n   </g>\n   <g id=\"patch_3\">\n    <path d=\"M 16.9625 46.438125  L 128.5625 46.438125  L 128.5625 34.118125  L 16.9625 34.118125  z \" clip-path=\"url(#pcce98baf21)\" style=\"fill: #8fbc8f\"/>\n   </g>\n   <g id=\"patch_4\">\n    <path d=\"M 16.9625 31.038125  L 16.9625 31.038125  L 16.9625 18.718125  L 16.9625 18.718125  z \" clip-path=\"url(#pcce98baf21)\" style=\"fill: #8fbc8f\"/>\n   </g>\n   <g id=\"matplotlib.axis_1\">\n    <g id=\"xtick_1\">\n     <g id=\"line2d_1\">\n      <path d=\"M 16.9625 46.438125  L 16.9625 18.718125  \" clip-path=\"url(#pcce98baf21)\" style=\"fill: none; stroke: #b0b0b0; stroke-width: 0.8; stroke-linecap: square\"/>\n     </g>\n     <g id=\"line2d_2\">\n      <defs>\n       <path id=\"m55e86d5109\" d=\"M 0 0  L 0 3.5  \" style=\"stroke: #000000; stroke-width: 0.8\"/>\n      </defs>\n      <g>\n       <use xlink:href=\"#m55e86d5109\" x=\"16.9625\" y=\"46.438125\" style=\"stroke: #000000; stroke-width: 0.8\"/>\n      </g>\n     </g>\n    </g>\n    <g id=\"xtick_2\">\n     <g id=\"line2d_3\">\n      <path d=\"M 72.7625 46.438125  L 72.7625 18.718125  \" clip-path=\"url(#pcce98baf21)\" style=\"fill: none; stroke: #b0b0b0; stroke-width: 0.8; stroke-linecap: square\"/>\n     </g>\n     <g id=\"line2d_4\">\n      <g>\n       <use xlink:href=\"#m55e86d5109\" x=\"72.7625\" y=\"46.438125\" style=\"stroke: #000000; stroke-width: 0.8\"/>\n      </g>\n     </g>\n    </g>\n    <g id=\"xtick_3\">\n     <g id=\"line2d_5\">\n      <path d=\"M 128.5625 46.438125  L 128.5625 18.718125  \" clip-path=\"url(#pcce98baf21)\" style=\"fill: none; stroke: #b0b0b0; stroke-width: 0.8; stroke-linecap: square\"/>\n     </g>\n     <g id=\"line2d_6\">\n      <g>\n       <use xlink:href=\"#m55e86d5109\" x=\"128.5625\" y=\"46.438125\" style=\"stroke: #000000; stroke-width: 0.8\"/>\n      </g>\n     </g>\n    </g>\n   </g>\n   <g id=\"matplotlib.axis_2\">\n    <g id=\"ytick_1\">\n     <g id=\"line2d_7\">\n      <defs>\n       <path id=\"m6edc5c7819\" d=\"M 0 0  L -3.5 0  \" style=\"stroke: #000000; stroke-width: 0.8\"/>\n      </defs>\n      <g>\n       <use xlink:href=\"#m6edc5c7819\" x=\"16.9625\" y=\"40.278125\" style=\"stroke: #000000; stroke-width: 0.8\"/>\n      </g>\n     </g>\n     <g id=\"text_1\">\n      <!-- 1 -->\n      <g transform=\"translate(3.6 44.077344) scale(0.1 -0.1)\">\n       <defs>\n        <path id=\"DejaVuSans-31\" d=\"M 794 531  L 1825 531  L 1825 4091  L 703 3866  L 703 4441  L 1819 4666  L 2450 4666  L 2450 531  L 3481 531  L 3481 0  L 794 0  L 794 531  z \" transform=\"scale(0.015625)\"/>\n       </defs>\n       <use xlink:href=\"#DejaVuSans-31\"/>\n      </g>\n     </g>\n    </g>\n    <g id=\"ytick_2\">\n     <g id=\"line2d_8\">\n      <g>\n       <use xlink:href=\"#m6edc5c7819\" x=\"16.9625\" y=\"24.878125\" style=\"stroke: #000000; stroke-width: 0.8\"/>\n      </g>\n     </g>\n     <g id=\"text_2\">\n      <!-- 0 -->\n      <g transform=\"translate(3.6 28.677344) scale(0.1 -0.1)\">\n       <defs>\n        <path id=\"DejaVuSans-30\" d=\"M 2034 4250  Q 1547 4250 1301 3770  Q 1056 3291 1056 2328  Q 1056 1369 1301 889  Q 1547 409 2034 409  Q 2525 409 2770 889  Q 3016 1369 3016 2328  Q 3016 3291 2770 3770  Q 2525 4250 2034 4250  z M 2034 4750  Q 2819 4750 3233 4129  Q 3647 3509 3647 2328  Q 3647 1150 3233 529  Q 2819 -91 2034 -91  Q 1250 -91 836 529  Q 422 1150 422 2328  Q 422 3509 836 4129  Q 1250 4750 2034 4750  z \" transform=\"scale(0.015625)\"/>\n       </defs>\n       <use xlink:href=\"#DejaVuSans-30\"/>\n      </g>\n     </g>\n    </g>\n   </g>\n   <g id=\"patch_5\">\n    <path d=\"M 16.9625 46.438125  L 16.9625 18.718125  \" style=\"fill: none; stroke: #000000; stroke-width: 0.8; stroke-linejoin: miter; stroke-linecap: square\"/>\n   </g>\n   <g id=\"patch_6\">\n    <path d=\"M 128.5625 46.438125  L 128.5625 18.718125  \" style=\"fill: none; stroke: #000000; stroke-width: 0.8; stroke-linejoin: miter; stroke-linecap: square\"/>\n   </g>\n   <g id=\"patch_7\">\n    <path d=\"M 16.9625 46.438125  L 128.5625 46.438125  \" style=\"fill: none; stroke: #000000; stroke-width: 0.8; stroke-linejoin: miter; stroke-linecap: square\"/>\n   </g>\n   <g id=\"patch_8\">\n    <path d=\"M 16.9625 18.718125  L 128.5625 18.718125  \" style=\"fill: none; stroke: #000000; stroke-width: 0.8; stroke-linejoin: miter; stroke-linecap: square\"/>\n   </g>\n   <g id=\"text_3\">\n    <!-- 100.00% -->\n    <g transform=\"translate(84.070312 44.358438) scale(0.1 -0.1)\">\n     <defs>\n      <path id=\"DejaVuSans-2e\" d=\"M 684 794  L 1344 794  L 1344 0  L 684 0  L 684 794  z \" transform=\"scale(0.015625)\"/>\n      <path id=\"DejaVuSans-25\" d=\"M 4653 2053  Q 4381 2053 4226 1822  Q 4072 1591 4072 1178  Q 4072 772 4226 539  Q 4381 306 4653 306  Q 4919 306 5073 539  Q 5228 772 5228 1178  Q 5228 1588 5073 1820  Q 4919 2053 4653 2053  z M 4653 2450  Q 5147 2450 5437 2106  Q 5728 1763 5728 1178  Q 5728 594 5436 251  Q 5144 -91 4653 -91  Q 4153 -91 3862 251  Q 3572 594 3572 1178  Q 3572 1766 3864 2108  Q 4156 2450 4653 2450  z M 1428 4353  Q 1159 4353 1004 4120  Q 850 3888 850 3481  Q 850 3069 1003 2837  Q 1156 2606 1428 2606  Q 1700 2606 1854 2837  Q 2009 3069 2009 3481  Q 2009 3884 1853 4118  Q 1697 4353 1428 4353  z M 4250 4750  L 4750 4750  L 1831 -91  L 1331 -91  L 4250 4750  z M 1428 4750  Q 1922 4750 2215 4408  Q 2509 4066 2509 3481  Q 2509 2891 2217 2550  Q 1925 2209 1428 2209  Q 931 2209 642 2551  Q 353 2894 353 3481  Q 353 4063 643 4406  Q 934 4750 1428 4750  z \" transform=\"scale(0.015625)\"/>\n     </defs>\n     <use xlink:href=\"#DejaVuSans-31\"/>\n     <use xlink:href=\"#DejaVuSans-30\" x=\"63.623047\"/>\n     <use xlink:href=\"#DejaVuSans-30\" x=\"127.246094\"/>\n     <use xlink:href=\"#DejaVuSans-2e\" x=\"190.869141\"/>\n     <use xlink:href=\"#DejaVuSans-30\" x=\"222.65625\"/>\n     <use xlink:href=\"#DejaVuSans-30\" x=\"286.279297\"/>\n     <use xlink:href=\"#DejaVuSans-25\" x=\"349.902344\"/>\n    </g>\n   </g>\n   <g id=\"text_4\">\n    <!-- s -->\n    <g transform=\"translate(69.636875 12.718125) scale(0.12 -0.12)\">\n     <defs>\n      <path id=\"DejaVuSans-73\" d=\"M 2834 3397  L 2834 2853  Q 2591 2978 2328 3040  Q 2066 3103 1784 3103  Q 1356 3103 1142 2972  Q 928 2841 928 2578  Q 928 2378 1081 2264  Q 1234 2150 1697 2047  L 1894 2003  Q 2506 1872 2764 1633  Q 3022 1394 3022 966  Q 3022 478 2636 193  Q 2250 -91 1575 -91  Q 1294 -91 989 -36  Q 684 19 347 128  L 347 722  Q 666 556 975 473  Q 1284 391 1588 391  Q 1994 391 2212 530  Q 2431 669 2431 922  Q 2431 1156 2273 1281  Q 2116 1406 1581 1522  L 1381 1569  Q 847 1681 609 1914  Q 372 2147 372 2553  Q 372 3047 722 3315  Q 1072 3584 1716 3584  Q 2034 3584 2315 3537  Q 2597 3491 2834 3397  z \" transform=\"scale(0.015625)\"/>\n     </defs>\n     <use xlink:href=\"#DejaVuSans-73\"/>\n    </g>\n   </g>\n  </g>\n </g>\n <defs>\n  <clipPath id=\"pcce98baf21\">\n   <rect x=\"16.9625\" y=\"18.718125\" width=\"111.6\" height=\"27.72\"/>\n  </clipPath>\n </defs>\n</svg>\n\n</g>\n<!-- c&#45;&gt;s -->\n<g id=\"edge1\" class=\"edge\">\n<title>c-&gt;s</title>\n<g id=\"a_edge1\"><a xlink:title=\"0 → 1\">\n<path fill=\"none\" stroke=\"#4a4a4a\" d=\"M94.92,-198.98C87.75,-189.14 79,-177.13 71.16,-166.37\"/>\n<polygon fill=\"#4a4a4a\" stroke=\"#4a4a4a\" points=\"73.84,-164.1 65.12,-158.07 68.18,-168.22 73.84,-164.1\"/>\n</a>\n</g>\n</g>\n<!-- r -->\n<g id=\"node3\" class=\"node\">\n<title>r</title>\n<polygon fill=\"#e0e0e0\" stroke=\"#000000\" points=\"220,-163 119,-163 119,-111 220,-111 220,-163\"/>\n<svg viewBox=\"0 0 132.1625 66.9755\" width=\"101px\" height=\"52px\" preserveAspectRatio=\"xMinYMin meet\" x=\"119\" y=\"-163\"> <metadata>\n  <rdf:RDF xmlns:dc=\"http://purl.org/dc/elements/1.1/\" xmlns:cc=\"http://creativecommons.org/ns#\" xmlns:rdf=\"http://www.w3.org/1999/02/22-rdf-syntax-ns#\">\n   <cc:Work>\n    <dc:type rdf:resource=\"http://purl.org/dc/dcmitype/StillImage\"/>\n    <dc:date>2024-01-24T19:31:34.320654</dc:date>\n    <dc:format>image/svg+xml</dc:format>\n    <dc:creator>\n     <cc:Agent>\n      <dc:title>Matplotlib v3.7.1, https://matplotlib.org/</dc:title>\n     </cc:Agent>\n    </dc:creator>\n   </cc:Work>\n  </rdf:RDF>\n </metadata>\n <defs>\n  <style type=\"text/css\">*{stroke-linejoin: round; stroke-linecap: butt}</style>\n </defs>\n <g id=\"figure_1\">\n  <g id=\"patch_1\">\n   <path d=\"M 0 66.9755  L 132.1625 66.9755  L 132.1625 0  L 0 0  z \" style=\"fill: #e0e0e0\"/>\n  </g>\n  <g id=\"axes_1\">\n   <g id=\"patch_2\">\n    <path d=\"M 16.9625 59.8755  L 128.5625 59.8755  L 128.5625 32.1555  L 16.9625 32.1555  z \" style=\"fill: #ffffff\"/>\n   </g>\n   <g id=\"patch_3\">\n    <path d=\"M 16.9625 59.8755  L 39.2825 59.8755  L 39.2825 47.5555  L 16.9625 47.5555  z \" clip-path=\"url(#p1278748c2d)\" style=\"fill: #8fbc8f\"/>\n   </g>\n   <g id=\"patch_4\">\n    <path d=\"M 16.9625 44.4755  L 106.2425 44.4755  L 106.2425 32.1555  L 16.9625 32.1555  z \" clip-path=\"url(#p1278748c2d)\" style=\"fill: #8fbc8f\"/>\n   </g>\n   <g id=\"matplotlib.axis_1\">\n    <g id=\"xtick_1\">\n     <g id=\"line2d_1\">\n      <path d=\"M 16.9625 59.8755  L 16.9625 32.1555  \" clip-path=\"url(#p1278748c2d)\" style=\"fill: none; stroke: #b0b0b0; stroke-width: 0.8; stroke-linecap: square\"/>\n     </g>\n     <g id=\"line2d_2\">\n      <defs>\n       <path id=\"mb37bf0b36b\" d=\"M 0 0  L 0 3.5  \" style=\"stroke: #000000; stroke-width: 0.8\"/>\n      </defs>\n      <g>\n       <use xlink:href=\"#mb37bf0b36b\" x=\"16.9625\" y=\"59.8755\" style=\"stroke: #000000; stroke-width: 0.8\"/>\n      </g>\n     </g>\n    </g>\n    <g id=\"xtick_2\">\n     <g id=\"line2d_3\">\n      <path d=\"M 72.7625 59.8755  L 72.7625 32.1555  \" clip-path=\"url(#p1278748c2d)\" style=\"fill: none; stroke: #b0b0b0; stroke-width: 0.8; stroke-linecap: square\"/>\n     </g>\n     <g id=\"line2d_4\">\n      <g>\n       <use xlink:href=\"#mb37bf0b36b\" x=\"72.7625\" y=\"59.8755\" style=\"stroke: #000000; stroke-width: 0.8\"/>\n      </g>\n     </g>\n    </g>\n    <g id=\"xtick_3\">\n     <g id=\"line2d_5\">\n      <path d=\"M 128.5625 59.8755  L 128.5625 32.1555  \" clip-path=\"url(#p1278748c2d)\" style=\"fill: none; stroke: #b0b0b0; stroke-width: 0.8; stroke-linecap: square\"/>\n     </g>\n     <g id=\"line2d_6\">\n      <g>\n       <use xlink:href=\"#mb37bf0b36b\" x=\"128.5625\" y=\"59.8755\" style=\"stroke: #000000; stroke-width: 0.8\"/>\n      </g>\n     </g>\n    </g>\n   </g>\n   <g id=\"matplotlib.axis_2\">\n    <g id=\"ytick_1\">\n     <g id=\"line2d_7\">\n      <defs>\n       <path id=\"mb185ccb363\" d=\"M 0 0  L -3.5 0  \" style=\"stroke: #000000; stroke-width: 0.8\"/>\n      </defs>\n      <g>\n       <use xlink:href=\"#mb185ccb363\" x=\"16.9625\" y=\"53.7155\" style=\"stroke: #000000; stroke-width: 0.8\"/>\n      </g>\n     </g>\n     <g id=\"text_1\">\n      <!-- 1 -->\n      <g transform=\"translate(3.6 57.514719) scale(0.1 -0.1)\">\n       <defs>\n        <path id=\"DejaVuSans-31\" d=\"M 794 531  L 1825 531  L 1825 4091  L 703 3866  L 703 4441  L 1819 4666  L 2450 4666  L 2450 531  L 3481 531  L 3481 0  L 794 0  L 794 531  z \" transform=\"scale(0.015625)\"/>\n       </defs>\n       <use xlink:href=\"#DejaVuSans-31\"/>\n      </g>\n     </g>\n    </g>\n    <g id=\"ytick_2\">\n     <g id=\"line2d_8\">\n      <g>\n       <use xlink:href=\"#mb185ccb363\" x=\"16.9625\" y=\"38.3155\" style=\"stroke: #000000; stroke-width: 0.8\"/>\n      </g>\n     </g>\n     <g id=\"text_2\">\n      <!-- 0 -->\n      <g transform=\"translate(3.6 42.114719) scale(0.1 -0.1)\">\n       <defs>\n        <path id=\"DejaVuSans-30\" d=\"M 2034 4250  Q 1547 4250 1301 3770  Q 1056 3291 1056 2328  Q 1056 1369 1301 889  Q 1547 409 2034 409  Q 2525 409 2770 889  Q 3016 1369 3016 2328  Q 3016 3291 2770 3770  Q 2525 4250 2034 4250  z M 2034 4750  Q 2819 4750 3233 4129  Q 3647 3509 3647 2328  Q 3647 1150 3233 529  Q 2819 -91 2034 -91  Q 1250 -91 836 529  Q 422 1150 422 2328  Q 422 3509 836 4129  Q 1250 4750 2034 4750  z \" transform=\"scale(0.015625)\"/>\n       </defs>\n       <use xlink:href=\"#DejaVuSans-30\"/>\n      </g>\n     </g>\n    </g>\n   </g>\n   <g id=\"patch_5\">\n    <path d=\"M 16.9625 59.8755  L 16.9625 32.1555  \" style=\"fill: none; stroke: #000000; stroke-width: 0.8; stroke-linejoin: miter; stroke-linecap: square\"/>\n   </g>\n   <g id=\"patch_6\">\n    <path d=\"M 128.5625 59.8755  L 128.5625 32.1555  \" style=\"fill: none; stroke: #000000; stroke-width: 0.8; stroke-linejoin: miter; stroke-linecap: square\"/>\n   </g>\n   <g id=\"patch_7\">\n    <path d=\"M 16.9625 59.8755  L 128.5625 59.8755  \" style=\"fill: none; stroke: #000000; stroke-width: 0.8; stroke-linejoin: miter; stroke-linecap: square\"/>\n   </g>\n   <g id=\"patch_8\">\n    <path d=\"M 16.9625 32.1555  L 128.5625 32.1555  \" style=\"fill: none; stroke: #000000; stroke-width: 0.8; stroke-linejoin: miter; stroke-linecap: square\"/>\n   </g>\n   <g id=\"text_3\">\n    <!-- 20.00% -->\n    <g transform=\"translate(90.432812 57.795812) scale(0.1 -0.1)\">\n     <defs>\n      <path id=\"DejaVuSans-32\" d=\"M 1228 531  L 3431 531  L 3431 0  L 469 0  L 469 531  Q 828 903 1448 1529  Q 2069 2156 2228 2338  Q 2531 2678 2651 2914  Q 2772 3150 2772 3378  Q 2772 3750 2511 3984  Q 2250 4219 1831 4219  Q 1534 4219 1204 4116  Q 875 4013 500 3803  L 500 4441  Q 881 4594 1212 4672  Q 1544 4750 1819 4750  Q 2544 4750 2975 4387  Q 3406 4025 3406 3419  Q 3406 3131 3298 2873  Q 3191 2616 2906 2266  Q 2828 2175 2409 1742  Q 1991 1309 1228 531  z \" transform=\"scale(0.015625)\"/>\n      <path id=\"DejaVuSans-2e\" d=\"M 684 794  L 1344 794  L 1344 0  L 684 0  L 684 794  z \" transform=\"scale(0.015625)\"/>\n      <path id=\"DejaVuSans-25\" d=\"M 4653 2053  Q 4381 2053 4226 1822  Q 4072 1591 4072 1178  Q 4072 772 4226 539  Q 4381 306 4653 306  Q 4919 306 5073 539  Q 5228 772 5228 1178  Q 5228 1588 5073 1820  Q 4919 2053 4653 2053  z M 4653 2450  Q 5147 2450 5437 2106  Q 5728 1763 5728 1178  Q 5728 594 5436 251  Q 5144 -91 4653 -91  Q 4153 -91 3862 251  Q 3572 594 3572 1178  Q 3572 1766 3864 2108  Q 4156 2450 4653 2450  z M 1428 4353  Q 1159 4353 1004 4120  Q 850 3888 850 3481  Q 850 3069 1003 2837  Q 1156 2606 1428 2606  Q 1700 2606 1854 2837  Q 2009 3069 2009 3481  Q 2009 3884 1853 4118  Q 1697 4353 1428 4353  z M 4250 4750  L 4750 4750  L 1831 -91  L 1331 -91  L 4250 4750  z M 1428 4750  Q 1922 4750 2215 4408  Q 2509 4066 2509 3481  Q 2509 2891 2217 2550  Q 1925 2209 1428 2209  Q 931 2209 642 2551  Q 353 2894 353 3481  Q 353 4063 643 4406  Q 934 4750 1428 4750  z \" transform=\"scale(0.015625)\"/>\n     </defs>\n     <use xlink:href=\"#DejaVuSans-32\"/>\n     <use xlink:href=\"#DejaVuSans-30\" x=\"63.623047\"/>\n     <use xlink:href=\"#DejaVuSans-2e\" x=\"127.246094\"/>\n     <use xlink:href=\"#DejaVuSans-30\" x=\"159.033203\"/>\n     <use xlink:href=\"#DejaVuSans-30\" x=\"222.65625\"/>\n     <use xlink:href=\"#DejaVuSans-25\" x=\"286.279297\"/>\n    </g>\n   </g>\n   <g id=\"text_4\">\n    <!-- 80.00% -->\n    <g transform=\"translate(90.432812 42.395812) scale(0.1 -0.1)\">\n     <defs>\n      <path id=\"DejaVuSans-38\" d=\"M 2034 2216  Q 1584 2216 1326 1975  Q 1069 1734 1069 1313  Q 1069 891 1326 650  Q 1584 409 2034 409  Q 2484 409 2743 651  Q 3003 894 3003 1313  Q 3003 1734 2745 1975  Q 2488 2216 2034 2216  z M 1403 2484  Q 997 2584 770 2862  Q 544 3141 544 3541  Q 544 4100 942 4425  Q 1341 4750 2034 4750  Q 2731 4750 3128 4425  Q 3525 4100 3525 3541  Q 3525 3141 3298 2862  Q 3072 2584 2669 2484  Q 3125 2378 3379 2068  Q 3634 1759 3634 1313  Q 3634 634 3220 271  Q 2806 -91 2034 -91  Q 1263 -91 848 271  Q 434 634 434 1313  Q 434 1759 690 2068  Q 947 2378 1403 2484  z M 1172 3481  Q 1172 3119 1398 2916  Q 1625 2713 2034 2713  Q 2441 2713 2670 2916  Q 2900 3119 2900 3481  Q 2900 3844 2670 4047  Q 2441 4250 2034 4250  Q 1625 4250 1398 4047  Q 1172 3844 1172 3481  z \" transform=\"scale(0.015625)\"/>\n     </defs>\n     <use xlink:href=\"#DejaVuSans-38\"/>\n     <use xlink:href=\"#DejaVuSans-30\" x=\"63.623047\"/>\n     <use xlink:href=\"#DejaVuSans-2e\" x=\"127.246094\"/>\n     <use xlink:href=\"#DejaVuSans-30\" x=\"159.033203\"/>\n     <use xlink:href=\"#DejaVuSans-30\" x=\"222.65625\"/>\n     <use xlink:href=\"#DejaVuSans-25\" x=\"286.279297\"/>\n    </g>\n   </g>\n   <g id=\"text_5\">\n    <!-- r -->\n    <g transform=\"translate(70.295938 12.718125) scale(0.12 -0.12)\">\n     <defs>\n      <path id=\"DejaVuSans-72\" d=\"M 2631 2963  Q 2534 3019 2420 3045  Q 2306 3072 2169 3072  Q 1681 3072 1420 2755  Q 1159 2438 1159 1844  L 1159 0  L 581 0  L 581 3500  L 1159 3500  L 1159 2956  Q 1341 3275 1631 3429  Q 1922 3584 2338 3584  Q 2397 3584 2469 3576  Q 2541 3569 2628 3553  L 2631 2963  z \" transform=\"scale(0.015625)\"/>\n     </defs>\n     <use xlink:href=\"#DejaVuSans-72\"/>\n    </g>\n    <!-- $\\mu=0.20$; $\\sigma=0.40$ -->\n    <g transform=\"translate(20.0825 26.1555) scale(0.12 -0.12)\">\n     <defs>\n      <path id=\"DejaVuSans-Oblique-3bc\" d=\"M -84 -1331  L 856 3500  L 1434 3500  L 1009 1322  Q 997 1256 987 1175  Q 978 1094 978 1013  Q 978 722 1161 565  Q 1344 409 1684 409  Q 2147 409 2431 671  Q 2716 934 2816 1459  L 3213 3500  L 3788 3500  L 3266 809  Q 3253 750 3248 706  Q 3244 663 3244 628  Q 3244 531 3283 486  Q 3322 441 3406 441  Q 3438 441 3492 456  Q 3547 472 3647 513  L 3559 50  Q 3422 -19 3297 -55  Q 3172 -91 3053 -91  Q 2847 -91 2730 40  Q 2613 172 2613 403  Q 2438 153 2195 31  Q 1953 -91 1625 -91  Q 1334 -91 1117 43  Q 900 178 831 397  L 494 -1331  L -84 -1331  z \" transform=\"scale(0.015625)\"/>\n      <path id=\"DejaVuSans-3d\" d=\"M 678 2906  L 4684 2906  L 4684 2381  L 678 2381  L 678 2906  z M 678 1631  L 4684 1631  L 4684 1100  L 678 1100  L 678 1631  z \" transform=\"scale(0.015625)\"/>\n      <path id=\"DejaVuSans-3b\" d=\"M 750 3309  L 1409 3309  L 1409 2516  L 750 2516  L 750 3309  z M 750 794  L 1409 794  L 1409 256  L 897 -744  L 494 -744  L 750 256  L 750 794  z \" transform=\"scale(0.015625)\"/>\n      <path id=\"DejaVuSans-20\" transform=\"scale(0.015625)\"/>\n      <path id=\"DejaVuSans-Oblique-3c3\" d=\"M 2219 3044  Q 1744 3044 1422 2700  Q 1081 2341 969 1747  Q 844 1119 1044 756  Q 1241 397 1706 397  Q 2166 397 2503 759  Q 2844 1122 2966 1747  Q 3075 2319 2881 2700  Q 2700 3044 2219 3044  z M 2309 3503  L 4219 3500  L 4106 2925  L 3463 2925  Q 3706 2438 3575 1747  Q 3406 888 2884 400  Q 2359 -91 1609 -91  Q 856 -91 525 400  Q 194 888 363 1747  Q 528 2609 1050 3097  Q 1484 3503 2309 3503  z \" transform=\"scale(0.015625)\"/>\n      <path id=\"DejaVuSans-34\" d=\"M 2419 4116  L 825 1625  L 2419 1625  L 2419 4116  z M 2253 4666  L 3047 4666  L 3047 1625  L 3713 1625  L 3713 1100  L 3047 1100  L 3047 0  L 2419 0  L 2419 1100  L 313 1100  L 313 1709  L 2253 4666  z \" transform=\"scale(0.015625)\"/>\n     </defs>\n     <use xlink:href=\"#DejaVuSans-Oblique-3bc\" transform=\"translate(0 0.78125)\"/>\n     <use xlink:href=\"#DejaVuSans-3d\" transform=\"translate(83.105469 0.78125)\"/>\n     <use xlink:href=\"#DejaVuSans-30\" transform=\"translate(186.376953 0.78125)\"/>\n     <use xlink:href=\"#DejaVuSans-2e\" transform=\"translate(250 0.78125)\"/>\n     <use xlink:href=\"#DejaVuSans-32\" transform=\"translate(276.287109 0.78125)\"/>\n     <use xlink:href=\"#DejaVuSans-30\" transform=\"translate(339.910156 0.78125)\"/>\n     <use xlink:href=\"#DejaVuSans-3b\" transform=\"translate(403.533203 0.78125)\"/>\n     <use xlink:href=\"#DejaVuSans-20\" transform=\"translate(437.224609 0.78125)\"/>\n     <use xlink:href=\"#DejaVuSans-Oblique-3c3\" transform=\"translate(469.011719 0.78125)\"/>\n     <use xlink:href=\"#DejaVuSans-3d\" transform=\"translate(551.873047 0.78125)\"/>\n     <use xlink:href=\"#DejaVuSans-30\" transform=\"translate(655.144531 0.78125)\"/>\n     <use xlink:href=\"#DejaVuSans-2e\" transform=\"translate(718.767578 0.78125)\"/>\n     <use xlink:href=\"#DejaVuSans-34\" transform=\"translate(750.554688 0.78125)\"/>\n     <use xlink:href=\"#DejaVuSans-30\" transform=\"translate(814.177734 0.78125)\"/>\n    </g>\n   </g>\n  </g>\n </g>\n <defs>\n  <clipPath id=\"p1278748c2d\">\n   <rect x=\"16.9625\" y=\"32.1555\" width=\"111.6\" height=\"27.72\"/>\n  </clipPath>\n </defs>\n</svg>\n\n</g>\n<!-- c&#45;&gt;r -->\n<g id=\"edge2\" class=\"edge\">\n<title>c-&gt;r</title>\n<g id=\"a_edge2\"><a xlink:title=\"0 → 2\">\n<path fill=\"none\" stroke=\"#4a4a4a\" d=\"M124.33,-198.98C130.56,-190.57 137.97,-180.57 144.97,-171.12\"/>\n<polygon fill=\"#4a4a4a\" stroke=\"#4a4a4a\" points=\"147.83,-173.13 150.97,-163.01 142.21,-168.96 147.83,-173.13\"/>\n</a>\n</g>\n</g>\n<!-- w -->\n<g id=\"node4\" class=\"node\">\n<title>w</title>\n<polygon fill=\"#e0e0e0\" stroke=\"#000000\" points=\"160,-75 59,-75 59,-23 160,-23 160,-75\"/>\n<svg viewBox=\"0 0 132.1625 66.9755\" width=\"101px\" height=\"52px\" preserveAspectRatio=\"xMinYMin meet\" x=\"59\" y=\"-75\"> <metadata>\n  <rdf:RDF xmlns:dc=\"http://purl.org/dc/elements/1.1/\" xmlns:cc=\"http://creativecommons.org/ns#\" xmlns:rdf=\"http://www.w3.org/1999/02/22-rdf-syntax-ns#\">\n   <cc:Work>\n    <dc:type rdf:resource=\"http://purl.org/dc/dcmitype/StillImage\"/>\n    <dc:date>2024-01-24T19:31:34.548759</dc:date>\n    <dc:format>image/svg+xml</dc:format>\n    <dc:creator>\n     <cc:Agent>\n      <dc:title>Matplotlib v3.7.1, https://matplotlib.org/</dc:title>\n     </cc:Agent>\n    </dc:creator>\n   </cc:Work>\n  </rdf:RDF>\n </metadata>\n <defs>\n  <style type=\"text/css\">*{stroke-linejoin: round; stroke-linecap: butt}</style>\n </defs>\n <g id=\"figure_1\">\n  <g id=\"patch_1\">\n   <path d=\"M 0 66.9755  L 132.1625 66.9755  L 132.1625 0  L 0 0  z \" style=\"fill: #e0e0e0\"/>\n  </g>\n  <g id=\"axes_1\">\n   <g id=\"patch_2\">\n    <path d=\"M 16.9625 59.8755  L 128.5625 59.8755  L 128.5625 32.1555  L 16.9625 32.1555  z \" style=\"fill: #ffffff\"/>\n   </g>\n   <g id=\"patch_3\">\n    <path d=\"M 16.9625 59.8755  L 119.4113 59.8755  L 119.4113 47.5555  L 16.9625 47.5555  z \" clip-path=\"url(#pa39039fd94)\" style=\"fill: #8fbc8f\"/>\n   </g>\n   <g id=\"patch_4\">\n    <path d=\"M 16.9625 44.4755  L 26.1137 44.4755  L 26.1137 32.1555  L 16.9625 32.1555  z \" clip-path=\"url(#pa39039fd94)\" style=\"fill: #8fbc8f\"/>\n   </g>\n   <g id=\"matplotlib.axis_1\">\n    <g id=\"xtick_1\">\n     <g id=\"line2d_1\">\n      <path d=\"M 16.9625 59.8755  L 16.9625 32.1555  \" clip-path=\"url(#pa39039fd94)\" style=\"fill: none; stroke: #b0b0b0; stroke-width: 0.8; stroke-linecap: square\"/>\n     </g>\n     <g id=\"line2d_2\">\n      <defs>\n       <path id=\"m8a509d4d5d\" d=\"M 0 0  L 0 3.5  \" style=\"stroke: #000000; stroke-width: 0.8\"/>\n      </defs>\n      <g>\n       <use xlink:href=\"#m8a509d4d5d\" x=\"16.9625\" y=\"59.8755\" style=\"stroke: #000000; stroke-width: 0.8\"/>\n      </g>\n     </g>\n    </g>\n    <g id=\"xtick_2\">\n     <g id=\"line2d_3\">\n      <path d=\"M 72.7625 59.8755  L 72.7625 32.1555  \" clip-path=\"url(#pa39039fd94)\" style=\"fill: none; stroke: #b0b0b0; stroke-width: 0.8; stroke-linecap: square\"/>\n     </g>\n     <g id=\"line2d_4\">\n      <g>\n       <use xlink:href=\"#m8a509d4d5d\" x=\"72.7625\" y=\"59.8755\" style=\"stroke: #000000; stroke-width: 0.8\"/>\n      </g>\n     </g>\n    </g>\n    <g id=\"xtick_3\">\n     <g id=\"line2d_5\">\n      <path d=\"M 128.5625 59.8755  L 128.5625 32.1555  \" clip-path=\"url(#pa39039fd94)\" style=\"fill: none; stroke: #b0b0b0; stroke-width: 0.8; stroke-linecap: square\"/>\n     </g>\n     <g id=\"line2d_6\">\n      <g>\n       <use xlink:href=\"#m8a509d4d5d\" x=\"128.5625\" y=\"59.8755\" style=\"stroke: #000000; stroke-width: 0.8\"/>\n      </g>\n     </g>\n    </g>\n   </g>\n   <g id=\"matplotlib.axis_2\">\n    <g id=\"ytick_1\">\n     <g id=\"line2d_7\">\n      <defs>\n       <path id=\"m36675b5769\" d=\"M 0 0  L -3.5 0  \" style=\"stroke: #000000; stroke-width: 0.8\"/>\n      </defs>\n      <g>\n       <use xlink:href=\"#m36675b5769\" x=\"16.9625\" y=\"53.7155\" style=\"stroke: #000000; stroke-width: 0.8\"/>\n      </g>\n     </g>\n     <g id=\"text_1\">\n      <!-- 1 -->\n      <g transform=\"translate(3.6 57.514719) scale(0.1 -0.1)\">\n       <defs>\n        <path id=\"DejaVuSans-31\" d=\"M 794 531  L 1825 531  L 1825 4091  L 703 3866  L 703 4441  L 1819 4666  L 2450 4666  L 2450 531  L 3481 531  L 3481 0  L 794 0  L 794 531  z \" transform=\"scale(0.015625)\"/>\n       </defs>\n       <use xlink:href=\"#DejaVuSans-31\"/>\n      </g>\n     </g>\n    </g>\n    <g id=\"ytick_2\">\n     <g id=\"line2d_8\">\n      <g>\n       <use xlink:href=\"#m36675b5769\" x=\"16.9625\" y=\"38.3155\" style=\"stroke: #000000; stroke-width: 0.8\"/>\n      </g>\n     </g>\n     <g id=\"text_2\">\n      <!-- 0 -->\n      <g transform=\"translate(3.6 42.114719) scale(0.1 -0.1)\">\n       <defs>\n        <path id=\"DejaVuSans-30\" d=\"M 2034 4250  Q 1547 4250 1301 3770  Q 1056 3291 1056 2328  Q 1056 1369 1301 889  Q 1547 409 2034 409  Q 2525 409 2770 889  Q 3016 1369 3016 2328  Q 3016 3291 2770 3770  Q 2525 4250 2034 4250  z M 2034 4750  Q 2819 4750 3233 4129  Q 3647 3509 3647 2328  Q 3647 1150 3233 529  Q 2819 -91 2034 -91  Q 1250 -91 836 529  Q 422 1150 422 2328  Q 422 3509 836 4129  Q 1250 4750 2034 4750  z \" transform=\"scale(0.015625)\"/>\n       </defs>\n       <use xlink:href=\"#DejaVuSans-30\"/>\n      </g>\n     </g>\n    </g>\n   </g>\n   <g id=\"patch_5\">\n    <path d=\"M 16.9625 59.8755  L 16.9625 32.1555  \" style=\"fill: none; stroke: #000000; stroke-width: 0.8; stroke-linejoin: miter; stroke-linecap: square\"/>\n   </g>\n   <g id=\"patch_6\">\n    <path d=\"M 128.5625 59.8755  L 128.5625 32.1555  \" style=\"fill: none; stroke: #000000; stroke-width: 0.8; stroke-linejoin: miter; stroke-linecap: square\"/>\n   </g>\n   <g id=\"patch_7\">\n    <path d=\"M 16.9625 59.8755  L 128.5625 59.8755  \" style=\"fill: none; stroke: #000000; stroke-width: 0.8; stroke-linejoin: miter; stroke-linecap: square\"/>\n   </g>\n   <g id=\"patch_8\">\n    <path d=\"M 16.9625 32.1555  L 128.5625 32.1555  \" style=\"fill: none; stroke: #000000; stroke-width: 0.8; stroke-linejoin: miter; stroke-linecap: square\"/>\n   </g>\n   <g id=\"text_3\">\n    <!-- 91.80% -->\n    <g transform=\"translate(90.432812 57.795812) scale(0.1 -0.1)\">\n     <defs>\n      <path id=\"DejaVuSans-39\" d=\"M 703 97  L 703 672  Q 941 559 1184 500  Q 1428 441 1663 441  Q 2288 441 2617 861  Q 2947 1281 2994 2138  Q 2813 1869 2534 1725  Q 2256 1581 1919 1581  Q 1219 1581 811 2004  Q 403 2428 403 3163  Q 403 3881 828 4315  Q 1253 4750 1959 4750  Q 2769 4750 3195 4129  Q 3622 3509 3622 2328  Q 3622 1225 3098 567  Q 2575 -91 1691 -91  Q 1453 -91 1209 -44  Q 966 3 703 97  z M 1959 2075  Q 2384 2075 2632 2365  Q 2881 2656 2881 3163  Q 2881 3666 2632 3958  Q 2384 4250 1959 4250  Q 1534 4250 1286 3958  Q 1038 3666 1038 3163  Q 1038 2656 1286 2365  Q 1534 2075 1959 2075  z \" transform=\"scale(0.015625)\"/>\n      <path id=\"DejaVuSans-2e\" d=\"M 684 794  L 1344 794  L 1344 0  L 684 0  L 684 794  z \" transform=\"scale(0.015625)\"/>\n      <path id=\"DejaVuSans-38\" d=\"M 2034 2216  Q 1584 2216 1326 1975  Q 1069 1734 1069 1313  Q 1069 891 1326 650  Q 1584 409 2034 409  Q 2484 409 2743 651  Q 3003 894 3003 1313  Q 3003 1734 2745 1975  Q 2488 2216 2034 2216  z M 1403 2484  Q 997 2584 770 2862  Q 544 3141 544 3541  Q 544 4100 942 4425  Q 1341 4750 2034 4750  Q 2731 4750 3128 4425  Q 3525 4100 3525 3541  Q 3525 3141 3298 2862  Q 3072 2584 2669 2484  Q 3125 2378 3379 2068  Q 3634 1759 3634 1313  Q 3634 634 3220 271  Q 2806 -91 2034 -91  Q 1263 -91 848 271  Q 434 634 434 1313  Q 434 1759 690 2068  Q 947 2378 1403 2484  z M 1172 3481  Q 1172 3119 1398 2916  Q 1625 2713 2034 2713  Q 2441 2713 2670 2916  Q 2900 3119 2900 3481  Q 2900 3844 2670 4047  Q 2441 4250 2034 4250  Q 1625 4250 1398 4047  Q 1172 3844 1172 3481  z \" transform=\"scale(0.015625)\"/>\n      <path id=\"DejaVuSans-25\" d=\"M 4653 2053  Q 4381 2053 4226 1822  Q 4072 1591 4072 1178  Q 4072 772 4226 539  Q 4381 306 4653 306  Q 4919 306 5073 539  Q 5228 772 5228 1178  Q 5228 1588 5073 1820  Q 4919 2053 4653 2053  z M 4653 2450  Q 5147 2450 5437 2106  Q 5728 1763 5728 1178  Q 5728 594 5436 251  Q 5144 -91 4653 -91  Q 4153 -91 3862 251  Q 3572 594 3572 1178  Q 3572 1766 3864 2108  Q 4156 2450 4653 2450  z M 1428 4353  Q 1159 4353 1004 4120  Q 850 3888 850 3481  Q 850 3069 1003 2837  Q 1156 2606 1428 2606  Q 1700 2606 1854 2837  Q 2009 3069 2009 3481  Q 2009 3884 1853 4118  Q 1697 4353 1428 4353  z M 4250 4750  L 4750 4750  L 1831 -91  L 1331 -91  L 4250 4750  z M 1428 4750  Q 1922 4750 2215 4408  Q 2509 4066 2509 3481  Q 2509 2891 2217 2550  Q 1925 2209 1428 2209  Q 931 2209 642 2551  Q 353 2894 353 3481  Q 353 4063 643 4406  Q 934 4750 1428 4750  z \" transform=\"scale(0.015625)\"/>\n     </defs>\n     <use xlink:href=\"#DejaVuSans-39\"/>\n     <use xlink:href=\"#DejaVuSans-31\" x=\"63.623047\"/>\n     <use xlink:href=\"#DejaVuSans-2e\" x=\"127.246094\"/>\n     <use xlink:href=\"#DejaVuSans-38\" x=\"159.033203\"/>\n     <use xlink:href=\"#DejaVuSans-30\" x=\"222.65625\"/>\n     <use xlink:href=\"#DejaVuSans-25\" x=\"286.279297\"/>\n    </g>\n   </g>\n   <g id=\"text_4\">\n    <!-- 8.20% -->\n    <g transform=\"translate(96.795312 42.395812) scale(0.1 -0.1)\">\n     <defs>\n      <path id=\"DejaVuSans-32\" d=\"M 1228 531  L 3431 531  L 3431 0  L 469 0  L 469 531  Q 828 903 1448 1529  Q 2069 2156 2228 2338  Q 2531 2678 2651 2914  Q 2772 3150 2772 3378  Q 2772 3750 2511 3984  Q 2250 4219 1831 4219  Q 1534 4219 1204 4116  Q 875 4013 500 3803  L 500 4441  Q 881 4594 1212 4672  Q 1544 4750 1819 4750  Q 2544 4750 2975 4387  Q 3406 4025 3406 3419  Q 3406 3131 3298 2873  Q 3191 2616 2906 2266  Q 2828 2175 2409 1742  Q 1991 1309 1228 531  z \" transform=\"scale(0.015625)\"/>\n     </defs>\n     <use xlink:href=\"#DejaVuSans-38\"/>\n     <use xlink:href=\"#DejaVuSans-2e\" x=\"63.623047\"/>\n     <use xlink:href=\"#DejaVuSans-32\" x=\"95.410156\"/>\n     <use xlink:href=\"#DejaVuSans-30\" x=\"159.033203\"/>\n     <use xlink:href=\"#DejaVuSans-25\" x=\"222.65625\"/>\n    </g>\n   </g>\n   <g id=\"text_5\">\n    <!-- w -->\n    <g transform=\"translate(67.855625 12.718125) scale(0.12 -0.12)\">\n     <defs>\n      <path id=\"DejaVuSans-77\" d=\"M 269 3500  L 844 3500  L 1563 769  L 2278 3500  L 2956 3500  L 3675 769  L 4391 3500  L 4966 3500  L 4050 0  L 3372 0  L 2619 2869  L 1863 0  L 1184 0  L 269 3500  z \" transform=\"scale(0.015625)\"/>\n     </defs>\n     <use xlink:href=\"#DejaVuSans-77\"/>\n    </g>\n    <!-- $\\mu=0.92$; $\\sigma=0.27$ -->\n    <g transform=\"translate(20.1425 26.1555) scale(0.12 -0.12)\">\n     <defs>\n      <path id=\"DejaVuSans-Oblique-3bc\" d=\"M -84 -1331  L 856 3500  L 1434 3500  L 1009 1322  Q 997 1256 987 1175  Q 978 1094 978 1013  Q 978 722 1161 565  Q 1344 409 1684 409  Q 2147 409 2431 671  Q 2716 934 2816 1459  L 3213 3500  L 3788 3500  L 3266 809  Q 3253 750 3248 706  Q 3244 663 3244 628  Q 3244 531 3283 486  Q 3322 441 3406 441  Q 3438 441 3492 456  Q 3547 472 3647 513  L 3559 50  Q 3422 -19 3297 -55  Q 3172 -91 3053 -91  Q 2847 -91 2730 40  Q 2613 172 2613 403  Q 2438 153 2195 31  Q 1953 -91 1625 -91  Q 1334 -91 1117 43  Q 900 178 831 397  L 494 -1331  L -84 -1331  z \" transform=\"scale(0.015625)\"/>\n      <path id=\"DejaVuSans-3d\" d=\"M 678 2906  L 4684 2906  L 4684 2381  L 678 2381  L 678 2906  z M 678 1631  L 4684 1631  L 4684 1100  L 678 1100  L 678 1631  z \" transform=\"scale(0.015625)\"/>\n      <path id=\"DejaVuSans-3b\" d=\"M 750 3309  L 1409 3309  L 1409 2516  L 750 2516  L 750 3309  z M 750 794  L 1409 794  L 1409 256  L 897 -744  L 494 -744  L 750 256  L 750 794  z \" transform=\"scale(0.015625)\"/>\n      <path id=\"DejaVuSans-20\" transform=\"scale(0.015625)\"/>\n      <path id=\"DejaVuSans-Oblique-3c3\" d=\"M 2219 3044  Q 1744 3044 1422 2700  Q 1081 2341 969 1747  Q 844 1119 1044 756  Q 1241 397 1706 397  Q 2166 397 2503 759  Q 2844 1122 2966 1747  Q 3075 2319 2881 2700  Q 2700 3044 2219 3044  z M 2309 3503  L 4219 3500  L 4106 2925  L 3463 2925  Q 3706 2438 3575 1747  Q 3406 888 2884 400  Q 2359 -91 1609 -91  Q 856 -91 525 400  Q 194 888 363 1747  Q 528 2609 1050 3097  Q 1484 3503 2309 3503  z \" transform=\"scale(0.015625)\"/>\n      <path id=\"DejaVuSans-37\" d=\"M 525 4666  L 3525 4666  L 3525 4397  L 1831 0  L 1172 0  L 2766 4134  L 525 4134  L 525 4666  z \" transform=\"scale(0.015625)\"/>\n     </defs>\n     <use xlink:href=\"#DejaVuSans-Oblique-3bc\" transform=\"translate(0 0.78125)\"/>\n     <use xlink:href=\"#DejaVuSans-3d\" transform=\"translate(83.105469 0.78125)\"/>\n     <use xlink:href=\"#DejaVuSans-30\" transform=\"translate(186.376953 0.78125)\"/>\n     <use xlink:href=\"#DejaVuSans-2e\" transform=\"translate(250 0.78125)\"/>\n     <use xlink:href=\"#DejaVuSans-39\" transform=\"translate(281.787109 0.78125)\"/>\n     <use xlink:href=\"#DejaVuSans-32\" transform=\"translate(343.660156 0.78125)\"/>\n     <use xlink:href=\"#DejaVuSans-3b\" transform=\"translate(407.283203 0.78125)\"/>\n     <use xlink:href=\"#DejaVuSans-20\" transform=\"translate(440.974609 0.78125)\"/>\n     <use xlink:href=\"#DejaVuSans-Oblique-3c3\" transform=\"translate(472.761719 0.78125)\"/>\n     <use xlink:href=\"#DejaVuSans-3d\" transform=\"translate(555.623047 0.78125)\"/>\n     <use xlink:href=\"#DejaVuSans-30\" transform=\"translate(658.894531 0.78125)\"/>\n     <use xlink:href=\"#DejaVuSans-2e\" transform=\"translate(722.517578 0.78125)\"/>\n     <use xlink:href=\"#DejaVuSans-32\" transform=\"translate(748.804688 0.78125)\"/>\n     <use xlink:href=\"#DejaVuSans-37\" transform=\"translate(812.427734 0.78125)\"/>\n    </g>\n   </g>\n  </g>\n </g>\n <defs>\n  <clipPath id=\"pa39039fd94\">\n   <rect x=\"16.9625\" y=\"32.1555\" width=\"111.6\" height=\"27.72\"/>\n  </clipPath>\n </defs>\n</svg>\n\n</g>\n<!-- s&#45;&gt;w -->\n<g id=\"edge4\" class=\"edge\">\n<title>s-&gt;w</title>\n<g id=\"a_edge4\"><a xlink:title=\"1 → 3\">\n<path fill=\"none\" stroke=\"#4a4a4a\" d=\"M64.48,-115.62C71.04,-106.06 79.04,-94.41 86.45,-83.59\"/>\n<polygon fill=\"#4a4a4a\" stroke=\"#4a4a4a\" points=\"89.47,-85.38 92.24,-75.15 83.7,-81.42 89.47,-85.38\"/>\n</a>\n</g>\n</g>\n<!-- r&#45;&gt;w -->\n<g id=\"edge3\" class=\"edge\">\n<title>r-&gt;w</title>\n<g id=\"a_edge3\"><a xlink:title=\"2 → 3\">\n<path fill=\"none\" stroke=\"#4a4a4a\" d=\"M151.82,-110.66C145.9,-102.18 139.21,-92.58 132.92,-83.57\"/>\n<polygon fill=\"#4a4a4a\" stroke=\"#4a4a4a\" points=\"135.64,-81.36 127.05,-75.16 129.9,-85.36 135.64,-81.36\"/>\n</a>\n</g>\n</g>\n</g>\n</svg>"
          },
          "metadata": {}
        }
      ],
      "source": [
        "gnb.showInference(bn,evs={'s':1,'c':0})"
      ]
    },
    {
      "cell_type": "code",
      "execution_count": null,
      "metadata": {
        "id": "TiW7uHSBiv1T",
        "outputId": "61a38029-0d6c-4fec-aa91-4687eb33299e",
        "colab": {
          "base_uri": "https://localhost:8080/",
          "height": 353
        }
      },
      "outputs": [
        {
          "output_type": "display_data",
          "data": {
            "text/plain": [
              "<IPython.core.display.SVG object>"
            ],
            "image/svg+xml": "<svg xmlns=\"http://www.w3.org/2000/svg\" xmlns:xlink=\"http://www.w3.org/1999/xlink\" width=\"228pt\" height=\"249pt\" viewBox=\"0.00 0.00 228.00 249.00\">\n<g id=\"graph0\" class=\"graph\" transform=\"scale(1 1) rotate(0) translate(4 245)\">\n<title>structs</title>\n<text text-anchor=\"middle\" x=\"110\" y=\"-7.8\" font-family=\"Times,serif\" font-size=\"14.00\" fill=\"#4a4a4a\">Inference in   0.58ms</text>\n<!-- c -->\n<g id=\"node1\" class=\"node\">\n<title>c</title>\n<polygon fill=\"sandybrown\" stroke=\"#000000\" points=\"160,-241 59,-241 59,-199 160,-199 160,-241\"/>\n<svg viewBox=\"0 0 132.1625 53.538125\" width=\"101px\" height=\"42px\" preserveAspectRatio=\"xMinYMin meet\" x=\"59\" y=\"-241\"> <metadata>\n  <rdf:RDF xmlns:dc=\"http://purl.org/dc/elements/1.1/\" xmlns:cc=\"http://creativecommons.org/ns#\" xmlns:rdf=\"http://www.w3.org/1999/02/22-rdf-syntax-ns#\">\n   <cc:Work>\n    <dc:type rdf:resource=\"http://purl.org/dc/dcmitype/StillImage\"/>\n    <dc:date>2024-01-24T19:31:34.831470</dc:date>\n    <dc:format>image/svg+xml</dc:format>\n    <dc:creator>\n     <cc:Agent>\n      <dc:title>Matplotlib v3.7.1, https://matplotlib.org/</dc:title>\n     </cc:Agent>\n    </dc:creator>\n   </cc:Work>\n  </rdf:RDF>\n </metadata>\n <defs>\n  <style type=\"text/css\">*{stroke-linejoin: round; stroke-linecap: butt}</style>\n </defs>\n <g id=\"figure_1\">\n  <g id=\"patch_1\">\n   <path d=\"M 0 53.538125  L 132.1625 53.538125  L 132.1625 0  L 0 0  z \" style=\"fill: #f4a460\"/>\n  </g>\n  <g id=\"axes_1\">\n   <g id=\"patch_2\">\n    <path d=\"M 16.9625 46.438125  L 128.5625 46.438125  L 128.5625 18.718125  L 16.9625 18.718125  z \" style=\"fill: #ffffff\"/>\n   </g>\n   <g id=\"patch_3\">\n    <path d=\"M 16.9625 46.438125  L 69.825658 46.438125  L 69.825658 34.118125  L 16.9625 34.118125  z \" clip-path=\"url(#pf7ddcf672a)\" style=\"fill: #8fbc8f\"/>\n   </g>\n   <g id=\"patch_4\">\n    <path d=\"M 16.9625 31.038125  L 75.699342 31.038125  L 75.699342 18.718125  L 16.9625 18.718125  z \" clip-path=\"url(#pf7ddcf672a)\" style=\"fill: #8fbc8f\"/>\n   </g>\n   <g id=\"matplotlib.axis_1\">\n    <g id=\"xtick_1\">\n     <g id=\"line2d_1\">\n      <path d=\"M 16.9625 46.438125  L 16.9625 18.718125  \" clip-path=\"url(#pf7ddcf672a)\" style=\"fill: none; stroke: #b0b0b0; stroke-width: 0.8; stroke-linecap: square\"/>\n     </g>\n     <g id=\"line2d_2\">\n      <defs>\n       <path id=\"mabf8703b74\" d=\"M 0 0  L 0 3.5  \" style=\"stroke: #000000; stroke-width: 0.8\"/>\n      </defs>\n      <g>\n       <use xlink:href=\"#mabf8703b74\" x=\"16.9625\" y=\"46.438125\" style=\"stroke: #000000; stroke-width: 0.8\"/>\n      </g>\n     </g>\n    </g>\n    <g id=\"xtick_2\">\n     <g id=\"line2d_3\">\n      <path d=\"M 72.7625 46.438125  L 72.7625 18.718125  \" clip-path=\"url(#pf7ddcf672a)\" style=\"fill: none; stroke: #b0b0b0; stroke-width: 0.8; stroke-linecap: square\"/>\n     </g>\n     <g id=\"line2d_4\">\n      <g>\n       <use xlink:href=\"#mabf8703b74\" x=\"72.7625\" y=\"46.438125\" style=\"stroke: #000000; stroke-width: 0.8\"/>\n      </g>\n     </g>\n    </g>\n    <g id=\"xtick_3\">\n     <g id=\"line2d_5\">\n      <path d=\"M 128.5625 46.438125  L 128.5625 18.718125  \" clip-path=\"url(#pf7ddcf672a)\" style=\"fill: none; stroke: #b0b0b0; stroke-width: 0.8; stroke-linecap: square\"/>\n     </g>\n     <g id=\"line2d_6\">\n      <g>\n       <use xlink:href=\"#mabf8703b74\" x=\"128.5625\" y=\"46.438125\" style=\"stroke: #000000; stroke-width: 0.8\"/>\n      </g>\n     </g>\n    </g>\n   </g>\n   <g id=\"matplotlib.axis_2\">\n    <g id=\"ytick_1\">\n     <g id=\"line2d_7\">\n      <defs>\n       <path id=\"m21ac088b05\" d=\"M 0 0  L -3.5 0  \" style=\"stroke: #000000; stroke-width: 0.8\"/>\n      </defs>\n      <g>\n       <use xlink:href=\"#m21ac088b05\" x=\"16.9625\" y=\"40.278125\" style=\"stroke: #000000; stroke-width: 0.8\"/>\n      </g>\n     </g>\n     <g id=\"text_1\">\n      <!-- 1 -->\n      <g transform=\"translate(3.6 44.077344) scale(0.1 -0.1)\">\n       <defs>\n        <path id=\"DejaVuSans-31\" d=\"M 794 531  L 1825 531  L 1825 4091  L 703 3866  L 703 4441  L 1819 4666  L 2450 4666  L 2450 531  L 3481 531  L 3481 0  L 794 0  L 794 531  z \" transform=\"scale(0.015625)\"/>\n       </defs>\n       <use xlink:href=\"#DejaVuSans-31\"/>\n      </g>\n     </g>\n    </g>\n    <g id=\"ytick_2\">\n     <g id=\"line2d_8\">\n      <g>\n       <use xlink:href=\"#m21ac088b05\" x=\"16.9625\" y=\"24.878125\" style=\"stroke: #000000; stroke-width: 0.8\"/>\n      </g>\n     </g>\n     <g id=\"text_2\">\n      <!-- 0 -->\n      <g transform=\"translate(3.6 28.677344) scale(0.1 -0.1)\">\n       <defs>\n        <path id=\"DejaVuSans-30\" d=\"M 2034 4250  Q 1547 4250 1301 3770  Q 1056 3291 1056 2328  Q 1056 1369 1301 889  Q 1547 409 2034 409  Q 2525 409 2770 889  Q 3016 1369 3016 2328  Q 3016 3291 2770 3770  Q 2525 4250 2034 4250  z M 2034 4750  Q 2819 4750 3233 4129  Q 3647 3509 3647 2328  Q 3647 1150 3233 529  Q 2819 -91 2034 -91  Q 1250 -91 836 529  Q 422 1150 422 2328  Q 422 3509 836 4129  Q 1250 4750 2034 4750  z \" transform=\"scale(0.015625)\"/>\n       </defs>\n       <use xlink:href=\"#DejaVuSans-30\"/>\n      </g>\n     </g>\n    </g>\n   </g>\n   <g id=\"patch_5\">\n    <path d=\"M 16.9625 46.438125  L 16.9625 18.718125  \" style=\"fill: none; stroke: #000000; stroke-width: 0.8; stroke-linejoin: miter; stroke-linecap: square\"/>\n   </g>\n   <g id=\"patch_6\">\n    <path d=\"M 128.5625 46.438125  L 128.5625 18.718125  \" style=\"fill: none; stroke: #000000; stroke-width: 0.8; stroke-linejoin: miter; stroke-linecap: square\"/>\n   </g>\n   <g id=\"patch_7\">\n    <path d=\"M 16.9625 46.438125  L 128.5625 46.438125  \" style=\"fill: none; stroke: #000000; stroke-width: 0.8; stroke-linejoin: miter; stroke-linecap: square\"/>\n   </g>\n   <g id=\"patch_8\">\n    <path d=\"M 16.9625 18.718125  L 128.5625 18.718125  \" style=\"fill: none; stroke: #000000; stroke-width: 0.8; stroke-linejoin: miter; stroke-linecap: square\"/>\n   </g>\n   <g id=\"text_3\">\n    <!-- 47.37% -->\n    <g transform=\"translate(90.432812 44.358438) scale(0.1 -0.1)\">\n     <defs>\n      <path id=\"DejaVuSans-34\" d=\"M 2419 4116  L 825 1625  L 2419 1625  L 2419 4116  z M 2253 4666  L 3047 4666  L 3047 1625  L 3713 1625  L 3713 1100  L 3047 1100  L 3047 0  L 2419 0  L 2419 1100  L 313 1100  L 313 1709  L 2253 4666  z \" transform=\"scale(0.015625)\"/>\n      <path id=\"DejaVuSans-37\" d=\"M 525 4666  L 3525 4666  L 3525 4397  L 1831 0  L 1172 0  L 2766 4134  L 525 4134  L 525 4666  z \" transform=\"scale(0.015625)\"/>\n      <path id=\"DejaVuSans-2e\" d=\"M 684 794  L 1344 794  L 1344 0  L 684 0  L 684 794  z \" transform=\"scale(0.015625)\"/>\n      <path id=\"DejaVuSans-33\" d=\"M 2597 2516  Q 3050 2419 3304 2112  Q 3559 1806 3559 1356  Q 3559 666 3084 287  Q 2609 -91 1734 -91  Q 1441 -91 1130 -33  Q 819 25 488 141  L 488 750  Q 750 597 1062 519  Q 1375 441 1716 441  Q 2309 441 2620 675  Q 2931 909 2931 1356  Q 2931 1769 2642 2001  Q 2353 2234 1838 2234  L 1294 2234  L 1294 2753  L 1863 2753  Q 2328 2753 2575 2939  Q 2822 3125 2822 3475  Q 2822 3834 2567 4026  Q 2313 4219 1838 4219  Q 1578 4219 1281 4162  Q 984 4106 628 3988  L 628 4550  Q 988 4650 1302 4700  Q 1616 4750 1894 4750  Q 2613 4750 3031 4423  Q 3450 4097 3450 3541  Q 3450 3153 3228 2886  Q 3006 2619 2597 2516  z \" transform=\"scale(0.015625)\"/>\n      <path id=\"DejaVuSans-25\" d=\"M 4653 2053  Q 4381 2053 4226 1822  Q 4072 1591 4072 1178  Q 4072 772 4226 539  Q 4381 306 4653 306  Q 4919 306 5073 539  Q 5228 772 5228 1178  Q 5228 1588 5073 1820  Q 4919 2053 4653 2053  z M 4653 2450  Q 5147 2450 5437 2106  Q 5728 1763 5728 1178  Q 5728 594 5436 251  Q 5144 -91 4653 -91  Q 4153 -91 3862 251  Q 3572 594 3572 1178  Q 3572 1766 3864 2108  Q 4156 2450 4653 2450  z M 1428 4353  Q 1159 4353 1004 4120  Q 850 3888 850 3481  Q 850 3069 1003 2837  Q 1156 2606 1428 2606  Q 1700 2606 1854 2837  Q 2009 3069 2009 3481  Q 2009 3884 1853 4118  Q 1697 4353 1428 4353  z M 4250 4750  L 4750 4750  L 1831 -91  L 1331 -91  L 4250 4750  z M 1428 4750  Q 1922 4750 2215 4408  Q 2509 4066 2509 3481  Q 2509 2891 2217 2550  Q 1925 2209 1428 2209  Q 931 2209 642 2551  Q 353 2894 353 3481  Q 353 4063 643 4406  Q 934 4750 1428 4750  z \" transform=\"scale(0.015625)\"/>\n     </defs>\n     <use xlink:href=\"#DejaVuSans-34\"/>\n     <use xlink:href=\"#DejaVuSans-37\" x=\"63.623047\"/>\n     <use xlink:href=\"#DejaVuSans-2e\" x=\"127.246094\"/>\n     <use xlink:href=\"#DejaVuSans-33\" x=\"159.033203\"/>\n     <use xlink:href=\"#DejaVuSans-37\" x=\"222.65625\"/>\n     <use xlink:href=\"#DejaVuSans-25\" x=\"286.279297\"/>\n    </g>\n   </g>\n   <g id=\"text_4\">\n    <!-- 52.63% -->\n    <g transform=\"translate(90.432812 28.958438) scale(0.1 -0.1)\">\n     <defs>\n      <path id=\"DejaVuSans-35\" d=\"M 691 4666  L 3169 4666  L 3169 4134  L 1269 4134  L 1269 2991  Q 1406 3038 1543 3061  Q 1681 3084 1819 3084  Q 2600 3084 3056 2656  Q 3513 2228 3513 1497  Q 3513 744 3044 326  Q 2575 -91 1722 -91  Q 1428 -91 1123 -41  Q 819 9 494 109  L 494 744  Q 775 591 1075 516  Q 1375 441 1709 441  Q 2250 441 2565 725  Q 2881 1009 2881 1497  Q 2881 1984 2565 2268  Q 2250 2553 1709 2553  Q 1456 2553 1204 2497  Q 953 2441 691 2322  L 691 4666  z \" transform=\"scale(0.015625)\"/>\n      <path id=\"DejaVuSans-32\" d=\"M 1228 531  L 3431 531  L 3431 0  L 469 0  L 469 531  Q 828 903 1448 1529  Q 2069 2156 2228 2338  Q 2531 2678 2651 2914  Q 2772 3150 2772 3378  Q 2772 3750 2511 3984  Q 2250 4219 1831 4219  Q 1534 4219 1204 4116  Q 875 4013 500 3803  L 500 4441  Q 881 4594 1212 4672  Q 1544 4750 1819 4750  Q 2544 4750 2975 4387  Q 3406 4025 3406 3419  Q 3406 3131 3298 2873  Q 3191 2616 2906 2266  Q 2828 2175 2409 1742  Q 1991 1309 1228 531  z \" transform=\"scale(0.015625)\"/>\n      <path id=\"DejaVuSans-36\" d=\"M 2113 2584  Q 1688 2584 1439 2293  Q 1191 2003 1191 1497  Q 1191 994 1439 701  Q 1688 409 2113 409  Q 2538 409 2786 701  Q 3034 994 3034 1497  Q 3034 2003 2786 2293  Q 2538 2584 2113 2584  z M 3366 4563  L 3366 3988  Q 3128 4100 2886 4159  Q 2644 4219 2406 4219  Q 1781 4219 1451 3797  Q 1122 3375 1075 2522  Q 1259 2794 1537 2939  Q 1816 3084 2150 3084  Q 2853 3084 3261 2657  Q 3669 2231 3669 1497  Q 3669 778 3244 343  Q 2819 -91 2113 -91  Q 1303 -91 875 529  Q 447 1150 447 2328  Q 447 3434 972 4092  Q 1497 4750 2381 4750  Q 2619 4750 2861 4703  Q 3103 4656 3366 4563  z \" transform=\"scale(0.015625)\"/>\n     </defs>\n     <use xlink:href=\"#DejaVuSans-35\"/>\n     <use xlink:href=\"#DejaVuSans-32\" x=\"63.623047\"/>\n     <use xlink:href=\"#DejaVuSans-2e\" x=\"127.246094\"/>\n     <use xlink:href=\"#DejaVuSans-36\" x=\"159.033203\"/>\n     <use xlink:href=\"#DejaVuSans-33\" x=\"222.65625\"/>\n     <use xlink:href=\"#DejaVuSans-25\" x=\"286.279297\"/>\n    </g>\n   </g>\n   <g id=\"text_5\">\n    <!-- c -->\n    <g transform=\"translate(69.463437 12.718125) scale(0.12 -0.12)\">\n     <defs>\n      <path id=\"DejaVuSans-63\" d=\"M 3122 3366  L 3122 2828  Q 2878 2963 2633 3030  Q 2388 3097 2138 3097  Q 1578 3097 1268 2742  Q 959 2388 959 1747  Q 959 1106 1268 751  Q 1578 397 2138 397  Q 2388 397 2633 464  Q 2878 531 3122 666  L 3122 134  Q 2881 22 2623 -34  Q 2366 -91 2075 -91  Q 1284 -91 818 406  Q 353 903 353 1747  Q 353 2603 823 3093  Q 1294 3584 2113 3584  Q 2378 3584 2631 3529  Q 2884 3475 3122 3366  z \" transform=\"scale(0.015625)\"/>\n     </defs>\n     <use xlink:href=\"#DejaVuSans-63\"/>\n    </g>\n   </g>\n  </g>\n </g>\n <defs>\n  <clipPath id=\"pf7ddcf672a\">\n   <rect x=\"16.9625\" y=\"18.718125\" width=\"111.6\" height=\"27.72\"/>\n  </clipPath>\n </defs>\n</svg>\n\n</g>\n<!-- s -->\n<g id=\"node2\" class=\"node\">\n<title>s</title>\n<polygon fill=\"sandybrown\" stroke=\"#000000\" points=\"101,-158 0,-158 0,-116 101,-116 101,-158\"/>\n<svg viewBox=\"0 0 132.1625 53.538125\" width=\"101px\" height=\"42px\" preserveAspectRatio=\"xMinYMin meet\" x=\"0\" y=\"-158\"> <metadata>\n  <rdf:RDF xmlns:dc=\"http://purl.org/dc/elements/1.1/\" xmlns:cc=\"http://creativecommons.org/ns#\" xmlns:rdf=\"http://www.w3.org/1999/02/22-rdf-syntax-ns#\">\n   <cc:Work>\n    <dc:type rdf:resource=\"http://purl.org/dc/dcmitype/StillImage\"/>\n    <dc:date>2024-01-24T19:31:35.099760</dc:date>\n    <dc:format>image/svg+xml</dc:format>\n    <dc:creator>\n     <cc:Agent>\n      <dc:title>Matplotlib v3.7.1, https://matplotlib.org/</dc:title>\n     </cc:Agent>\n    </dc:creator>\n   </cc:Work>\n  </rdf:RDF>\n </metadata>\n <defs>\n  <style type=\"text/css\">*{stroke-linejoin: round; stroke-linecap: butt}</style>\n </defs>\n <g id=\"figure_1\">\n  <g id=\"patch_1\">\n   <path d=\"M 0 53.538125  L 132.1625 53.538125  L 132.1625 0  L 0 0  z \" style=\"fill: #f4a460\"/>\n  </g>\n  <g id=\"axes_1\">\n   <g id=\"patch_2\">\n    <path d=\"M 16.9625 46.438125  L 128.5625 46.438125  L 128.5625 18.718125  L 16.9625 18.718125  z \" style=\"fill: #ffffff\"/>\n   </g>\n   <g id=\"patch_3\">\n    <path d=\"M 16.9625 46.438125  L 128.5625 46.438125  L 128.5625 34.118125  L 16.9625 34.118125  z \" clip-path=\"url(#p79532804c0)\" style=\"fill: #8fbc8f\"/>\n   </g>\n   <g id=\"patch_4\">\n    <path d=\"M 16.9625 31.038125  L 16.9625 31.038125  L 16.9625 18.718125  L 16.9625 18.718125  z \" clip-path=\"url(#p79532804c0)\" style=\"fill: #8fbc8f\"/>\n   </g>\n   <g id=\"matplotlib.axis_1\">\n    <g id=\"xtick_1\">\n     <g id=\"line2d_1\">\n      <path d=\"M 16.9625 46.438125  L 16.9625 18.718125  \" clip-path=\"url(#p79532804c0)\" style=\"fill: none; stroke: #b0b0b0; stroke-width: 0.8; stroke-linecap: square\"/>\n     </g>\n     <g id=\"line2d_2\">\n      <defs>\n       <path id=\"m6e8231a169\" d=\"M 0 0  L 0 3.5  \" style=\"stroke: #000000; stroke-width: 0.8\"/>\n      </defs>\n      <g>\n       <use xlink:href=\"#m6e8231a169\" x=\"16.9625\" y=\"46.438125\" style=\"stroke: #000000; stroke-width: 0.8\"/>\n      </g>\n     </g>\n    </g>\n    <g id=\"xtick_2\">\n     <g id=\"line2d_3\">\n      <path d=\"M 72.7625 46.438125  L 72.7625 18.718125  \" clip-path=\"url(#p79532804c0)\" style=\"fill: none; stroke: #b0b0b0; stroke-width: 0.8; stroke-linecap: square\"/>\n     </g>\n     <g id=\"line2d_4\">\n      <g>\n       <use xlink:href=\"#m6e8231a169\" x=\"72.7625\" y=\"46.438125\" style=\"stroke: #000000; stroke-width: 0.8\"/>\n      </g>\n     </g>\n    </g>\n    <g id=\"xtick_3\">\n     <g id=\"line2d_5\">\n      <path d=\"M 128.5625 46.438125  L 128.5625 18.718125  \" clip-path=\"url(#p79532804c0)\" style=\"fill: none; stroke: #b0b0b0; stroke-width: 0.8; stroke-linecap: square\"/>\n     </g>\n     <g id=\"line2d_6\">\n      <g>\n       <use xlink:href=\"#m6e8231a169\" x=\"128.5625\" y=\"46.438125\" style=\"stroke: #000000; stroke-width: 0.8\"/>\n      </g>\n     </g>\n    </g>\n   </g>\n   <g id=\"matplotlib.axis_2\">\n    <g id=\"ytick_1\">\n     <g id=\"line2d_7\">\n      <defs>\n       <path id=\"meb15ff4156\" d=\"M 0 0  L -3.5 0  \" style=\"stroke: #000000; stroke-width: 0.8\"/>\n      </defs>\n      <g>\n       <use xlink:href=\"#meb15ff4156\" x=\"16.9625\" y=\"40.278125\" style=\"stroke: #000000; stroke-width: 0.8\"/>\n      </g>\n     </g>\n     <g id=\"text_1\">\n      <!-- 1 -->\n      <g transform=\"translate(3.6 44.077344) scale(0.1 -0.1)\">\n       <defs>\n        <path id=\"DejaVuSans-31\" d=\"M 794 531  L 1825 531  L 1825 4091  L 703 3866  L 703 4441  L 1819 4666  L 2450 4666  L 2450 531  L 3481 531  L 3481 0  L 794 0  L 794 531  z \" transform=\"scale(0.015625)\"/>\n       </defs>\n       <use xlink:href=\"#DejaVuSans-31\"/>\n      </g>\n     </g>\n    </g>\n    <g id=\"ytick_2\">\n     <g id=\"line2d_8\">\n      <g>\n       <use xlink:href=\"#meb15ff4156\" x=\"16.9625\" y=\"24.878125\" style=\"stroke: #000000; stroke-width: 0.8\"/>\n      </g>\n     </g>\n     <g id=\"text_2\">\n      <!-- 0 -->\n      <g transform=\"translate(3.6 28.677344) scale(0.1 -0.1)\">\n       <defs>\n        <path id=\"DejaVuSans-30\" d=\"M 2034 4250  Q 1547 4250 1301 3770  Q 1056 3291 1056 2328  Q 1056 1369 1301 889  Q 1547 409 2034 409  Q 2525 409 2770 889  Q 3016 1369 3016 2328  Q 3016 3291 2770 3770  Q 2525 4250 2034 4250  z M 2034 4750  Q 2819 4750 3233 4129  Q 3647 3509 3647 2328  Q 3647 1150 3233 529  Q 2819 -91 2034 -91  Q 1250 -91 836 529  Q 422 1150 422 2328  Q 422 3509 836 4129  Q 1250 4750 2034 4750  z \" transform=\"scale(0.015625)\"/>\n       </defs>\n       <use xlink:href=\"#DejaVuSans-30\"/>\n      </g>\n     </g>\n    </g>\n   </g>\n   <g id=\"patch_5\">\n    <path d=\"M 16.9625 46.438125  L 16.9625 18.718125  \" style=\"fill: none; stroke: #000000; stroke-width: 0.8; stroke-linejoin: miter; stroke-linecap: square\"/>\n   </g>\n   <g id=\"patch_6\">\n    <path d=\"M 128.5625 46.438125  L 128.5625 18.718125  \" style=\"fill: none; stroke: #000000; stroke-width: 0.8; stroke-linejoin: miter; stroke-linecap: square\"/>\n   </g>\n   <g id=\"patch_7\">\n    <path d=\"M 16.9625 46.438125  L 128.5625 46.438125  \" style=\"fill: none; stroke: #000000; stroke-width: 0.8; stroke-linejoin: miter; stroke-linecap: square\"/>\n   </g>\n   <g id=\"patch_8\">\n    <path d=\"M 16.9625 18.718125  L 128.5625 18.718125  \" style=\"fill: none; stroke: #000000; stroke-width: 0.8; stroke-linejoin: miter; stroke-linecap: square\"/>\n   </g>\n   <g id=\"text_3\">\n    <!-- 100.00% -->\n    <g transform=\"translate(84.070312 44.358438) scale(0.1 -0.1)\">\n     <defs>\n      <path id=\"DejaVuSans-2e\" d=\"M 684 794  L 1344 794  L 1344 0  L 684 0  L 684 794  z \" transform=\"scale(0.015625)\"/>\n      <path id=\"DejaVuSans-25\" d=\"M 4653 2053  Q 4381 2053 4226 1822  Q 4072 1591 4072 1178  Q 4072 772 4226 539  Q 4381 306 4653 306  Q 4919 306 5073 539  Q 5228 772 5228 1178  Q 5228 1588 5073 1820  Q 4919 2053 4653 2053  z M 4653 2450  Q 5147 2450 5437 2106  Q 5728 1763 5728 1178  Q 5728 594 5436 251  Q 5144 -91 4653 -91  Q 4153 -91 3862 251  Q 3572 594 3572 1178  Q 3572 1766 3864 2108  Q 4156 2450 4653 2450  z M 1428 4353  Q 1159 4353 1004 4120  Q 850 3888 850 3481  Q 850 3069 1003 2837  Q 1156 2606 1428 2606  Q 1700 2606 1854 2837  Q 2009 3069 2009 3481  Q 2009 3884 1853 4118  Q 1697 4353 1428 4353  z M 4250 4750  L 4750 4750  L 1831 -91  L 1331 -91  L 4250 4750  z M 1428 4750  Q 1922 4750 2215 4408  Q 2509 4066 2509 3481  Q 2509 2891 2217 2550  Q 1925 2209 1428 2209  Q 931 2209 642 2551  Q 353 2894 353 3481  Q 353 4063 643 4406  Q 934 4750 1428 4750  z \" transform=\"scale(0.015625)\"/>\n     </defs>\n     <use xlink:href=\"#DejaVuSans-31\"/>\n     <use xlink:href=\"#DejaVuSans-30\" x=\"63.623047\"/>\n     <use xlink:href=\"#DejaVuSans-30\" x=\"127.246094\"/>\n     <use xlink:href=\"#DejaVuSans-2e\" x=\"190.869141\"/>\n     <use xlink:href=\"#DejaVuSans-30\" x=\"222.65625\"/>\n     <use xlink:href=\"#DejaVuSans-30\" x=\"286.279297\"/>\n     <use xlink:href=\"#DejaVuSans-25\" x=\"349.902344\"/>\n    </g>\n   </g>\n   <g id=\"text_4\">\n    <!-- s -->\n    <g transform=\"translate(69.636875 12.718125) scale(0.12 -0.12)\">\n     <defs>\n      <path id=\"DejaVuSans-73\" d=\"M 2834 3397  L 2834 2853  Q 2591 2978 2328 3040  Q 2066 3103 1784 3103  Q 1356 3103 1142 2972  Q 928 2841 928 2578  Q 928 2378 1081 2264  Q 1234 2150 1697 2047  L 1894 2003  Q 2506 1872 2764 1633  Q 3022 1394 3022 966  Q 3022 478 2636 193  Q 2250 -91 1575 -91  Q 1294 -91 989 -36  Q 684 19 347 128  L 347 722  Q 666 556 975 473  Q 1284 391 1588 391  Q 1994 391 2212 530  Q 2431 669 2431 922  Q 2431 1156 2273 1281  Q 2116 1406 1581 1522  L 1381 1569  Q 847 1681 609 1914  Q 372 2147 372 2553  Q 372 3047 722 3315  Q 1072 3584 1716 3584  Q 2034 3584 2315 3537  Q 2597 3491 2834 3397  z \" transform=\"scale(0.015625)\"/>\n     </defs>\n     <use xlink:href=\"#DejaVuSans-73\"/>\n    </g>\n   </g>\n  </g>\n </g>\n <defs>\n  <clipPath id=\"p79532804c0\">\n   <rect x=\"16.9625\" y=\"18.718125\" width=\"111.6\" height=\"27.72\"/>\n  </clipPath>\n </defs>\n</svg>\n\n</g>\n<!-- c&#45;&gt;s -->\n<g id=\"edge1\" class=\"edge\">\n<title>c-&gt;s</title>\n<g id=\"a_edge1\"><a xlink:title=\"0 → 1\">\n<path fill=\"none\" stroke=\"#4a4a4a\" d=\"M94.92,-198.98C87.75,-189.14 79,-177.13 71.16,-166.37\"/>\n<polygon fill=\"#4a4a4a\" stroke=\"#4a4a4a\" points=\"73.84,-164.1 65.12,-158.07 68.18,-168.22 73.84,-164.1\"/>\n</a>\n</g>\n</g>\n<!-- r -->\n<g id=\"node3\" class=\"node\">\n<title>r</title>\n<polygon fill=\"#e0e0e0\" stroke=\"#000000\" points=\"220,-163 119,-163 119,-111 220,-111 220,-163\"/>\n<svg viewBox=\"0 0 132.1625 66.9755\" width=\"101px\" height=\"52px\" preserveAspectRatio=\"xMinYMin meet\" x=\"119\" y=\"-163\"> <metadata>\n  <rdf:RDF xmlns:dc=\"http://purl.org/dc/elements/1.1/\" xmlns:cc=\"http://creativecommons.org/ns#\" xmlns:rdf=\"http://www.w3.org/1999/02/22-rdf-syntax-ns#\">\n   <cc:Work>\n    <dc:type rdf:resource=\"http://purl.org/dc/dcmitype/StillImage\"/>\n    <dc:date>2024-01-24T19:31:35.250394</dc:date>\n    <dc:format>image/svg+xml</dc:format>\n    <dc:creator>\n     <cc:Agent>\n      <dc:title>Matplotlib v3.7.1, https://matplotlib.org/</dc:title>\n     </cc:Agent>\n    </dc:creator>\n   </cc:Work>\n  </rdf:RDF>\n </metadata>\n <defs>\n  <style type=\"text/css\">*{stroke-linejoin: round; stroke-linecap: butt}</style>\n </defs>\n <g id=\"figure_1\">\n  <g id=\"patch_1\">\n   <path d=\"M 0 66.9755  L 132.1625 66.9755  L 132.1625 0  L 0 0  z \" style=\"fill: #e0e0e0\"/>\n  </g>\n  <g id=\"axes_1\">\n   <g id=\"patch_2\">\n    <path d=\"M 16.9625 59.8755  L 128.5625 59.8755  L 128.5625 32.1555  L 16.9625 32.1555  z \" style=\"fill: #ffffff\"/>\n   </g>\n   <g id=\"patch_3\">\n    <path d=\"M 16.9625 59.8755  L 71.000395 59.8755  L 71.000395 47.5555  L 16.9625 47.5555  z \" clip-path=\"url(#p00f7dce36d)\" style=\"fill: #8fbc8f\"/>\n   </g>\n   <g id=\"patch_4\">\n    <path d=\"M 16.9625 44.4755  L 74.524605 44.4755  L 74.524605 32.1555  L 16.9625 32.1555  z \" clip-path=\"url(#p00f7dce36d)\" style=\"fill: #8fbc8f\"/>\n   </g>\n   <g id=\"matplotlib.axis_1\">\n    <g id=\"xtick_1\">\n     <g id=\"line2d_1\">\n      <path d=\"M 16.9625 59.8755  L 16.9625 32.1555  \" clip-path=\"url(#p00f7dce36d)\" style=\"fill: none; stroke: #b0b0b0; stroke-width: 0.8; stroke-linecap: square\"/>\n     </g>\n     <g id=\"line2d_2\">\n      <defs>\n       <path id=\"me696f1b709\" d=\"M 0 0  L 0 3.5  \" style=\"stroke: #000000; stroke-width: 0.8\"/>\n      </defs>\n      <g>\n       <use xlink:href=\"#me696f1b709\" x=\"16.9625\" y=\"59.8755\" style=\"stroke: #000000; stroke-width: 0.8\"/>\n      </g>\n     </g>\n    </g>\n    <g id=\"xtick_2\">\n     <g id=\"line2d_3\">\n      <path d=\"M 72.7625 59.8755  L 72.7625 32.1555  \" clip-path=\"url(#p00f7dce36d)\" style=\"fill: none; stroke: #b0b0b0; stroke-width: 0.8; stroke-linecap: square\"/>\n     </g>\n     <g id=\"line2d_4\">\n      <g>\n       <use xlink:href=\"#me696f1b709\" x=\"72.7625\" y=\"59.8755\" style=\"stroke: #000000; stroke-width: 0.8\"/>\n      </g>\n     </g>\n    </g>\n    <g id=\"xtick_3\">\n     <g id=\"line2d_5\">\n      <path d=\"M 128.5625 59.8755  L 128.5625 32.1555  \" clip-path=\"url(#p00f7dce36d)\" style=\"fill: none; stroke: #b0b0b0; stroke-width: 0.8; stroke-linecap: square\"/>\n     </g>\n     <g id=\"line2d_6\">\n      <g>\n       <use xlink:href=\"#me696f1b709\" x=\"128.5625\" y=\"59.8755\" style=\"stroke: #000000; stroke-width: 0.8\"/>\n      </g>\n     </g>\n    </g>\n   </g>\n   <g id=\"matplotlib.axis_2\">\n    <g id=\"ytick_1\">\n     <g id=\"line2d_7\">\n      <defs>\n       <path id=\"m3f5cc1eff5\" d=\"M 0 0  L -3.5 0  \" style=\"stroke: #000000; stroke-width: 0.8\"/>\n      </defs>\n      <g>\n       <use xlink:href=\"#m3f5cc1eff5\" x=\"16.9625\" y=\"53.7155\" style=\"stroke: #000000; stroke-width: 0.8\"/>\n      </g>\n     </g>\n     <g id=\"text_1\">\n      <!-- 1 -->\n      <g transform=\"translate(3.6 57.514719) scale(0.1 -0.1)\">\n       <defs>\n        <path id=\"DejaVuSans-31\" d=\"M 794 531  L 1825 531  L 1825 4091  L 703 3866  L 703 4441  L 1819 4666  L 2450 4666  L 2450 531  L 3481 531  L 3481 0  L 794 0  L 794 531  z \" transform=\"scale(0.015625)\"/>\n       </defs>\n       <use xlink:href=\"#DejaVuSans-31\"/>\n      </g>\n     </g>\n    </g>\n    <g id=\"ytick_2\">\n     <g id=\"line2d_8\">\n      <g>\n       <use xlink:href=\"#m3f5cc1eff5\" x=\"16.9625\" y=\"38.3155\" style=\"stroke: #000000; stroke-width: 0.8\"/>\n      </g>\n     </g>\n     <g id=\"text_2\">\n      <!-- 0 -->\n      <g transform=\"translate(3.6 42.114719) scale(0.1 -0.1)\">\n       <defs>\n        <path id=\"DejaVuSans-30\" d=\"M 2034 4250  Q 1547 4250 1301 3770  Q 1056 3291 1056 2328  Q 1056 1369 1301 889  Q 1547 409 2034 409  Q 2525 409 2770 889  Q 3016 1369 3016 2328  Q 3016 3291 2770 3770  Q 2525 4250 2034 4250  z M 2034 4750  Q 2819 4750 3233 4129  Q 3647 3509 3647 2328  Q 3647 1150 3233 529  Q 2819 -91 2034 -91  Q 1250 -91 836 529  Q 422 1150 422 2328  Q 422 3509 836 4129  Q 1250 4750 2034 4750  z \" transform=\"scale(0.015625)\"/>\n       </defs>\n       <use xlink:href=\"#DejaVuSans-30\"/>\n      </g>\n     </g>\n    </g>\n   </g>\n   <g id=\"patch_5\">\n    <path d=\"M 16.9625 59.8755  L 16.9625 32.1555  \" style=\"fill: none; stroke: #000000; stroke-width: 0.8; stroke-linejoin: miter; stroke-linecap: square\"/>\n   </g>\n   <g id=\"patch_6\">\n    <path d=\"M 128.5625 59.8755  L 128.5625 32.1555  \" style=\"fill: none; stroke: #000000; stroke-width: 0.8; stroke-linejoin: miter; stroke-linecap: square\"/>\n   </g>\n   <g id=\"patch_7\">\n    <path d=\"M 16.9625 59.8755  L 128.5625 59.8755  \" style=\"fill: none; stroke: #000000; stroke-width: 0.8; stroke-linejoin: miter; stroke-linecap: square\"/>\n   </g>\n   <g id=\"patch_8\">\n    <path d=\"M 16.9625 32.1555  L 128.5625 32.1555  \" style=\"fill: none; stroke: #000000; stroke-width: 0.8; stroke-linejoin: miter; stroke-linecap: square\"/>\n   </g>\n   <g id=\"text_3\">\n    <!-- 48.42% -->\n    <g transform=\"translate(90.432812 57.795812) scale(0.1 -0.1)\">\n     <defs>\n      <path id=\"DejaVuSans-34\" d=\"M 2419 4116  L 825 1625  L 2419 1625  L 2419 4116  z M 2253 4666  L 3047 4666  L 3047 1625  L 3713 1625  L 3713 1100  L 3047 1100  L 3047 0  L 2419 0  L 2419 1100  L 313 1100  L 313 1709  L 2253 4666  z \" transform=\"scale(0.015625)\"/>\n      <path id=\"DejaVuSans-38\" d=\"M 2034 2216  Q 1584 2216 1326 1975  Q 1069 1734 1069 1313  Q 1069 891 1326 650  Q 1584 409 2034 409  Q 2484 409 2743 651  Q 3003 894 3003 1313  Q 3003 1734 2745 1975  Q 2488 2216 2034 2216  z M 1403 2484  Q 997 2584 770 2862  Q 544 3141 544 3541  Q 544 4100 942 4425  Q 1341 4750 2034 4750  Q 2731 4750 3128 4425  Q 3525 4100 3525 3541  Q 3525 3141 3298 2862  Q 3072 2584 2669 2484  Q 3125 2378 3379 2068  Q 3634 1759 3634 1313  Q 3634 634 3220 271  Q 2806 -91 2034 -91  Q 1263 -91 848 271  Q 434 634 434 1313  Q 434 1759 690 2068  Q 947 2378 1403 2484  z M 1172 3481  Q 1172 3119 1398 2916  Q 1625 2713 2034 2713  Q 2441 2713 2670 2916  Q 2900 3119 2900 3481  Q 2900 3844 2670 4047  Q 2441 4250 2034 4250  Q 1625 4250 1398 4047  Q 1172 3844 1172 3481  z \" transform=\"scale(0.015625)\"/>\n      <path id=\"DejaVuSans-2e\" d=\"M 684 794  L 1344 794  L 1344 0  L 684 0  L 684 794  z \" transform=\"scale(0.015625)\"/>\n      <path id=\"DejaVuSans-32\" d=\"M 1228 531  L 3431 531  L 3431 0  L 469 0  L 469 531  Q 828 903 1448 1529  Q 2069 2156 2228 2338  Q 2531 2678 2651 2914  Q 2772 3150 2772 3378  Q 2772 3750 2511 3984  Q 2250 4219 1831 4219  Q 1534 4219 1204 4116  Q 875 4013 500 3803  L 500 4441  Q 881 4594 1212 4672  Q 1544 4750 1819 4750  Q 2544 4750 2975 4387  Q 3406 4025 3406 3419  Q 3406 3131 3298 2873  Q 3191 2616 2906 2266  Q 2828 2175 2409 1742  Q 1991 1309 1228 531  z \" transform=\"scale(0.015625)\"/>\n      <path id=\"DejaVuSans-25\" d=\"M 4653 2053  Q 4381 2053 4226 1822  Q 4072 1591 4072 1178  Q 4072 772 4226 539  Q 4381 306 4653 306  Q 4919 306 5073 539  Q 5228 772 5228 1178  Q 5228 1588 5073 1820  Q 4919 2053 4653 2053  z M 4653 2450  Q 5147 2450 5437 2106  Q 5728 1763 5728 1178  Q 5728 594 5436 251  Q 5144 -91 4653 -91  Q 4153 -91 3862 251  Q 3572 594 3572 1178  Q 3572 1766 3864 2108  Q 4156 2450 4653 2450  z M 1428 4353  Q 1159 4353 1004 4120  Q 850 3888 850 3481  Q 850 3069 1003 2837  Q 1156 2606 1428 2606  Q 1700 2606 1854 2837  Q 2009 3069 2009 3481  Q 2009 3884 1853 4118  Q 1697 4353 1428 4353  z M 4250 4750  L 4750 4750  L 1831 -91  L 1331 -91  L 4250 4750  z M 1428 4750  Q 1922 4750 2215 4408  Q 2509 4066 2509 3481  Q 2509 2891 2217 2550  Q 1925 2209 1428 2209  Q 931 2209 642 2551  Q 353 2894 353 3481  Q 353 4063 643 4406  Q 934 4750 1428 4750  z \" transform=\"scale(0.015625)\"/>\n     </defs>\n     <use xlink:href=\"#DejaVuSans-34\"/>\n     <use xlink:href=\"#DejaVuSans-38\" x=\"63.623047\"/>\n     <use xlink:href=\"#DejaVuSans-2e\" x=\"127.246094\"/>\n     <use xlink:href=\"#DejaVuSans-34\" x=\"159.033203\"/>\n     <use xlink:href=\"#DejaVuSans-32\" x=\"222.65625\"/>\n     <use xlink:href=\"#DejaVuSans-25\" x=\"286.279297\"/>\n    </g>\n   </g>\n   <g id=\"text_4\">\n    <!-- 51.58% -->\n    <g transform=\"translate(90.432812 42.395812) scale(0.1 -0.1)\">\n     <defs>\n      <path id=\"DejaVuSans-35\" d=\"M 691 4666  L 3169 4666  L 3169 4134  L 1269 4134  L 1269 2991  Q 1406 3038 1543 3061  Q 1681 3084 1819 3084  Q 2600 3084 3056 2656  Q 3513 2228 3513 1497  Q 3513 744 3044 326  Q 2575 -91 1722 -91  Q 1428 -91 1123 -41  Q 819 9 494 109  L 494 744  Q 775 591 1075 516  Q 1375 441 1709 441  Q 2250 441 2565 725  Q 2881 1009 2881 1497  Q 2881 1984 2565 2268  Q 2250 2553 1709 2553  Q 1456 2553 1204 2497  Q 953 2441 691 2322  L 691 4666  z \" transform=\"scale(0.015625)\"/>\n     </defs>\n     <use xlink:href=\"#DejaVuSans-35\"/>\n     <use xlink:href=\"#DejaVuSans-31\" x=\"63.623047\"/>\n     <use xlink:href=\"#DejaVuSans-2e\" x=\"127.246094\"/>\n     <use xlink:href=\"#DejaVuSans-35\" x=\"159.033203\"/>\n     <use xlink:href=\"#DejaVuSans-38\" x=\"222.65625\"/>\n     <use xlink:href=\"#DejaVuSans-25\" x=\"286.279297\"/>\n    </g>\n   </g>\n   <g id=\"text_5\">\n    <!-- r -->\n    <g transform=\"translate(70.295938 12.718125) scale(0.12 -0.12)\">\n     <defs>\n      <path id=\"DejaVuSans-72\" d=\"M 2631 2963  Q 2534 3019 2420 3045  Q 2306 3072 2169 3072  Q 1681 3072 1420 2755  Q 1159 2438 1159 1844  L 1159 0  L 581 0  L 581 3500  L 1159 3500  L 1159 2956  Q 1341 3275 1631 3429  Q 1922 3584 2338 3584  Q 2397 3584 2469 3576  Q 2541 3569 2628 3553  L 2631 2963  z \" transform=\"scale(0.015625)\"/>\n     </defs>\n     <use xlink:href=\"#DejaVuSans-72\"/>\n    </g>\n    <!-- $\\mu=0.48$; $\\sigma=0.50$ -->\n    <g transform=\"translate(19.7225 26.1555) scale(0.12 -0.12)\">\n     <defs>\n      <path id=\"DejaVuSans-Oblique-3bc\" d=\"M -84 -1331  L 856 3500  L 1434 3500  L 1009 1322  Q 997 1256 987 1175  Q 978 1094 978 1013  Q 978 722 1161 565  Q 1344 409 1684 409  Q 2147 409 2431 671  Q 2716 934 2816 1459  L 3213 3500  L 3788 3500  L 3266 809  Q 3253 750 3248 706  Q 3244 663 3244 628  Q 3244 531 3283 486  Q 3322 441 3406 441  Q 3438 441 3492 456  Q 3547 472 3647 513  L 3559 50  Q 3422 -19 3297 -55  Q 3172 -91 3053 -91  Q 2847 -91 2730 40  Q 2613 172 2613 403  Q 2438 153 2195 31  Q 1953 -91 1625 -91  Q 1334 -91 1117 43  Q 900 178 831 397  L 494 -1331  L -84 -1331  z \" transform=\"scale(0.015625)\"/>\n      <path id=\"DejaVuSans-3d\" d=\"M 678 2906  L 4684 2906  L 4684 2381  L 678 2381  L 678 2906  z M 678 1631  L 4684 1631  L 4684 1100  L 678 1100  L 678 1631  z \" transform=\"scale(0.015625)\"/>\n      <path id=\"DejaVuSans-3b\" d=\"M 750 3309  L 1409 3309  L 1409 2516  L 750 2516  L 750 3309  z M 750 794  L 1409 794  L 1409 256  L 897 -744  L 494 -744  L 750 256  L 750 794  z \" transform=\"scale(0.015625)\"/>\n      <path id=\"DejaVuSans-20\" transform=\"scale(0.015625)\"/>\n      <path id=\"DejaVuSans-Oblique-3c3\" d=\"M 2219 3044  Q 1744 3044 1422 2700  Q 1081 2341 969 1747  Q 844 1119 1044 756  Q 1241 397 1706 397  Q 2166 397 2503 759  Q 2844 1122 2966 1747  Q 3075 2319 2881 2700  Q 2700 3044 2219 3044  z M 2309 3503  L 4219 3500  L 4106 2925  L 3463 2925  Q 3706 2438 3575 1747  Q 3406 888 2884 400  Q 2359 -91 1609 -91  Q 856 -91 525 400  Q 194 888 363 1747  Q 528 2609 1050 3097  Q 1484 3503 2309 3503  z \" transform=\"scale(0.015625)\"/>\n     </defs>\n     <use xlink:href=\"#DejaVuSans-Oblique-3bc\" transform=\"translate(0 0.78125)\"/>\n     <use xlink:href=\"#DejaVuSans-3d\" transform=\"translate(83.105469 0.78125)\"/>\n     <use xlink:href=\"#DejaVuSans-30\" transform=\"translate(186.376953 0.78125)\"/>\n     <use xlink:href=\"#DejaVuSans-2e\" transform=\"translate(250 0.78125)\"/>\n     <use xlink:href=\"#DejaVuSans-34\" transform=\"translate(281.787109 0.78125)\"/>\n     <use xlink:href=\"#DejaVuSans-38\" transform=\"translate(345.410156 0.78125)\"/>\n     <use xlink:href=\"#DejaVuSans-3b\" transform=\"translate(409.033203 0.78125)\"/>\n     <use xlink:href=\"#DejaVuSans-20\" transform=\"translate(442.724609 0.78125)\"/>\n     <use xlink:href=\"#DejaVuSans-Oblique-3c3\" transform=\"translate(474.511719 0.78125)\"/>\n     <use xlink:href=\"#DejaVuSans-3d\" transform=\"translate(557.373047 0.78125)\"/>\n     <use xlink:href=\"#DejaVuSans-30\" transform=\"translate(660.644531 0.78125)\"/>\n     <use xlink:href=\"#DejaVuSans-2e\" transform=\"translate(724.267578 0.78125)\"/>\n     <use xlink:href=\"#DejaVuSans-35\" transform=\"translate(756.054688 0.78125)\"/>\n     <use xlink:href=\"#DejaVuSans-30\" transform=\"translate(819.677734 0.78125)\"/>\n    </g>\n   </g>\n  </g>\n </g>\n <defs>\n  <clipPath id=\"p00f7dce36d\">\n   <rect x=\"16.9625\" y=\"32.1555\" width=\"111.6\" height=\"27.72\"/>\n  </clipPath>\n </defs>\n</svg>\n\n</g>\n<!-- c&#45;&gt;r -->\n<g id=\"edge2\" class=\"edge\">\n<title>c-&gt;r</title>\n<g id=\"a_edge2\"><a xlink:title=\"0 → 2\">\n<path fill=\"none\" stroke=\"#4a4a4a\" d=\"M124.33,-198.98C130.56,-190.57 137.97,-180.57 144.97,-171.12\"/>\n<polygon fill=\"#4a4a4a\" stroke=\"#4a4a4a\" points=\"147.83,-173.13 150.97,-163.01 142.21,-168.96 147.83,-173.13\"/>\n</a>\n</g>\n</g>\n<!-- w -->\n<g id=\"node4\" class=\"node\">\n<title>w</title>\n<polygon fill=\"#e0e0e0\" stroke=\"#000000\" points=\"160,-75 59,-75 59,-23 160,-23 160,-75\"/>\n<svg viewBox=\"0 0 132.1625 66.9755\" width=\"101px\" height=\"52px\" preserveAspectRatio=\"xMinYMin meet\" x=\"59\" y=\"-75\"> <metadata>\n  <rdf:RDF xmlns:dc=\"http://purl.org/dc/elements/1.1/\" xmlns:cc=\"http://creativecommons.org/ns#\" xmlns:rdf=\"http://www.w3.org/1999/02/22-rdf-syntax-ns#\">\n   <cc:Work>\n    <dc:type rdf:resource=\"http://purl.org/dc/dcmitype/StillImage\"/>\n    <dc:date>2024-01-24T19:31:35.402330</dc:date>\n    <dc:format>image/svg+xml</dc:format>\n    <dc:creator>\n     <cc:Agent>\n      <dc:title>Matplotlib v3.7.1, https://matplotlib.org/</dc:title>\n     </cc:Agent>\n    </dc:creator>\n   </cc:Work>\n  </rdf:RDF>\n </metadata>\n <defs>\n  <style type=\"text/css\">*{stroke-linejoin: round; stroke-linecap: butt}</style>\n </defs>\n <g id=\"figure_1\">\n  <g id=\"patch_1\">\n   <path d=\"M 0 66.9755  L 132.1625 66.9755  L 132.1625 0  L 0 0  z \" style=\"fill: #e0e0e0\"/>\n  </g>\n  <g id=\"axes_1\">\n   <g id=\"patch_2\">\n    <path d=\"M 16.9625 59.8755  L 128.5625 59.8755  L 128.5625 32.1555  L 16.9625 32.1555  z \" style=\"fill: #ffffff\"/>\n   </g>\n   <g id=\"patch_3\">\n    <path d=\"M 16.9625 59.8755  L 122.265911 59.8755  L 122.265911 47.5555  L 16.9625 47.5555  z \" clip-path=\"url(#p13a69d839c)\" style=\"fill: #8fbc8f\"/>\n   </g>\n   <g id=\"patch_4\">\n    <path d=\"M 16.9625 44.4755  L 23.259089 44.4755  L 23.259089 32.1555  L 16.9625 32.1555  z \" clip-path=\"url(#p13a69d839c)\" style=\"fill: #8fbc8f\"/>\n   </g>\n   <g id=\"matplotlib.axis_1\">\n    <g id=\"xtick_1\">\n     <g id=\"line2d_1\">\n      <path d=\"M 16.9625 59.8755  L 16.9625 32.1555  \" clip-path=\"url(#p13a69d839c)\" style=\"fill: none; stroke: #b0b0b0; stroke-width: 0.8; stroke-linecap: square\"/>\n     </g>\n     <g id=\"line2d_2\">\n      <defs>\n       <path id=\"m4fd49f0ac2\" d=\"M 0 0  L 0 3.5  \" style=\"stroke: #000000; stroke-width: 0.8\"/>\n      </defs>\n      <g>\n       <use xlink:href=\"#m4fd49f0ac2\" x=\"16.9625\" y=\"59.8755\" style=\"stroke: #000000; stroke-width: 0.8\"/>\n      </g>\n     </g>\n    </g>\n    <g id=\"xtick_2\">\n     <g id=\"line2d_3\">\n      <path d=\"M 72.7625 59.8755  L 72.7625 32.1555  \" clip-path=\"url(#p13a69d839c)\" style=\"fill: none; stroke: #b0b0b0; stroke-width: 0.8; stroke-linecap: square\"/>\n     </g>\n     <g id=\"line2d_4\">\n      <g>\n       <use xlink:href=\"#m4fd49f0ac2\" x=\"72.7625\" y=\"59.8755\" style=\"stroke: #000000; stroke-width: 0.8\"/>\n      </g>\n     </g>\n    </g>\n    <g id=\"xtick_3\">\n     <g id=\"line2d_5\">\n      <path d=\"M 128.5625 59.8755  L 128.5625 32.1555  \" clip-path=\"url(#p13a69d839c)\" style=\"fill: none; stroke: #b0b0b0; stroke-width: 0.8; stroke-linecap: square\"/>\n     </g>\n     <g id=\"line2d_6\">\n      <g>\n       <use xlink:href=\"#m4fd49f0ac2\" x=\"128.5625\" y=\"59.8755\" style=\"stroke: #000000; stroke-width: 0.8\"/>\n      </g>\n     </g>\n    </g>\n   </g>\n   <g id=\"matplotlib.axis_2\">\n    <g id=\"ytick_1\">\n     <g id=\"line2d_7\">\n      <defs>\n       <path id=\"mbdfd1fe8b4\" d=\"M 0 0  L -3.5 0  \" style=\"stroke: #000000; stroke-width: 0.8\"/>\n      </defs>\n      <g>\n       <use xlink:href=\"#mbdfd1fe8b4\" x=\"16.9625\" y=\"53.7155\" style=\"stroke: #000000; stroke-width: 0.8\"/>\n      </g>\n     </g>\n     <g id=\"text_1\">\n      <!-- 1 -->\n      <g transform=\"translate(3.6 57.514719) scale(0.1 -0.1)\">\n       <defs>\n        <path id=\"DejaVuSans-31\" d=\"M 794 531  L 1825 531  L 1825 4091  L 703 3866  L 703 4441  L 1819 4666  L 2450 4666  L 2450 531  L 3481 531  L 3481 0  L 794 0  L 794 531  z \" transform=\"scale(0.015625)\"/>\n       </defs>\n       <use xlink:href=\"#DejaVuSans-31\"/>\n      </g>\n     </g>\n    </g>\n    <g id=\"ytick_2\">\n     <g id=\"line2d_8\">\n      <g>\n       <use xlink:href=\"#mbdfd1fe8b4\" x=\"16.9625\" y=\"38.3155\" style=\"stroke: #000000; stroke-width: 0.8\"/>\n      </g>\n     </g>\n     <g id=\"text_2\">\n      <!-- 0 -->\n      <g transform=\"translate(3.6 42.114719) scale(0.1 -0.1)\">\n       <defs>\n        <path id=\"DejaVuSans-30\" d=\"M 2034 4250  Q 1547 4250 1301 3770  Q 1056 3291 1056 2328  Q 1056 1369 1301 889  Q 1547 409 2034 409  Q 2525 409 2770 889  Q 3016 1369 3016 2328  Q 3016 3291 2770 3770  Q 2525 4250 2034 4250  z M 2034 4750  Q 2819 4750 3233 4129  Q 3647 3509 3647 2328  Q 3647 1150 3233 529  Q 2819 -91 2034 -91  Q 1250 -91 836 529  Q 422 1150 422 2328  Q 422 3509 836 4129  Q 1250 4750 2034 4750  z \" transform=\"scale(0.015625)\"/>\n       </defs>\n       <use xlink:href=\"#DejaVuSans-30\"/>\n      </g>\n     </g>\n    </g>\n   </g>\n   <g id=\"patch_5\">\n    <path d=\"M 16.9625 59.8755  L 16.9625 32.1555  \" style=\"fill: none; stroke: #000000; stroke-width: 0.8; stroke-linejoin: miter; stroke-linecap: square\"/>\n   </g>\n   <g id=\"patch_6\">\n    <path d=\"M 128.5625 59.8755  L 128.5625 32.1555  \" style=\"fill: none; stroke: #000000; stroke-width: 0.8; stroke-linejoin: miter; stroke-linecap: square\"/>\n   </g>\n   <g id=\"patch_7\">\n    <path d=\"M 16.9625 59.8755  L 128.5625 59.8755  \" style=\"fill: none; stroke: #000000; stroke-width: 0.8; stroke-linejoin: miter; stroke-linecap: square\"/>\n   </g>\n   <g id=\"patch_8\">\n    <path d=\"M 16.9625 32.1555  L 128.5625 32.1555  \" style=\"fill: none; stroke: #000000; stroke-width: 0.8; stroke-linejoin: miter; stroke-linecap: square\"/>\n   </g>\n   <g id=\"text_3\">\n    <!-- 94.36% -->\n    <g transform=\"translate(90.432812 57.795812) scale(0.1 -0.1)\">\n     <defs>\n      <path id=\"DejaVuSans-39\" d=\"M 703 97  L 703 672  Q 941 559 1184 500  Q 1428 441 1663 441  Q 2288 441 2617 861  Q 2947 1281 2994 2138  Q 2813 1869 2534 1725  Q 2256 1581 1919 1581  Q 1219 1581 811 2004  Q 403 2428 403 3163  Q 403 3881 828 4315  Q 1253 4750 1959 4750  Q 2769 4750 3195 4129  Q 3622 3509 3622 2328  Q 3622 1225 3098 567  Q 2575 -91 1691 -91  Q 1453 -91 1209 -44  Q 966 3 703 97  z M 1959 2075  Q 2384 2075 2632 2365  Q 2881 2656 2881 3163  Q 2881 3666 2632 3958  Q 2384 4250 1959 4250  Q 1534 4250 1286 3958  Q 1038 3666 1038 3163  Q 1038 2656 1286 2365  Q 1534 2075 1959 2075  z \" transform=\"scale(0.015625)\"/>\n      <path id=\"DejaVuSans-34\" d=\"M 2419 4116  L 825 1625  L 2419 1625  L 2419 4116  z M 2253 4666  L 3047 4666  L 3047 1625  L 3713 1625  L 3713 1100  L 3047 1100  L 3047 0  L 2419 0  L 2419 1100  L 313 1100  L 313 1709  L 2253 4666  z \" transform=\"scale(0.015625)\"/>\n      <path id=\"DejaVuSans-2e\" d=\"M 684 794  L 1344 794  L 1344 0  L 684 0  L 684 794  z \" transform=\"scale(0.015625)\"/>\n      <path id=\"DejaVuSans-33\" d=\"M 2597 2516  Q 3050 2419 3304 2112  Q 3559 1806 3559 1356  Q 3559 666 3084 287  Q 2609 -91 1734 -91  Q 1441 -91 1130 -33  Q 819 25 488 141  L 488 750  Q 750 597 1062 519  Q 1375 441 1716 441  Q 2309 441 2620 675  Q 2931 909 2931 1356  Q 2931 1769 2642 2001  Q 2353 2234 1838 2234  L 1294 2234  L 1294 2753  L 1863 2753  Q 2328 2753 2575 2939  Q 2822 3125 2822 3475  Q 2822 3834 2567 4026  Q 2313 4219 1838 4219  Q 1578 4219 1281 4162  Q 984 4106 628 3988  L 628 4550  Q 988 4650 1302 4700  Q 1616 4750 1894 4750  Q 2613 4750 3031 4423  Q 3450 4097 3450 3541  Q 3450 3153 3228 2886  Q 3006 2619 2597 2516  z \" transform=\"scale(0.015625)\"/>\n      <path id=\"DejaVuSans-36\" d=\"M 2113 2584  Q 1688 2584 1439 2293  Q 1191 2003 1191 1497  Q 1191 994 1439 701  Q 1688 409 2113 409  Q 2538 409 2786 701  Q 3034 994 3034 1497  Q 3034 2003 2786 2293  Q 2538 2584 2113 2584  z M 3366 4563  L 3366 3988  Q 3128 4100 2886 4159  Q 2644 4219 2406 4219  Q 1781 4219 1451 3797  Q 1122 3375 1075 2522  Q 1259 2794 1537 2939  Q 1816 3084 2150 3084  Q 2853 3084 3261 2657  Q 3669 2231 3669 1497  Q 3669 778 3244 343  Q 2819 -91 2113 -91  Q 1303 -91 875 529  Q 447 1150 447 2328  Q 447 3434 972 4092  Q 1497 4750 2381 4750  Q 2619 4750 2861 4703  Q 3103 4656 3366 4563  z \" transform=\"scale(0.015625)\"/>\n      <path id=\"DejaVuSans-25\" d=\"M 4653 2053  Q 4381 2053 4226 1822  Q 4072 1591 4072 1178  Q 4072 772 4226 539  Q 4381 306 4653 306  Q 4919 306 5073 539  Q 5228 772 5228 1178  Q 5228 1588 5073 1820  Q 4919 2053 4653 2053  z M 4653 2450  Q 5147 2450 5437 2106  Q 5728 1763 5728 1178  Q 5728 594 5436 251  Q 5144 -91 4653 -91  Q 4153 -91 3862 251  Q 3572 594 3572 1178  Q 3572 1766 3864 2108  Q 4156 2450 4653 2450  z M 1428 4353  Q 1159 4353 1004 4120  Q 850 3888 850 3481  Q 850 3069 1003 2837  Q 1156 2606 1428 2606  Q 1700 2606 1854 2837  Q 2009 3069 2009 3481  Q 2009 3884 1853 4118  Q 1697 4353 1428 4353  z M 4250 4750  L 4750 4750  L 1831 -91  L 1331 -91  L 4250 4750  z M 1428 4750  Q 1922 4750 2215 4408  Q 2509 4066 2509 3481  Q 2509 2891 2217 2550  Q 1925 2209 1428 2209  Q 931 2209 642 2551  Q 353 2894 353 3481  Q 353 4063 643 4406  Q 934 4750 1428 4750  z \" transform=\"scale(0.015625)\"/>\n     </defs>\n     <use xlink:href=\"#DejaVuSans-39\"/>\n     <use xlink:href=\"#DejaVuSans-34\" x=\"63.623047\"/>\n     <use xlink:href=\"#DejaVuSans-2e\" x=\"127.246094\"/>\n     <use xlink:href=\"#DejaVuSans-33\" x=\"159.033203\"/>\n     <use xlink:href=\"#DejaVuSans-36\" x=\"222.65625\"/>\n     <use xlink:href=\"#DejaVuSans-25\" x=\"286.279297\"/>\n    </g>\n   </g>\n   <g id=\"text_4\">\n    <!-- 5.64% -->\n    <g transform=\"translate(96.795312 42.395812) scale(0.1 -0.1)\">\n     <defs>\n      <path id=\"DejaVuSans-35\" d=\"M 691 4666  L 3169 4666  L 3169 4134  L 1269 4134  L 1269 2991  Q 1406 3038 1543 3061  Q 1681 3084 1819 3084  Q 2600 3084 3056 2656  Q 3513 2228 3513 1497  Q 3513 744 3044 326  Q 2575 -91 1722 -91  Q 1428 -91 1123 -41  Q 819 9 494 109  L 494 744  Q 775 591 1075 516  Q 1375 441 1709 441  Q 2250 441 2565 725  Q 2881 1009 2881 1497  Q 2881 1984 2565 2268  Q 2250 2553 1709 2553  Q 1456 2553 1204 2497  Q 953 2441 691 2322  L 691 4666  z \" transform=\"scale(0.015625)\"/>\n     </defs>\n     <use xlink:href=\"#DejaVuSans-35\"/>\n     <use xlink:href=\"#DejaVuSans-2e\" x=\"63.623047\"/>\n     <use xlink:href=\"#DejaVuSans-36\" x=\"95.410156\"/>\n     <use xlink:href=\"#DejaVuSans-34\" x=\"159.033203\"/>\n     <use xlink:href=\"#DejaVuSans-25\" x=\"222.65625\"/>\n    </g>\n   </g>\n   <g id=\"text_5\">\n    <!-- w -->\n    <g transform=\"translate(67.855625 12.718125) scale(0.12 -0.12)\">\n     <defs>\n      <path id=\"DejaVuSans-77\" d=\"M 269 3500  L 844 3500  L 1563 769  L 2278 3500  L 2956 3500  L 3675 769  L 4391 3500  L 4966 3500  L 4050 0  L 3372 0  L 2619 2869  L 1863 0  L 1184 0  L 269 3500  z \" transform=\"scale(0.015625)\"/>\n     </defs>\n     <use xlink:href=\"#DejaVuSans-77\"/>\n    </g>\n    <!-- $\\mu=0.94$; $\\sigma=0.23$ -->\n    <g transform=\"translate(20.0825 26.1555) scale(0.12 -0.12)\">\n     <defs>\n      <path id=\"DejaVuSans-Oblique-3bc\" d=\"M -84 -1331  L 856 3500  L 1434 3500  L 1009 1322  Q 997 1256 987 1175  Q 978 1094 978 1013  Q 978 722 1161 565  Q 1344 409 1684 409  Q 2147 409 2431 671  Q 2716 934 2816 1459  L 3213 3500  L 3788 3500  L 3266 809  Q 3253 750 3248 706  Q 3244 663 3244 628  Q 3244 531 3283 486  Q 3322 441 3406 441  Q 3438 441 3492 456  Q 3547 472 3647 513  L 3559 50  Q 3422 -19 3297 -55  Q 3172 -91 3053 -91  Q 2847 -91 2730 40  Q 2613 172 2613 403  Q 2438 153 2195 31  Q 1953 -91 1625 -91  Q 1334 -91 1117 43  Q 900 178 831 397  L 494 -1331  L -84 -1331  z \" transform=\"scale(0.015625)\"/>\n      <path id=\"DejaVuSans-3d\" d=\"M 678 2906  L 4684 2906  L 4684 2381  L 678 2381  L 678 2906  z M 678 1631  L 4684 1631  L 4684 1100  L 678 1100  L 678 1631  z \" transform=\"scale(0.015625)\"/>\n      <path id=\"DejaVuSans-3b\" d=\"M 750 3309  L 1409 3309  L 1409 2516  L 750 2516  L 750 3309  z M 750 794  L 1409 794  L 1409 256  L 897 -744  L 494 -744  L 750 256  L 750 794  z \" transform=\"scale(0.015625)\"/>\n      <path id=\"DejaVuSans-20\" transform=\"scale(0.015625)\"/>\n      <path id=\"DejaVuSans-Oblique-3c3\" d=\"M 2219 3044  Q 1744 3044 1422 2700  Q 1081 2341 969 1747  Q 844 1119 1044 756  Q 1241 397 1706 397  Q 2166 397 2503 759  Q 2844 1122 2966 1747  Q 3075 2319 2881 2700  Q 2700 3044 2219 3044  z M 2309 3503  L 4219 3500  L 4106 2925  L 3463 2925  Q 3706 2438 3575 1747  Q 3406 888 2884 400  Q 2359 -91 1609 -91  Q 856 -91 525 400  Q 194 888 363 1747  Q 528 2609 1050 3097  Q 1484 3503 2309 3503  z \" transform=\"scale(0.015625)\"/>\n      <path id=\"DejaVuSans-32\" d=\"M 1228 531  L 3431 531  L 3431 0  L 469 0  L 469 531  Q 828 903 1448 1529  Q 2069 2156 2228 2338  Q 2531 2678 2651 2914  Q 2772 3150 2772 3378  Q 2772 3750 2511 3984  Q 2250 4219 1831 4219  Q 1534 4219 1204 4116  Q 875 4013 500 3803  L 500 4441  Q 881 4594 1212 4672  Q 1544 4750 1819 4750  Q 2544 4750 2975 4387  Q 3406 4025 3406 3419  Q 3406 3131 3298 2873  Q 3191 2616 2906 2266  Q 2828 2175 2409 1742  Q 1991 1309 1228 531  z \" transform=\"scale(0.015625)\"/>\n     </defs>\n     <use xlink:href=\"#DejaVuSans-Oblique-3bc\" transform=\"translate(0 0.78125)\"/>\n     <use xlink:href=\"#DejaVuSans-3d\" transform=\"translate(83.105469 0.78125)\"/>\n     <use xlink:href=\"#DejaVuSans-30\" transform=\"translate(186.376953 0.78125)\"/>\n     <use xlink:href=\"#DejaVuSans-2e\" transform=\"translate(250 0.78125)\"/>\n     <use xlink:href=\"#DejaVuSans-39\" transform=\"translate(281.787109 0.78125)\"/>\n     <use xlink:href=\"#DejaVuSans-34\" transform=\"translate(345.410156 0.78125)\"/>\n     <use xlink:href=\"#DejaVuSans-3b\" transform=\"translate(409.033203 0.78125)\"/>\n     <use xlink:href=\"#DejaVuSans-20\" transform=\"translate(442.724609 0.78125)\"/>\n     <use xlink:href=\"#DejaVuSans-Oblique-3c3\" transform=\"translate(474.511719 0.78125)\"/>\n     <use xlink:href=\"#DejaVuSans-3d\" transform=\"translate(557.373047 0.78125)\"/>\n     <use xlink:href=\"#DejaVuSans-30\" transform=\"translate(660.644531 0.78125)\"/>\n     <use xlink:href=\"#DejaVuSans-2e\" transform=\"translate(724.267578 0.78125)\"/>\n     <use xlink:href=\"#DejaVuSans-32\" transform=\"translate(750.554688 0.78125)\"/>\n     <use xlink:href=\"#DejaVuSans-33\" transform=\"translate(814.177734 0.78125)\"/>\n    </g>\n   </g>\n  </g>\n </g>\n <defs>\n  <clipPath id=\"p13a69d839c\">\n   <rect x=\"16.9625\" y=\"32.1555\" width=\"111.6\" height=\"27.72\"/>\n  </clipPath>\n </defs>\n</svg>\n\n</g>\n<!-- s&#45;&gt;w -->\n<g id=\"edge4\" class=\"edge\">\n<title>s-&gt;w</title>\n<g id=\"a_edge4\"><a xlink:title=\"1 → 3\">\n<path fill=\"none\" stroke=\"#4a4a4a\" d=\"M64.48,-115.62C71.04,-106.06 79.04,-94.41 86.45,-83.59\"/>\n<polygon fill=\"#4a4a4a\" stroke=\"#4a4a4a\" points=\"89.47,-85.38 92.24,-75.15 83.7,-81.42 89.47,-85.38\"/>\n</a>\n</g>\n</g>\n<!-- r&#45;&gt;w -->\n<g id=\"edge3\" class=\"edge\">\n<title>r-&gt;w</title>\n<g id=\"a_edge3\"><a xlink:title=\"2 → 3\">\n<path fill=\"none\" stroke=\"#4a4a4a\" d=\"M151.82,-110.66C145.9,-102.18 139.21,-92.58 132.92,-83.57\"/>\n<polygon fill=\"#4a4a4a\" stroke=\"#4a4a4a\" points=\"135.64,-81.36 127.05,-75.16 129.9,-85.36 135.64,-81.36\"/>\n</a>\n</g>\n</g>\n</g>\n</svg>"
          },
          "metadata": {}
        }
      ],
      "source": [
        "gnb.showInference(bn,evs={'s':1,'c':[0.3,0.9]})"
      ]
    },
    {
      "cell_type": "code",
      "execution_count": null,
      "metadata": {
        "id": "JNebFVWwiv1T",
        "outputId": "b9ce6211-f05a-4fa3-f07a-075ee8ced5b0",
        "colab": {
          "base_uri": "https://localhost:8080/",
          "height": 353
        }
      },
      "outputs": [
        {
          "output_type": "display_data",
          "data": {
            "text/plain": [
              "<IPython.core.display.SVG object>"
            ],
            "image/svg+xml": "<svg xmlns=\"http://www.w3.org/2000/svg\" xmlns:xlink=\"http://www.w3.org/1999/xlink\" width=\"228pt\" height=\"249pt\" viewBox=\"0.00 0.00 228.00 249.00\">\n<g id=\"graph0\" class=\"graph\" transform=\"scale(1 1) rotate(0) translate(4 245)\">\n<title>structs</title>\n<text text-anchor=\"middle\" x=\"110\" y=\"-7.8\" font-family=\"Times,serif\" font-size=\"14.00\" fill=\"#4a4a4a\">Inference in   0.53ms</text>\n<!-- c -->\n<g id=\"node1\" class=\"node\">\n<title>c</title>\n<polygon fill=\"sandybrown\" stroke=\"#000000\" points=\"160,-241 59,-241 59,-199 160,-199 160,-241\"/>\n<svg viewBox=\"0 0 132.1625 53.538125\" width=\"101px\" height=\"42px\" preserveAspectRatio=\"xMinYMin meet\" x=\"59\" y=\"-241\"> <metadata>\n  <rdf:RDF xmlns:dc=\"http://purl.org/dc/elements/1.1/\" xmlns:cc=\"http://creativecommons.org/ns#\" xmlns:rdf=\"http://www.w3.org/1999/02/22-rdf-syntax-ns#\">\n   <cc:Work>\n    <dc:type rdf:resource=\"http://purl.org/dc/dcmitype/StillImage\"/>\n    <dc:date>2024-01-24T19:31:35.686999</dc:date>\n    <dc:format>image/svg+xml</dc:format>\n    <dc:creator>\n     <cc:Agent>\n      <dc:title>Matplotlib v3.7.1, https://matplotlib.org/</dc:title>\n     </cc:Agent>\n    </dc:creator>\n   </cc:Work>\n  </rdf:RDF>\n </metadata>\n <defs>\n  <style type=\"text/css\">*{stroke-linejoin: round; stroke-linecap: butt}</style>\n </defs>\n <g id=\"figure_1\">\n  <g id=\"patch_1\">\n   <path d=\"M 0 53.538125  L 132.1625 53.538125  L 132.1625 0  L 0 0  z \" style=\"fill: #f4a460\"/>\n  </g>\n  <g id=\"axes_1\">\n   <g id=\"patch_2\">\n    <path d=\"M 16.9625 46.438125  L 128.5625 46.438125  L 128.5625 18.718125  L 16.9625 18.718125  z \" style=\"fill: #ffffff\"/>\n   </g>\n   <g id=\"patch_3\">\n    <path d=\"M 16.9625 46.438125  L 100.6625 46.438125  L 100.6625 34.118125  L 16.9625 34.118125  z \" clip-path=\"url(#p15d2f2f45a)\" style=\"fill: #8fbc8f\"/>\n   </g>\n   <g id=\"patch_4\">\n    <path d=\"M 16.9625 31.038125  L 44.8625 31.038125  L 44.8625 18.718125  L 16.9625 18.718125  z \" clip-path=\"url(#p15d2f2f45a)\" style=\"fill: #8fbc8f\"/>\n   </g>\n   <g id=\"matplotlib.axis_1\">\n    <g id=\"xtick_1\">\n     <g id=\"line2d_1\">\n      <path d=\"M 16.9625 46.438125  L 16.9625 18.718125  \" clip-path=\"url(#p15d2f2f45a)\" style=\"fill: none; stroke: #b0b0b0; stroke-width: 0.8; stroke-linecap: square\"/>\n     </g>\n     <g id=\"line2d_2\">\n      <defs>\n       <path id=\"m8713ecaed3\" d=\"M 0 0  L 0 3.5  \" style=\"stroke: #000000; stroke-width: 0.8\"/>\n      </defs>\n      <g>\n       <use xlink:href=\"#m8713ecaed3\" x=\"16.9625\" y=\"46.438125\" style=\"stroke: #000000; stroke-width: 0.8\"/>\n      </g>\n     </g>\n    </g>\n    <g id=\"xtick_2\">\n     <g id=\"line2d_3\">\n      <path d=\"M 72.7625 46.438125  L 72.7625 18.718125  \" clip-path=\"url(#p15d2f2f45a)\" style=\"fill: none; stroke: #b0b0b0; stroke-width: 0.8; stroke-linecap: square\"/>\n     </g>\n     <g id=\"line2d_4\">\n      <g>\n       <use xlink:href=\"#m8713ecaed3\" x=\"72.7625\" y=\"46.438125\" style=\"stroke: #000000; stroke-width: 0.8\"/>\n      </g>\n     </g>\n    </g>\n    <g id=\"xtick_3\">\n     <g id=\"line2d_5\">\n      <path d=\"M 128.5625 46.438125  L 128.5625 18.718125  \" clip-path=\"url(#p15d2f2f45a)\" style=\"fill: none; stroke: #b0b0b0; stroke-width: 0.8; stroke-linecap: square\"/>\n     </g>\n     <g id=\"line2d_6\">\n      <g>\n       <use xlink:href=\"#m8713ecaed3\" x=\"128.5625\" y=\"46.438125\" style=\"stroke: #000000; stroke-width: 0.8\"/>\n      </g>\n     </g>\n    </g>\n   </g>\n   <g id=\"matplotlib.axis_2\">\n    <g id=\"ytick_1\">\n     <g id=\"line2d_7\">\n      <defs>\n       <path id=\"m9ddbf03b84\" d=\"M 0 0  L -3.5 0  \" style=\"stroke: #000000; stroke-width: 0.8\"/>\n      </defs>\n      <g>\n       <use xlink:href=\"#m9ddbf03b84\" x=\"16.9625\" y=\"40.278125\" style=\"stroke: #000000; stroke-width: 0.8\"/>\n      </g>\n     </g>\n     <g id=\"text_1\">\n      <!-- 1 -->\n      <g transform=\"translate(3.6 44.077344) scale(0.1 -0.1)\">\n       <defs>\n        <path id=\"DejaVuSans-31\" d=\"M 794 531  L 1825 531  L 1825 4091  L 703 3866  L 703 4441  L 1819 4666  L 2450 4666  L 2450 531  L 3481 531  L 3481 0  L 794 0  L 794 531  z \" transform=\"scale(0.015625)\"/>\n       </defs>\n       <use xlink:href=\"#DejaVuSans-31\"/>\n      </g>\n     </g>\n    </g>\n    <g id=\"ytick_2\">\n     <g id=\"line2d_8\">\n      <g>\n       <use xlink:href=\"#m9ddbf03b84\" x=\"16.9625\" y=\"24.878125\" style=\"stroke: #000000; stroke-width: 0.8\"/>\n      </g>\n     </g>\n     <g id=\"text_2\">\n      <!-- 0 -->\n      <g transform=\"translate(3.6 28.677344) scale(0.1 -0.1)\">\n       <defs>\n        <path id=\"DejaVuSans-30\" d=\"M 2034 4250  Q 1547 4250 1301 3770  Q 1056 3291 1056 2328  Q 1056 1369 1301 889  Q 1547 409 2034 409  Q 2525 409 2770 889  Q 3016 1369 3016 2328  Q 3016 3291 2770 3770  Q 2525 4250 2034 4250  z M 2034 4750  Q 2819 4750 3233 4129  Q 3647 3509 3647 2328  Q 3647 1150 3233 529  Q 2819 -91 2034 -91  Q 1250 -91 836 529  Q 422 1150 422 2328  Q 422 3509 836 4129  Q 1250 4750 2034 4750  z \" transform=\"scale(0.015625)\"/>\n       </defs>\n       <use xlink:href=\"#DejaVuSans-30\"/>\n      </g>\n     </g>\n    </g>\n   </g>\n   <g id=\"patch_5\">\n    <path d=\"M 16.9625 46.438125  L 16.9625 18.718125  \" style=\"fill: none; stroke: #000000; stroke-width: 0.8; stroke-linejoin: miter; stroke-linecap: square\"/>\n   </g>\n   <g id=\"patch_6\">\n    <path d=\"M 128.5625 46.438125  L 128.5625 18.718125  \" style=\"fill: none; stroke: #000000; stroke-width: 0.8; stroke-linejoin: miter; stroke-linecap: square\"/>\n   </g>\n   <g id=\"patch_7\">\n    <path d=\"M 16.9625 46.438125  L 128.5625 46.438125  \" style=\"fill: none; stroke: #000000; stroke-width: 0.8; stroke-linejoin: miter; stroke-linecap: square\"/>\n   </g>\n   <g id=\"patch_8\">\n    <path d=\"M 16.9625 18.718125  L 128.5625 18.718125  \" style=\"fill: none; stroke: #000000; stroke-width: 0.8; stroke-linejoin: miter; stroke-linecap: square\"/>\n   </g>\n   <g id=\"text_3\">\n    <!-- 75.00% -->\n    <g transform=\"translate(90.432812 44.358438) scale(0.1 -0.1)\">\n     <defs>\n      <path id=\"DejaVuSans-37\" d=\"M 525 4666  L 3525 4666  L 3525 4397  L 1831 0  L 1172 0  L 2766 4134  L 525 4134  L 525 4666  z \" transform=\"scale(0.015625)\"/>\n      <path id=\"DejaVuSans-35\" d=\"M 691 4666  L 3169 4666  L 3169 4134  L 1269 4134  L 1269 2991  Q 1406 3038 1543 3061  Q 1681 3084 1819 3084  Q 2600 3084 3056 2656  Q 3513 2228 3513 1497  Q 3513 744 3044 326  Q 2575 -91 1722 -91  Q 1428 -91 1123 -41  Q 819 9 494 109  L 494 744  Q 775 591 1075 516  Q 1375 441 1709 441  Q 2250 441 2565 725  Q 2881 1009 2881 1497  Q 2881 1984 2565 2268  Q 2250 2553 1709 2553  Q 1456 2553 1204 2497  Q 953 2441 691 2322  L 691 4666  z \" transform=\"scale(0.015625)\"/>\n      <path id=\"DejaVuSans-2e\" d=\"M 684 794  L 1344 794  L 1344 0  L 684 0  L 684 794  z \" transform=\"scale(0.015625)\"/>\n      <path id=\"DejaVuSans-25\" d=\"M 4653 2053  Q 4381 2053 4226 1822  Q 4072 1591 4072 1178  Q 4072 772 4226 539  Q 4381 306 4653 306  Q 4919 306 5073 539  Q 5228 772 5228 1178  Q 5228 1588 5073 1820  Q 4919 2053 4653 2053  z M 4653 2450  Q 5147 2450 5437 2106  Q 5728 1763 5728 1178  Q 5728 594 5436 251  Q 5144 -91 4653 -91  Q 4153 -91 3862 251  Q 3572 594 3572 1178  Q 3572 1766 3864 2108  Q 4156 2450 4653 2450  z M 1428 4353  Q 1159 4353 1004 4120  Q 850 3888 850 3481  Q 850 3069 1003 2837  Q 1156 2606 1428 2606  Q 1700 2606 1854 2837  Q 2009 3069 2009 3481  Q 2009 3884 1853 4118  Q 1697 4353 1428 4353  z M 4250 4750  L 4750 4750  L 1831 -91  L 1331 -91  L 4250 4750  z M 1428 4750  Q 1922 4750 2215 4408  Q 2509 4066 2509 3481  Q 2509 2891 2217 2550  Q 1925 2209 1428 2209  Q 931 2209 642 2551  Q 353 2894 353 3481  Q 353 4063 643 4406  Q 934 4750 1428 4750  z \" transform=\"scale(0.015625)\"/>\n     </defs>\n     <use xlink:href=\"#DejaVuSans-37\"/>\n     <use xlink:href=\"#DejaVuSans-35\" x=\"63.623047\"/>\n     <use xlink:href=\"#DejaVuSans-2e\" x=\"127.246094\"/>\n     <use xlink:href=\"#DejaVuSans-30\" x=\"159.033203\"/>\n     <use xlink:href=\"#DejaVuSans-30\" x=\"222.65625\"/>\n     <use xlink:href=\"#DejaVuSans-25\" x=\"286.279297\"/>\n    </g>\n   </g>\n   <g id=\"text_4\">\n    <!-- 25.00% -->\n    <g transform=\"translate(90.432812 28.958438) scale(0.1 -0.1)\">\n     <defs>\n      <path id=\"DejaVuSans-32\" d=\"M 1228 531  L 3431 531  L 3431 0  L 469 0  L 469 531  Q 828 903 1448 1529  Q 2069 2156 2228 2338  Q 2531 2678 2651 2914  Q 2772 3150 2772 3378  Q 2772 3750 2511 3984  Q 2250 4219 1831 4219  Q 1534 4219 1204 4116  Q 875 4013 500 3803  L 500 4441  Q 881 4594 1212 4672  Q 1544 4750 1819 4750  Q 2544 4750 2975 4387  Q 3406 4025 3406 3419  Q 3406 3131 3298 2873  Q 3191 2616 2906 2266  Q 2828 2175 2409 1742  Q 1991 1309 1228 531  z \" transform=\"scale(0.015625)\"/>\n     </defs>\n     <use xlink:href=\"#DejaVuSans-32\"/>\n     <use xlink:href=\"#DejaVuSans-35\" x=\"63.623047\"/>\n     <use xlink:href=\"#DejaVuSans-2e\" x=\"127.246094\"/>\n     <use xlink:href=\"#DejaVuSans-30\" x=\"159.033203\"/>\n     <use xlink:href=\"#DejaVuSans-30\" x=\"222.65625\"/>\n     <use xlink:href=\"#DejaVuSans-25\" x=\"286.279297\"/>\n    </g>\n   </g>\n   <g id=\"text_5\">\n    <!-- c -->\n    <g transform=\"translate(69.463437 12.718125) scale(0.12 -0.12)\">\n     <defs>\n      <path id=\"DejaVuSans-63\" d=\"M 3122 3366  L 3122 2828  Q 2878 2963 2633 3030  Q 2388 3097 2138 3097  Q 1578 3097 1268 2742  Q 959 2388 959 1747  Q 959 1106 1268 751  Q 1578 397 2138 397  Q 2388 397 2633 464  Q 2878 531 3122 666  L 3122 134  Q 2881 22 2623 -34  Q 2366 -91 2075 -91  Q 1284 -91 818 406  Q 353 903 353 1747  Q 353 2603 823 3093  Q 1294 3584 2113 3584  Q 2378 3584 2631 3529  Q 2884 3475 3122 3366  z \" transform=\"scale(0.015625)\"/>\n     </defs>\n     <use xlink:href=\"#DejaVuSans-63\"/>\n    </g>\n   </g>\n  </g>\n </g>\n <defs>\n  <clipPath id=\"p15d2f2f45a\">\n   <rect x=\"16.9625\" y=\"18.718125\" width=\"111.6\" height=\"27.72\"/>\n  </clipPath>\n </defs>\n</svg>\n\n</g>\n<!-- s -->\n<g id=\"node2\" class=\"node\">\n<title>s</title>\n<polygon fill=\"#e0e0e0\" stroke=\"#000000\" points=\"101,-163 0,-163 0,-111 101,-111 101,-163\"/>\n<svg viewBox=\"0 0 132.1625 66.9755\" width=\"101px\" height=\"52px\" preserveAspectRatio=\"xMinYMin meet\" x=\"0\" y=\"-163\"> <metadata>\n  <rdf:RDF xmlns:dc=\"http://purl.org/dc/elements/1.1/\" xmlns:cc=\"http://creativecommons.org/ns#\" xmlns:rdf=\"http://www.w3.org/1999/02/22-rdf-syntax-ns#\">\n   <cc:Work>\n    <dc:type rdf:resource=\"http://purl.org/dc/dcmitype/StillImage\"/>\n    <dc:date>2024-01-24T19:31:35.968018</dc:date>\n    <dc:format>image/svg+xml</dc:format>\n    <dc:creator>\n     <cc:Agent>\n      <dc:title>Matplotlib v3.7.1, https://matplotlib.org/</dc:title>\n     </cc:Agent>\n    </dc:creator>\n   </cc:Work>\n  </rdf:RDF>\n </metadata>\n <defs>\n  <style type=\"text/css\">*{stroke-linejoin: round; stroke-linecap: butt}</style>\n </defs>\n <g id=\"figure_1\">\n  <g id=\"patch_1\">\n   <path d=\"M 0 66.9755  L 132.1625 66.9755  L 132.1625 0  L 0 0  z \" style=\"fill: #e0e0e0\"/>\n  </g>\n  <g id=\"axes_1\">\n   <g id=\"patch_2\">\n    <path d=\"M 16.9625 59.8755  L 128.5625 59.8755  L 128.5625 32.1555  L 16.9625 32.1555  z \" style=\"fill: #ffffff\"/>\n   </g>\n   <g id=\"patch_3\">\n    <path d=\"M 16.9625 59.8755  L 39.2825 59.8755  L 39.2825 47.5555  L 16.9625 47.5555  z \" clip-path=\"url(#p8b1db9c8b1)\" style=\"fill: #8fbc8f\"/>\n   </g>\n   <g id=\"patch_4\">\n    <path d=\"M 16.9625 44.4755  L 106.2425 44.4755  L 106.2425 32.1555  L 16.9625 32.1555  z \" clip-path=\"url(#p8b1db9c8b1)\" style=\"fill: #8fbc8f\"/>\n   </g>\n   <g id=\"matplotlib.axis_1\">\n    <g id=\"xtick_1\">\n     <g id=\"line2d_1\">\n      <path d=\"M 16.9625 59.8755  L 16.9625 32.1555  \" clip-path=\"url(#p8b1db9c8b1)\" style=\"fill: none; stroke: #b0b0b0; stroke-width: 0.8; stroke-linecap: square\"/>\n     </g>\n     <g id=\"line2d_2\">\n      <defs>\n       <path id=\"m815fced272\" d=\"M 0 0  L 0 3.5  \" style=\"stroke: #000000; stroke-width: 0.8\"/>\n      </defs>\n      <g>\n       <use xlink:href=\"#m815fced272\" x=\"16.9625\" y=\"59.8755\" style=\"stroke: #000000; stroke-width: 0.8\"/>\n      </g>\n     </g>\n    </g>\n    <g id=\"xtick_2\">\n     <g id=\"line2d_3\">\n      <path d=\"M 72.7625 59.8755  L 72.7625 32.1555  \" clip-path=\"url(#p8b1db9c8b1)\" style=\"fill: none; stroke: #b0b0b0; stroke-width: 0.8; stroke-linecap: square\"/>\n     </g>\n     <g id=\"line2d_4\">\n      <g>\n       <use xlink:href=\"#m815fced272\" x=\"72.7625\" y=\"59.8755\" style=\"stroke: #000000; stroke-width: 0.8\"/>\n      </g>\n     </g>\n    </g>\n    <g id=\"xtick_3\">\n     <g id=\"line2d_5\">\n      <path d=\"M 128.5625 59.8755  L 128.5625 32.1555  \" clip-path=\"url(#p8b1db9c8b1)\" style=\"fill: none; stroke: #b0b0b0; stroke-width: 0.8; stroke-linecap: square\"/>\n     </g>\n     <g id=\"line2d_6\">\n      <g>\n       <use xlink:href=\"#m815fced272\" x=\"128.5625\" y=\"59.8755\" style=\"stroke: #000000; stroke-width: 0.8\"/>\n      </g>\n     </g>\n    </g>\n   </g>\n   <g id=\"matplotlib.axis_2\">\n    <g id=\"ytick_1\">\n     <g id=\"line2d_7\">\n      <defs>\n       <path id=\"m8aae0c21c4\" d=\"M 0 0  L -3.5 0  \" style=\"stroke: #000000; stroke-width: 0.8\"/>\n      </defs>\n      <g>\n       <use xlink:href=\"#m8aae0c21c4\" x=\"16.9625\" y=\"53.7155\" style=\"stroke: #000000; stroke-width: 0.8\"/>\n      </g>\n     </g>\n     <g id=\"text_1\">\n      <!-- 1 -->\n      <g transform=\"translate(3.6 57.514719) scale(0.1 -0.1)\">\n       <defs>\n        <path id=\"DejaVuSans-31\" d=\"M 794 531  L 1825 531  L 1825 4091  L 703 3866  L 703 4441  L 1819 4666  L 2450 4666  L 2450 531  L 3481 531  L 3481 0  L 794 0  L 794 531  z \" transform=\"scale(0.015625)\"/>\n       </defs>\n       <use xlink:href=\"#DejaVuSans-31\"/>\n      </g>\n     </g>\n    </g>\n    <g id=\"ytick_2\">\n     <g id=\"line2d_8\">\n      <g>\n       <use xlink:href=\"#m8aae0c21c4\" x=\"16.9625\" y=\"38.3155\" style=\"stroke: #000000; stroke-width: 0.8\"/>\n      </g>\n     </g>\n     <g id=\"text_2\">\n      <!-- 0 -->\n      <g transform=\"translate(3.6 42.114719) scale(0.1 -0.1)\">\n       <defs>\n        <path id=\"DejaVuSans-30\" d=\"M 2034 4250  Q 1547 4250 1301 3770  Q 1056 3291 1056 2328  Q 1056 1369 1301 889  Q 1547 409 2034 409  Q 2525 409 2770 889  Q 3016 1369 3016 2328  Q 3016 3291 2770 3770  Q 2525 4250 2034 4250  z M 2034 4750  Q 2819 4750 3233 4129  Q 3647 3509 3647 2328  Q 3647 1150 3233 529  Q 2819 -91 2034 -91  Q 1250 -91 836 529  Q 422 1150 422 2328  Q 422 3509 836 4129  Q 1250 4750 2034 4750  z \" transform=\"scale(0.015625)\"/>\n       </defs>\n       <use xlink:href=\"#DejaVuSans-30\"/>\n      </g>\n     </g>\n    </g>\n   </g>\n   <g id=\"patch_5\">\n    <path d=\"M 16.9625 59.8755  L 16.9625 32.1555  \" style=\"fill: none; stroke: #000000; stroke-width: 0.8; stroke-linejoin: miter; stroke-linecap: square\"/>\n   </g>\n   <g id=\"patch_6\">\n    <path d=\"M 128.5625 59.8755  L 128.5625 32.1555  \" style=\"fill: none; stroke: #000000; stroke-width: 0.8; stroke-linejoin: miter; stroke-linecap: square\"/>\n   </g>\n   <g id=\"patch_7\">\n    <path d=\"M 16.9625 59.8755  L 128.5625 59.8755  \" style=\"fill: none; stroke: #000000; stroke-width: 0.8; stroke-linejoin: miter; stroke-linecap: square\"/>\n   </g>\n   <g id=\"patch_8\">\n    <path d=\"M 16.9625 32.1555  L 128.5625 32.1555  \" style=\"fill: none; stroke: #000000; stroke-width: 0.8; stroke-linejoin: miter; stroke-linecap: square\"/>\n   </g>\n   <g id=\"text_3\">\n    <!-- 20.00% -->\n    <g transform=\"translate(90.432812 57.795812) scale(0.1 -0.1)\">\n     <defs>\n      <path id=\"DejaVuSans-32\" d=\"M 1228 531  L 3431 531  L 3431 0  L 469 0  L 469 531  Q 828 903 1448 1529  Q 2069 2156 2228 2338  Q 2531 2678 2651 2914  Q 2772 3150 2772 3378  Q 2772 3750 2511 3984  Q 2250 4219 1831 4219  Q 1534 4219 1204 4116  Q 875 4013 500 3803  L 500 4441  Q 881 4594 1212 4672  Q 1544 4750 1819 4750  Q 2544 4750 2975 4387  Q 3406 4025 3406 3419  Q 3406 3131 3298 2873  Q 3191 2616 2906 2266  Q 2828 2175 2409 1742  Q 1991 1309 1228 531  z \" transform=\"scale(0.015625)\"/>\n      <path id=\"DejaVuSans-2e\" d=\"M 684 794  L 1344 794  L 1344 0  L 684 0  L 684 794  z \" transform=\"scale(0.015625)\"/>\n      <path id=\"DejaVuSans-25\" d=\"M 4653 2053  Q 4381 2053 4226 1822  Q 4072 1591 4072 1178  Q 4072 772 4226 539  Q 4381 306 4653 306  Q 4919 306 5073 539  Q 5228 772 5228 1178  Q 5228 1588 5073 1820  Q 4919 2053 4653 2053  z M 4653 2450  Q 5147 2450 5437 2106  Q 5728 1763 5728 1178  Q 5728 594 5436 251  Q 5144 -91 4653 -91  Q 4153 -91 3862 251  Q 3572 594 3572 1178  Q 3572 1766 3864 2108  Q 4156 2450 4653 2450  z M 1428 4353  Q 1159 4353 1004 4120  Q 850 3888 850 3481  Q 850 3069 1003 2837  Q 1156 2606 1428 2606  Q 1700 2606 1854 2837  Q 2009 3069 2009 3481  Q 2009 3884 1853 4118  Q 1697 4353 1428 4353  z M 4250 4750  L 4750 4750  L 1831 -91  L 1331 -91  L 4250 4750  z M 1428 4750  Q 1922 4750 2215 4408  Q 2509 4066 2509 3481  Q 2509 2891 2217 2550  Q 1925 2209 1428 2209  Q 931 2209 642 2551  Q 353 2894 353 3481  Q 353 4063 643 4406  Q 934 4750 1428 4750  z \" transform=\"scale(0.015625)\"/>\n     </defs>\n     <use xlink:href=\"#DejaVuSans-32\"/>\n     <use xlink:href=\"#DejaVuSans-30\" x=\"63.623047\"/>\n     <use xlink:href=\"#DejaVuSans-2e\" x=\"127.246094\"/>\n     <use xlink:href=\"#DejaVuSans-30\" x=\"159.033203\"/>\n     <use xlink:href=\"#DejaVuSans-30\" x=\"222.65625\"/>\n     <use xlink:href=\"#DejaVuSans-25\" x=\"286.279297\"/>\n    </g>\n   </g>\n   <g id=\"text_4\">\n    <!-- 80.00% -->\n    <g transform=\"translate(90.432812 42.395812) scale(0.1 -0.1)\">\n     <defs>\n      <path id=\"DejaVuSans-38\" d=\"M 2034 2216  Q 1584 2216 1326 1975  Q 1069 1734 1069 1313  Q 1069 891 1326 650  Q 1584 409 2034 409  Q 2484 409 2743 651  Q 3003 894 3003 1313  Q 3003 1734 2745 1975  Q 2488 2216 2034 2216  z M 1403 2484  Q 997 2584 770 2862  Q 544 3141 544 3541  Q 544 4100 942 4425  Q 1341 4750 2034 4750  Q 2731 4750 3128 4425  Q 3525 4100 3525 3541  Q 3525 3141 3298 2862  Q 3072 2584 2669 2484  Q 3125 2378 3379 2068  Q 3634 1759 3634 1313  Q 3634 634 3220 271  Q 2806 -91 2034 -91  Q 1263 -91 848 271  Q 434 634 434 1313  Q 434 1759 690 2068  Q 947 2378 1403 2484  z M 1172 3481  Q 1172 3119 1398 2916  Q 1625 2713 2034 2713  Q 2441 2713 2670 2916  Q 2900 3119 2900 3481  Q 2900 3844 2670 4047  Q 2441 4250 2034 4250  Q 1625 4250 1398 4047  Q 1172 3844 1172 3481  z \" transform=\"scale(0.015625)\"/>\n     </defs>\n     <use xlink:href=\"#DejaVuSans-38\"/>\n     <use xlink:href=\"#DejaVuSans-30\" x=\"63.623047\"/>\n     <use xlink:href=\"#DejaVuSans-2e\" x=\"127.246094\"/>\n     <use xlink:href=\"#DejaVuSans-30\" x=\"159.033203\"/>\n     <use xlink:href=\"#DejaVuSans-30\" x=\"222.65625\"/>\n     <use xlink:href=\"#DejaVuSans-25\" x=\"286.279297\"/>\n    </g>\n   </g>\n   <g id=\"text_5\">\n    <!-- s -->\n    <g transform=\"translate(69.636875 12.718125) scale(0.12 -0.12)\">\n     <defs>\n      <path id=\"DejaVuSans-73\" d=\"M 2834 3397  L 2834 2853  Q 2591 2978 2328 3040  Q 2066 3103 1784 3103  Q 1356 3103 1142 2972  Q 928 2841 928 2578  Q 928 2378 1081 2264  Q 1234 2150 1697 2047  L 1894 2003  Q 2506 1872 2764 1633  Q 3022 1394 3022 966  Q 3022 478 2636 193  Q 2250 -91 1575 -91  Q 1294 -91 989 -36  Q 684 19 347 128  L 347 722  Q 666 556 975 473  Q 1284 391 1588 391  Q 1994 391 2212 530  Q 2431 669 2431 922  Q 2431 1156 2273 1281  Q 2116 1406 1581 1522  L 1381 1569  Q 847 1681 609 1914  Q 372 2147 372 2553  Q 372 3047 722 3315  Q 1072 3584 1716 3584  Q 2034 3584 2315 3537  Q 2597 3491 2834 3397  z \" transform=\"scale(0.015625)\"/>\n     </defs>\n     <use xlink:href=\"#DejaVuSans-73\"/>\n    </g>\n    <!-- $\\mu=0.20$; $\\sigma=0.40$ -->\n    <g transform=\"translate(20.0825 26.1555) scale(0.12 -0.12)\">\n     <defs>\n      <path id=\"DejaVuSans-Oblique-3bc\" d=\"M -84 -1331  L 856 3500  L 1434 3500  L 1009 1322  Q 997 1256 987 1175  Q 978 1094 978 1013  Q 978 722 1161 565  Q 1344 409 1684 409  Q 2147 409 2431 671  Q 2716 934 2816 1459  L 3213 3500  L 3788 3500  L 3266 809  Q 3253 750 3248 706  Q 3244 663 3244 628  Q 3244 531 3283 486  Q 3322 441 3406 441  Q 3438 441 3492 456  Q 3547 472 3647 513  L 3559 50  Q 3422 -19 3297 -55  Q 3172 -91 3053 -91  Q 2847 -91 2730 40  Q 2613 172 2613 403  Q 2438 153 2195 31  Q 1953 -91 1625 -91  Q 1334 -91 1117 43  Q 900 178 831 397  L 494 -1331  L -84 -1331  z \" transform=\"scale(0.015625)\"/>\n      <path id=\"DejaVuSans-3d\" d=\"M 678 2906  L 4684 2906  L 4684 2381  L 678 2381  L 678 2906  z M 678 1631  L 4684 1631  L 4684 1100  L 678 1100  L 678 1631  z \" transform=\"scale(0.015625)\"/>\n      <path id=\"DejaVuSans-3b\" d=\"M 750 3309  L 1409 3309  L 1409 2516  L 750 2516  L 750 3309  z M 750 794  L 1409 794  L 1409 256  L 897 -744  L 494 -744  L 750 256  L 750 794  z \" transform=\"scale(0.015625)\"/>\n      <path id=\"DejaVuSans-20\" transform=\"scale(0.015625)\"/>\n      <path id=\"DejaVuSans-Oblique-3c3\" d=\"M 2219 3044  Q 1744 3044 1422 2700  Q 1081 2341 969 1747  Q 844 1119 1044 756  Q 1241 397 1706 397  Q 2166 397 2503 759  Q 2844 1122 2966 1747  Q 3075 2319 2881 2700  Q 2700 3044 2219 3044  z M 2309 3503  L 4219 3500  L 4106 2925  L 3463 2925  Q 3706 2438 3575 1747  Q 3406 888 2884 400  Q 2359 -91 1609 -91  Q 856 -91 525 400  Q 194 888 363 1747  Q 528 2609 1050 3097  Q 1484 3503 2309 3503  z \" transform=\"scale(0.015625)\"/>\n      <path id=\"DejaVuSans-34\" d=\"M 2419 4116  L 825 1625  L 2419 1625  L 2419 4116  z M 2253 4666  L 3047 4666  L 3047 1625  L 3713 1625  L 3713 1100  L 3047 1100  L 3047 0  L 2419 0  L 2419 1100  L 313 1100  L 313 1709  L 2253 4666  z \" transform=\"scale(0.015625)\"/>\n     </defs>\n     <use xlink:href=\"#DejaVuSans-Oblique-3bc\" transform=\"translate(0 0.78125)\"/>\n     <use xlink:href=\"#DejaVuSans-3d\" transform=\"translate(83.105469 0.78125)\"/>\n     <use xlink:href=\"#DejaVuSans-30\" transform=\"translate(186.376953 0.78125)\"/>\n     <use xlink:href=\"#DejaVuSans-2e\" transform=\"translate(250 0.78125)\"/>\n     <use xlink:href=\"#DejaVuSans-32\" transform=\"translate(276.287109 0.78125)\"/>\n     <use xlink:href=\"#DejaVuSans-30\" transform=\"translate(339.910156 0.78125)\"/>\n     <use xlink:href=\"#DejaVuSans-3b\" transform=\"translate(403.533203 0.78125)\"/>\n     <use xlink:href=\"#DejaVuSans-20\" transform=\"translate(437.224609 0.78125)\"/>\n     <use xlink:href=\"#DejaVuSans-Oblique-3c3\" transform=\"translate(469.011719 0.78125)\"/>\n     <use xlink:href=\"#DejaVuSans-3d\" transform=\"translate(551.873047 0.78125)\"/>\n     <use xlink:href=\"#DejaVuSans-30\" transform=\"translate(655.144531 0.78125)\"/>\n     <use xlink:href=\"#DejaVuSans-2e\" transform=\"translate(718.767578 0.78125)\"/>\n     <use xlink:href=\"#DejaVuSans-34\" transform=\"translate(750.554688 0.78125)\"/>\n     <use xlink:href=\"#DejaVuSans-30\" transform=\"translate(814.177734 0.78125)\"/>\n    </g>\n   </g>\n  </g>\n </g>\n <defs>\n  <clipPath id=\"p8b1db9c8b1\">\n   <rect x=\"16.9625\" y=\"32.1555\" width=\"111.6\" height=\"27.72\"/>\n  </clipPath>\n </defs>\n</svg>\n\n</g>\n<!-- c&#45;&gt;s -->\n<g id=\"edge1\" class=\"edge\">\n<title>c-&gt;s</title>\n<g id=\"a_edge1\"><a xlink:title=\"0 → 1\">\n<path fill=\"none\" stroke=\"#4a4a4a\" d=\"M94.92,-198.98C88.79,-190.57 81.51,-180.57 74.62,-171.12\"/>\n<polygon fill=\"#4a4a4a\" stroke=\"#4a4a4a\" points=\"77.44,-169.03 68.72,-163.01 71.78,-173.16 77.44,-169.03\"/>\n</a>\n</g>\n</g>\n<!-- r -->\n<g id=\"node3\" class=\"node\">\n<title>r</title>\n<polygon fill=\"#e0e0e0\" stroke=\"#000000\" points=\"220,-163 119,-163 119,-111 220,-111 220,-163\"/>\n<svg viewBox=\"0 0 132.1625 66.9755\" width=\"101px\" height=\"52px\" preserveAspectRatio=\"xMinYMin meet\" x=\"119\" y=\"-163\"> <metadata>\n  <rdf:RDF xmlns:dc=\"http://purl.org/dc/elements/1.1/\" xmlns:cc=\"http://creativecommons.org/ns#\" xmlns:rdf=\"http://www.w3.org/1999/02/22-rdf-syntax-ns#\">\n   <cc:Work>\n    <dc:type rdf:resource=\"http://purl.org/dc/dcmitype/StillImage\"/>\n    <dc:date>2024-01-24T19:31:36.256827</dc:date>\n    <dc:format>image/svg+xml</dc:format>\n    <dc:creator>\n     <cc:Agent>\n      <dc:title>Matplotlib v3.7.1, https://matplotlib.org/</dc:title>\n     </cc:Agent>\n    </dc:creator>\n   </cc:Work>\n  </rdf:RDF>\n </metadata>\n <defs>\n  <style type=\"text/css\">*{stroke-linejoin: round; stroke-linecap: butt}</style>\n </defs>\n <g id=\"figure_1\">\n  <g id=\"patch_1\">\n   <path d=\"M 0 66.9755  L 132.1625 66.9755  L 132.1625 0  L 0 0  z \" style=\"fill: #e0e0e0\"/>\n  </g>\n  <g id=\"axes_1\">\n   <g id=\"patch_2\">\n    <path d=\"M 16.9625 59.8755  L 128.5625 59.8755  L 128.5625 32.1555  L 16.9625 32.1555  z \" style=\"fill: #ffffff\"/>\n   </g>\n   <g id=\"patch_3\">\n    <path d=\"M 16.9625 59.8755  L 89.5025 59.8755  L 89.5025 47.5555  L 16.9625 47.5555  z \" clip-path=\"url(#pe2988db691)\" style=\"fill: #8fbc8f\"/>\n   </g>\n   <g id=\"patch_4\">\n    <path d=\"M 16.9625 44.4755  L 56.0225 44.4755  L 56.0225 32.1555  L 16.9625 32.1555  z \" clip-path=\"url(#pe2988db691)\" style=\"fill: #8fbc8f\"/>\n   </g>\n   <g id=\"matplotlib.axis_1\">\n    <g id=\"xtick_1\">\n     <g id=\"line2d_1\">\n      <path d=\"M 16.9625 59.8755  L 16.9625 32.1555  \" clip-path=\"url(#pe2988db691)\" style=\"fill: none; stroke: #b0b0b0; stroke-width: 0.8; stroke-linecap: square\"/>\n     </g>\n     <g id=\"line2d_2\">\n      <defs>\n       <path id=\"ma115547bbc\" d=\"M 0 0  L 0 3.5  \" style=\"stroke: #000000; stroke-width: 0.8\"/>\n      </defs>\n      <g>\n       <use xlink:href=\"#ma115547bbc\" x=\"16.9625\" y=\"59.8755\" style=\"stroke: #000000; stroke-width: 0.8\"/>\n      </g>\n     </g>\n    </g>\n    <g id=\"xtick_2\">\n     <g id=\"line2d_3\">\n      <path d=\"M 72.7625 59.8755  L 72.7625 32.1555  \" clip-path=\"url(#pe2988db691)\" style=\"fill: none; stroke: #b0b0b0; stroke-width: 0.8; stroke-linecap: square\"/>\n     </g>\n     <g id=\"line2d_4\">\n      <g>\n       <use xlink:href=\"#ma115547bbc\" x=\"72.7625\" y=\"59.8755\" style=\"stroke: #000000; stroke-width: 0.8\"/>\n      </g>\n     </g>\n    </g>\n    <g id=\"xtick_3\">\n     <g id=\"line2d_5\">\n      <path d=\"M 128.5625 59.8755  L 128.5625 32.1555  \" clip-path=\"url(#pe2988db691)\" style=\"fill: none; stroke: #b0b0b0; stroke-width: 0.8; stroke-linecap: square\"/>\n     </g>\n     <g id=\"line2d_6\">\n      <g>\n       <use xlink:href=\"#ma115547bbc\" x=\"128.5625\" y=\"59.8755\" style=\"stroke: #000000; stroke-width: 0.8\"/>\n      </g>\n     </g>\n    </g>\n   </g>\n   <g id=\"matplotlib.axis_2\">\n    <g id=\"ytick_1\">\n     <g id=\"line2d_7\">\n      <defs>\n       <path id=\"m86b3ce1b81\" d=\"M 0 0  L -3.5 0  \" style=\"stroke: #000000; stroke-width: 0.8\"/>\n      </defs>\n      <g>\n       <use xlink:href=\"#m86b3ce1b81\" x=\"16.9625\" y=\"53.7155\" style=\"stroke: #000000; stroke-width: 0.8\"/>\n      </g>\n     </g>\n     <g id=\"text_1\">\n      <!-- 1 -->\n      <g transform=\"translate(3.6 57.514719) scale(0.1 -0.1)\">\n       <defs>\n        <path id=\"DejaVuSans-31\" d=\"M 794 531  L 1825 531  L 1825 4091  L 703 3866  L 703 4441  L 1819 4666  L 2450 4666  L 2450 531  L 3481 531  L 3481 0  L 794 0  L 794 531  z \" transform=\"scale(0.015625)\"/>\n       </defs>\n       <use xlink:href=\"#DejaVuSans-31\"/>\n      </g>\n     </g>\n    </g>\n    <g id=\"ytick_2\">\n     <g id=\"line2d_8\">\n      <g>\n       <use xlink:href=\"#m86b3ce1b81\" x=\"16.9625\" y=\"38.3155\" style=\"stroke: #000000; stroke-width: 0.8\"/>\n      </g>\n     </g>\n     <g id=\"text_2\">\n      <!-- 0 -->\n      <g transform=\"translate(3.6 42.114719) scale(0.1 -0.1)\">\n       <defs>\n        <path id=\"DejaVuSans-30\" d=\"M 2034 4250  Q 1547 4250 1301 3770  Q 1056 3291 1056 2328  Q 1056 1369 1301 889  Q 1547 409 2034 409  Q 2525 409 2770 889  Q 3016 1369 3016 2328  Q 3016 3291 2770 3770  Q 2525 4250 2034 4250  z M 2034 4750  Q 2819 4750 3233 4129  Q 3647 3509 3647 2328  Q 3647 1150 3233 529  Q 2819 -91 2034 -91  Q 1250 -91 836 529  Q 422 1150 422 2328  Q 422 3509 836 4129  Q 1250 4750 2034 4750  z \" transform=\"scale(0.015625)\"/>\n       </defs>\n       <use xlink:href=\"#DejaVuSans-30\"/>\n      </g>\n     </g>\n    </g>\n   </g>\n   <g id=\"patch_5\">\n    <path d=\"M 16.9625 59.8755  L 16.9625 32.1555  \" style=\"fill: none; stroke: #000000; stroke-width: 0.8; stroke-linejoin: miter; stroke-linecap: square\"/>\n   </g>\n   <g id=\"patch_6\">\n    <path d=\"M 128.5625 59.8755  L 128.5625 32.1555  \" style=\"fill: none; stroke: #000000; stroke-width: 0.8; stroke-linejoin: miter; stroke-linecap: square\"/>\n   </g>\n   <g id=\"patch_7\">\n    <path d=\"M 16.9625 59.8755  L 128.5625 59.8755  \" style=\"fill: none; stroke: #000000; stroke-width: 0.8; stroke-linejoin: miter; stroke-linecap: square\"/>\n   </g>\n   <g id=\"patch_8\">\n    <path d=\"M 16.9625 32.1555  L 128.5625 32.1555  \" style=\"fill: none; stroke: #000000; stroke-width: 0.8; stroke-linejoin: miter; stroke-linecap: square\"/>\n   </g>\n   <g id=\"text_3\">\n    <!-- 65.00% -->\n    <g transform=\"translate(90.432812 57.795812) scale(0.1 -0.1)\">\n     <defs>\n      <path id=\"DejaVuSans-36\" d=\"M 2113 2584  Q 1688 2584 1439 2293  Q 1191 2003 1191 1497  Q 1191 994 1439 701  Q 1688 409 2113 409  Q 2538 409 2786 701  Q 3034 994 3034 1497  Q 3034 2003 2786 2293  Q 2538 2584 2113 2584  z M 3366 4563  L 3366 3988  Q 3128 4100 2886 4159  Q 2644 4219 2406 4219  Q 1781 4219 1451 3797  Q 1122 3375 1075 2522  Q 1259 2794 1537 2939  Q 1816 3084 2150 3084  Q 2853 3084 3261 2657  Q 3669 2231 3669 1497  Q 3669 778 3244 343  Q 2819 -91 2113 -91  Q 1303 -91 875 529  Q 447 1150 447 2328  Q 447 3434 972 4092  Q 1497 4750 2381 4750  Q 2619 4750 2861 4703  Q 3103 4656 3366 4563  z \" transform=\"scale(0.015625)\"/>\n      <path id=\"DejaVuSans-35\" d=\"M 691 4666  L 3169 4666  L 3169 4134  L 1269 4134  L 1269 2991  Q 1406 3038 1543 3061  Q 1681 3084 1819 3084  Q 2600 3084 3056 2656  Q 3513 2228 3513 1497  Q 3513 744 3044 326  Q 2575 -91 1722 -91  Q 1428 -91 1123 -41  Q 819 9 494 109  L 494 744  Q 775 591 1075 516  Q 1375 441 1709 441  Q 2250 441 2565 725  Q 2881 1009 2881 1497  Q 2881 1984 2565 2268  Q 2250 2553 1709 2553  Q 1456 2553 1204 2497  Q 953 2441 691 2322  L 691 4666  z \" transform=\"scale(0.015625)\"/>\n      <path id=\"DejaVuSans-2e\" d=\"M 684 794  L 1344 794  L 1344 0  L 684 0  L 684 794  z \" transform=\"scale(0.015625)\"/>\n      <path id=\"DejaVuSans-25\" d=\"M 4653 2053  Q 4381 2053 4226 1822  Q 4072 1591 4072 1178  Q 4072 772 4226 539  Q 4381 306 4653 306  Q 4919 306 5073 539  Q 5228 772 5228 1178  Q 5228 1588 5073 1820  Q 4919 2053 4653 2053  z M 4653 2450  Q 5147 2450 5437 2106  Q 5728 1763 5728 1178  Q 5728 594 5436 251  Q 5144 -91 4653 -91  Q 4153 -91 3862 251  Q 3572 594 3572 1178  Q 3572 1766 3864 2108  Q 4156 2450 4653 2450  z M 1428 4353  Q 1159 4353 1004 4120  Q 850 3888 850 3481  Q 850 3069 1003 2837  Q 1156 2606 1428 2606  Q 1700 2606 1854 2837  Q 2009 3069 2009 3481  Q 2009 3884 1853 4118  Q 1697 4353 1428 4353  z M 4250 4750  L 4750 4750  L 1831 -91  L 1331 -91  L 4250 4750  z M 1428 4750  Q 1922 4750 2215 4408  Q 2509 4066 2509 3481  Q 2509 2891 2217 2550  Q 1925 2209 1428 2209  Q 931 2209 642 2551  Q 353 2894 353 3481  Q 353 4063 643 4406  Q 934 4750 1428 4750  z \" transform=\"scale(0.015625)\"/>\n     </defs>\n     <use xlink:href=\"#DejaVuSans-36\"/>\n     <use xlink:href=\"#DejaVuSans-35\" x=\"63.623047\"/>\n     <use xlink:href=\"#DejaVuSans-2e\" x=\"127.246094\"/>\n     <use xlink:href=\"#DejaVuSans-30\" x=\"159.033203\"/>\n     <use xlink:href=\"#DejaVuSans-30\" x=\"222.65625\"/>\n     <use xlink:href=\"#DejaVuSans-25\" x=\"286.279297\"/>\n    </g>\n   </g>\n   <g id=\"text_4\">\n    <!-- 35.00% -->\n    <g transform=\"translate(90.432812 42.395812) scale(0.1 -0.1)\">\n     <defs>\n      <path id=\"DejaVuSans-33\" d=\"M 2597 2516  Q 3050 2419 3304 2112  Q 3559 1806 3559 1356  Q 3559 666 3084 287  Q 2609 -91 1734 -91  Q 1441 -91 1130 -33  Q 819 25 488 141  L 488 750  Q 750 597 1062 519  Q 1375 441 1716 441  Q 2309 441 2620 675  Q 2931 909 2931 1356  Q 2931 1769 2642 2001  Q 2353 2234 1838 2234  L 1294 2234  L 1294 2753  L 1863 2753  Q 2328 2753 2575 2939  Q 2822 3125 2822 3475  Q 2822 3834 2567 4026  Q 2313 4219 1838 4219  Q 1578 4219 1281 4162  Q 984 4106 628 3988  L 628 4550  Q 988 4650 1302 4700  Q 1616 4750 1894 4750  Q 2613 4750 3031 4423  Q 3450 4097 3450 3541  Q 3450 3153 3228 2886  Q 3006 2619 2597 2516  z \" transform=\"scale(0.015625)\"/>\n     </defs>\n     <use xlink:href=\"#DejaVuSans-33\"/>\n     <use xlink:href=\"#DejaVuSans-35\" x=\"63.623047\"/>\n     <use xlink:href=\"#DejaVuSans-2e\" x=\"127.246094\"/>\n     <use xlink:href=\"#DejaVuSans-30\" x=\"159.033203\"/>\n     <use xlink:href=\"#DejaVuSans-30\" x=\"222.65625\"/>\n     <use xlink:href=\"#DejaVuSans-25\" x=\"286.279297\"/>\n    </g>\n   </g>\n   <g id=\"text_5\">\n    <!-- r -->\n    <g transform=\"translate(70.295938 12.718125) scale(0.12 -0.12)\">\n     <defs>\n      <path id=\"DejaVuSans-72\" d=\"M 2631 2963  Q 2534 3019 2420 3045  Q 2306 3072 2169 3072  Q 1681 3072 1420 2755  Q 1159 2438 1159 1844  L 1159 0  L 581 0  L 581 3500  L 1159 3500  L 1159 2956  Q 1341 3275 1631 3429  Q 1922 3584 2338 3584  Q 2397 3584 2469 3576  Q 2541 3569 2628 3553  L 2631 2963  z \" transform=\"scale(0.015625)\"/>\n     </defs>\n     <use xlink:href=\"#DejaVuSans-72\"/>\n    </g>\n    <!-- $\\mu=0.65$; $\\sigma=0.48$ -->\n    <g transform=\"translate(19.7225 26.1555) scale(0.12 -0.12)\">\n     <defs>\n      <path id=\"DejaVuSans-Oblique-3bc\" d=\"M -84 -1331  L 856 3500  L 1434 3500  L 1009 1322  Q 997 1256 987 1175  Q 978 1094 978 1013  Q 978 722 1161 565  Q 1344 409 1684 409  Q 2147 409 2431 671  Q 2716 934 2816 1459  L 3213 3500  L 3788 3500  L 3266 809  Q 3253 750 3248 706  Q 3244 663 3244 628  Q 3244 531 3283 486  Q 3322 441 3406 441  Q 3438 441 3492 456  Q 3547 472 3647 513  L 3559 50  Q 3422 -19 3297 -55  Q 3172 -91 3053 -91  Q 2847 -91 2730 40  Q 2613 172 2613 403  Q 2438 153 2195 31  Q 1953 -91 1625 -91  Q 1334 -91 1117 43  Q 900 178 831 397  L 494 -1331  L -84 -1331  z \" transform=\"scale(0.015625)\"/>\n      <path id=\"DejaVuSans-3d\" d=\"M 678 2906  L 4684 2906  L 4684 2381  L 678 2381  L 678 2906  z M 678 1631  L 4684 1631  L 4684 1100  L 678 1100  L 678 1631  z \" transform=\"scale(0.015625)\"/>\n      <path id=\"DejaVuSans-3b\" d=\"M 750 3309  L 1409 3309  L 1409 2516  L 750 2516  L 750 3309  z M 750 794  L 1409 794  L 1409 256  L 897 -744  L 494 -744  L 750 256  L 750 794  z \" transform=\"scale(0.015625)\"/>\n      <path id=\"DejaVuSans-20\" transform=\"scale(0.015625)\"/>\n      <path id=\"DejaVuSans-Oblique-3c3\" d=\"M 2219 3044  Q 1744 3044 1422 2700  Q 1081 2341 969 1747  Q 844 1119 1044 756  Q 1241 397 1706 397  Q 2166 397 2503 759  Q 2844 1122 2966 1747  Q 3075 2319 2881 2700  Q 2700 3044 2219 3044  z M 2309 3503  L 4219 3500  L 4106 2925  L 3463 2925  Q 3706 2438 3575 1747  Q 3406 888 2884 400  Q 2359 -91 1609 -91  Q 856 -91 525 400  Q 194 888 363 1747  Q 528 2609 1050 3097  Q 1484 3503 2309 3503  z \" transform=\"scale(0.015625)\"/>\n      <path id=\"DejaVuSans-34\" d=\"M 2419 4116  L 825 1625  L 2419 1625  L 2419 4116  z M 2253 4666  L 3047 4666  L 3047 1625  L 3713 1625  L 3713 1100  L 3047 1100  L 3047 0  L 2419 0  L 2419 1100  L 313 1100  L 313 1709  L 2253 4666  z \" transform=\"scale(0.015625)\"/>\n      <path id=\"DejaVuSans-38\" d=\"M 2034 2216  Q 1584 2216 1326 1975  Q 1069 1734 1069 1313  Q 1069 891 1326 650  Q 1584 409 2034 409  Q 2484 409 2743 651  Q 3003 894 3003 1313  Q 3003 1734 2745 1975  Q 2488 2216 2034 2216  z M 1403 2484  Q 997 2584 770 2862  Q 544 3141 544 3541  Q 544 4100 942 4425  Q 1341 4750 2034 4750  Q 2731 4750 3128 4425  Q 3525 4100 3525 3541  Q 3525 3141 3298 2862  Q 3072 2584 2669 2484  Q 3125 2378 3379 2068  Q 3634 1759 3634 1313  Q 3634 634 3220 271  Q 2806 -91 2034 -91  Q 1263 -91 848 271  Q 434 634 434 1313  Q 434 1759 690 2068  Q 947 2378 1403 2484  z M 1172 3481  Q 1172 3119 1398 2916  Q 1625 2713 2034 2713  Q 2441 2713 2670 2916  Q 2900 3119 2900 3481  Q 2900 3844 2670 4047  Q 2441 4250 2034 4250  Q 1625 4250 1398 4047  Q 1172 3844 1172 3481  z \" transform=\"scale(0.015625)\"/>\n     </defs>\n     <use xlink:href=\"#DejaVuSans-Oblique-3bc\" transform=\"translate(0 0.78125)\"/>\n     <use xlink:href=\"#DejaVuSans-3d\" transform=\"translate(83.105469 0.78125)\"/>\n     <use xlink:href=\"#DejaVuSans-30\" transform=\"translate(186.376953 0.78125)\"/>\n     <use xlink:href=\"#DejaVuSans-2e\" transform=\"translate(250 0.78125)\"/>\n     <use xlink:href=\"#DejaVuSans-36\" transform=\"translate(281.787109 0.78125)\"/>\n     <use xlink:href=\"#DejaVuSans-35\" transform=\"translate(345.410156 0.78125)\"/>\n     <use xlink:href=\"#DejaVuSans-3b\" transform=\"translate(409.033203 0.78125)\"/>\n     <use xlink:href=\"#DejaVuSans-20\" transform=\"translate(442.724609 0.78125)\"/>\n     <use xlink:href=\"#DejaVuSans-Oblique-3c3\" transform=\"translate(474.511719 0.78125)\"/>\n     <use xlink:href=\"#DejaVuSans-3d\" transform=\"translate(557.373047 0.78125)\"/>\n     <use xlink:href=\"#DejaVuSans-30\" transform=\"translate(660.644531 0.78125)\"/>\n     <use xlink:href=\"#DejaVuSans-2e\" transform=\"translate(724.267578 0.78125)\"/>\n     <use xlink:href=\"#DejaVuSans-34\" transform=\"translate(756.054688 0.78125)\"/>\n     <use xlink:href=\"#DejaVuSans-38\" transform=\"translate(819.677734 0.78125)\"/>\n    </g>\n   </g>\n  </g>\n </g>\n <defs>\n  <clipPath id=\"pe2988db691\">\n   <rect x=\"16.9625\" y=\"32.1555\" width=\"111.6\" height=\"27.72\"/>\n  </clipPath>\n </defs>\n</svg>\n\n</g>\n<!-- c&#45;&gt;r -->\n<g id=\"edge2\" class=\"edge\">\n<title>c-&gt;r</title>\n<g id=\"a_edge2\"><a xlink:title=\"0 → 2\">\n<path fill=\"none\" stroke=\"#4a4a4a\" d=\"M124.33,-198.98C130.56,-190.57 137.97,-180.57 144.97,-171.12\"/>\n<polygon fill=\"#4a4a4a\" stroke=\"#4a4a4a\" points=\"147.83,-173.13 150.97,-163.01 142.21,-168.96 147.83,-173.13\"/>\n</a>\n</g>\n</g>\n<!-- w -->\n<g id=\"node4\" class=\"node\">\n<title>w</title>\n<polygon fill=\"#e0e0e0\" stroke=\"#000000\" points=\"160,-75 59,-75 59,-23 160,-23 160,-75\"/>\n<svg viewBox=\"0 0 132.1625 66.9755\" width=\"101px\" height=\"52px\" preserveAspectRatio=\"xMinYMin meet\" x=\"59\" y=\"-75\"> <metadata>\n  <rdf:RDF xmlns:dc=\"http://purl.org/dc/elements/1.1/\" xmlns:cc=\"http://creativecommons.org/ns#\" xmlns:rdf=\"http://www.w3.org/1999/02/22-rdf-syntax-ns#\">\n   <cc:Work>\n    <dc:type rdf:resource=\"http://purl.org/dc/dcmitype/StillImage\"/>\n    <dc:date>2024-01-24T19:31:36.492681</dc:date>\n    <dc:format>image/svg+xml</dc:format>\n    <dc:creator>\n     <cc:Agent>\n      <dc:title>Matplotlib v3.7.1, https://matplotlib.org/</dc:title>\n     </cc:Agent>\n    </dc:creator>\n   </cc:Work>\n  </rdf:RDF>\n </metadata>\n <defs>\n  <style type=\"text/css\">*{stroke-linejoin: round; stroke-linecap: butt}</style>\n </defs>\n <g id=\"figure_1\">\n  <g id=\"patch_1\">\n   <path d=\"M 0 66.9755  L 132.1625 66.9755  L 132.1625 0  L 0 0  z \" style=\"fill: #e0e0e0\"/>\n  </g>\n  <g id=\"axes_1\">\n   <g id=\"patch_2\">\n    <path d=\"M 16.9625 59.8755  L 128.5625 59.8755  L 128.5625 32.1555  L 16.9625 32.1555  z \" style=\"fill: #ffffff\"/>\n   </g>\n   <g id=\"patch_3\">\n    <path d=\"M 16.9625 59.8755  L 94.65284 59.8755  L 94.65284 47.5555  L 16.9625 47.5555  z \" clip-path=\"url(#pad6d8a4925)\" style=\"fill: #8fbc8f\"/>\n   </g>\n   <g id=\"patch_4\">\n    <path d=\"M 16.9625 44.4755  L 50.87216 44.4755  L 50.87216 32.1555  L 16.9625 32.1555  z \" clip-path=\"url(#pad6d8a4925)\" style=\"fill: #8fbc8f\"/>\n   </g>\n   <g id=\"matplotlib.axis_1\">\n    <g id=\"xtick_1\">\n     <g id=\"line2d_1\">\n      <path d=\"M 16.9625 59.8755  L 16.9625 32.1555  \" clip-path=\"url(#pad6d8a4925)\" style=\"fill: none; stroke: #b0b0b0; stroke-width: 0.8; stroke-linecap: square\"/>\n     </g>\n     <g id=\"line2d_2\">\n      <defs>\n       <path id=\"m02a6444077\" d=\"M 0 0  L 0 3.5  \" style=\"stroke: #000000; stroke-width: 0.8\"/>\n      </defs>\n      <g>\n       <use xlink:href=\"#m02a6444077\" x=\"16.9625\" y=\"59.8755\" style=\"stroke: #000000; stroke-width: 0.8\"/>\n      </g>\n     </g>\n    </g>\n    <g id=\"xtick_2\">\n     <g id=\"line2d_3\">\n      <path d=\"M 72.7625 59.8755  L 72.7625 32.1555  \" clip-path=\"url(#pad6d8a4925)\" style=\"fill: none; stroke: #b0b0b0; stroke-width: 0.8; stroke-linecap: square\"/>\n     </g>\n     <g id=\"line2d_4\">\n      <g>\n       <use xlink:href=\"#m02a6444077\" x=\"72.7625\" y=\"59.8755\" style=\"stroke: #000000; stroke-width: 0.8\"/>\n      </g>\n     </g>\n    </g>\n    <g id=\"xtick_3\">\n     <g id=\"line2d_5\">\n      <path d=\"M 128.5625 59.8755  L 128.5625 32.1555  \" clip-path=\"url(#pad6d8a4925)\" style=\"fill: none; stroke: #b0b0b0; stroke-width: 0.8; stroke-linecap: square\"/>\n     </g>\n     <g id=\"line2d_6\">\n      <g>\n       <use xlink:href=\"#m02a6444077\" x=\"128.5625\" y=\"59.8755\" style=\"stroke: #000000; stroke-width: 0.8\"/>\n      </g>\n     </g>\n    </g>\n   </g>\n   <g id=\"matplotlib.axis_2\">\n    <g id=\"ytick_1\">\n     <g id=\"line2d_7\">\n      <defs>\n       <path id=\"m9c2612b541\" d=\"M 0 0  L -3.5 0  \" style=\"stroke: #000000; stroke-width: 0.8\"/>\n      </defs>\n      <g>\n       <use xlink:href=\"#m9c2612b541\" x=\"16.9625\" y=\"53.7155\" style=\"stroke: #000000; stroke-width: 0.8\"/>\n      </g>\n     </g>\n     <g id=\"text_1\">\n      <!-- 1 -->\n      <g transform=\"translate(3.6 57.514719) scale(0.1 -0.1)\">\n       <defs>\n        <path id=\"DejaVuSans-31\" d=\"M 794 531  L 1825 531  L 1825 4091  L 703 3866  L 703 4441  L 1819 4666  L 2450 4666  L 2450 531  L 3481 531  L 3481 0  L 794 0  L 794 531  z \" transform=\"scale(0.015625)\"/>\n       </defs>\n       <use xlink:href=\"#DejaVuSans-31\"/>\n      </g>\n     </g>\n    </g>\n    <g id=\"ytick_2\">\n     <g id=\"line2d_8\">\n      <g>\n       <use xlink:href=\"#m9c2612b541\" x=\"16.9625\" y=\"38.3155\" style=\"stroke: #000000; stroke-width: 0.8\"/>\n      </g>\n     </g>\n     <g id=\"text_2\">\n      <!-- 0 -->\n      <g transform=\"translate(3.6 42.114719) scale(0.1 -0.1)\">\n       <defs>\n        <path id=\"DejaVuSans-30\" d=\"M 2034 4250  Q 1547 4250 1301 3770  Q 1056 3291 1056 2328  Q 1056 1369 1301 889  Q 1547 409 2034 409  Q 2525 409 2770 889  Q 3016 1369 3016 2328  Q 3016 3291 2770 3770  Q 2525 4250 2034 4250  z M 2034 4750  Q 2819 4750 3233 4129  Q 3647 3509 3647 2328  Q 3647 1150 3233 529  Q 2819 -91 2034 -91  Q 1250 -91 836 529  Q 422 1150 422 2328  Q 422 3509 836 4129  Q 1250 4750 2034 4750  z \" transform=\"scale(0.015625)\"/>\n       </defs>\n       <use xlink:href=\"#DejaVuSans-30\"/>\n      </g>\n     </g>\n    </g>\n   </g>\n   <g id=\"patch_5\">\n    <path d=\"M 16.9625 59.8755  L 16.9625 32.1555  \" style=\"fill: none; stroke: #000000; stroke-width: 0.8; stroke-linejoin: miter; stroke-linecap: square\"/>\n   </g>\n   <g id=\"patch_6\">\n    <path d=\"M 128.5625 59.8755  L 128.5625 32.1555  \" style=\"fill: none; stroke: #000000; stroke-width: 0.8; stroke-linejoin: miter; stroke-linecap: square\"/>\n   </g>\n   <g id=\"patch_7\">\n    <path d=\"M 16.9625 59.8755  L 128.5625 59.8755  \" style=\"fill: none; stroke: #000000; stroke-width: 0.8; stroke-linejoin: miter; stroke-linecap: square\"/>\n   </g>\n   <g id=\"patch_8\">\n    <path d=\"M 16.9625 32.1555  L 128.5625 32.1555  \" style=\"fill: none; stroke: #000000; stroke-width: 0.8; stroke-linejoin: miter; stroke-linecap: square\"/>\n   </g>\n   <g id=\"text_3\">\n    <!-- 69.61% -->\n    <g transform=\"translate(90.432812 57.795812) scale(0.1 -0.1)\">\n     <defs>\n      <path id=\"DejaVuSans-36\" d=\"M 2113 2584  Q 1688 2584 1439 2293  Q 1191 2003 1191 1497  Q 1191 994 1439 701  Q 1688 409 2113 409  Q 2538 409 2786 701  Q 3034 994 3034 1497  Q 3034 2003 2786 2293  Q 2538 2584 2113 2584  z M 3366 4563  L 3366 3988  Q 3128 4100 2886 4159  Q 2644 4219 2406 4219  Q 1781 4219 1451 3797  Q 1122 3375 1075 2522  Q 1259 2794 1537 2939  Q 1816 3084 2150 3084  Q 2853 3084 3261 2657  Q 3669 2231 3669 1497  Q 3669 778 3244 343  Q 2819 -91 2113 -91  Q 1303 -91 875 529  Q 447 1150 447 2328  Q 447 3434 972 4092  Q 1497 4750 2381 4750  Q 2619 4750 2861 4703  Q 3103 4656 3366 4563  z \" transform=\"scale(0.015625)\"/>\n      <path id=\"DejaVuSans-39\" d=\"M 703 97  L 703 672  Q 941 559 1184 500  Q 1428 441 1663 441  Q 2288 441 2617 861  Q 2947 1281 2994 2138  Q 2813 1869 2534 1725  Q 2256 1581 1919 1581  Q 1219 1581 811 2004  Q 403 2428 403 3163  Q 403 3881 828 4315  Q 1253 4750 1959 4750  Q 2769 4750 3195 4129  Q 3622 3509 3622 2328  Q 3622 1225 3098 567  Q 2575 -91 1691 -91  Q 1453 -91 1209 -44  Q 966 3 703 97  z M 1959 2075  Q 2384 2075 2632 2365  Q 2881 2656 2881 3163  Q 2881 3666 2632 3958  Q 2384 4250 1959 4250  Q 1534 4250 1286 3958  Q 1038 3666 1038 3163  Q 1038 2656 1286 2365  Q 1534 2075 1959 2075  z \" transform=\"scale(0.015625)\"/>\n      <path id=\"DejaVuSans-2e\" d=\"M 684 794  L 1344 794  L 1344 0  L 684 0  L 684 794  z \" transform=\"scale(0.015625)\"/>\n      <path id=\"DejaVuSans-25\" d=\"M 4653 2053  Q 4381 2053 4226 1822  Q 4072 1591 4072 1178  Q 4072 772 4226 539  Q 4381 306 4653 306  Q 4919 306 5073 539  Q 5228 772 5228 1178  Q 5228 1588 5073 1820  Q 4919 2053 4653 2053  z M 4653 2450  Q 5147 2450 5437 2106  Q 5728 1763 5728 1178  Q 5728 594 5436 251  Q 5144 -91 4653 -91  Q 4153 -91 3862 251  Q 3572 594 3572 1178  Q 3572 1766 3864 2108  Q 4156 2450 4653 2450  z M 1428 4353  Q 1159 4353 1004 4120  Q 850 3888 850 3481  Q 850 3069 1003 2837  Q 1156 2606 1428 2606  Q 1700 2606 1854 2837  Q 2009 3069 2009 3481  Q 2009 3884 1853 4118  Q 1697 4353 1428 4353  z M 4250 4750  L 4750 4750  L 1831 -91  L 1331 -91  L 4250 4750  z M 1428 4750  Q 1922 4750 2215 4408  Q 2509 4066 2509 3481  Q 2509 2891 2217 2550  Q 1925 2209 1428 2209  Q 931 2209 642 2551  Q 353 2894 353 3481  Q 353 4063 643 4406  Q 934 4750 1428 4750  z \" transform=\"scale(0.015625)\"/>\n     </defs>\n     <use xlink:href=\"#DejaVuSans-36\"/>\n     <use xlink:href=\"#DejaVuSans-39\" x=\"63.623047\"/>\n     <use xlink:href=\"#DejaVuSans-2e\" x=\"127.246094\"/>\n     <use xlink:href=\"#DejaVuSans-36\" x=\"159.033203\"/>\n     <use xlink:href=\"#DejaVuSans-31\" x=\"222.65625\"/>\n     <use xlink:href=\"#DejaVuSans-25\" x=\"286.279297\"/>\n    </g>\n   </g>\n   <g id=\"text_4\">\n    <!-- 30.39% -->\n    <g transform=\"translate(90.432812 42.395812) scale(0.1 -0.1)\">\n     <defs>\n      <path id=\"DejaVuSans-33\" d=\"M 2597 2516  Q 3050 2419 3304 2112  Q 3559 1806 3559 1356  Q 3559 666 3084 287  Q 2609 -91 1734 -91  Q 1441 -91 1130 -33  Q 819 25 488 141  L 488 750  Q 750 597 1062 519  Q 1375 441 1716 441  Q 2309 441 2620 675  Q 2931 909 2931 1356  Q 2931 1769 2642 2001  Q 2353 2234 1838 2234  L 1294 2234  L 1294 2753  L 1863 2753  Q 2328 2753 2575 2939  Q 2822 3125 2822 3475  Q 2822 3834 2567 4026  Q 2313 4219 1838 4219  Q 1578 4219 1281 4162  Q 984 4106 628 3988  L 628 4550  Q 988 4650 1302 4700  Q 1616 4750 1894 4750  Q 2613 4750 3031 4423  Q 3450 4097 3450 3541  Q 3450 3153 3228 2886  Q 3006 2619 2597 2516  z \" transform=\"scale(0.015625)\"/>\n     </defs>\n     <use xlink:href=\"#DejaVuSans-33\"/>\n     <use xlink:href=\"#DejaVuSans-30\" x=\"63.623047\"/>\n     <use xlink:href=\"#DejaVuSans-2e\" x=\"127.246094\"/>\n     <use xlink:href=\"#DejaVuSans-33\" x=\"159.033203\"/>\n     <use xlink:href=\"#DejaVuSans-39\" x=\"222.65625\"/>\n     <use xlink:href=\"#DejaVuSans-25\" x=\"286.279297\"/>\n    </g>\n   </g>\n   <g id=\"text_5\">\n    <!-- w -->\n    <g transform=\"translate(67.855625 12.718125) scale(0.12 -0.12)\">\n     <defs>\n      <path id=\"DejaVuSans-77\" d=\"M 269 3500  L 844 3500  L 1563 769  L 2278 3500  L 2956 3500  L 3675 769  L 4391 3500  L 4966 3500  L 4050 0  L 3372 0  L 2619 2869  L 1863 0  L 1184 0  L 269 3500  z \" transform=\"scale(0.015625)\"/>\n     </defs>\n     <use xlink:href=\"#DejaVuSans-77\"/>\n    </g>\n    <!-- $\\mu=0.70$; $\\sigma=0.46$ -->\n    <g transform=\"translate(20.2025 26.1555) scale(0.12 -0.12)\">\n     <defs>\n      <path id=\"DejaVuSans-Oblique-3bc\" d=\"M -84 -1331  L 856 3500  L 1434 3500  L 1009 1322  Q 997 1256 987 1175  Q 978 1094 978 1013  Q 978 722 1161 565  Q 1344 409 1684 409  Q 2147 409 2431 671  Q 2716 934 2816 1459  L 3213 3500  L 3788 3500  L 3266 809  Q 3253 750 3248 706  Q 3244 663 3244 628  Q 3244 531 3283 486  Q 3322 441 3406 441  Q 3438 441 3492 456  Q 3547 472 3647 513  L 3559 50  Q 3422 -19 3297 -55  Q 3172 -91 3053 -91  Q 2847 -91 2730 40  Q 2613 172 2613 403  Q 2438 153 2195 31  Q 1953 -91 1625 -91  Q 1334 -91 1117 43  Q 900 178 831 397  L 494 -1331  L -84 -1331  z \" transform=\"scale(0.015625)\"/>\n      <path id=\"DejaVuSans-3d\" d=\"M 678 2906  L 4684 2906  L 4684 2381  L 678 2381  L 678 2906  z M 678 1631  L 4684 1631  L 4684 1100  L 678 1100  L 678 1631  z \" transform=\"scale(0.015625)\"/>\n      <path id=\"DejaVuSans-37\" d=\"M 525 4666  L 3525 4666  L 3525 4397  L 1831 0  L 1172 0  L 2766 4134  L 525 4134  L 525 4666  z \" transform=\"scale(0.015625)\"/>\n      <path id=\"DejaVuSans-3b\" d=\"M 750 3309  L 1409 3309  L 1409 2516  L 750 2516  L 750 3309  z M 750 794  L 1409 794  L 1409 256  L 897 -744  L 494 -744  L 750 256  L 750 794  z \" transform=\"scale(0.015625)\"/>\n      <path id=\"DejaVuSans-20\" transform=\"scale(0.015625)\"/>\n      <path id=\"DejaVuSans-Oblique-3c3\" d=\"M 2219 3044  Q 1744 3044 1422 2700  Q 1081 2341 969 1747  Q 844 1119 1044 756  Q 1241 397 1706 397  Q 2166 397 2503 759  Q 2844 1122 2966 1747  Q 3075 2319 2881 2700  Q 2700 3044 2219 3044  z M 2309 3503  L 4219 3500  L 4106 2925  L 3463 2925  Q 3706 2438 3575 1747  Q 3406 888 2884 400  Q 2359 -91 1609 -91  Q 856 -91 525 400  Q 194 888 363 1747  Q 528 2609 1050 3097  Q 1484 3503 2309 3503  z \" transform=\"scale(0.015625)\"/>\n      <path id=\"DejaVuSans-34\" d=\"M 2419 4116  L 825 1625  L 2419 1625  L 2419 4116  z M 2253 4666  L 3047 4666  L 3047 1625  L 3713 1625  L 3713 1100  L 3047 1100  L 3047 0  L 2419 0  L 2419 1100  L 313 1100  L 313 1709  L 2253 4666  z \" transform=\"scale(0.015625)\"/>\n     </defs>\n     <use xlink:href=\"#DejaVuSans-Oblique-3bc\" transform=\"translate(0 0.78125)\"/>\n     <use xlink:href=\"#DejaVuSans-3d\" transform=\"translate(83.105469 0.78125)\"/>\n     <use xlink:href=\"#DejaVuSans-30\" transform=\"translate(186.376953 0.78125)\"/>\n     <use xlink:href=\"#DejaVuSans-2e\" transform=\"translate(250 0.78125)\"/>\n     <use xlink:href=\"#DejaVuSans-37\" transform=\"translate(274.037109 0.78125)\"/>\n     <use xlink:href=\"#DejaVuSans-30\" transform=\"translate(337.660156 0.78125)\"/>\n     <use xlink:href=\"#DejaVuSans-3b\" transform=\"translate(401.283203 0.78125)\"/>\n     <use xlink:href=\"#DejaVuSans-20\" transform=\"translate(434.974609 0.78125)\"/>\n     <use xlink:href=\"#DejaVuSans-Oblique-3c3\" transform=\"translate(466.761719 0.78125)\"/>\n     <use xlink:href=\"#DejaVuSans-3d\" transform=\"translate(549.623047 0.78125)\"/>\n     <use xlink:href=\"#DejaVuSans-30\" transform=\"translate(652.894531 0.78125)\"/>\n     <use xlink:href=\"#DejaVuSans-2e\" transform=\"translate(716.517578 0.78125)\"/>\n     <use xlink:href=\"#DejaVuSans-34\" transform=\"translate(748.304688 0.78125)\"/>\n     <use xlink:href=\"#DejaVuSans-36\" transform=\"translate(811.927734 0.78125)\"/>\n    </g>\n   </g>\n  </g>\n </g>\n <defs>\n  <clipPath id=\"pad6d8a4925\">\n   <rect x=\"16.9625\" y=\"32.1555\" width=\"111.6\" height=\"27.72\"/>\n  </clipPath>\n </defs>\n</svg>\n\n</g>\n<!-- s&#45;&gt;w -->\n<g id=\"edge4\" class=\"edge\">\n<title>s-&gt;w</title>\n<g id=\"a_edge4\"><a xlink:title=\"1 → 3\">\n<path fill=\"none\" stroke=\"#4a4a4a\" d=\"M67.88,-110.66C73.7,-102.18 80.29,-92.58 86.47,-83.57\"/>\n<polygon fill=\"#4a4a4a\" stroke=\"#4a4a4a\" points=\"89.47,-85.38 92.24,-75.16 83.7,-81.42 89.47,-85.38\"/>\n</a>\n</g>\n</g>\n<!-- r&#45;&gt;w -->\n<g id=\"edge3\" class=\"edge\">\n<title>r-&gt;w</title>\n<g id=\"a_edge3\"><a xlink:title=\"2 → 3\">\n<path fill=\"none\" stroke=\"#4a4a4a\" d=\"M151.82,-110.66C145.9,-102.18 139.21,-92.58 132.92,-83.57\"/>\n<polygon fill=\"#4a4a4a\" stroke=\"#4a4a4a\" points=\"135.64,-81.36 127.05,-75.16 129.9,-85.36 135.64,-81.36\"/>\n</a>\n</g>\n</g>\n</g>\n</svg>"
          },
          "metadata": {}
        }
      ],
      "source": [
        "gnb.showInference(bn,evs={'c':[0.5,1]})\n",
        "# 0.4 x 0.5 = 0.2 , 0.6 x 1 = 0.6 , 0.2 / (0.2 + 0.6) = 25.0%"
      ]
    },
    {
      "cell_type": "code",
      "execution_count": null,
      "metadata": {
        "id": "w-5rAHSaiv1T",
        "outputId": "dc7695f3-deea-47c3-d265-4c37ae349d10",
        "colab": {
          "base_uri": "https://localhost:8080/",
          "height": 353
        }
      },
      "outputs": [
        {
          "output_type": "display_data",
          "data": {
            "text/plain": [
              "<IPython.core.display.SVG object>"
            ],
            "image/svg+xml": "<svg xmlns=\"http://www.w3.org/2000/svg\" xmlns:xlink=\"http://www.w3.org/1999/xlink\" width=\"228pt\" height=\"249pt\" viewBox=\"0.00 0.00 228.00 249.00\">\n<g id=\"graph0\" class=\"graph\" transform=\"scale(1 1) rotate(0) translate(4 245)\">\n<title>structs</title>\n<text text-anchor=\"middle\" x=\"110\" y=\"-7.8\" font-family=\"Times,serif\" font-size=\"14.00\" fill=\"#4a4a4a\">Inference in   0.58ms</text>\n<!-- c -->\n<g id=\"node1\" class=\"node\">\n<title>c</title>\n<polygon fill=\"#e0e0e0\" stroke=\"#000000\" points=\"160,-241 59,-241 59,-199 160,-199 160,-241\"/>\n<svg viewBox=\"0 0 132.1625 53.538125\" width=\"101px\" height=\"42px\" preserveAspectRatio=\"xMinYMin meet\" x=\"59\" y=\"-241\"> <metadata>\n  <rdf:RDF xmlns:dc=\"http://purl.org/dc/elements/1.1/\" xmlns:cc=\"http://creativecommons.org/ns#\" xmlns:rdf=\"http://www.w3.org/1999/02/22-rdf-syntax-ns#\">\n   <cc:Work>\n    <dc:type rdf:resource=\"http://purl.org/dc/dcmitype/StillImage\"/>\n    <dc:date>2024-01-24T19:31:37.205727</dc:date>\n    <dc:format>image/svg+xml</dc:format>\n    <dc:creator>\n     <cc:Agent>\n      <dc:title>Matplotlib v3.7.1, https://matplotlib.org/</dc:title>\n     </cc:Agent>\n    </dc:creator>\n   </cc:Work>\n  </rdf:RDF>\n </metadata>\n <defs>\n  <style type=\"text/css\">*{stroke-linejoin: round; stroke-linecap: butt}</style>\n </defs>\n <g id=\"figure_1\">\n  <g id=\"patch_1\">\n   <path d=\"M 0 53.538125  L 132.1625 53.538125  L 132.1625 0  L 0 0  z \" style=\"fill: #e0e0e0\"/>\n  </g>\n  <g id=\"axes_1\">\n   <g id=\"patch_2\">\n    <path d=\"M 16.9625 46.438125  L 128.5625 46.438125  L 128.5625 18.718125  L 16.9625 18.718125  z \" style=\"fill: #ffffff\"/>\n   </g>\n   <g id=\"patch_3\">\n    <path d=\"M 16.9625 46.438125  L 83.9225 46.438125  L 83.9225 34.118125  L 16.9625 34.118125  z \" clip-path=\"url(#p74a69e9ed3)\" style=\"fill: #8fbc8f\"/>\n   </g>\n   <g id=\"patch_4\">\n    <path d=\"M 16.9625 31.038125  L 61.6025 31.038125  L 61.6025 18.718125  L 16.9625 18.718125  z \" clip-path=\"url(#p74a69e9ed3)\" style=\"fill: #8fbc8f\"/>\n   </g>\n   <g id=\"matplotlib.axis_1\">\n    <g id=\"xtick_1\">\n     <g id=\"line2d_1\">\n      <path d=\"M 16.9625 46.438125  L 16.9625 18.718125  \" clip-path=\"url(#p74a69e9ed3)\" style=\"fill: none; stroke: #b0b0b0; stroke-width: 0.8; stroke-linecap: square\"/>\n     </g>\n     <g id=\"line2d_2\">\n      <defs>\n       <path id=\"mae5407878c\" d=\"M 0 0  L 0 3.5  \" style=\"stroke: #000000; stroke-width: 0.8\"/>\n      </defs>\n      <g>\n       <use xlink:href=\"#mae5407878c\" x=\"16.9625\" y=\"46.438125\" style=\"stroke: #000000; stroke-width: 0.8\"/>\n      </g>\n     </g>\n    </g>\n    <g id=\"xtick_2\">\n     <g id=\"line2d_3\">\n      <path d=\"M 72.7625 46.438125  L 72.7625 18.718125  \" clip-path=\"url(#p74a69e9ed3)\" style=\"fill: none; stroke: #b0b0b0; stroke-width: 0.8; stroke-linecap: square\"/>\n     </g>\n     <g id=\"line2d_4\">\n      <g>\n       <use xlink:href=\"#mae5407878c\" x=\"72.7625\" y=\"46.438125\" style=\"stroke: #000000; stroke-width: 0.8\"/>\n      </g>\n     </g>\n    </g>\n    <g id=\"xtick_3\">\n     <g id=\"line2d_5\">\n      <path d=\"M 128.5625 46.438125  L 128.5625 18.718125  \" clip-path=\"url(#p74a69e9ed3)\" style=\"fill: none; stroke: #b0b0b0; stroke-width: 0.8; stroke-linecap: square\"/>\n     </g>\n     <g id=\"line2d_6\">\n      <g>\n       <use xlink:href=\"#mae5407878c\" x=\"128.5625\" y=\"46.438125\" style=\"stroke: #000000; stroke-width: 0.8\"/>\n      </g>\n     </g>\n    </g>\n   </g>\n   <g id=\"matplotlib.axis_2\">\n    <g id=\"ytick_1\">\n     <g id=\"line2d_7\">\n      <defs>\n       <path id=\"m77cb177c87\" d=\"M 0 0  L -3.5 0  \" style=\"stroke: #000000; stroke-width: 0.8\"/>\n      </defs>\n      <g>\n       <use xlink:href=\"#m77cb177c87\" x=\"16.9625\" y=\"40.278125\" style=\"stroke: #000000; stroke-width: 0.8\"/>\n      </g>\n     </g>\n     <g id=\"text_1\">\n      <!-- 1 -->\n      <g transform=\"translate(3.6 44.077344) scale(0.1 -0.1)\">\n       <defs>\n        <path id=\"DejaVuSans-31\" d=\"M 794 531  L 1825 531  L 1825 4091  L 703 3866  L 703 4441  L 1819 4666  L 2450 4666  L 2450 531  L 3481 531  L 3481 0  L 794 0  L 794 531  z \" transform=\"scale(0.015625)\"/>\n       </defs>\n       <use xlink:href=\"#DejaVuSans-31\"/>\n      </g>\n     </g>\n    </g>\n    <g id=\"ytick_2\">\n     <g id=\"line2d_8\">\n      <g>\n       <use xlink:href=\"#m77cb177c87\" x=\"16.9625\" y=\"24.878125\" style=\"stroke: #000000; stroke-width: 0.8\"/>\n      </g>\n     </g>\n     <g id=\"text_2\">\n      <!-- 0 -->\n      <g transform=\"translate(3.6 28.677344) scale(0.1 -0.1)\">\n       <defs>\n        <path id=\"DejaVuSans-30\" d=\"M 2034 4250  Q 1547 4250 1301 3770  Q 1056 3291 1056 2328  Q 1056 1369 1301 889  Q 1547 409 2034 409  Q 2525 409 2770 889  Q 3016 1369 3016 2328  Q 3016 3291 2770 3770  Q 2525 4250 2034 4250  z M 2034 4750  Q 2819 4750 3233 4129  Q 3647 3509 3647 2328  Q 3647 1150 3233 529  Q 2819 -91 2034 -91  Q 1250 -91 836 529  Q 422 1150 422 2328  Q 422 3509 836 4129  Q 1250 4750 2034 4750  z \" transform=\"scale(0.015625)\"/>\n       </defs>\n       <use xlink:href=\"#DejaVuSans-30\"/>\n      </g>\n     </g>\n    </g>\n   </g>\n   <g id=\"patch_5\">\n    <path d=\"M 16.9625 46.438125  L 16.9625 18.718125  \" style=\"fill: none; stroke: #000000; stroke-width: 0.8; stroke-linejoin: miter; stroke-linecap: square\"/>\n   </g>\n   <g id=\"patch_6\">\n    <path d=\"M 128.5625 46.438125  L 128.5625 18.718125  \" style=\"fill: none; stroke: #000000; stroke-width: 0.8; stroke-linejoin: miter; stroke-linecap: square\"/>\n   </g>\n   <g id=\"patch_7\">\n    <path d=\"M 16.9625 46.438125  L 128.5625 46.438125  \" style=\"fill: none; stroke: #000000; stroke-width: 0.8; stroke-linejoin: miter; stroke-linecap: square\"/>\n   </g>\n   <g id=\"patch_8\">\n    <path d=\"M 16.9625 18.718125  L 128.5625 18.718125  \" style=\"fill: none; stroke: #000000; stroke-width: 0.8; stroke-linejoin: miter; stroke-linecap: square\"/>\n   </g>\n   <g id=\"text_3\">\n    <!-- 60.00% -->\n    <g transform=\"translate(90.432812 44.358438) scale(0.1 -0.1)\">\n     <defs>\n      <path id=\"DejaVuSans-36\" d=\"M 2113 2584  Q 1688 2584 1439 2293  Q 1191 2003 1191 1497  Q 1191 994 1439 701  Q 1688 409 2113 409  Q 2538 409 2786 701  Q 3034 994 3034 1497  Q 3034 2003 2786 2293  Q 2538 2584 2113 2584  z M 3366 4563  L 3366 3988  Q 3128 4100 2886 4159  Q 2644 4219 2406 4219  Q 1781 4219 1451 3797  Q 1122 3375 1075 2522  Q 1259 2794 1537 2939  Q 1816 3084 2150 3084  Q 2853 3084 3261 2657  Q 3669 2231 3669 1497  Q 3669 778 3244 343  Q 2819 -91 2113 -91  Q 1303 -91 875 529  Q 447 1150 447 2328  Q 447 3434 972 4092  Q 1497 4750 2381 4750  Q 2619 4750 2861 4703  Q 3103 4656 3366 4563  z \" transform=\"scale(0.015625)\"/>\n      <path id=\"DejaVuSans-2e\" d=\"M 684 794  L 1344 794  L 1344 0  L 684 0  L 684 794  z \" transform=\"scale(0.015625)\"/>\n      <path id=\"DejaVuSans-25\" d=\"M 4653 2053  Q 4381 2053 4226 1822  Q 4072 1591 4072 1178  Q 4072 772 4226 539  Q 4381 306 4653 306  Q 4919 306 5073 539  Q 5228 772 5228 1178  Q 5228 1588 5073 1820  Q 4919 2053 4653 2053  z M 4653 2450  Q 5147 2450 5437 2106  Q 5728 1763 5728 1178  Q 5728 594 5436 251  Q 5144 -91 4653 -91  Q 4153 -91 3862 251  Q 3572 594 3572 1178  Q 3572 1766 3864 2108  Q 4156 2450 4653 2450  z M 1428 4353  Q 1159 4353 1004 4120  Q 850 3888 850 3481  Q 850 3069 1003 2837  Q 1156 2606 1428 2606  Q 1700 2606 1854 2837  Q 2009 3069 2009 3481  Q 2009 3884 1853 4118  Q 1697 4353 1428 4353  z M 4250 4750  L 4750 4750  L 1831 -91  L 1331 -91  L 4250 4750  z M 1428 4750  Q 1922 4750 2215 4408  Q 2509 4066 2509 3481  Q 2509 2891 2217 2550  Q 1925 2209 1428 2209  Q 931 2209 642 2551  Q 353 2894 353 3481  Q 353 4063 643 4406  Q 934 4750 1428 4750  z \" transform=\"scale(0.015625)\"/>\n     </defs>\n     <use xlink:href=\"#DejaVuSans-36\"/>\n     <use xlink:href=\"#DejaVuSans-30\" x=\"63.623047\"/>\n     <use xlink:href=\"#DejaVuSans-2e\" x=\"127.246094\"/>\n     <use xlink:href=\"#DejaVuSans-30\" x=\"159.033203\"/>\n     <use xlink:href=\"#DejaVuSans-30\" x=\"222.65625\"/>\n     <use xlink:href=\"#DejaVuSans-25\" x=\"286.279297\"/>\n    </g>\n   </g>\n   <g id=\"text_4\">\n    <!-- 40.00% -->\n    <g transform=\"translate(90.432812 28.958438) scale(0.1 -0.1)\">\n     <defs>\n      <path id=\"DejaVuSans-34\" d=\"M 2419 4116  L 825 1625  L 2419 1625  L 2419 4116  z M 2253 4666  L 3047 4666  L 3047 1625  L 3713 1625  L 3713 1100  L 3047 1100  L 3047 0  L 2419 0  L 2419 1100  L 313 1100  L 313 1709  L 2253 4666  z \" transform=\"scale(0.015625)\"/>\n     </defs>\n     <use xlink:href=\"#DejaVuSans-34\"/>\n     <use xlink:href=\"#DejaVuSans-30\" x=\"63.623047\"/>\n     <use xlink:href=\"#DejaVuSans-2e\" x=\"127.246094\"/>\n     <use xlink:href=\"#DejaVuSans-30\" x=\"159.033203\"/>\n     <use xlink:href=\"#DejaVuSans-30\" x=\"222.65625\"/>\n     <use xlink:href=\"#DejaVuSans-25\" x=\"286.279297\"/>\n    </g>\n   </g>\n   <g id=\"text_5\">\n    <!-- c -->\n    <g transform=\"translate(69.463437 12.718125) scale(0.12 -0.12)\">\n     <defs>\n      <path id=\"DejaVuSans-63\" d=\"M 3122 3366  L 3122 2828  Q 2878 2963 2633 3030  Q 2388 3097 2138 3097  Q 1578 3097 1268 2742  Q 959 2388 959 1747  Q 959 1106 1268 751  Q 1578 397 2138 397  Q 2388 397 2633 464  Q 2878 531 3122 666  L 3122 134  Q 2881 22 2623 -34  Q 2366 -91 2075 -91  Q 1284 -91 818 406  Q 353 903 353 1747  Q 353 2603 823 3093  Q 1294 3584 2113 3584  Q 2378 3584 2631 3529  Q 2884 3475 3122 3366  z \" transform=\"scale(0.015625)\"/>\n     </defs>\n     <use xlink:href=\"#DejaVuSans-63\"/>\n    </g>\n   </g>\n  </g>\n </g>\n <defs>\n  <clipPath id=\"p74a69e9ed3\">\n   <rect x=\"16.9625\" y=\"18.718125\" width=\"111.6\" height=\"27.72\"/>\n  </clipPath>\n </defs>\n</svg>\n\n</g>\n<!-- s -->\n<g id=\"node2\" class=\"node\">\n<title>s</title>\n<polygon fill=\"#e0e0e0\" stroke=\"#000000\" points=\"101,-163 0,-163 0,-111 101,-111 101,-163\"/>\n<svg viewBox=\"0 0 132.1625 66.9755\" width=\"101px\" height=\"52px\" preserveAspectRatio=\"xMinYMin meet\" x=\"0\" y=\"-163\"> <metadata>\n  <rdf:RDF xmlns:dc=\"http://purl.org/dc/elements/1.1/\" xmlns:cc=\"http://creativecommons.org/ns#\" xmlns:rdf=\"http://www.w3.org/1999/02/22-rdf-syntax-ns#\">\n   <cc:Work>\n    <dc:type rdf:resource=\"http://purl.org/dc/dcmitype/StillImage\"/>\n    <dc:date>2024-01-24T19:31:37.466192</dc:date>\n    <dc:format>image/svg+xml</dc:format>\n    <dc:creator>\n     <cc:Agent>\n      <dc:title>Matplotlib v3.7.1, https://matplotlib.org/</dc:title>\n     </cc:Agent>\n    </dc:creator>\n   </cc:Work>\n  </rdf:RDF>\n </metadata>\n <defs>\n  <style type=\"text/css\">*{stroke-linejoin: round; stroke-linecap: butt}</style>\n </defs>\n <g id=\"figure_1\">\n  <g id=\"patch_1\">\n   <path d=\"M 0 66.9755  L 132.1625 66.9755  L 132.1625 0  L 0 0  z \" style=\"fill: #e0e0e0\"/>\n  </g>\n  <g id=\"axes_1\">\n   <g id=\"patch_2\">\n    <path d=\"M 16.9625 59.8755  L 128.5625 59.8755  L 128.5625 32.1555  L 16.9625 32.1555  z \" style=\"fill: #ffffff\"/>\n   </g>\n   <g id=\"patch_3\">\n    <path d=\"M 16.9625 59.8755  L 45.9785 59.8755  L 45.9785 47.5555  L 16.9625 47.5555  z \" clip-path=\"url(#p7d3f156eaf)\" style=\"fill: #8fbc8f\"/>\n   </g>\n   <g id=\"patch_4\">\n    <path d=\"M 16.9625 44.4755  L 99.5465 44.4755  L 99.5465 32.1555  L 16.9625 32.1555  z \" clip-path=\"url(#p7d3f156eaf)\" style=\"fill: #8fbc8f\"/>\n   </g>\n   <g id=\"matplotlib.axis_1\">\n    <g id=\"xtick_1\">\n     <g id=\"line2d_1\">\n      <path d=\"M 16.9625 59.8755  L 16.9625 32.1555  \" clip-path=\"url(#p7d3f156eaf)\" style=\"fill: none; stroke: #b0b0b0; stroke-width: 0.8; stroke-linecap: square\"/>\n     </g>\n     <g id=\"line2d_2\">\n      <defs>\n       <path id=\"ma8e219b86e\" d=\"M 0 0  L 0 3.5  \" style=\"stroke: #000000; stroke-width: 0.8\"/>\n      </defs>\n      <g>\n       <use xlink:href=\"#ma8e219b86e\" x=\"16.9625\" y=\"59.8755\" style=\"stroke: #000000; stroke-width: 0.8\"/>\n      </g>\n     </g>\n    </g>\n    <g id=\"xtick_2\">\n     <g id=\"line2d_3\">\n      <path d=\"M 72.7625 59.8755  L 72.7625 32.1555  \" clip-path=\"url(#p7d3f156eaf)\" style=\"fill: none; stroke: #b0b0b0; stroke-width: 0.8; stroke-linecap: square\"/>\n     </g>\n     <g id=\"line2d_4\">\n      <g>\n       <use xlink:href=\"#ma8e219b86e\" x=\"72.7625\" y=\"59.8755\" style=\"stroke: #000000; stroke-width: 0.8\"/>\n      </g>\n     </g>\n    </g>\n    <g id=\"xtick_3\">\n     <g id=\"line2d_5\">\n      <path d=\"M 128.5625 59.8755  L 128.5625 32.1555  \" clip-path=\"url(#p7d3f156eaf)\" style=\"fill: none; stroke: #b0b0b0; stroke-width: 0.8; stroke-linecap: square\"/>\n     </g>\n     <g id=\"line2d_6\">\n      <g>\n       <use xlink:href=\"#ma8e219b86e\" x=\"128.5625\" y=\"59.8755\" style=\"stroke: #000000; stroke-width: 0.8\"/>\n      </g>\n     </g>\n    </g>\n   </g>\n   <g id=\"matplotlib.axis_2\">\n    <g id=\"ytick_1\">\n     <g id=\"line2d_7\">\n      <defs>\n       <path id=\"mf7ba3477b8\" d=\"M 0 0  L -3.5 0  \" style=\"stroke: #000000; stroke-width: 0.8\"/>\n      </defs>\n      <g>\n       <use xlink:href=\"#mf7ba3477b8\" x=\"16.9625\" y=\"53.7155\" style=\"stroke: #000000; stroke-width: 0.8\"/>\n      </g>\n     </g>\n     <g id=\"text_1\">\n      <!-- 1 -->\n      <g transform=\"translate(3.6 57.514719) scale(0.1 -0.1)\">\n       <defs>\n        <path id=\"DejaVuSans-31\" d=\"M 794 531  L 1825 531  L 1825 4091  L 703 3866  L 703 4441  L 1819 4666  L 2450 4666  L 2450 531  L 3481 531  L 3481 0  L 794 0  L 794 531  z \" transform=\"scale(0.015625)\"/>\n       </defs>\n       <use xlink:href=\"#DejaVuSans-31\"/>\n      </g>\n     </g>\n    </g>\n    <g id=\"ytick_2\">\n     <g id=\"line2d_8\">\n      <g>\n       <use xlink:href=\"#mf7ba3477b8\" x=\"16.9625\" y=\"38.3155\" style=\"stroke: #000000; stroke-width: 0.8\"/>\n      </g>\n     </g>\n     <g id=\"text_2\">\n      <!-- 0 -->\n      <g transform=\"translate(3.6 42.114719) scale(0.1 -0.1)\">\n       <defs>\n        <path id=\"DejaVuSans-30\" d=\"M 2034 4250  Q 1547 4250 1301 3770  Q 1056 3291 1056 2328  Q 1056 1369 1301 889  Q 1547 409 2034 409  Q 2525 409 2770 889  Q 3016 1369 3016 2328  Q 3016 3291 2770 3770  Q 2525 4250 2034 4250  z M 2034 4750  Q 2819 4750 3233 4129  Q 3647 3509 3647 2328  Q 3647 1150 3233 529  Q 2819 -91 2034 -91  Q 1250 -91 836 529  Q 422 1150 422 2328  Q 422 3509 836 4129  Q 1250 4750 2034 4750  z \" transform=\"scale(0.015625)\"/>\n       </defs>\n       <use xlink:href=\"#DejaVuSans-30\"/>\n      </g>\n     </g>\n    </g>\n   </g>\n   <g id=\"patch_5\">\n    <path d=\"M 16.9625 59.8755  L 16.9625 32.1555  \" style=\"fill: none; stroke: #000000; stroke-width: 0.8; stroke-linejoin: miter; stroke-linecap: square\"/>\n   </g>\n   <g id=\"patch_6\">\n    <path d=\"M 128.5625 59.8755  L 128.5625 32.1555  \" style=\"fill: none; stroke: #000000; stroke-width: 0.8; stroke-linejoin: miter; stroke-linecap: square\"/>\n   </g>\n   <g id=\"patch_7\">\n    <path d=\"M 16.9625 59.8755  L 128.5625 59.8755  \" style=\"fill: none; stroke: #000000; stroke-width: 0.8; stroke-linejoin: miter; stroke-linecap: square\"/>\n   </g>\n   <g id=\"patch_8\">\n    <path d=\"M 16.9625 32.1555  L 128.5625 32.1555  \" style=\"fill: none; stroke: #000000; stroke-width: 0.8; stroke-linejoin: miter; stroke-linecap: square\"/>\n   </g>\n   <g id=\"text_3\">\n    <!-- 26.00% -->\n    <g transform=\"translate(90.432812 57.795812) scale(0.1 -0.1)\">\n     <defs>\n      <path id=\"DejaVuSans-32\" d=\"M 1228 531  L 3431 531  L 3431 0  L 469 0  L 469 531  Q 828 903 1448 1529  Q 2069 2156 2228 2338  Q 2531 2678 2651 2914  Q 2772 3150 2772 3378  Q 2772 3750 2511 3984  Q 2250 4219 1831 4219  Q 1534 4219 1204 4116  Q 875 4013 500 3803  L 500 4441  Q 881 4594 1212 4672  Q 1544 4750 1819 4750  Q 2544 4750 2975 4387  Q 3406 4025 3406 3419  Q 3406 3131 3298 2873  Q 3191 2616 2906 2266  Q 2828 2175 2409 1742  Q 1991 1309 1228 531  z \" transform=\"scale(0.015625)\"/>\n      <path id=\"DejaVuSans-36\" d=\"M 2113 2584  Q 1688 2584 1439 2293  Q 1191 2003 1191 1497  Q 1191 994 1439 701  Q 1688 409 2113 409  Q 2538 409 2786 701  Q 3034 994 3034 1497  Q 3034 2003 2786 2293  Q 2538 2584 2113 2584  z M 3366 4563  L 3366 3988  Q 3128 4100 2886 4159  Q 2644 4219 2406 4219  Q 1781 4219 1451 3797  Q 1122 3375 1075 2522  Q 1259 2794 1537 2939  Q 1816 3084 2150 3084  Q 2853 3084 3261 2657  Q 3669 2231 3669 1497  Q 3669 778 3244 343  Q 2819 -91 2113 -91  Q 1303 -91 875 529  Q 447 1150 447 2328  Q 447 3434 972 4092  Q 1497 4750 2381 4750  Q 2619 4750 2861 4703  Q 3103 4656 3366 4563  z \" transform=\"scale(0.015625)\"/>\n      <path id=\"DejaVuSans-2e\" d=\"M 684 794  L 1344 794  L 1344 0  L 684 0  L 684 794  z \" transform=\"scale(0.015625)\"/>\n      <path id=\"DejaVuSans-25\" d=\"M 4653 2053  Q 4381 2053 4226 1822  Q 4072 1591 4072 1178  Q 4072 772 4226 539  Q 4381 306 4653 306  Q 4919 306 5073 539  Q 5228 772 5228 1178  Q 5228 1588 5073 1820  Q 4919 2053 4653 2053  z M 4653 2450  Q 5147 2450 5437 2106  Q 5728 1763 5728 1178  Q 5728 594 5436 251  Q 5144 -91 4653 -91  Q 4153 -91 3862 251  Q 3572 594 3572 1178  Q 3572 1766 3864 2108  Q 4156 2450 4653 2450  z M 1428 4353  Q 1159 4353 1004 4120  Q 850 3888 850 3481  Q 850 3069 1003 2837  Q 1156 2606 1428 2606  Q 1700 2606 1854 2837  Q 2009 3069 2009 3481  Q 2009 3884 1853 4118  Q 1697 4353 1428 4353  z M 4250 4750  L 4750 4750  L 1831 -91  L 1331 -91  L 4250 4750  z M 1428 4750  Q 1922 4750 2215 4408  Q 2509 4066 2509 3481  Q 2509 2891 2217 2550  Q 1925 2209 1428 2209  Q 931 2209 642 2551  Q 353 2894 353 3481  Q 353 4063 643 4406  Q 934 4750 1428 4750  z \" transform=\"scale(0.015625)\"/>\n     </defs>\n     <use xlink:href=\"#DejaVuSans-32\"/>\n     <use xlink:href=\"#DejaVuSans-36\" x=\"63.623047\"/>\n     <use xlink:href=\"#DejaVuSans-2e\" x=\"127.246094\"/>\n     <use xlink:href=\"#DejaVuSans-30\" x=\"159.033203\"/>\n     <use xlink:href=\"#DejaVuSans-30\" x=\"222.65625\"/>\n     <use xlink:href=\"#DejaVuSans-25\" x=\"286.279297\"/>\n    </g>\n   </g>\n   <g id=\"text_4\">\n    <!-- 74.00% -->\n    <g transform=\"translate(90.432812 42.395812) scale(0.1 -0.1)\">\n     <defs>\n      <path id=\"DejaVuSans-37\" d=\"M 525 4666  L 3525 4666  L 3525 4397  L 1831 0  L 1172 0  L 2766 4134  L 525 4134  L 525 4666  z \" transform=\"scale(0.015625)\"/>\n      <path id=\"DejaVuSans-34\" d=\"M 2419 4116  L 825 1625  L 2419 1625  L 2419 4116  z M 2253 4666  L 3047 4666  L 3047 1625  L 3713 1625  L 3713 1100  L 3047 1100  L 3047 0  L 2419 0  L 2419 1100  L 313 1100  L 313 1709  L 2253 4666  z \" transform=\"scale(0.015625)\"/>\n     </defs>\n     <use xlink:href=\"#DejaVuSans-37\"/>\n     <use xlink:href=\"#DejaVuSans-34\" x=\"63.623047\"/>\n     <use xlink:href=\"#DejaVuSans-2e\" x=\"127.246094\"/>\n     <use xlink:href=\"#DejaVuSans-30\" x=\"159.033203\"/>\n     <use xlink:href=\"#DejaVuSans-30\" x=\"222.65625\"/>\n     <use xlink:href=\"#DejaVuSans-25\" x=\"286.279297\"/>\n    </g>\n   </g>\n   <g id=\"text_5\">\n    <!-- s -->\n    <g transform=\"translate(69.636875 12.718125) scale(0.12 -0.12)\">\n     <defs>\n      <path id=\"DejaVuSans-73\" d=\"M 2834 3397  L 2834 2853  Q 2591 2978 2328 3040  Q 2066 3103 1784 3103  Q 1356 3103 1142 2972  Q 928 2841 928 2578  Q 928 2378 1081 2264  Q 1234 2150 1697 2047  L 1894 2003  Q 2506 1872 2764 1633  Q 3022 1394 3022 966  Q 3022 478 2636 193  Q 2250 -91 1575 -91  Q 1294 -91 989 -36  Q 684 19 347 128  L 347 722  Q 666 556 975 473  Q 1284 391 1588 391  Q 1994 391 2212 530  Q 2431 669 2431 922  Q 2431 1156 2273 1281  Q 2116 1406 1581 1522  L 1381 1569  Q 847 1681 609 1914  Q 372 2147 372 2553  Q 372 3047 722 3315  Q 1072 3584 1716 3584  Q 2034 3584 2315 3537  Q 2597 3491 2834 3397  z \" transform=\"scale(0.015625)\"/>\n     </defs>\n     <use xlink:href=\"#DejaVuSans-73\"/>\n    </g>\n    <!-- $\\mu=0.26$; $\\sigma=0.44$ -->\n    <g transform=\"translate(20.0825 26.1555) scale(0.12 -0.12)\">\n     <defs>\n      <path id=\"DejaVuSans-Oblique-3bc\" d=\"M -84 -1331  L 856 3500  L 1434 3500  L 1009 1322  Q 997 1256 987 1175  Q 978 1094 978 1013  Q 978 722 1161 565  Q 1344 409 1684 409  Q 2147 409 2431 671  Q 2716 934 2816 1459  L 3213 3500  L 3788 3500  L 3266 809  Q 3253 750 3248 706  Q 3244 663 3244 628  Q 3244 531 3283 486  Q 3322 441 3406 441  Q 3438 441 3492 456  Q 3547 472 3647 513  L 3559 50  Q 3422 -19 3297 -55  Q 3172 -91 3053 -91  Q 2847 -91 2730 40  Q 2613 172 2613 403  Q 2438 153 2195 31  Q 1953 -91 1625 -91  Q 1334 -91 1117 43  Q 900 178 831 397  L 494 -1331  L -84 -1331  z \" transform=\"scale(0.015625)\"/>\n      <path id=\"DejaVuSans-3d\" d=\"M 678 2906  L 4684 2906  L 4684 2381  L 678 2381  L 678 2906  z M 678 1631  L 4684 1631  L 4684 1100  L 678 1100  L 678 1631  z \" transform=\"scale(0.015625)\"/>\n      <path id=\"DejaVuSans-3b\" d=\"M 750 3309  L 1409 3309  L 1409 2516  L 750 2516  L 750 3309  z M 750 794  L 1409 794  L 1409 256  L 897 -744  L 494 -744  L 750 256  L 750 794  z \" transform=\"scale(0.015625)\"/>\n      <path id=\"DejaVuSans-20\" transform=\"scale(0.015625)\"/>\n      <path id=\"DejaVuSans-Oblique-3c3\" d=\"M 2219 3044  Q 1744 3044 1422 2700  Q 1081 2341 969 1747  Q 844 1119 1044 756  Q 1241 397 1706 397  Q 2166 397 2503 759  Q 2844 1122 2966 1747  Q 3075 2319 2881 2700  Q 2700 3044 2219 3044  z M 2309 3503  L 4219 3500  L 4106 2925  L 3463 2925  Q 3706 2438 3575 1747  Q 3406 888 2884 400  Q 2359 -91 1609 -91  Q 856 -91 525 400  Q 194 888 363 1747  Q 528 2609 1050 3097  Q 1484 3503 2309 3503  z \" transform=\"scale(0.015625)\"/>\n     </defs>\n     <use xlink:href=\"#DejaVuSans-Oblique-3bc\" transform=\"translate(0 0.78125)\"/>\n     <use xlink:href=\"#DejaVuSans-3d\" transform=\"translate(83.105469 0.78125)\"/>\n     <use xlink:href=\"#DejaVuSans-30\" transform=\"translate(186.376953 0.78125)\"/>\n     <use xlink:href=\"#DejaVuSans-2e\" transform=\"translate(250 0.78125)\"/>\n     <use xlink:href=\"#DejaVuSans-32\" transform=\"translate(276.287109 0.78125)\"/>\n     <use xlink:href=\"#DejaVuSans-36\" transform=\"translate(339.910156 0.78125)\"/>\n     <use xlink:href=\"#DejaVuSans-3b\" transform=\"translate(403.533203 0.78125)\"/>\n     <use xlink:href=\"#DejaVuSans-20\" transform=\"translate(437.224609 0.78125)\"/>\n     <use xlink:href=\"#DejaVuSans-Oblique-3c3\" transform=\"translate(469.011719 0.78125)\"/>\n     <use xlink:href=\"#DejaVuSans-3d\" transform=\"translate(551.873047 0.78125)\"/>\n     <use xlink:href=\"#DejaVuSans-30\" transform=\"translate(655.144531 0.78125)\"/>\n     <use xlink:href=\"#DejaVuSans-2e\" transform=\"translate(718.767578 0.78125)\"/>\n     <use xlink:href=\"#DejaVuSans-34\" transform=\"translate(750.554688 0.78125)\"/>\n     <use xlink:href=\"#DejaVuSans-34\" transform=\"translate(814.177734 0.78125)\"/>\n    </g>\n   </g>\n  </g>\n </g>\n <defs>\n  <clipPath id=\"p7d3f156eaf\">\n   <rect x=\"16.9625\" y=\"32.1555\" width=\"111.6\" height=\"27.72\"/>\n  </clipPath>\n </defs>\n</svg>\n\n</g>\n<!-- c&#45;&gt;s -->\n<g id=\"edge1\" class=\"edge\">\n<title>c-&gt;s</title>\n<g id=\"a_edge1\"><a xlink:title=\"0 → 1\">\n<path fill=\"none\" stroke=\"#4a4a4a\" d=\"M94.92,-198.98C88.79,-190.57 81.51,-180.57 74.62,-171.12\"/>\n<polygon fill=\"#4a4a4a\" stroke=\"#4a4a4a\" points=\"77.44,-169.03 68.72,-163.01 71.78,-173.16 77.44,-169.03\"/>\n</a>\n</g>\n</g>\n<!-- r -->\n<g id=\"node3\" class=\"node\">\n<title>r</title>\n<polygon fill=\"#e0e0e0\" stroke=\"#000000\" points=\"220,-163 119,-163 119,-111 220,-111 220,-163\"/>\n<svg viewBox=\"0 0 132.1625 66.9755\" width=\"101px\" height=\"52px\" preserveAspectRatio=\"xMinYMin meet\" x=\"119\" y=\"-163\"> <metadata>\n  <rdf:RDF xmlns:dc=\"http://purl.org/dc/elements/1.1/\" xmlns:cc=\"http://creativecommons.org/ns#\" xmlns:rdf=\"http://www.w3.org/1999/02/22-rdf-syntax-ns#\">\n   <cc:Work>\n    <dc:type rdf:resource=\"http://purl.org/dc/dcmitype/StillImage\"/>\n    <dc:date>2024-01-24T19:31:37.896404</dc:date>\n    <dc:format>image/svg+xml</dc:format>\n    <dc:creator>\n     <cc:Agent>\n      <dc:title>Matplotlib v3.7.1, https://matplotlib.org/</dc:title>\n     </cc:Agent>\n    </dc:creator>\n   </cc:Work>\n  </rdf:RDF>\n </metadata>\n <defs>\n  <style type=\"text/css\">*{stroke-linejoin: round; stroke-linecap: butt}</style>\n </defs>\n <g id=\"figure_1\">\n  <g id=\"patch_1\">\n   <path d=\"M 0 66.9755  L 132.1625 66.9755  L 132.1625 0  L 0 0  z \" style=\"fill: #e0e0e0\"/>\n  </g>\n  <g id=\"axes_1\">\n   <g id=\"patch_2\">\n    <path d=\"M 16.9625 59.8755  L 128.5625 59.8755  L 128.5625 32.1555  L 16.9625 32.1555  z \" style=\"fill: #ffffff\"/>\n   </g>\n   <g id=\"patch_3\">\n    <path d=\"M 16.9625 59.8755  L 79.4585 59.8755  L 79.4585 47.5555  L 16.9625 47.5555  z \" clip-path=\"url(#pbf7950f5a8)\" style=\"fill: #8fbc8f\"/>\n   </g>\n   <g id=\"patch_4\">\n    <path d=\"M 16.9625 44.4755  L 66.0665 44.4755  L 66.0665 32.1555  L 16.9625 32.1555  z \" clip-path=\"url(#pbf7950f5a8)\" style=\"fill: #8fbc8f\"/>\n   </g>\n   <g id=\"matplotlib.axis_1\">\n    <g id=\"xtick_1\">\n     <g id=\"line2d_1\">\n      <path d=\"M 16.9625 59.8755  L 16.9625 32.1555  \" clip-path=\"url(#pbf7950f5a8)\" style=\"fill: none; stroke: #b0b0b0; stroke-width: 0.8; stroke-linecap: square\"/>\n     </g>\n     <g id=\"line2d_2\">\n      <defs>\n       <path id=\"m00999f2380\" d=\"M 0 0  L 0 3.5  \" style=\"stroke: #000000; stroke-width: 0.8\"/>\n      </defs>\n      <g>\n       <use xlink:href=\"#m00999f2380\" x=\"16.9625\" y=\"59.8755\" style=\"stroke: #000000; stroke-width: 0.8\"/>\n      </g>\n     </g>\n    </g>\n    <g id=\"xtick_2\">\n     <g id=\"line2d_3\">\n      <path d=\"M 72.7625 59.8755  L 72.7625 32.1555  \" clip-path=\"url(#pbf7950f5a8)\" style=\"fill: none; stroke: #b0b0b0; stroke-width: 0.8; stroke-linecap: square\"/>\n     </g>\n     <g id=\"line2d_4\">\n      <g>\n       <use xlink:href=\"#m00999f2380\" x=\"72.7625\" y=\"59.8755\" style=\"stroke: #000000; stroke-width: 0.8\"/>\n      </g>\n     </g>\n    </g>\n    <g id=\"xtick_3\">\n     <g id=\"line2d_5\">\n      <path d=\"M 128.5625 59.8755  L 128.5625 32.1555  \" clip-path=\"url(#pbf7950f5a8)\" style=\"fill: none; stroke: #b0b0b0; stroke-width: 0.8; stroke-linecap: square\"/>\n     </g>\n     <g id=\"line2d_6\">\n      <g>\n       <use xlink:href=\"#m00999f2380\" x=\"128.5625\" y=\"59.8755\" style=\"stroke: #000000; stroke-width: 0.8\"/>\n      </g>\n     </g>\n    </g>\n   </g>\n   <g id=\"matplotlib.axis_2\">\n    <g id=\"ytick_1\">\n     <g id=\"line2d_7\">\n      <defs>\n       <path id=\"m857c03bc1b\" d=\"M 0 0  L -3.5 0  \" style=\"stroke: #000000; stroke-width: 0.8\"/>\n      </defs>\n      <g>\n       <use xlink:href=\"#m857c03bc1b\" x=\"16.9625\" y=\"53.7155\" style=\"stroke: #000000; stroke-width: 0.8\"/>\n      </g>\n     </g>\n     <g id=\"text_1\">\n      <!-- 1 -->\n      <g transform=\"translate(3.6 57.514719) scale(0.1 -0.1)\">\n       <defs>\n        <path id=\"DejaVuSans-31\" d=\"M 794 531  L 1825 531  L 1825 4091  L 703 3866  L 703 4441  L 1819 4666  L 2450 4666  L 2450 531  L 3481 531  L 3481 0  L 794 0  L 794 531  z \" transform=\"scale(0.015625)\"/>\n       </defs>\n       <use xlink:href=\"#DejaVuSans-31\"/>\n      </g>\n     </g>\n    </g>\n    <g id=\"ytick_2\">\n     <g id=\"line2d_8\">\n      <g>\n       <use xlink:href=\"#m857c03bc1b\" x=\"16.9625\" y=\"38.3155\" style=\"stroke: #000000; stroke-width: 0.8\"/>\n      </g>\n     </g>\n     <g id=\"text_2\">\n      <!-- 0 -->\n      <g transform=\"translate(3.6 42.114719) scale(0.1 -0.1)\">\n       <defs>\n        <path id=\"DejaVuSans-30\" d=\"M 2034 4250  Q 1547 4250 1301 3770  Q 1056 3291 1056 2328  Q 1056 1369 1301 889  Q 1547 409 2034 409  Q 2525 409 2770 889  Q 3016 1369 3016 2328  Q 3016 3291 2770 3770  Q 2525 4250 2034 4250  z M 2034 4750  Q 2819 4750 3233 4129  Q 3647 3509 3647 2328  Q 3647 1150 3233 529  Q 2819 -91 2034 -91  Q 1250 -91 836 529  Q 422 1150 422 2328  Q 422 3509 836 4129  Q 1250 4750 2034 4750  z \" transform=\"scale(0.015625)\"/>\n       </defs>\n       <use xlink:href=\"#DejaVuSans-30\"/>\n      </g>\n     </g>\n    </g>\n   </g>\n   <g id=\"patch_5\">\n    <path d=\"M 16.9625 59.8755  L 16.9625 32.1555  \" style=\"fill: none; stroke: #000000; stroke-width: 0.8; stroke-linejoin: miter; stroke-linecap: square\"/>\n   </g>\n   <g id=\"patch_6\">\n    <path d=\"M 128.5625 59.8755  L 128.5625 32.1555  \" style=\"fill: none; stroke: #000000; stroke-width: 0.8; stroke-linejoin: miter; stroke-linecap: square\"/>\n   </g>\n   <g id=\"patch_7\">\n    <path d=\"M 16.9625 59.8755  L 128.5625 59.8755  \" style=\"fill: none; stroke: #000000; stroke-width: 0.8; stroke-linejoin: miter; stroke-linecap: square\"/>\n   </g>\n   <g id=\"patch_8\">\n    <path d=\"M 16.9625 32.1555  L 128.5625 32.1555  \" style=\"fill: none; stroke: #000000; stroke-width: 0.8; stroke-linejoin: miter; stroke-linecap: square\"/>\n   </g>\n   <g id=\"text_3\">\n    <!-- 56.00% -->\n    <g transform=\"translate(90.432812 57.795812) scale(0.1 -0.1)\">\n     <defs>\n      <path id=\"DejaVuSans-35\" d=\"M 691 4666  L 3169 4666  L 3169 4134  L 1269 4134  L 1269 2991  Q 1406 3038 1543 3061  Q 1681 3084 1819 3084  Q 2600 3084 3056 2656  Q 3513 2228 3513 1497  Q 3513 744 3044 326  Q 2575 -91 1722 -91  Q 1428 -91 1123 -41  Q 819 9 494 109  L 494 744  Q 775 591 1075 516  Q 1375 441 1709 441  Q 2250 441 2565 725  Q 2881 1009 2881 1497  Q 2881 1984 2565 2268  Q 2250 2553 1709 2553  Q 1456 2553 1204 2497  Q 953 2441 691 2322  L 691 4666  z \" transform=\"scale(0.015625)\"/>\n      <path id=\"DejaVuSans-36\" d=\"M 2113 2584  Q 1688 2584 1439 2293  Q 1191 2003 1191 1497  Q 1191 994 1439 701  Q 1688 409 2113 409  Q 2538 409 2786 701  Q 3034 994 3034 1497  Q 3034 2003 2786 2293  Q 2538 2584 2113 2584  z M 3366 4563  L 3366 3988  Q 3128 4100 2886 4159  Q 2644 4219 2406 4219  Q 1781 4219 1451 3797  Q 1122 3375 1075 2522  Q 1259 2794 1537 2939  Q 1816 3084 2150 3084  Q 2853 3084 3261 2657  Q 3669 2231 3669 1497  Q 3669 778 3244 343  Q 2819 -91 2113 -91  Q 1303 -91 875 529  Q 447 1150 447 2328  Q 447 3434 972 4092  Q 1497 4750 2381 4750  Q 2619 4750 2861 4703  Q 3103 4656 3366 4563  z \" transform=\"scale(0.015625)\"/>\n      <path id=\"DejaVuSans-2e\" d=\"M 684 794  L 1344 794  L 1344 0  L 684 0  L 684 794  z \" transform=\"scale(0.015625)\"/>\n      <path id=\"DejaVuSans-25\" d=\"M 4653 2053  Q 4381 2053 4226 1822  Q 4072 1591 4072 1178  Q 4072 772 4226 539  Q 4381 306 4653 306  Q 4919 306 5073 539  Q 5228 772 5228 1178  Q 5228 1588 5073 1820  Q 4919 2053 4653 2053  z M 4653 2450  Q 5147 2450 5437 2106  Q 5728 1763 5728 1178  Q 5728 594 5436 251  Q 5144 -91 4653 -91  Q 4153 -91 3862 251  Q 3572 594 3572 1178  Q 3572 1766 3864 2108  Q 4156 2450 4653 2450  z M 1428 4353  Q 1159 4353 1004 4120  Q 850 3888 850 3481  Q 850 3069 1003 2837  Q 1156 2606 1428 2606  Q 1700 2606 1854 2837  Q 2009 3069 2009 3481  Q 2009 3884 1853 4118  Q 1697 4353 1428 4353  z M 4250 4750  L 4750 4750  L 1831 -91  L 1331 -91  L 4250 4750  z M 1428 4750  Q 1922 4750 2215 4408  Q 2509 4066 2509 3481  Q 2509 2891 2217 2550  Q 1925 2209 1428 2209  Q 931 2209 642 2551  Q 353 2894 353 3481  Q 353 4063 643 4406  Q 934 4750 1428 4750  z \" transform=\"scale(0.015625)\"/>\n     </defs>\n     <use xlink:href=\"#DejaVuSans-35\"/>\n     <use xlink:href=\"#DejaVuSans-36\" x=\"63.623047\"/>\n     <use xlink:href=\"#DejaVuSans-2e\" x=\"127.246094\"/>\n     <use xlink:href=\"#DejaVuSans-30\" x=\"159.033203\"/>\n     <use xlink:href=\"#DejaVuSans-30\" x=\"222.65625\"/>\n     <use xlink:href=\"#DejaVuSans-25\" x=\"286.279297\"/>\n    </g>\n   </g>\n   <g id=\"text_4\">\n    <!-- 44.00% -->\n    <g transform=\"translate(90.432812 42.395812) scale(0.1 -0.1)\">\n     <defs>\n      <path id=\"DejaVuSans-34\" d=\"M 2419 4116  L 825 1625  L 2419 1625  L 2419 4116  z M 2253 4666  L 3047 4666  L 3047 1625  L 3713 1625  L 3713 1100  L 3047 1100  L 3047 0  L 2419 0  L 2419 1100  L 313 1100  L 313 1709  L 2253 4666  z \" transform=\"scale(0.015625)\"/>\n     </defs>\n     <use xlink:href=\"#DejaVuSans-34\"/>\n     <use xlink:href=\"#DejaVuSans-34\" x=\"63.623047\"/>\n     <use xlink:href=\"#DejaVuSans-2e\" x=\"127.246094\"/>\n     <use xlink:href=\"#DejaVuSans-30\" x=\"159.033203\"/>\n     <use xlink:href=\"#DejaVuSans-30\" x=\"222.65625\"/>\n     <use xlink:href=\"#DejaVuSans-25\" x=\"286.279297\"/>\n    </g>\n   </g>\n   <g id=\"text_5\">\n    <!-- r -->\n    <g transform=\"translate(70.295938 12.718125) scale(0.12 -0.12)\">\n     <defs>\n      <path id=\"DejaVuSans-72\" d=\"M 2631 2963  Q 2534 3019 2420 3045  Q 2306 3072 2169 3072  Q 1681 3072 1420 2755  Q 1159 2438 1159 1844  L 1159 0  L 581 0  L 581 3500  L 1159 3500  L 1159 2956  Q 1341 3275 1631 3429  Q 1922 3584 2338 3584  Q 2397 3584 2469 3576  Q 2541 3569 2628 3553  L 2631 2963  z \" transform=\"scale(0.015625)\"/>\n     </defs>\n     <use xlink:href=\"#DejaVuSans-72\"/>\n    </g>\n    <!-- $\\mu=0.56$; $\\sigma=0.50$ -->\n    <g transform=\"translate(19.7225 26.1555) scale(0.12 -0.12)\">\n     <defs>\n      <path id=\"DejaVuSans-Oblique-3bc\" d=\"M -84 -1331  L 856 3500  L 1434 3500  L 1009 1322  Q 997 1256 987 1175  Q 978 1094 978 1013  Q 978 722 1161 565  Q 1344 409 1684 409  Q 2147 409 2431 671  Q 2716 934 2816 1459  L 3213 3500  L 3788 3500  L 3266 809  Q 3253 750 3248 706  Q 3244 663 3244 628  Q 3244 531 3283 486  Q 3322 441 3406 441  Q 3438 441 3492 456  Q 3547 472 3647 513  L 3559 50  Q 3422 -19 3297 -55  Q 3172 -91 3053 -91  Q 2847 -91 2730 40  Q 2613 172 2613 403  Q 2438 153 2195 31  Q 1953 -91 1625 -91  Q 1334 -91 1117 43  Q 900 178 831 397  L 494 -1331  L -84 -1331  z \" transform=\"scale(0.015625)\"/>\n      <path id=\"DejaVuSans-3d\" d=\"M 678 2906  L 4684 2906  L 4684 2381  L 678 2381  L 678 2906  z M 678 1631  L 4684 1631  L 4684 1100  L 678 1100  L 678 1631  z \" transform=\"scale(0.015625)\"/>\n      <path id=\"DejaVuSans-3b\" d=\"M 750 3309  L 1409 3309  L 1409 2516  L 750 2516  L 750 3309  z M 750 794  L 1409 794  L 1409 256  L 897 -744  L 494 -744  L 750 256  L 750 794  z \" transform=\"scale(0.015625)\"/>\n      <path id=\"DejaVuSans-20\" transform=\"scale(0.015625)\"/>\n      <path id=\"DejaVuSans-Oblique-3c3\" d=\"M 2219 3044  Q 1744 3044 1422 2700  Q 1081 2341 969 1747  Q 844 1119 1044 756  Q 1241 397 1706 397  Q 2166 397 2503 759  Q 2844 1122 2966 1747  Q 3075 2319 2881 2700  Q 2700 3044 2219 3044  z M 2309 3503  L 4219 3500  L 4106 2925  L 3463 2925  Q 3706 2438 3575 1747  Q 3406 888 2884 400  Q 2359 -91 1609 -91  Q 856 -91 525 400  Q 194 888 363 1747  Q 528 2609 1050 3097  Q 1484 3503 2309 3503  z \" transform=\"scale(0.015625)\"/>\n     </defs>\n     <use xlink:href=\"#DejaVuSans-Oblique-3bc\" transform=\"translate(0 0.78125)\"/>\n     <use xlink:href=\"#DejaVuSans-3d\" transform=\"translate(83.105469 0.78125)\"/>\n     <use xlink:href=\"#DejaVuSans-30\" transform=\"translate(186.376953 0.78125)\"/>\n     <use xlink:href=\"#DejaVuSans-2e\" transform=\"translate(250 0.78125)\"/>\n     <use xlink:href=\"#DejaVuSans-35\" transform=\"translate(281.787109 0.78125)\"/>\n     <use xlink:href=\"#DejaVuSans-36\" transform=\"translate(345.410156 0.78125)\"/>\n     <use xlink:href=\"#DejaVuSans-3b\" transform=\"translate(409.033203 0.78125)\"/>\n     <use xlink:href=\"#DejaVuSans-20\" transform=\"translate(442.724609 0.78125)\"/>\n     <use xlink:href=\"#DejaVuSans-Oblique-3c3\" transform=\"translate(474.511719 0.78125)\"/>\n     <use xlink:href=\"#DejaVuSans-3d\" transform=\"translate(557.373047 0.78125)\"/>\n     <use xlink:href=\"#DejaVuSans-30\" transform=\"translate(660.644531 0.78125)\"/>\n     <use xlink:href=\"#DejaVuSans-2e\" transform=\"translate(724.267578 0.78125)\"/>\n     <use xlink:href=\"#DejaVuSans-35\" transform=\"translate(756.054688 0.78125)\"/>\n     <use xlink:href=\"#DejaVuSans-30\" transform=\"translate(819.677734 0.78125)\"/>\n    </g>\n   </g>\n  </g>\n </g>\n <defs>\n  <clipPath id=\"pbf7950f5a8\">\n   <rect x=\"16.9625\" y=\"32.1555\" width=\"111.6\" height=\"27.72\"/>\n  </clipPath>\n </defs>\n</svg>\n\n</g>\n<!-- c&#45;&gt;r -->\n<g id=\"edge2\" class=\"edge\">\n<title>c-&gt;r</title>\n<g id=\"a_edge2\"><a xlink:title=\"0 → 2\">\n<path fill=\"none\" stroke=\"#4a4a4a\" d=\"M124.33,-198.98C130.56,-190.57 137.97,-180.57 144.97,-171.12\"/>\n<polygon fill=\"#4a4a4a\" stroke=\"#4a4a4a\" points=\"147.83,-173.13 150.97,-163.01 142.21,-168.96 147.83,-173.13\"/>\n</a>\n</g>\n</g>\n<!-- w -->\n<g id=\"node4\" class=\"node\">\n<title>w</title>\n<polygon fill=\"#e0e0e0\" stroke=\"#000000\" points=\"160,-75 59,-75 59,-23 160,-23 160,-75\"/>\n<svg viewBox=\"0 0 132.1625 66.9755\" width=\"101px\" height=\"52px\" preserveAspectRatio=\"xMinYMin meet\" x=\"59\" y=\"-75\"> <metadata>\n  <rdf:RDF xmlns:dc=\"http://purl.org/dc/elements/1.1/\" xmlns:cc=\"http://creativecommons.org/ns#\" xmlns:rdf=\"http://www.w3.org/1999/02/22-rdf-syntax-ns#\">\n   <cc:Work>\n    <dc:type rdf:resource=\"http://purl.org/dc/dcmitype/StillImage\"/>\n    <dc:date>2024-01-24T19:31:38.312698</dc:date>\n    <dc:format>image/svg+xml</dc:format>\n    <dc:creator>\n     <cc:Agent>\n      <dc:title>Matplotlib v3.7.1, https://matplotlib.org/</dc:title>\n     </cc:Agent>\n    </dc:creator>\n   </cc:Work>\n  </rdf:RDF>\n </metadata>\n <defs>\n  <style type=\"text/css\">*{stroke-linejoin: round; stroke-linecap: butt}</style>\n </defs>\n <g id=\"figure_1\">\n  <g id=\"patch_1\">\n   <path d=\"M 0 66.9755  L 132.1625 66.9755  L 132.1625 0  L 0 0  z \" style=\"fill: #e0e0e0\"/>\n  </g>\n  <g id=\"axes_1\">\n   <g id=\"patch_2\">\n    <path d=\"M 16.9625 59.8755  L 128.5625 59.8755  L 128.5625 32.1555  L 16.9625 32.1555  z \" style=\"fill: #ffffff\"/>\n   </g>\n   <g id=\"patch_3\">\n    <path d=\"M 16.9625 59.8755  L 91.368452 59.8755  L 91.368452 47.5555  L 16.9625 47.5555  z \" clip-path=\"url(#p0e510d3ca4)\" style=\"fill: #8fbc8f\"/>\n   </g>\n   <g id=\"patch_4\">\n    <path d=\"M 16.9625 44.4755  L 54.156548 44.4755  L 54.156548 32.1555  L 16.9625 32.1555  z \" clip-path=\"url(#p0e510d3ca4)\" style=\"fill: #8fbc8f\"/>\n   </g>\n   <g id=\"matplotlib.axis_1\">\n    <g id=\"xtick_1\">\n     <g id=\"line2d_1\">\n      <path d=\"M 16.9625 59.8755  L 16.9625 32.1555  \" clip-path=\"url(#p0e510d3ca4)\" style=\"fill: none; stroke: #b0b0b0; stroke-width: 0.8; stroke-linecap: square\"/>\n     </g>\n     <g id=\"line2d_2\">\n      <defs>\n       <path id=\"m2ffc2ca448\" d=\"M 0 0  L 0 3.5  \" style=\"stroke: #000000; stroke-width: 0.8\"/>\n      </defs>\n      <g>\n       <use xlink:href=\"#m2ffc2ca448\" x=\"16.9625\" y=\"59.8755\" style=\"stroke: #000000; stroke-width: 0.8\"/>\n      </g>\n     </g>\n    </g>\n    <g id=\"xtick_2\">\n     <g id=\"line2d_3\">\n      <path d=\"M 72.7625 59.8755  L 72.7625 32.1555  \" clip-path=\"url(#p0e510d3ca4)\" style=\"fill: none; stroke: #b0b0b0; stroke-width: 0.8; stroke-linecap: square\"/>\n     </g>\n     <g id=\"line2d_4\">\n      <g>\n       <use xlink:href=\"#m2ffc2ca448\" x=\"72.7625\" y=\"59.8755\" style=\"stroke: #000000; stroke-width: 0.8\"/>\n      </g>\n     </g>\n    </g>\n    <g id=\"xtick_3\">\n     <g id=\"line2d_5\">\n      <path d=\"M 128.5625 59.8755  L 128.5625 32.1555  \" clip-path=\"url(#p0e510d3ca4)\" style=\"fill: none; stroke: #b0b0b0; stroke-width: 0.8; stroke-linecap: square\"/>\n     </g>\n     <g id=\"line2d_6\">\n      <g>\n       <use xlink:href=\"#m2ffc2ca448\" x=\"128.5625\" y=\"59.8755\" style=\"stroke: #000000; stroke-width: 0.8\"/>\n      </g>\n     </g>\n    </g>\n   </g>\n   <g id=\"matplotlib.axis_2\">\n    <g id=\"ytick_1\">\n     <g id=\"line2d_7\">\n      <defs>\n       <path id=\"mcfd89bdb8c\" d=\"M 0 0  L -3.5 0  \" style=\"stroke: #000000; stroke-width: 0.8\"/>\n      </defs>\n      <g>\n       <use xlink:href=\"#mcfd89bdb8c\" x=\"16.9625\" y=\"53.7155\" style=\"stroke: #000000; stroke-width: 0.8\"/>\n      </g>\n     </g>\n     <g id=\"text_1\">\n      <!-- 1 -->\n      <g transform=\"translate(3.6 57.514719) scale(0.1 -0.1)\">\n       <defs>\n        <path id=\"DejaVuSans-31\" d=\"M 794 531  L 1825 531  L 1825 4091  L 703 3866  L 703 4441  L 1819 4666  L 2450 4666  L 2450 531  L 3481 531  L 3481 0  L 794 0  L 794 531  z \" transform=\"scale(0.015625)\"/>\n       </defs>\n       <use xlink:href=\"#DejaVuSans-31\"/>\n      </g>\n     </g>\n    </g>\n    <g id=\"ytick_2\">\n     <g id=\"line2d_8\">\n      <g>\n       <use xlink:href=\"#mcfd89bdb8c\" x=\"16.9625\" y=\"38.3155\" style=\"stroke: #000000; stroke-width: 0.8\"/>\n      </g>\n     </g>\n     <g id=\"text_2\">\n      <!-- 0 -->\n      <g transform=\"translate(3.6 42.114719) scale(0.1 -0.1)\">\n       <defs>\n        <path id=\"DejaVuSans-30\" d=\"M 2034 4250  Q 1547 4250 1301 3770  Q 1056 3291 1056 2328  Q 1056 1369 1301 889  Q 1547 409 2034 409  Q 2525 409 2770 889  Q 3016 1369 3016 2328  Q 3016 3291 2770 3770  Q 2525 4250 2034 4250  z M 2034 4750  Q 2819 4750 3233 4129  Q 3647 3509 3647 2328  Q 3647 1150 3233 529  Q 2819 -91 2034 -91  Q 1250 -91 836 529  Q 422 1150 422 2328  Q 422 3509 836 4129  Q 1250 4750 2034 4750  z \" transform=\"scale(0.015625)\"/>\n       </defs>\n       <use xlink:href=\"#DejaVuSans-30\"/>\n      </g>\n     </g>\n    </g>\n   </g>\n   <g id=\"patch_5\">\n    <path d=\"M 16.9625 59.8755  L 16.9625 32.1555  \" style=\"fill: none; stroke: #000000; stroke-width: 0.8; stroke-linejoin: miter; stroke-linecap: square\"/>\n   </g>\n   <g id=\"patch_6\">\n    <path d=\"M 128.5625 59.8755  L 128.5625 32.1555  \" style=\"fill: none; stroke: #000000; stroke-width: 0.8; stroke-linejoin: miter; stroke-linecap: square\"/>\n   </g>\n   <g id=\"patch_7\">\n    <path d=\"M 16.9625 59.8755  L 128.5625 59.8755  \" style=\"fill: none; stroke: #000000; stroke-width: 0.8; stroke-linejoin: miter; stroke-linecap: square\"/>\n   </g>\n   <g id=\"patch_8\">\n    <path d=\"M 16.9625 32.1555  L 128.5625 32.1555  \" style=\"fill: none; stroke: #000000; stroke-width: 0.8; stroke-linejoin: miter; stroke-linecap: square\"/>\n   </g>\n   <g id=\"text_3\">\n    <!-- 66.67% -->\n    <g transform=\"translate(90.432812 57.795812) scale(0.1 -0.1)\">\n     <defs>\n      <path id=\"DejaVuSans-36\" d=\"M 2113 2584  Q 1688 2584 1439 2293  Q 1191 2003 1191 1497  Q 1191 994 1439 701  Q 1688 409 2113 409  Q 2538 409 2786 701  Q 3034 994 3034 1497  Q 3034 2003 2786 2293  Q 2538 2584 2113 2584  z M 3366 4563  L 3366 3988  Q 3128 4100 2886 4159  Q 2644 4219 2406 4219  Q 1781 4219 1451 3797  Q 1122 3375 1075 2522  Q 1259 2794 1537 2939  Q 1816 3084 2150 3084  Q 2853 3084 3261 2657  Q 3669 2231 3669 1497  Q 3669 778 3244 343  Q 2819 -91 2113 -91  Q 1303 -91 875 529  Q 447 1150 447 2328  Q 447 3434 972 4092  Q 1497 4750 2381 4750  Q 2619 4750 2861 4703  Q 3103 4656 3366 4563  z \" transform=\"scale(0.015625)\"/>\n      <path id=\"DejaVuSans-2e\" d=\"M 684 794  L 1344 794  L 1344 0  L 684 0  L 684 794  z \" transform=\"scale(0.015625)\"/>\n      <path id=\"DejaVuSans-37\" d=\"M 525 4666  L 3525 4666  L 3525 4397  L 1831 0  L 1172 0  L 2766 4134  L 525 4134  L 525 4666  z \" transform=\"scale(0.015625)\"/>\n      <path id=\"DejaVuSans-25\" d=\"M 4653 2053  Q 4381 2053 4226 1822  Q 4072 1591 4072 1178  Q 4072 772 4226 539  Q 4381 306 4653 306  Q 4919 306 5073 539  Q 5228 772 5228 1178  Q 5228 1588 5073 1820  Q 4919 2053 4653 2053  z M 4653 2450  Q 5147 2450 5437 2106  Q 5728 1763 5728 1178  Q 5728 594 5436 251  Q 5144 -91 4653 -91  Q 4153 -91 3862 251  Q 3572 594 3572 1178  Q 3572 1766 3864 2108  Q 4156 2450 4653 2450  z M 1428 4353  Q 1159 4353 1004 4120  Q 850 3888 850 3481  Q 850 3069 1003 2837  Q 1156 2606 1428 2606  Q 1700 2606 1854 2837  Q 2009 3069 2009 3481  Q 2009 3884 1853 4118  Q 1697 4353 1428 4353  z M 4250 4750  L 4750 4750  L 1831 -91  L 1331 -91  L 4250 4750  z M 1428 4750  Q 1922 4750 2215 4408  Q 2509 4066 2509 3481  Q 2509 2891 2217 2550  Q 1925 2209 1428 2209  Q 931 2209 642 2551  Q 353 2894 353 3481  Q 353 4063 643 4406  Q 934 4750 1428 4750  z \" transform=\"scale(0.015625)\"/>\n     </defs>\n     <use xlink:href=\"#DejaVuSans-36\"/>\n     <use xlink:href=\"#DejaVuSans-36\" x=\"63.623047\"/>\n     <use xlink:href=\"#DejaVuSans-2e\" x=\"127.246094\"/>\n     <use xlink:href=\"#DejaVuSans-36\" x=\"159.033203\"/>\n     <use xlink:href=\"#DejaVuSans-37\" x=\"222.65625\"/>\n     <use xlink:href=\"#DejaVuSans-25\" x=\"286.279297\"/>\n    </g>\n   </g>\n   <g id=\"text_4\">\n    <!-- 33.33% -->\n    <g transform=\"translate(90.432812 42.395812) scale(0.1 -0.1)\">\n     <defs>\n      <path id=\"DejaVuSans-33\" d=\"M 2597 2516  Q 3050 2419 3304 2112  Q 3559 1806 3559 1356  Q 3559 666 3084 287  Q 2609 -91 1734 -91  Q 1441 -91 1130 -33  Q 819 25 488 141  L 488 750  Q 750 597 1062 519  Q 1375 441 1716 441  Q 2309 441 2620 675  Q 2931 909 2931 1356  Q 2931 1769 2642 2001  Q 2353 2234 1838 2234  L 1294 2234  L 1294 2753  L 1863 2753  Q 2328 2753 2575 2939  Q 2822 3125 2822 3475  Q 2822 3834 2567 4026  Q 2313 4219 1838 4219  Q 1578 4219 1281 4162  Q 984 4106 628 3988  L 628 4550  Q 988 4650 1302 4700  Q 1616 4750 1894 4750  Q 2613 4750 3031 4423  Q 3450 4097 3450 3541  Q 3450 3153 3228 2886  Q 3006 2619 2597 2516  z \" transform=\"scale(0.015625)\"/>\n     </defs>\n     <use xlink:href=\"#DejaVuSans-33\"/>\n     <use xlink:href=\"#DejaVuSans-33\" x=\"63.623047\"/>\n     <use xlink:href=\"#DejaVuSans-2e\" x=\"127.246094\"/>\n     <use xlink:href=\"#DejaVuSans-33\" x=\"159.033203\"/>\n     <use xlink:href=\"#DejaVuSans-33\" x=\"222.65625\"/>\n     <use xlink:href=\"#DejaVuSans-25\" x=\"286.279297\"/>\n    </g>\n   </g>\n   <g id=\"text_5\">\n    <!-- w -->\n    <g transform=\"translate(67.855625 12.718125) scale(0.12 -0.12)\">\n     <defs>\n      <path id=\"DejaVuSans-77\" d=\"M 269 3500  L 844 3500  L 1563 769  L 2278 3500  L 2956 3500  L 3675 769  L 4391 3500  L 4966 3500  L 4050 0  L 3372 0  L 2619 2869  L 1863 0  L 1184 0  L 269 3500  z \" transform=\"scale(0.015625)\"/>\n     </defs>\n     <use xlink:href=\"#DejaVuSans-77\"/>\n    </g>\n    <!-- $\\mu=0.67$; $\\sigma=0.47$ -->\n    <g transform=\"translate(19.7225 26.1555) scale(0.12 -0.12)\">\n     <defs>\n      <path id=\"DejaVuSans-Oblique-3bc\" d=\"M -84 -1331  L 856 3500  L 1434 3500  L 1009 1322  Q 997 1256 987 1175  Q 978 1094 978 1013  Q 978 722 1161 565  Q 1344 409 1684 409  Q 2147 409 2431 671  Q 2716 934 2816 1459  L 3213 3500  L 3788 3500  L 3266 809  Q 3253 750 3248 706  Q 3244 663 3244 628  Q 3244 531 3283 486  Q 3322 441 3406 441  Q 3438 441 3492 456  Q 3547 472 3647 513  L 3559 50  Q 3422 -19 3297 -55  Q 3172 -91 3053 -91  Q 2847 -91 2730 40  Q 2613 172 2613 403  Q 2438 153 2195 31  Q 1953 -91 1625 -91  Q 1334 -91 1117 43  Q 900 178 831 397  L 494 -1331  L -84 -1331  z \" transform=\"scale(0.015625)\"/>\n      <path id=\"DejaVuSans-3d\" d=\"M 678 2906  L 4684 2906  L 4684 2381  L 678 2381  L 678 2906  z M 678 1631  L 4684 1631  L 4684 1100  L 678 1100  L 678 1631  z \" transform=\"scale(0.015625)\"/>\n      <path id=\"DejaVuSans-3b\" d=\"M 750 3309  L 1409 3309  L 1409 2516  L 750 2516  L 750 3309  z M 750 794  L 1409 794  L 1409 256  L 897 -744  L 494 -744  L 750 256  L 750 794  z \" transform=\"scale(0.015625)\"/>\n      <path id=\"DejaVuSans-20\" transform=\"scale(0.015625)\"/>\n      <path id=\"DejaVuSans-Oblique-3c3\" d=\"M 2219 3044  Q 1744 3044 1422 2700  Q 1081 2341 969 1747  Q 844 1119 1044 756  Q 1241 397 1706 397  Q 2166 397 2503 759  Q 2844 1122 2966 1747  Q 3075 2319 2881 2700  Q 2700 3044 2219 3044  z M 2309 3503  L 4219 3500  L 4106 2925  L 3463 2925  Q 3706 2438 3575 1747  Q 3406 888 2884 400  Q 2359 -91 1609 -91  Q 856 -91 525 400  Q 194 888 363 1747  Q 528 2609 1050 3097  Q 1484 3503 2309 3503  z \" transform=\"scale(0.015625)\"/>\n      <path id=\"DejaVuSans-34\" d=\"M 2419 4116  L 825 1625  L 2419 1625  L 2419 4116  z M 2253 4666  L 3047 4666  L 3047 1625  L 3713 1625  L 3713 1100  L 3047 1100  L 3047 0  L 2419 0  L 2419 1100  L 313 1100  L 313 1709  L 2253 4666  z \" transform=\"scale(0.015625)\"/>\n     </defs>\n     <use xlink:href=\"#DejaVuSans-Oblique-3bc\" transform=\"translate(0 0.78125)\"/>\n     <use xlink:href=\"#DejaVuSans-3d\" transform=\"translate(83.105469 0.78125)\"/>\n     <use xlink:href=\"#DejaVuSans-30\" transform=\"translate(186.376953 0.78125)\"/>\n     <use xlink:href=\"#DejaVuSans-2e\" transform=\"translate(250 0.78125)\"/>\n     <use xlink:href=\"#DejaVuSans-36\" transform=\"translate(281.787109 0.78125)\"/>\n     <use xlink:href=\"#DejaVuSans-37\" transform=\"translate(345.410156 0.78125)\"/>\n     <use xlink:href=\"#DejaVuSans-3b\" transform=\"translate(409.033203 0.78125)\"/>\n     <use xlink:href=\"#DejaVuSans-20\" transform=\"translate(442.724609 0.78125)\"/>\n     <use xlink:href=\"#DejaVuSans-Oblique-3c3\" transform=\"translate(474.511719 0.78125)\"/>\n     <use xlink:href=\"#DejaVuSans-3d\" transform=\"translate(557.373047 0.78125)\"/>\n     <use xlink:href=\"#DejaVuSans-30\" transform=\"translate(660.644531 0.78125)\"/>\n     <use xlink:href=\"#DejaVuSans-2e\" transform=\"translate(724.267578 0.78125)\"/>\n     <use xlink:href=\"#DejaVuSans-34\" transform=\"translate(756.054688 0.78125)\"/>\n     <use xlink:href=\"#DejaVuSans-37\" transform=\"translate(819.677734 0.78125)\"/>\n    </g>\n   </g>\n  </g>\n </g>\n <defs>\n  <clipPath id=\"p0e510d3ca4\">\n   <rect x=\"16.9625\" y=\"32.1555\" width=\"111.6\" height=\"27.72\"/>\n  </clipPath>\n </defs>\n</svg>\n\n</g>\n<!-- s&#45;&gt;w -->\n<g id=\"edge4\" class=\"edge\">\n<title>s-&gt;w</title>\n<g id=\"a_edge4\"><a xlink:title=\"1 → 3\">\n<path fill=\"none\" stroke=\"#4a4a4a\" d=\"M67.88,-110.66C73.7,-102.18 80.29,-92.58 86.47,-83.57\"/>\n<polygon fill=\"#4a4a4a\" stroke=\"#4a4a4a\" points=\"89.47,-85.38 92.24,-75.16 83.7,-81.42 89.47,-85.38\"/>\n</a>\n</g>\n</g>\n<!-- r&#45;&gt;w -->\n<g id=\"edge3\" class=\"edge\">\n<title>r-&gt;w</title>\n<g id=\"a_edge3\"><a xlink:title=\"2 → 3\">\n<path fill=\"none\" stroke=\"#4a4a4a\" d=\"M151.82,-110.66C145.9,-102.18 139.21,-92.58 132.92,-83.57\"/>\n<polygon fill=\"#4a4a4a\" stroke=\"#4a4a4a\" points=\"135.64,-81.36 127.05,-75.16 129.9,-85.36 135.64,-81.36\"/>\n</a>\n</g>\n</g>\n</g>\n</svg>"
          },
          "metadata": {}
        }
      ],
      "source": [
        "gnb.showInference(bn)"
      ]
    },
    {
      "cell_type": "code",
      "execution_count": null,
      "metadata": {
        "id": "YImLRENviv1T",
        "outputId": "c0568caf-3380-4736-a130-b64bcd358cc5",
        "colab": {
          "base_uri": "https://localhost:8080/",
          "height": 332
        }
      },
      "outputs": [
        {
          "output_type": "display_data",
          "data": {
            "text/plain": [
              "<IPython.core.display.SVG object>"
            ],
            "image/svg+xml": "<svg xmlns=\"http://www.w3.org/2000/svg\" xmlns:xlink=\"http://www.w3.org/1999/xlink\" width=\"142pt\" height=\"233pt\" viewBox=\"0.00 0.00 142.00 233.00\">\n<g id=\"graph0\" class=\"graph\" transform=\"scale(1 1) rotate(0) translate(4 229)\">\n<title>structs</title>\n<text text-anchor=\"middle\" x=\"67\" y=\"-7.8\" font-family=\"Times,serif\" font-size=\"14.00\" fill=\"#4a4a4a\">Inference in   0.64ms</text>\n<!-- c -->\n<g id=\"node1\" class=\"node\">\n<title>c</title>\n<polygon fill=\"sandybrown\" stroke=\"#000000\" points=\"117.5,-225 16.5,-225 16.5,-183 117.5,-183 117.5,-225\"/>\n<svg viewBox=\"0 0 132.1625 53.538125\" width=\"101px\" height=\"42px\" preserveAspectRatio=\"xMinYMin meet\" x=\"16.5\" y=\"-225\"> <metadata>\n  <rdf:RDF xmlns:dc=\"http://purl.org/dc/elements/1.1/\" xmlns:cc=\"http://creativecommons.org/ns#\" xmlns:rdf=\"http://www.w3.org/1999/02/22-rdf-syntax-ns#\">\n   <cc:Work>\n    <dc:type rdf:resource=\"http://purl.org/dc/dcmitype/StillImage\"/>\n    <dc:date>2024-01-24T19:31:38.967996</dc:date>\n    <dc:format>image/svg+xml</dc:format>\n    <dc:creator>\n     <cc:Agent>\n      <dc:title>Matplotlib v3.7.1, https://matplotlib.org/</dc:title>\n     </cc:Agent>\n    </dc:creator>\n   </cc:Work>\n  </rdf:RDF>\n </metadata>\n <defs>\n  <style type=\"text/css\">*{stroke-linejoin: round; stroke-linecap: butt}</style>\n </defs>\n <g id=\"figure_1\">\n  <g id=\"patch_1\">\n   <path d=\"M 0 53.538125  L 132.1625 53.538125  L 132.1625 0  L 0 0  z \" style=\"fill: #f4a460\"/>\n  </g>\n  <g id=\"axes_1\">\n   <g id=\"patch_2\">\n    <path d=\"M 16.9625 46.438125  L 128.5625 46.438125  L 128.5625 18.718125  L 16.9625 18.718125  z \" style=\"fill: #ffffff\"/>\n   </g>\n   <g id=\"patch_3\">\n    <path d=\"M 16.9625 46.438125  L 108.271591 46.438125  L 108.271591 34.118125  L 16.9625 34.118125  z \" clip-path=\"url(#paa2dce6379)\" style=\"fill: #8fbc8f\"/>\n   </g>\n   <g id=\"patch_4\">\n    <path d=\"M 16.9625 31.038125  L 37.253409 31.038125  L 37.253409 18.718125  L 16.9625 18.718125  z \" clip-path=\"url(#paa2dce6379)\" style=\"fill: #8fbc8f\"/>\n   </g>\n   <g id=\"matplotlib.axis_1\">\n    <g id=\"xtick_1\">\n     <g id=\"line2d_1\">\n      <path d=\"M 16.9625 46.438125  L 16.9625 18.718125  \" clip-path=\"url(#paa2dce6379)\" style=\"fill: none; stroke: #b0b0b0; stroke-width: 0.8; stroke-linecap: square\"/>\n     </g>\n     <g id=\"line2d_2\">\n      <defs>\n       <path id=\"m1c79b17fad\" d=\"M 0 0  L 0 3.5  \" style=\"stroke: #000000; stroke-width: 0.8\"/>\n      </defs>\n      <g>\n       <use xlink:href=\"#m1c79b17fad\" x=\"16.9625\" y=\"46.438125\" style=\"stroke: #000000; stroke-width: 0.8\"/>\n      </g>\n     </g>\n    </g>\n    <g id=\"xtick_2\">\n     <g id=\"line2d_3\">\n      <path d=\"M 72.7625 46.438125  L 72.7625 18.718125  \" clip-path=\"url(#paa2dce6379)\" style=\"fill: none; stroke: #b0b0b0; stroke-width: 0.8; stroke-linecap: square\"/>\n     </g>\n     <g id=\"line2d_4\">\n      <g>\n       <use xlink:href=\"#m1c79b17fad\" x=\"72.7625\" y=\"46.438125\" style=\"stroke: #000000; stroke-width: 0.8\"/>\n      </g>\n     </g>\n    </g>\n    <g id=\"xtick_3\">\n     <g id=\"line2d_5\">\n      <path d=\"M 128.5625 46.438125  L 128.5625 18.718125  \" clip-path=\"url(#paa2dce6379)\" style=\"fill: none; stroke: #b0b0b0; stroke-width: 0.8; stroke-linecap: square\"/>\n     </g>\n     <g id=\"line2d_6\">\n      <g>\n       <use xlink:href=\"#m1c79b17fad\" x=\"128.5625\" y=\"46.438125\" style=\"stroke: #000000; stroke-width: 0.8\"/>\n      </g>\n     </g>\n    </g>\n   </g>\n   <g id=\"matplotlib.axis_2\">\n    <g id=\"ytick_1\">\n     <g id=\"line2d_7\">\n      <defs>\n       <path id=\"mcc4eae4693\" d=\"M 0 0  L -3.5 0  \" style=\"stroke: #000000; stroke-width: 0.8\"/>\n      </defs>\n      <g>\n       <use xlink:href=\"#mcc4eae4693\" x=\"16.9625\" y=\"40.278125\" style=\"stroke: #000000; stroke-width: 0.8\"/>\n      </g>\n     </g>\n     <g id=\"text_1\">\n      <!-- 1 -->\n      <g transform=\"translate(3.6 44.077344) scale(0.1 -0.1)\">\n       <defs>\n        <path id=\"DejaVuSans-31\" d=\"M 794 531  L 1825 531  L 1825 4091  L 703 3866  L 703 4441  L 1819 4666  L 2450 4666  L 2450 531  L 3481 531  L 3481 0  L 794 0  L 794 531  z \" transform=\"scale(0.015625)\"/>\n       </defs>\n       <use xlink:href=\"#DejaVuSans-31\"/>\n      </g>\n     </g>\n    </g>\n    <g id=\"ytick_2\">\n     <g id=\"line2d_8\">\n      <g>\n       <use xlink:href=\"#mcc4eae4693\" x=\"16.9625\" y=\"24.878125\" style=\"stroke: #000000; stroke-width: 0.8\"/>\n      </g>\n     </g>\n     <g id=\"text_2\">\n      <!-- 0 -->\n      <g transform=\"translate(3.6 28.677344) scale(0.1 -0.1)\">\n       <defs>\n        <path id=\"DejaVuSans-30\" d=\"M 2034 4250  Q 1547 4250 1301 3770  Q 1056 3291 1056 2328  Q 1056 1369 1301 889  Q 1547 409 2034 409  Q 2525 409 2770 889  Q 3016 1369 3016 2328  Q 3016 3291 2770 3770  Q 2525 4250 2034 4250  z M 2034 4750  Q 2819 4750 3233 4129  Q 3647 3509 3647 2328  Q 3647 1150 3233 529  Q 2819 -91 2034 -91  Q 1250 -91 836 529  Q 422 1150 422 2328  Q 422 3509 836 4129  Q 1250 4750 2034 4750  z \" transform=\"scale(0.015625)\"/>\n       </defs>\n       <use xlink:href=\"#DejaVuSans-30\"/>\n      </g>\n     </g>\n    </g>\n   </g>\n   <g id=\"patch_5\">\n    <path d=\"M 16.9625 46.438125  L 16.9625 18.718125  \" style=\"fill: none; stroke: #000000; stroke-width: 0.8; stroke-linejoin: miter; stroke-linecap: square\"/>\n   </g>\n   <g id=\"patch_6\">\n    <path d=\"M 128.5625 46.438125  L 128.5625 18.718125  \" style=\"fill: none; stroke: #000000; stroke-width: 0.8; stroke-linejoin: miter; stroke-linecap: square\"/>\n   </g>\n   <g id=\"patch_7\">\n    <path d=\"M 16.9625 46.438125  L 128.5625 46.438125  \" style=\"fill: none; stroke: #000000; stroke-width: 0.8; stroke-linejoin: miter; stroke-linecap: square\"/>\n   </g>\n   <g id=\"patch_8\">\n    <path d=\"M 16.9625 18.718125  L 128.5625 18.718125  \" style=\"fill: none; stroke: #000000; stroke-width: 0.8; stroke-linejoin: miter; stroke-linecap: square\"/>\n   </g>\n   <g id=\"text_3\">\n    <!-- 81.82% -->\n    <g transform=\"translate(90.432812 44.358438) scale(0.1 -0.1)\">\n     <defs>\n      <path id=\"DejaVuSans-38\" d=\"M 2034 2216  Q 1584 2216 1326 1975  Q 1069 1734 1069 1313  Q 1069 891 1326 650  Q 1584 409 2034 409  Q 2484 409 2743 651  Q 3003 894 3003 1313  Q 3003 1734 2745 1975  Q 2488 2216 2034 2216  z M 1403 2484  Q 997 2584 770 2862  Q 544 3141 544 3541  Q 544 4100 942 4425  Q 1341 4750 2034 4750  Q 2731 4750 3128 4425  Q 3525 4100 3525 3541  Q 3525 3141 3298 2862  Q 3072 2584 2669 2484  Q 3125 2378 3379 2068  Q 3634 1759 3634 1313  Q 3634 634 3220 271  Q 2806 -91 2034 -91  Q 1263 -91 848 271  Q 434 634 434 1313  Q 434 1759 690 2068  Q 947 2378 1403 2484  z M 1172 3481  Q 1172 3119 1398 2916  Q 1625 2713 2034 2713  Q 2441 2713 2670 2916  Q 2900 3119 2900 3481  Q 2900 3844 2670 4047  Q 2441 4250 2034 4250  Q 1625 4250 1398 4047  Q 1172 3844 1172 3481  z \" transform=\"scale(0.015625)\"/>\n      <path id=\"DejaVuSans-2e\" d=\"M 684 794  L 1344 794  L 1344 0  L 684 0  L 684 794  z \" transform=\"scale(0.015625)\"/>\n      <path id=\"DejaVuSans-32\" d=\"M 1228 531  L 3431 531  L 3431 0  L 469 0  L 469 531  Q 828 903 1448 1529  Q 2069 2156 2228 2338  Q 2531 2678 2651 2914  Q 2772 3150 2772 3378  Q 2772 3750 2511 3984  Q 2250 4219 1831 4219  Q 1534 4219 1204 4116  Q 875 4013 500 3803  L 500 4441  Q 881 4594 1212 4672  Q 1544 4750 1819 4750  Q 2544 4750 2975 4387  Q 3406 4025 3406 3419  Q 3406 3131 3298 2873  Q 3191 2616 2906 2266  Q 2828 2175 2409 1742  Q 1991 1309 1228 531  z \" transform=\"scale(0.015625)\"/>\n      <path id=\"DejaVuSans-25\" d=\"M 4653 2053  Q 4381 2053 4226 1822  Q 4072 1591 4072 1178  Q 4072 772 4226 539  Q 4381 306 4653 306  Q 4919 306 5073 539  Q 5228 772 5228 1178  Q 5228 1588 5073 1820  Q 4919 2053 4653 2053  z M 4653 2450  Q 5147 2450 5437 2106  Q 5728 1763 5728 1178  Q 5728 594 5436 251  Q 5144 -91 4653 -91  Q 4153 -91 3862 251  Q 3572 594 3572 1178  Q 3572 1766 3864 2108  Q 4156 2450 4653 2450  z M 1428 4353  Q 1159 4353 1004 4120  Q 850 3888 850 3481  Q 850 3069 1003 2837  Q 1156 2606 1428 2606  Q 1700 2606 1854 2837  Q 2009 3069 2009 3481  Q 2009 3884 1853 4118  Q 1697 4353 1428 4353  z M 4250 4750  L 4750 4750  L 1831 -91  L 1331 -91  L 4250 4750  z M 1428 4750  Q 1922 4750 2215 4408  Q 2509 4066 2509 3481  Q 2509 2891 2217 2550  Q 1925 2209 1428 2209  Q 931 2209 642 2551  Q 353 2894 353 3481  Q 353 4063 643 4406  Q 934 4750 1428 4750  z \" transform=\"scale(0.015625)\"/>\n     </defs>\n     <use xlink:href=\"#DejaVuSans-38\"/>\n     <use xlink:href=\"#DejaVuSans-31\" x=\"63.623047\"/>\n     <use xlink:href=\"#DejaVuSans-2e\" x=\"127.246094\"/>\n     <use xlink:href=\"#DejaVuSans-38\" x=\"159.033203\"/>\n     <use xlink:href=\"#DejaVuSans-32\" x=\"222.65625\"/>\n     <use xlink:href=\"#DejaVuSans-25\" x=\"286.279297\"/>\n    </g>\n   </g>\n   <g id=\"text_4\">\n    <!-- 18.18% -->\n    <g transform=\"translate(90.432812 28.958438) scale(0.1 -0.1)\">\n     <use xlink:href=\"#DejaVuSans-31\"/>\n     <use xlink:href=\"#DejaVuSans-38\" x=\"63.623047\"/>\n     <use xlink:href=\"#DejaVuSans-2e\" x=\"127.246094\"/>\n     <use xlink:href=\"#DejaVuSans-31\" x=\"159.033203\"/>\n     <use xlink:href=\"#DejaVuSans-38\" x=\"222.65625\"/>\n     <use xlink:href=\"#DejaVuSans-25\" x=\"286.279297\"/>\n    </g>\n   </g>\n   <g id=\"text_5\">\n    <!-- c -->\n    <g transform=\"translate(69.463437 12.718125) scale(0.12 -0.12)\">\n     <defs>\n      <path id=\"DejaVuSans-63\" d=\"M 3122 3366  L 3122 2828  Q 2878 2963 2633 3030  Q 2388 3097 2138 3097  Q 1578 3097 1268 2742  Q 959 2388 959 1747  Q 959 1106 1268 751  Q 1578 397 2138 397  Q 2388 397 2633 464  Q 2878 531 3122 666  L 3122 134  Q 2881 22 2623 -34  Q 2366 -91 2075 -91  Q 1284 -91 818 406  Q 353 903 353 1747  Q 353 2603 823 3093  Q 1294 3584 2113 3584  Q 2378 3584 2631 3529  Q 2884 3475 3122 3366  z \" transform=\"scale(0.015625)\"/>\n     </defs>\n     <use xlink:href=\"#DejaVuSans-63\"/>\n    </g>\n   </g>\n  </g>\n </g>\n <defs>\n  <clipPath id=\"paa2dce6379\">\n   <rect x=\"16.9625\" y=\"18.718125\" width=\"111.6\" height=\"27.72\"/>\n  </clipPath>\n </defs>\n</svg>\n\n</g>\n<!-- s -->\n<g id=\"node2\" class=\"node\">\n<title>s</title>\n<ellipse fill=\"#404040\" stroke=\"#000000\" cx=\"31\" cy=\"-129\" rx=\"27\" ry=\"18\"/>\n<text text-anchor=\"middle\" x=\"31\" y=\"-126.5\" font-family=\"DejaVu Sans\" font-size=\"10.00\" fill=\"white\">s</text>\n</g>\n<!-- c&#45;&gt;s -->\n<g id=\"edge1\" class=\"edge\">\n<title>c-&gt;s</title>\n<g id=\"a_edge1\"><a xlink:title=\"0 → 1\">\n<path fill=\"none\" stroke=\"#4a4a4a\" d=\"M56.97,-182.67C52.82,-174.24 47.95,-164.37 43.56,-155.47\"/>\n<polygon fill=\"#4a4a4a\" stroke=\"#4a4a4a\" points=\"46.6,-153.72 39.04,-146.3 40.32,-156.82 46.6,-153.72\"/>\n</a>\n</g>\n</g>\n<!-- r -->\n<g id=\"node3\" class=\"node\">\n<title>r</title>\n<ellipse fill=\"#404040\" stroke=\"#000000\" cx=\"103\" cy=\"-129\" rx=\"27\" ry=\"18\"/>\n<text text-anchor=\"middle\" x=\"103\" y=\"-126.5\" font-family=\"DejaVu Sans\" font-size=\"10.00\" fill=\"white\">r</text>\n</g>\n<!-- c&#45;&gt;r -->\n<g id=\"edge2\" class=\"edge\">\n<title>c-&gt;r</title>\n<g id=\"a_edge2\"><a xlink:title=\"0 → 2\">\n<path fill=\"none\" stroke=\"#4a4a4a\" d=\"M77.03,-182.67C81.18,-174.24 86.05,-164.37 90.44,-155.47\"/>\n<polygon fill=\"#4a4a4a\" stroke=\"#4a4a4a\" points=\"93.68,-156.82 94.96,-146.3 87.4,-153.72 93.68,-156.82\"/>\n</a>\n</g>\n</g>\n<!-- w -->\n<g id=\"node4\" class=\"node\">\n<title>w</title>\n<polygon fill=\"#e0e0e0\" stroke=\"#000000\" points=\"117.5,-75 16.5,-75 16.5,-23 117.5,-23 117.5,-75\"/>\n<svg viewBox=\"0 0 132.1625 66.9755\" width=\"101px\" height=\"52px\" preserveAspectRatio=\"xMinYMin meet\" x=\"16.5\" y=\"-75\"> <metadata>\n  <rdf:RDF xmlns:dc=\"http://purl.org/dc/elements/1.1/\" xmlns:cc=\"http://creativecommons.org/ns#\" xmlns:rdf=\"http://www.w3.org/1999/02/22-rdf-syntax-ns#\">\n   <cc:Work>\n    <dc:type rdf:resource=\"http://purl.org/dc/dcmitype/StillImage\"/>\n    <dc:date>2024-01-24T19:31:39.212433</dc:date>\n    <dc:format>image/svg+xml</dc:format>\n    <dc:creator>\n     <cc:Agent>\n      <dc:title>Matplotlib v3.7.1, https://matplotlib.org/</dc:title>\n     </cc:Agent>\n    </dc:creator>\n   </cc:Work>\n  </rdf:RDF>\n </metadata>\n <defs>\n  <style type=\"text/css\">*{stroke-linejoin: round; stroke-linecap: butt}</style>\n </defs>\n <g id=\"figure_1\">\n  <g id=\"patch_1\">\n   <path d=\"M 0 66.9755  L 132.1625 66.9755  L 132.1625 0  L 0 0  z \" style=\"fill: #e0e0e0\"/>\n  </g>\n  <g id=\"axes_1\">\n   <g id=\"patch_2\">\n    <path d=\"M 16.9625 59.8755  L 128.5625 59.8755  L 128.5625 32.1555  L 16.9625 32.1555  z \" style=\"fill: #ffffff\"/>\n   </g>\n   <g id=\"patch_3\">\n    <path d=\"M 16.9625 59.8755  L 96.145744 59.8755  L 96.145744 47.5555  L 16.9625 47.5555  z \" clip-path=\"url(#p3b8bdc7ae2)\" style=\"fill: #8fbc8f\"/>\n   </g>\n   <g id=\"patch_4\">\n    <path d=\"M 16.9625 44.4755  L 49.379256 44.4755  L 49.379256 32.1555  L 16.9625 32.1555  z \" clip-path=\"url(#p3b8bdc7ae2)\" style=\"fill: #8fbc8f\"/>\n   </g>\n   <g id=\"matplotlib.axis_1\">\n    <g id=\"xtick_1\">\n     <g id=\"line2d_1\">\n      <path d=\"M 16.9625 59.8755  L 16.9625 32.1555  \" clip-path=\"url(#p3b8bdc7ae2)\" style=\"fill: none; stroke: #b0b0b0; stroke-width: 0.8; stroke-linecap: square\"/>\n     </g>\n     <g id=\"line2d_2\">\n      <defs>\n       <path id=\"mb8f328e4f0\" d=\"M 0 0  L 0 3.5  \" style=\"stroke: #000000; stroke-width: 0.8\"/>\n      </defs>\n      <g>\n       <use xlink:href=\"#mb8f328e4f0\" x=\"16.9625\" y=\"59.8755\" style=\"stroke: #000000; stroke-width: 0.8\"/>\n      </g>\n     </g>\n    </g>\n    <g id=\"xtick_2\">\n     <g id=\"line2d_3\">\n      <path d=\"M 72.7625 59.8755  L 72.7625 32.1555  \" clip-path=\"url(#p3b8bdc7ae2)\" style=\"fill: none; stroke: #b0b0b0; stroke-width: 0.8; stroke-linecap: square\"/>\n     </g>\n     <g id=\"line2d_4\">\n      <g>\n       <use xlink:href=\"#mb8f328e4f0\" x=\"72.7625\" y=\"59.8755\" style=\"stroke: #000000; stroke-width: 0.8\"/>\n      </g>\n     </g>\n    </g>\n    <g id=\"xtick_3\">\n     <g id=\"line2d_5\">\n      <path d=\"M 128.5625 59.8755  L 128.5625 32.1555  \" clip-path=\"url(#p3b8bdc7ae2)\" style=\"fill: none; stroke: #b0b0b0; stroke-width: 0.8; stroke-linecap: square\"/>\n     </g>\n     <g id=\"line2d_6\">\n      <g>\n       <use xlink:href=\"#mb8f328e4f0\" x=\"128.5625\" y=\"59.8755\" style=\"stroke: #000000; stroke-width: 0.8\"/>\n      </g>\n     </g>\n    </g>\n   </g>\n   <g id=\"matplotlib.axis_2\">\n    <g id=\"ytick_1\">\n     <g id=\"line2d_7\">\n      <defs>\n       <path id=\"m0d982ecc81\" d=\"M 0 0  L -3.5 0  \" style=\"stroke: #000000; stroke-width: 0.8\"/>\n      </defs>\n      <g>\n       <use xlink:href=\"#m0d982ecc81\" x=\"16.9625\" y=\"53.7155\" style=\"stroke: #000000; stroke-width: 0.8\"/>\n      </g>\n     </g>\n     <g id=\"text_1\">\n      <!-- 1 -->\n      <g transform=\"translate(3.6 57.514719) scale(0.1 -0.1)\">\n       <defs>\n        <path id=\"DejaVuSans-31\" d=\"M 794 531  L 1825 531  L 1825 4091  L 703 3866  L 703 4441  L 1819 4666  L 2450 4666  L 2450 531  L 3481 531  L 3481 0  L 794 0  L 794 531  z \" transform=\"scale(0.015625)\"/>\n       </defs>\n       <use xlink:href=\"#DejaVuSans-31\"/>\n      </g>\n     </g>\n    </g>\n    <g id=\"ytick_2\">\n     <g id=\"line2d_8\">\n      <g>\n       <use xlink:href=\"#m0d982ecc81\" x=\"16.9625\" y=\"38.3155\" style=\"stroke: #000000; stroke-width: 0.8\"/>\n      </g>\n     </g>\n     <g id=\"text_2\">\n      <!-- 0 -->\n      <g transform=\"translate(3.6 42.114719) scale(0.1 -0.1)\">\n       <defs>\n        <path id=\"DejaVuSans-30\" d=\"M 2034 4250  Q 1547 4250 1301 3770  Q 1056 3291 1056 2328  Q 1056 1369 1301 889  Q 1547 409 2034 409  Q 2525 409 2770 889  Q 3016 1369 3016 2328  Q 3016 3291 2770 3770  Q 2525 4250 2034 4250  z M 2034 4750  Q 2819 4750 3233 4129  Q 3647 3509 3647 2328  Q 3647 1150 3233 529  Q 2819 -91 2034 -91  Q 1250 -91 836 529  Q 422 1150 422 2328  Q 422 3509 836 4129  Q 1250 4750 2034 4750  z \" transform=\"scale(0.015625)\"/>\n       </defs>\n       <use xlink:href=\"#DejaVuSans-30\"/>\n      </g>\n     </g>\n    </g>\n   </g>\n   <g id=\"patch_5\">\n    <path d=\"M 16.9625 59.8755  L 16.9625 32.1555  \" style=\"fill: none; stroke: #000000; stroke-width: 0.8; stroke-linejoin: miter; stroke-linecap: square\"/>\n   </g>\n   <g id=\"patch_6\">\n    <path d=\"M 128.5625 59.8755  L 128.5625 32.1555  \" style=\"fill: none; stroke: #000000; stroke-width: 0.8; stroke-linejoin: miter; stroke-linecap: square\"/>\n   </g>\n   <g id=\"patch_7\">\n    <path d=\"M 16.9625 59.8755  L 128.5625 59.8755  \" style=\"fill: none; stroke: #000000; stroke-width: 0.8; stroke-linejoin: miter; stroke-linecap: square\"/>\n   </g>\n   <g id=\"patch_8\">\n    <path d=\"M 16.9625 32.1555  L 128.5625 32.1555  \" style=\"fill: none; stroke: #000000; stroke-width: 0.8; stroke-linejoin: miter; stroke-linecap: square\"/>\n   </g>\n   <g id=\"text_3\">\n    <!-- 70.95% -->\n    <g transform=\"translate(90.432812 57.795812) scale(0.1 -0.1)\">\n     <defs>\n      <path id=\"DejaVuSans-37\" d=\"M 525 4666  L 3525 4666  L 3525 4397  L 1831 0  L 1172 0  L 2766 4134  L 525 4134  L 525 4666  z \" transform=\"scale(0.015625)\"/>\n      <path id=\"DejaVuSans-2e\" d=\"M 684 794  L 1344 794  L 1344 0  L 684 0  L 684 794  z \" transform=\"scale(0.015625)\"/>\n      <path id=\"DejaVuSans-39\" d=\"M 703 97  L 703 672  Q 941 559 1184 500  Q 1428 441 1663 441  Q 2288 441 2617 861  Q 2947 1281 2994 2138  Q 2813 1869 2534 1725  Q 2256 1581 1919 1581  Q 1219 1581 811 2004  Q 403 2428 403 3163  Q 403 3881 828 4315  Q 1253 4750 1959 4750  Q 2769 4750 3195 4129  Q 3622 3509 3622 2328  Q 3622 1225 3098 567  Q 2575 -91 1691 -91  Q 1453 -91 1209 -44  Q 966 3 703 97  z M 1959 2075  Q 2384 2075 2632 2365  Q 2881 2656 2881 3163  Q 2881 3666 2632 3958  Q 2384 4250 1959 4250  Q 1534 4250 1286 3958  Q 1038 3666 1038 3163  Q 1038 2656 1286 2365  Q 1534 2075 1959 2075  z \" transform=\"scale(0.015625)\"/>\n      <path id=\"DejaVuSans-35\" d=\"M 691 4666  L 3169 4666  L 3169 4134  L 1269 4134  L 1269 2991  Q 1406 3038 1543 3061  Q 1681 3084 1819 3084  Q 2600 3084 3056 2656  Q 3513 2228 3513 1497  Q 3513 744 3044 326  Q 2575 -91 1722 -91  Q 1428 -91 1123 -41  Q 819 9 494 109  L 494 744  Q 775 591 1075 516  Q 1375 441 1709 441  Q 2250 441 2565 725  Q 2881 1009 2881 1497  Q 2881 1984 2565 2268  Q 2250 2553 1709 2553  Q 1456 2553 1204 2497  Q 953 2441 691 2322  L 691 4666  z \" transform=\"scale(0.015625)\"/>\n      <path id=\"DejaVuSans-25\" d=\"M 4653 2053  Q 4381 2053 4226 1822  Q 4072 1591 4072 1178  Q 4072 772 4226 539  Q 4381 306 4653 306  Q 4919 306 5073 539  Q 5228 772 5228 1178  Q 5228 1588 5073 1820  Q 4919 2053 4653 2053  z M 4653 2450  Q 5147 2450 5437 2106  Q 5728 1763 5728 1178  Q 5728 594 5436 251  Q 5144 -91 4653 -91  Q 4153 -91 3862 251  Q 3572 594 3572 1178  Q 3572 1766 3864 2108  Q 4156 2450 4653 2450  z M 1428 4353  Q 1159 4353 1004 4120  Q 850 3888 850 3481  Q 850 3069 1003 2837  Q 1156 2606 1428 2606  Q 1700 2606 1854 2837  Q 2009 3069 2009 3481  Q 2009 3884 1853 4118  Q 1697 4353 1428 4353  z M 4250 4750  L 4750 4750  L 1831 -91  L 1331 -91  L 4250 4750  z M 1428 4750  Q 1922 4750 2215 4408  Q 2509 4066 2509 3481  Q 2509 2891 2217 2550  Q 1925 2209 1428 2209  Q 931 2209 642 2551  Q 353 2894 353 3481  Q 353 4063 643 4406  Q 934 4750 1428 4750  z \" transform=\"scale(0.015625)\"/>\n     </defs>\n     <use xlink:href=\"#DejaVuSans-37\"/>\n     <use xlink:href=\"#DejaVuSans-30\" x=\"63.623047\"/>\n     <use xlink:href=\"#DejaVuSans-2e\" x=\"127.246094\"/>\n     <use xlink:href=\"#DejaVuSans-39\" x=\"159.033203\"/>\n     <use xlink:href=\"#DejaVuSans-35\" x=\"222.65625\"/>\n     <use xlink:href=\"#DejaVuSans-25\" x=\"286.279297\"/>\n    </g>\n   </g>\n   <g id=\"text_4\">\n    <!-- 29.05% -->\n    <g transform=\"translate(90.432812 42.395812) scale(0.1 -0.1)\">\n     <defs>\n      <path id=\"DejaVuSans-32\" d=\"M 1228 531  L 3431 531  L 3431 0  L 469 0  L 469 531  Q 828 903 1448 1529  Q 2069 2156 2228 2338  Q 2531 2678 2651 2914  Q 2772 3150 2772 3378  Q 2772 3750 2511 3984  Q 2250 4219 1831 4219  Q 1534 4219 1204 4116  Q 875 4013 500 3803  L 500 4441  Q 881 4594 1212 4672  Q 1544 4750 1819 4750  Q 2544 4750 2975 4387  Q 3406 4025 3406 3419  Q 3406 3131 3298 2873  Q 3191 2616 2906 2266  Q 2828 2175 2409 1742  Q 1991 1309 1228 531  z \" transform=\"scale(0.015625)\"/>\n     </defs>\n     <use xlink:href=\"#DejaVuSans-32\"/>\n     <use xlink:href=\"#DejaVuSans-39\" x=\"63.623047\"/>\n     <use xlink:href=\"#DejaVuSans-2e\" x=\"127.246094\"/>\n     <use xlink:href=\"#DejaVuSans-30\" x=\"159.033203\"/>\n     <use xlink:href=\"#DejaVuSans-35\" x=\"222.65625\"/>\n     <use xlink:href=\"#DejaVuSans-25\" x=\"286.279297\"/>\n    </g>\n   </g>\n   <g id=\"text_5\">\n    <!-- w -->\n    <g transform=\"translate(67.855625 12.718125) scale(0.12 -0.12)\">\n     <defs>\n      <path id=\"DejaVuSans-77\" d=\"M 269 3500  L 844 3500  L 1563 769  L 2278 3500  L 2956 3500  L 3675 769  L 4391 3500  L 4966 3500  L 4050 0  L 3372 0  L 2619 2869  L 1863 0  L 1184 0  L 269 3500  z \" transform=\"scale(0.015625)\"/>\n     </defs>\n     <use xlink:href=\"#DejaVuSans-77\"/>\n    </g>\n    <!-- $\\mu=0.71$; $\\sigma=0.45$ -->\n    <g transform=\"translate(20.2025 26.1555) scale(0.12 -0.12)\">\n     <defs>\n      <path id=\"DejaVuSans-Oblique-3bc\" d=\"M -84 -1331  L 856 3500  L 1434 3500  L 1009 1322  Q 997 1256 987 1175  Q 978 1094 978 1013  Q 978 722 1161 565  Q 1344 409 1684 409  Q 2147 409 2431 671  Q 2716 934 2816 1459  L 3213 3500  L 3788 3500  L 3266 809  Q 3253 750 3248 706  Q 3244 663 3244 628  Q 3244 531 3283 486  Q 3322 441 3406 441  Q 3438 441 3492 456  Q 3547 472 3647 513  L 3559 50  Q 3422 -19 3297 -55  Q 3172 -91 3053 -91  Q 2847 -91 2730 40  Q 2613 172 2613 403  Q 2438 153 2195 31  Q 1953 -91 1625 -91  Q 1334 -91 1117 43  Q 900 178 831 397  L 494 -1331  L -84 -1331  z \" transform=\"scale(0.015625)\"/>\n      <path id=\"DejaVuSans-3d\" d=\"M 678 2906  L 4684 2906  L 4684 2381  L 678 2381  L 678 2906  z M 678 1631  L 4684 1631  L 4684 1100  L 678 1100  L 678 1631  z \" transform=\"scale(0.015625)\"/>\n      <path id=\"DejaVuSans-3b\" d=\"M 750 3309  L 1409 3309  L 1409 2516  L 750 2516  L 750 3309  z M 750 794  L 1409 794  L 1409 256  L 897 -744  L 494 -744  L 750 256  L 750 794  z \" transform=\"scale(0.015625)\"/>\n      <path id=\"DejaVuSans-20\" transform=\"scale(0.015625)\"/>\n      <path id=\"DejaVuSans-Oblique-3c3\" d=\"M 2219 3044  Q 1744 3044 1422 2700  Q 1081 2341 969 1747  Q 844 1119 1044 756  Q 1241 397 1706 397  Q 2166 397 2503 759  Q 2844 1122 2966 1747  Q 3075 2319 2881 2700  Q 2700 3044 2219 3044  z M 2309 3503  L 4219 3500  L 4106 2925  L 3463 2925  Q 3706 2438 3575 1747  Q 3406 888 2884 400  Q 2359 -91 1609 -91  Q 856 -91 525 400  Q 194 888 363 1747  Q 528 2609 1050 3097  Q 1484 3503 2309 3503  z \" transform=\"scale(0.015625)\"/>\n      <path id=\"DejaVuSans-34\" d=\"M 2419 4116  L 825 1625  L 2419 1625  L 2419 4116  z M 2253 4666  L 3047 4666  L 3047 1625  L 3713 1625  L 3713 1100  L 3047 1100  L 3047 0  L 2419 0  L 2419 1100  L 313 1100  L 313 1709  L 2253 4666  z \" transform=\"scale(0.015625)\"/>\n     </defs>\n     <use xlink:href=\"#DejaVuSans-Oblique-3bc\" transform=\"translate(0 0.78125)\"/>\n     <use xlink:href=\"#DejaVuSans-3d\" transform=\"translate(83.105469 0.78125)\"/>\n     <use xlink:href=\"#DejaVuSans-30\" transform=\"translate(186.376953 0.78125)\"/>\n     <use xlink:href=\"#DejaVuSans-2e\" transform=\"translate(250 0.78125)\"/>\n     <use xlink:href=\"#DejaVuSans-37\" transform=\"translate(274.037109 0.78125)\"/>\n     <use xlink:href=\"#DejaVuSans-31\" transform=\"translate(337.660156 0.78125)\"/>\n     <use xlink:href=\"#DejaVuSans-3b\" transform=\"translate(401.283203 0.78125)\"/>\n     <use xlink:href=\"#DejaVuSans-20\" transform=\"translate(434.974609 0.78125)\"/>\n     <use xlink:href=\"#DejaVuSans-Oblique-3c3\" transform=\"translate(466.761719 0.78125)\"/>\n     <use xlink:href=\"#DejaVuSans-3d\" transform=\"translate(549.623047 0.78125)\"/>\n     <use xlink:href=\"#DejaVuSans-30\" transform=\"translate(652.894531 0.78125)\"/>\n     <use xlink:href=\"#DejaVuSans-2e\" transform=\"translate(716.517578 0.78125)\"/>\n     <use xlink:href=\"#DejaVuSans-34\" transform=\"translate(748.304688 0.78125)\"/>\n     <use xlink:href=\"#DejaVuSans-35\" transform=\"translate(811.927734 0.78125)\"/>\n    </g>\n   </g>\n  </g>\n </g>\n <defs>\n  <clipPath id=\"p3b8bdc7ae2\">\n   <rect x=\"16.9625\" y=\"32.1555\" width=\"111.6\" height=\"27.72\"/>\n  </clipPath>\n </defs>\n</svg>\n\n</g>\n<!-- s&#45;&gt;w -->\n<g id=\"edge4\" class=\"edge\">\n<title>s-&gt;w</title>\n<g id=\"a_edge4\"><a xlink:title=\"1 → 3\">\n<path fill=\"none\" stroke=\"#4a4a4a\" d=\"M38.63,-111.46C42.29,-103.54 46.81,-93.76 51.15,-84.34\"/>\n<polygon fill=\"#4a4a4a\" stroke=\"#4a4a4a\" points=\"54.39,-85.67 55.41,-75.12 48.04,-82.74 54.39,-85.67\"/>\n</a>\n</g>\n</g>\n<!-- r&#45;&gt;w -->\n<g id=\"edge3\" class=\"edge\">\n<title>r-&gt;w</title>\n<g id=\"a_edge3\"><a xlink:title=\"2 → 3\">\n<path fill=\"none\" stroke=\"#4a4a4a\" d=\"M95.37,-111.46C91.71,-103.54 87.19,-93.76 82.85,-84.34\"/>\n<polygon fill=\"#4a4a4a\" stroke=\"#4a4a4a\" points=\"85.96,-82.74 78.59,-75.12 79.61,-85.67 85.96,-82.74\"/>\n</a>\n</g>\n</g>\n</g>\n</svg>"
          },
          "metadata": {}
        }
      ],
      "source": [
        "gnb.showInference(bn,evs={'c':[0.3,0.9]},targets={'c','w'})"
      ]
    },
    {
      "cell_type": "code",
      "execution_count": null,
      "metadata": {
        "id": "BX7lrQiCiv1T",
        "outputId": "0da73a6e-b91b-48d6-efa9-16745bbb7934",
        "colab": {
          "base_uri": "https://localhost:8080/",
          "height": 324
        }
      },
      "outputs": [
        {
          "output_type": "display_data",
          "data": {
            "text/plain": [
              "<IPython.core.display.SVG object>"
            ],
            "image/svg+xml": "<svg xmlns=\"http://www.w3.org/2000/svg\" xmlns:xlink=\"http://www.w3.org/1999/xlink\" width=\"142pt\" height=\"227pt\" viewBox=\"0.00 0.00 142.00 227.00\">\n<g id=\"graph0\" class=\"graph\" transform=\"scale(1 1) rotate(0) translate(4 223)\">\n<title>structs</title>\n<text text-anchor=\"middle\" x=\"67\" y=\"-7.8\" font-family=\"Times,serif\" font-size=\"14.00\" fill=\"#4a4a4a\">Inference in   0.55ms</text>\n<!-- c -->\n<g id=\"node1\" class=\"node\">\n<title>c</title>\n<ellipse fill=\"sandybrown\" stroke=\"#000000\" cx=\"67\" cy=\"-201\" rx=\"27\" ry=\"18\"/>\n<text text-anchor=\"middle\" x=\"67\" y=\"-198.5\" font-family=\"DejaVu Sans\" font-size=\"10.00\">c</text>\n</g>\n<!-- s -->\n<g id=\"node2\" class=\"node\">\n<title>s</title>\n<ellipse fill=\"#404040\" stroke=\"#000000\" cx=\"31\" cy=\"-129\" rx=\"27\" ry=\"18\"/>\n<text text-anchor=\"middle\" x=\"31\" y=\"-126.5\" font-family=\"DejaVu Sans\" font-size=\"10.00\" fill=\"white\">s</text>\n</g>\n<!-- c&#45;&gt;s -->\n<g id=\"edge1\" class=\"edge\">\n<title>c-&gt;s</title>\n<g id=\"a_edge1\"><a xlink:title=\"0 → 1\">\n<path fill=\"none\" stroke=\"#4a4a4a\" d=\"M58.65,-183.76C54.29,-175.28 48.85,-164.71 43.96,-155.2\"/>\n<polygon fill=\"#4a4a4a\" stroke=\"#4a4a4a\" points=\"46.99,-153.44 39.3,-146.15 40.77,-156.64 46.99,-153.44\"/>\n</a>\n</g>\n</g>\n<!-- r -->\n<g id=\"node3\" class=\"node\">\n<title>r</title>\n<ellipse fill=\"#404040\" stroke=\"#000000\" cx=\"103\" cy=\"-129\" rx=\"27\" ry=\"18\"/>\n<text text-anchor=\"middle\" x=\"103\" y=\"-126.5\" font-family=\"DejaVu Sans\" font-size=\"10.00\" fill=\"white\">r</text>\n</g>\n<!-- c&#45;&gt;r -->\n<g id=\"edge2\" class=\"edge\">\n<title>c-&gt;r</title>\n<g id=\"a_edge2\"><a xlink:title=\"0 → 2\">\n<path fill=\"none\" stroke=\"#4a4a4a\" d=\"M75.35,-183.76C79.71,-175.28 85.15,-164.71 90.04,-155.2\"/>\n<polygon fill=\"#4a4a4a\" stroke=\"#4a4a4a\" points=\"93.23,-156.64 94.7,-146.15 87.01,-153.44 93.23,-156.64\"/>\n</a>\n</g>\n</g>\n<!-- w -->\n<g id=\"node4\" class=\"node\">\n<title>w</title>\n<polygon fill=\"#e0e0e0\" stroke=\"#000000\" points=\"117.5,-75 16.5,-75 16.5,-23 117.5,-23 117.5,-75\"/>\n<svg viewBox=\"0 0 132.1625 66.9755\" width=\"101px\" height=\"52px\" preserveAspectRatio=\"xMinYMin meet\" x=\"16.5\" y=\"-75\"> <metadata>\n  <rdf:RDF xmlns:dc=\"http://purl.org/dc/elements/1.1/\" xmlns:cc=\"http://creativecommons.org/ns#\" xmlns:rdf=\"http://www.w3.org/1999/02/22-rdf-syntax-ns#\">\n   <cc:Work>\n    <dc:type rdf:resource=\"http://purl.org/dc/dcmitype/StillImage\"/>\n    <dc:date>2024-01-24T19:31:40.030070</dc:date>\n    <dc:format>image/svg+xml</dc:format>\n    <dc:creator>\n     <cc:Agent>\n      <dc:title>Matplotlib v3.7.1, https://matplotlib.org/</dc:title>\n     </cc:Agent>\n    </dc:creator>\n   </cc:Work>\n  </rdf:RDF>\n </metadata>\n <defs>\n  <style type=\"text/css\">*{stroke-linejoin: round; stroke-linecap: butt}</style>\n </defs>\n <g id=\"figure_1\">\n  <g id=\"patch_1\">\n   <path d=\"M 0 66.9755  L 132.1625 66.9755  L 132.1625 0  L 0 0  z \" style=\"fill: #e0e0e0\"/>\n  </g>\n  <g id=\"axes_1\">\n   <g id=\"patch_2\">\n    <path d=\"M 16.9625 59.8755  L 128.5625 59.8755  L 128.5625 32.1555  L 16.9625 32.1555  z \" style=\"fill: #ffffff\"/>\n   </g>\n   <g id=\"patch_3\">\n    <path d=\"M 16.9625 59.8755  L 96.145744 59.8755  L 96.145744 47.5555  L 16.9625 47.5555  z \" clip-path=\"url(#p7a3944d673)\" style=\"fill: #8fbc8f\"/>\n   </g>\n   <g id=\"patch_4\">\n    <path d=\"M 16.9625 44.4755  L 49.379256 44.4755  L 49.379256 32.1555  L 16.9625 32.1555  z \" clip-path=\"url(#p7a3944d673)\" style=\"fill: #8fbc8f\"/>\n   </g>\n   <g id=\"matplotlib.axis_1\">\n    <g id=\"xtick_1\">\n     <g id=\"line2d_1\">\n      <path d=\"M 16.9625 59.8755  L 16.9625 32.1555  \" clip-path=\"url(#p7a3944d673)\" style=\"fill: none; stroke: #b0b0b0; stroke-width: 0.8; stroke-linecap: square\"/>\n     </g>\n     <g id=\"line2d_2\">\n      <defs>\n       <path id=\"mf47d5cf1b6\" d=\"M 0 0  L 0 3.5  \" style=\"stroke: #000000; stroke-width: 0.8\"/>\n      </defs>\n      <g>\n       <use xlink:href=\"#mf47d5cf1b6\" x=\"16.9625\" y=\"59.8755\" style=\"stroke: #000000; stroke-width: 0.8\"/>\n      </g>\n     </g>\n    </g>\n    <g id=\"xtick_2\">\n     <g id=\"line2d_3\">\n      <path d=\"M 72.7625 59.8755  L 72.7625 32.1555  \" clip-path=\"url(#p7a3944d673)\" style=\"fill: none; stroke: #b0b0b0; stroke-width: 0.8; stroke-linecap: square\"/>\n     </g>\n     <g id=\"line2d_4\">\n      <g>\n       <use xlink:href=\"#mf47d5cf1b6\" x=\"72.7625\" y=\"59.8755\" style=\"stroke: #000000; stroke-width: 0.8\"/>\n      </g>\n     </g>\n    </g>\n    <g id=\"xtick_3\">\n     <g id=\"line2d_5\">\n      <path d=\"M 128.5625 59.8755  L 128.5625 32.1555  \" clip-path=\"url(#p7a3944d673)\" style=\"fill: none; stroke: #b0b0b0; stroke-width: 0.8; stroke-linecap: square\"/>\n     </g>\n     <g id=\"line2d_6\">\n      <g>\n       <use xlink:href=\"#mf47d5cf1b6\" x=\"128.5625\" y=\"59.8755\" style=\"stroke: #000000; stroke-width: 0.8\"/>\n      </g>\n     </g>\n    </g>\n   </g>\n   <g id=\"matplotlib.axis_2\">\n    <g id=\"ytick_1\">\n     <g id=\"line2d_7\">\n      <defs>\n       <path id=\"mf6d74e9ca7\" d=\"M 0 0  L -3.5 0  \" style=\"stroke: #000000; stroke-width: 0.8\"/>\n      </defs>\n      <g>\n       <use xlink:href=\"#mf6d74e9ca7\" x=\"16.9625\" y=\"53.7155\" style=\"stroke: #000000; stroke-width: 0.8\"/>\n      </g>\n     </g>\n     <g id=\"text_1\">\n      <!-- 1 -->\n      <g transform=\"translate(3.6 57.514719) scale(0.1 -0.1)\">\n       <defs>\n        <path id=\"DejaVuSans-31\" d=\"M 794 531  L 1825 531  L 1825 4091  L 703 3866  L 703 4441  L 1819 4666  L 2450 4666  L 2450 531  L 3481 531  L 3481 0  L 794 0  L 794 531  z \" transform=\"scale(0.015625)\"/>\n       </defs>\n       <use xlink:href=\"#DejaVuSans-31\"/>\n      </g>\n     </g>\n    </g>\n    <g id=\"ytick_2\">\n     <g id=\"line2d_8\">\n      <g>\n       <use xlink:href=\"#mf6d74e9ca7\" x=\"16.9625\" y=\"38.3155\" style=\"stroke: #000000; stroke-width: 0.8\"/>\n      </g>\n     </g>\n     <g id=\"text_2\">\n      <!-- 0 -->\n      <g transform=\"translate(3.6 42.114719) scale(0.1 -0.1)\">\n       <defs>\n        <path id=\"DejaVuSans-30\" d=\"M 2034 4250  Q 1547 4250 1301 3770  Q 1056 3291 1056 2328  Q 1056 1369 1301 889  Q 1547 409 2034 409  Q 2525 409 2770 889  Q 3016 1369 3016 2328  Q 3016 3291 2770 3770  Q 2525 4250 2034 4250  z M 2034 4750  Q 2819 4750 3233 4129  Q 3647 3509 3647 2328  Q 3647 1150 3233 529  Q 2819 -91 2034 -91  Q 1250 -91 836 529  Q 422 1150 422 2328  Q 422 3509 836 4129  Q 1250 4750 2034 4750  z \" transform=\"scale(0.015625)\"/>\n       </defs>\n       <use xlink:href=\"#DejaVuSans-30\"/>\n      </g>\n     </g>\n    </g>\n   </g>\n   <g id=\"patch_5\">\n    <path d=\"M 16.9625 59.8755  L 16.9625 32.1555  \" style=\"fill: none; stroke: #000000; stroke-width: 0.8; stroke-linejoin: miter; stroke-linecap: square\"/>\n   </g>\n   <g id=\"patch_6\">\n    <path d=\"M 128.5625 59.8755  L 128.5625 32.1555  \" style=\"fill: none; stroke: #000000; stroke-width: 0.8; stroke-linejoin: miter; stroke-linecap: square\"/>\n   </g>\n   <g id=\"patch_7\">\n    <path d=\"M 16.9625 59.8755  L 128.5625 59.8755  \" style=\"fill: none; stroke: #000000; stroke-width: 0.8; stroke-linejoin: miter; stroke-linecap: square\"/>\n   </g>\n   <g id=\"patch_8\">\n    <path d=\"M 16.9625 32.1555  L 128.5625 32.1555  \" style=\"fill: none; stroke: #000000; stroke-width: 0.8; stroke-linejoin: miter; stroke-linecap: square\"/>\n   </g>\n   <g id=\"text_3\">\n    <!-- 70.95% -->\n    <g transform=\"translate(90.432812 57.795812) scale(0.1 -0.1)\">\n     <defs>\n      <path id=\"DejaVuSans-37\" d=\"M 525 4666  L 3525 4666  L 3525 4397  L 1831 0  L 1172 0  L 2766 4134  L 525 4134  L 525 4666  z \" transform=\"scale(0.015625)\"/>\n      <path id=\"DejaVuSans-2e\" d=\"M 684 794  L 1344 794  L 1344 0  L 684 0  L 684 794  z \" transform=\"scale(0.015625)\"/>\n      <path id=\"DejaVuSans-39\" d=\"M 703 97  L 703 672  Q 941 559 1184 500  Q 1428 441 1663 441  Q 2288 441 2617 861  Q 2947 1281 2994 2138  Q 2813 1869 2534 1725  Q 2256 1581 1919 1581  Q 1219 1581 811 2004  Q 403 2428 403 3163  Q 403 3881 828 4315  Q 1253 4750 1959 4750  Q 2769 4750 3195 4129  Q 3622 3509 3622 2328  Q 3622 1225 3098 567  Q 2575 -91 1691 -91  Q 1453 -91 1209 -44  Q 966 3 703 97  z M 1959 2075  Q 2384 2075 2632 2365  Q 2881 2656 2881 3163  Q 2881 3666 2632 3958  Q 2384 4250 1959 4250  Q 1534 4250 1286 3958  Q 1038 3666 1038 3163  Q 1038 2656 1286 2365  Q 1534 2075 1959 2075  z \" transform=\"scale(0.015625)\"/>\n      <path id=\"DejaVuSans-35\" d=\"M 691 4666  L 3169 4666  L 3169 4134  L 1269 4134  L 1269 2991  Q 1406 3038 1543 3061  Q 1681 3084 1819 3084  Q 2600 3084 3056 2656  Q 3513 2228 3513 1497  Q 3513 744 3044 326  Q 2575 -91 1722 -91  Q 1428 -91 1123 -41  Q 819 9 494 109  L 494 744  Q 775 591 1075 516  Q 1375 441 1709 441  Q 2250 441 2565 725  Q 2881 1009 2881 1497  Q 2881 1984 2565 2268  Q 2250 2553 1709 2553  Q 1456 2553 1204 2497  Q 953 2441 691 2322  L 691 4666  z \" transform=\"scale(0.015625)\"/>\n      <path id=\"DejaVuSans-25\" d=\"M 4653 2053  Q 4381 2053 4226 1822  Q 4072 1591 4072 1178  Q 4072 772 4226 539  Q 4381 306 4653 306  Q 4919 306 5073 539  Q 5228 772 5228 1178  Q 5228 1588 5073 1820  Q 4919 2053 4653 2053  z M 4653 2450  Q 5147 2450 5437 2106  Q 5728 1763 5728 1178  Q 5728 594 5436 251  Q 5144 -91 4653 -91  Q 4153 -91 3862 251  Q 3572 594 3572 1178  Q 3572 1766 3864 2108  Q 4156 2450 4653 2450  z M 1428 4353  Q 1159 4353 1004 4120  Q 850 3888 850 3481  Q 850 3069 1003 2837  Q 1156 2606 1428 2606  Q 1700 2606 1854 2837  Q 2009 3069 2009 3481  Q 2009 3884 1853 4118  Q 1697 4353 1428 4353  z M 4250 4750  L 4750 4750  L 1831 -91  L 1331 -91  L 4250 4750  z M 1428 4750  Q 1922 4750 2215 4408  Q 2509 4066 2509 3481  Q 2509 2891 2217 2550  Q 1925 2209 1428 2209  Q 931 2209 642 2551  Q 353 2894 353 3481  Q 353 4063 643 4406  Q 934 4750 1428 4750  z \" transform=\"scale(0.015625)\"/>\n     </defs>\n     <use xlink:href=\"#DejaVuSans-37\"/>\n     <use xlink:href=\"#DejaVuSans-30\" x=\"63.623047\"/>\n     <use xlink:href=\"#DejaVuSans-2e\" x=\"127.246094\"/>\n     <use xlink:href=\"#DejaVuSans-39\" x=\"159.033203\"/>\n     <use xlink:href=\"#DejaVuSans-35\" x=\"222.65625\"/>\n     <use xlink:href=\"#DejaVuSans-25\" x=\"286.279297\"/>\n    </g>\n   </g>\n   <g id=\"text_4\">\n    <!-- 29.05% -->\n    <g transform=\"translate(90.432812 42.395812) scale(0.1 -0.1)\">\n     <defs>\n      <path id=\"DejaVuSans-32\" d=\"M 1228 531  L 3431 531  L 3431 0  L 469 0  L 469 531  Q 828 903 1448 1529  Q 2069 2156 2228 2338  Q 2531 2678 2651 2914  Q 2772 3150 2772 3378  Q 2772 3750 2511 3984  Q 2250 4219 1831 4219  Q 1534 4219 1204 4116  Q 875 4013 500 3803  L 500 4441  Q 881 4594 1212 4672  Q 1544 4750 1819 4750  Q 2544 4750 2975 4387  Q 3406 4025 3406 3419  Q 3406 3131 3298 2873  Q 3191 2616 2906 2266  Q 2828 2175 2409 1742  Q 1991 1309 1228 531  z \" transform=\"scale(0.015625)\"/>\n     </defs>\n     <use xlink:href=\"#DejaVuSans-32\"/>\n     <use xlink:href=\"#DejaVuSans-39\" x=\"63.623047\"/>\n     <use xlink:href=\"#DejaVuSans-2e\" x=\"127.246094\"/>\n     <use xlink:href=\"#DejaVuSans-30\" x=\"159.033203\"/>\n     <use xlink:href=\"#DejaVuSans-35\" x=\"222.65625\"/>\n     <use xlink:href=\"#DejaVuSans-25\" x=\"286.279297\"/>\n    </g>\n   </g>\n   <g id=\"text_5\">\n    <!-- w -->\n    <g transform=\"translate(67.855625 12.718125) scale(0.12 -0.12)\">\n     <defs>\n      <path id=\"DejaVuSans-77\" d=\"M 269 3500  L 844 3500  L 1563 769  L 2278 3500  L 2956 3500  L 3675 769  L 4391 3500  L 4966 3500  L 4050 0  L 3372 0  L 2619 2869  L 1863 0  L 1184 0  L 269 3500  z \" transform=\"scale(0.015625)\"/>\n     </defs>\n     <use xlink:href=\"#DejaVuSans-77\"/>\n    </g>\n    <!-- $\\mu=0.71$; $\\sigma=0.45$ -->\n    <g transform=\"translate(20.2025 26.1555) scale(0.12 -0.12)\">\n     <defs>\n      <path id=\"DejaVuSans-Oblique-3bc\" d=\"M -84 -1331  L 856 3500  L 1434 3500  L 1009 1322  Q 997 1256 987 1175  Q 978 1094 978 1013  Q 978 722 1161 565  Q 1344 409 1684 409  Q 2147 409 2431 671  Q 2716 934 2816 1459  L 3213 3500  L 3788 3500  L 3266 809  Q 3253 750 3248 706  Q 3244 663 3244 628  Q 3244 531 3283 486  Q 3322 441 3406 441  Q 3438 441 3492 456  Q 3547 472 3647 513  L 3559 50  Q 3422 -19 3297 -55  Q 3172 -91 3053 -91  Q 2847 -91 2730 40  Q 2613 172 2613 403  Q 2438 153 2195 31  Q 1953 -91 1625 -91  Q 1334 -91 1117 43  Q 900 178 831 397  L 494 -1331  L -84 -1331  z \" transform=\"scale(0.015625)\"/>\n      <path id=\"DejaVuSans-3d\" d=\"M 678 2906  L 4684 2906  L 4684 2381  L 678 2381  L 678 2906  z M 678 1631  L 4684 1631  L 4684 1100  L 678 1100  L 678 1631  z \" transform=\"scale(0.015625)\"/>\n      <path id=\"DejaVuSans-3b\" d=\"M 750 3309  L 1409 3309  L 1409 2516  L 750 2516  L 750 3309  z M 750 794  L 1409 794  L 1409 256  L 897 -744  L 494 -744  L 750 256  L 750 794  z \" transform=\"scale(0.015625)\"/>\n      <path id=\"DejaVuSans-20\" transform=\"scale(0.015625)\"/>\n      <path id=\"DejaVuSans-Oblique-3c3\" d=\"M 2219 3044  Q 1744 3044 1422 2700  Q 1081 2341 969 1747  Q 844 1119 1044 756  Q 1241 397 1706 397  Q 2166 397 2503 759  Q 2844 1122 2966 1747  Q 3075 2319 2881 2700  Q 2700 3044 2219 3044  z M 2309 3503  L 4219 3500  L 4106 2925  L 3463 2925  Q 3706 2438 3575 1747  Q 3406 888 2884 400  Q 2359 -91 1609 -91  Q 856 -91 525 400  Q 194 888 363 1747  Q 528 2609 1050 3097  Q 1484 3503 2309 3503  z \" transform=\"scale(0.015625)\"/>\n      <path id=\"DejaVuSans-34\" d=\"M 2419 4116  L 825 1625  L 2419 1625  L 2419 4116  z M 2253 4666  L 3047 4666  L 3047 1625  L 3713 1625  L 3713 1100  L 3047 1100  L 3047 0  L 2419 0  L 2419 1100  L 313 1100  L 313 1709  L 2253 4666  z \" transform=\"scale(0.015625)\"/>\n     </defs>\n     <use xlink:href=\"#DejaVuSans-Oblique-3bc\" transform=\"translate(0 0.78125)\"/>\n     <use xlink:href=\"#DejaVuSans-3d\" transform=\"translate(83.105469 0.78125)\"/>\n     <use xlink:href=\"#DejaVuSans-30\" transform=\"translate(186.376953 0.78125)\"/>\n     <use xlink:href=\"#DejaVuSans-2e\" transform=\"translate(250 0.78125)\"/>\n     <use xlink:href=\"#DejaVuSans-37\" transform=\"translate(274.037109 0.78125)\"/>\n     <use xlink:href=\"#DejaVuSans-31\" transform=\"translate(337.660156 0.78125)\"/>\n     <use xlink:href=\"#DejaVuSans-3b\" transform=\"translate(401.283203 0.78125)\"/>\n     <use xlink:href=\"#DejaVuSans-20\" transform=\"translate(434.974609 0.78125)\"/>\n     <use xlink:href=\"#DejaVuSans-Oblique-3c3\" transform=\"translate(466.761719 0.78125)\"/>\n     <use xlink:href=\"#DejaVuSans-3d\" transform=\"translate(549.623047 0.78125)\"/>\n     <use xlink:href=\"#DejaVuSans-30\" transform=\"translate(652.894531 0.78125)\"/>\n     <use xlink:href=\"#DejaVuSans-2e\" transform=\"translate(716.517578 0.78125)\"/>\n     <use xlink:href=\"#DejaVuSans-34\" transform=\"translate(748.304688 0.78125)\"/>\n     <use xlink:href=\"#DejaVuSans-35\" transform=\"translate(811.927734 0.78125)\"/>\n    </g>\n   </g>\n  </g>\n </g>\n <defs>\n  <clipPath id=\"p7a3944d673\">\n   <rect x=\"16.9625\" y=\"32.1555\" width=\"111.6\" height=\"27.72\"/>\n  </clipPath>\n </defs>\n</svg>\n\n</g>\n<!-- s&#45;&gt;w -->\n<g id=\"edge4\" class=\"edge\">\n<title>s-&gt;w</title>\n<g id=\"a_edge4\"><a xlink:title=\"1 → 3\">\n<path fill=\"none\" stroke=\"#4a4a4a\" d=\"M38.63,-111.46C42.29,-103.54 46.81,-93.76 51.15,-84.34\"/>\n<polygon fill=\"#4a4a4a\" stroke=\"#4a4a4a\" points=\"54.39,-85.67 55.41,-75.12 48.04,-82.74 54.39,-85.67\"/>\n</a>\n</g>\n</g>\n<!-- r&#45;&gt;w -->\n<g id=\"edge3\" class=\"edge\">\n<title>r-&gt;w</title>\n<g id=\"a_edge3\"><a xlink:title=\"2 → 3\">\n<path fill=\"none\" stroke=\"#4a4a4a\" d=\"M95.37,-111.46C91.71,-103.54 87.19,-93.76 82.85,-84.34\"/>\n<polygon fill=\"#4a4a4a\" stroke=\"#4a4a4a\" points=\"85.96,-82.74 78.59,-75.12 79.61,-85.67 85.96,-82.74\"/>\n</a>\n</g>\n</g>\n</g>\n</svg>"
          },
          "metadata": {}
        }
      ],
      "source": [
        "gnb.showInference(bn,evs={'c':[0.3,0.9]},targets={'w'})"
      ]
    },
    {
      "cell_type": "markdown",
      "metadata": {
        "id": "_W04Mv0Viv1U"
      },
      "source": [
        "# Joint probablity distribution"
      ]
    },
    {
      "cell_type": "code",
      "execution_count": null,
      "metadata": {
        "id": "UhoSQ8toiv1U",
        "outputId": "d7cab50b-a693-42b3-f793-4ffcbf0b4059",
        "colab": {
          "base_uri": "https://localhost:8080/",
          "height": 255
        }
      },
      "outputs": [
        {
          "output_type": "execute_result",
          "data": {
            "text/plain": [
              "(pyAgrum.Potential<double>@0x5d18e36eb990) \n",
              "                    ||  s                |\n",
              "r     |w     |c     ||0        |1        |\n",
              "------|------|------||---------|---------|\n",
              "0     |0     |0     || 0.1600  | 0.0160  |\n",
              "1     |0     |0     || 0.0040  | 0.0004  |\n",
              "0     |1     |0     || 0.0000  | 0.1440  |\n",
              "1     |1     |0     || 0.0360  | 0.0396  |\n",
              "0     |0     |1     || 0.1080  | 0.0012  |\n",
              "1     |0     |1     || 0.0432  | 0.0005  |\n",
              "0     |1     |1     || 0.0000  | 0.0108  |\n",
              "1     |1     |1     || 0.3888  | 0.0475  |"
            ],
            "text/html": [
              "<table style=\"border:1px solid black;\">\n",
              "<tr><th colspan='3'></th>\n",
              "      <th colspan='2' style='border:1px solid black;color:black;background-color:#808080;'><center>s</center>\n",
              "      </th></tr>\n",
              "<tr><th style='border:1px solid black;color:black;background-color:#808080'><center>c</center></th><th style='border:1px solid black;color:black;background-color:#808080'><center>w</center></th><th style='border:1px solid black;color:black;background-color:#808080'><center>r</center></th><th style='border:1px solid black;border-bottom-style: double;color:black;background-color:#BBBBBB'>\n",
              "      <center>0</center></th><th style='border:1px solid black;border-bottom-style: double;color:black;background-color:#BBBBBB'>\n",
              "      <center>1</center></th></tr>\n",
              "<tr><th style='border:1px solid black;color:black;background-color:#BBBBBB;' rowspan = '4'>\n",
              "            <center>0</center></th><th style='border:1px solid black;color:black;background-color:#BBBBBB;' rowspan = '2'>\n",
              "            <center>0</center></th><th style='border:1px solid black;color:black;background-color:#BBBBBB'><center>0</center></th><td style='color:black;background-color:#ea9364;text-align:right;'>0.1600</td><td style='color:black;background-color:#fc8164;text-align:right;'>0.0160</td></tr>\n",
              "<tr><th style='border:1px solid black;color:black;background-color:#BBBBBB'><center>1</center></th><td style='color:black;background-color:#fe7f64;text-align:right;'>0.0040</td><td style='color:black;background-color:#fe7f64;text-align:right;'>0.0004</td></tr>\n",
              "<tr><th style='border:1px solid black;color:black;background-color:#BBBBBB;' rowspan = '2'>\n",
              "            <center>1</center></th><th style='border:1px solid black;color:black;background-color:#BBBBBB'><center>0</center></th><td style='color:black;background-color:#ff7f64;text-align:right;'>0.0000</td><td style='color:black;background-color:#ec9164;text-align:right;'>0.1440</td></tr>\n",
              "<tr><th style='border:1px solid black;color:black;background-color:#BBBBBB'><center>1</center></th><td style='color:black;background-color:#fa8364;text-align:right;'>0.0360</td><td style='color:black;background-color:#f98464;text-align:right;'>0.0396</td></tr>\n",
              "<tr><th style='border:1px solid black;color:black;background-color:#BBBBBB;' rowspan = '4'>\n",
              "            <center>1</center></th><th style='border:1px solid black;color:black;background-color:#BBBBBB;' rowspan = '2'>\n",
              "            <center>0</center></th><th style='border:1px solid black;color:black;background-color:#BBBBBB'><center>0</center></th><td style='color:black;background-color:#f18c64;text-align:right;'>0.1080</td><td style='color:black;background-color:#fe7f64;text-align:right;'>0.0012</td></tr>\n",
              "<tr><th style='border:1px solid black;color:black;background-color:#BBBBBB'><center>1</center></th><td style='color:black;background-color:#f98464;text-align:right;'>0.0432</td><td style='color:black;background-color:#fe7f64;text-align:right;'>0.0005</td></tr>\n",
              "<tr><th style='border:1px solid black;color:black;background-color:#BBBBBB;' rowspan = '2'>\n",
              "            <center>1</center></th><th style='border:1px solid black;color:black;background-color:#BBBBBB'><center>0</center></th><td style='color:black;background-color:#ff7f64;text-align:right;'>0.0000</td><td style='color:black;background-color:#fd8064;text-align:right;'>0.0108</td></tr>\n",
              "<tr><th style='border:1px solid black;color:black;background-color:#BBBBBB'><center>1</center></th><td style='color:black;background-color:#cdb064;text-align:right;'>0.3888</td><td style='color:black;background-color:#f88564;text-align:right;'>0.0475</td></tr>\n",
              "</table>"
            ]
          },
          "metadata": {},
          "execution_count": 40
        }
      ],
      "source": [
        "pCRSW=bn.cpt(\"c\")*bn.cpt(\"r\")*bn.cpt(\"s\")*bn.cpt(\"w\")\n",
        "pCRSW"
      ]
    },
    {
      "cell_type": "code",
      "execution_count": null,
      "metadata": {
        "id": "_zdXP3MTiv1U",
        "outputId": "c40a83ad-5105-4455-e910-b117273ff0cf",
        "colab": {
          "base_uri": "https://localhost:8080/",
          "height": 114
        }
      },
      "outputs": [
        {
          "output_type": "execute_result",
          "data": {
            "text/plain": [
              "(pyAgrum.Potential<double>@0x5d18e2b5ae00) \n",
              "      ||  c                |\n",
              "w     ||0        |1        |\n",
              "------||---------|---------|\n",
              "0     || 0.4510  | 0.2548  |\n",
              "1     || 0.5490  | 0.7452  |"
            ],
            "text/html": [
              "<table style=\"border:1px solid black;\">\n",
              "<tr><th colspan='1'></th>\n",
              "      <th colspan='2' style='border:1px solid black;color:black;background-color:#808080;'><center>c</center>\n",
              "      </th></tr>\n",
              "<tr><th style='border:1px solid black;color:black;background-color:#808080'><center>w</center></th><th style='border:1px solid black;border-bottom-style: double;color:black;background-color:#BBBBBB'>\n",
              "      <center>0</center></th><th style='border:1px solid black;border-bottom-style: double;color:black;background-color:#BBBBBB'>\n",
              "      <center>1</center></th></tr>\n",
              "<tr><th style='border:1px solid black;color:black;background-color:#BBBBBB'><center>0</center></th><td style='text-align:right;'>0.4510</td><td style='text-align:right;'>0.2548</td></tr>\n",
              "<tr><th style='border:1px solid black;color:black;background-color:#BBBBBB'><center>1</center></th><td style='text-align:right;'>0.5490</td><td style='text-align:right;'>0.7452</td></tr>\n",
              "</table>"
            ]
          },
          "metadata": {},
          "execution_count": 41
        }
      ],
      "source": [
        "pWgivenC=(pCRSW.margSumOut([\"r\",\"s\"])/pCRSW.margSumOut([\"r\",\"s\",\"w\"]))\n",
        "pWgivenC"
      ]
    },
    {
      "cell_type": "code",
      "execution_count": null,
      "metadata": {
        "id": "L595SXh6iv1U",
        "outputId": "19de5cdc-0787-43f5-ac8f-30d00bc8a11e",
        "colab": {
          "base_uri": "https://localhost:8080/",
          "height": 114
        }
      },
      "outputs": [
        {
          "output_type": "execute_result",
          "data": {
            "text/plain": [
              "(pyAgrum.Potential<double>@0x5d18e36b0810) \n",
              "      ||  s                |\n",
              "r     ||0        |1        |\n",
              "------||---------|---------|\n",
              "0     || 0.2680  | 0.1720  |\n",
              "1     || 0.4720  | 0.0880  |"
            ],
            "text/html": [
              "<table style=\"border:1px solid black;\">\n",
              "<tr><th colspan='1'></th>\n",
              "      <th colspan='2' style='border:1px solid black;color:black;background-color:#808080;'><center>s</center>\n",
              "      </th></tr>\n",
              "<tr><th style='border:1px solid black;color:black;background-color:#808080'><center>r</center></th><th style='border:1px solid black;border-bottom-style: double;color:black;background-color:#BBBBBB'>\n",
              "      <center>0</center></th><th style='border:1px solid black;border-bottom-style: double;color:black;background-color:#BBBBBB'>\n",
              "      <center>1</center></th></tr>\n",
              "<tr><th style='border:1px solid black;color:black;background-color:#BBBBBB'><center>0</center></th><td style='color:black;background-color:#dca164;text-align:right;'>0.2680</td><td style='color:black;background-color:#e89564;text-align:right;'>0.1720</td></tr>\n",
              "<tr><th style='border:1px solid black;color:black;background-color:#BBBBBB'><center>1</center></th><td style='color:black;background-color:#c2bb64;text-align:right;'>0.4720</td><td style='color:black;background-color:#f38a64;text-align:right;'>0.0880</td></tr>\n",
              "</table>"
            ]
          },
          "metadata": {},
          "execution_count": 42
        }
      ],
      "source": [
        "pRS=pCRSW.margSumOut([\"c\",\"w\"])\n",
        "pRS"
      ]
    },
    {
      "cell_type": "code",
      "execution_count": null,
      "metadata": {
        "id": "lwIQISxKiv1U",
        "outputId": "128ad379-64cb-49b6-dd5e-d2baf5b49cc2",
        "colab": {
          "base_uri": "https://localhost:8080/",
          "height": 87
        }
      },
      "outputs": [
        {
          "output_type": "execute_result",
          "data": {
            "text/plain": [
              "(pyAgrum.Potential<double>@0x5d18e30f9360) \n",
              "  s                |\n",
              "0        |1        |\n",
              "---------|---------|\n",
              " 0.7400  | 0.2600  |"
            ],
            "text/html": [
              "<table style=\"border:1px solid black;\">\n",
              "<tr style='border:1px solid black;color:black;background-color:#808080'>\n",
              "      <th colspan='2'><center>s</center></th></tr>\n",
              "<tr><th style='border:1px solid black;border-bottom-style: double;color:black;background-color:#BBBBBB'>\n",
              "      <center>0</center></th><th style='border:1px solid black;border-bottom-style: double;color:black;background-color:#BBBBBB'>\n",
              "      <center>1</center></th></tr>\n",
              "<tr><td style='color:black;background-color:#a0dd64;text-align:right;'>0.7400</td><td style='color:black;background-color:#dda064;text-align:right;'>0.2600</td></tr>\n",
              "</table>"
            ]
          },
          "metadata": {},
          "execution_count": 43
        }
      ],
      "source": [
        "pRS.margSumOut([\"r\"])"
      ]
    },
    {
      "cell_type": "markdown",
      "metadata": {
        "id": "MW-5eEXziv1V"
      },
      "source": [
        "## Loading a benchmark BN model"
      ]
    },
    {
      "cell_type": "code",
      "execution_count": null,
      "metadata": {
        "id": "tYcbdLEeiv1V",
        "outputId": "912bc5f9-ce9b-486f-a83b-5234572631d0",
        "colab": {
          "base_uri": "https://localhost:8080/",
          "height": 381
        }
      },
      "outputs": [
        {
          "output_type": "stream",
          "name": "stdout",
          "text": [
            "/content\n"
          ]
        },
        {
          "output_type": "error",
          "ename": "IOError",
          "evalue": "[pyAgrum] I/O Error: No such file templates/alarm.bif",
          "traceback": [
            "\u001b[0;31m---------------------------------------------------------------------------\u001b[0m",
            "\u001b[0;31mIOError\u001b[0m                                   Traceback (most recent call last)",
            "\u001b[0;32m<ipython-input-44-3065f66dfcab>\u001b[0m in \u001b[0;36m<cell line: 2>\u001b[0;34m()\u001b[0m\n\u001b[1;32m      1\u001b[0m \u001b[0mget_ipython\u001b[0m\u001b[0;34m(\u001b[0m\u001b[0;34m)\u001b[0m\u001b[0;34m.\u001b[0m\u001b[0msystem\u001b[0m\u001b[0;34m(\u001b[0m\u001b[0;34m'pwd'\u001b[0m\u001b[0;34m)\u001b[0m\u001b[0;34m\u001b[0m\u001b[0;34m\u001b[0m\u001b[0m\n\u001b[0;32m----> 2\u001b[0;31m \u001b[0mbn\u001b[0m \u001b[0;34m=\u001b[0m \u001b[0mgum\u001b[0m\u001b[0;34m.\u001b[0m\u001b[0mloadBN\u001b[0m\u001b[0;34m(\u001b[0m\u001b[0mos\u001b[0m\u001b[0;34m.\u001b[0m\u001b[0mpath\u001b[0m\u001b[0;34m.\u001b[0m\u001b[0mjoin\u001b[0m\u001b[0;34m(\u001b[0m\u001b[0;34m\"templates\"\u001b[0m\u001b[0;34m,\u001b[0m\u001b[0;34m\"alarm.bif\"\u001b[0m\u001b[0;34m)\u001b[0m\u001b[0;34m)\u001b[0m\u001b[0;34m\u001b[0m\u001b[0;34m\u001b[0m\u001b[0m\n\u001b[0m\u001b[1;32m      3\u001b[0m \u001b[0;31m#bn = gum.loadBN(\"alarm.bif\")\u001b[0m\u001b[0;34m\u001b[0m\u001b[0;34m\u001b[0m\u001b[0m\n",
            "\u001b[0;32m/usr/local/lib/python3.10/dist-packages/pyAgrum/__init__.py\u001b[0m in \u001b[0;36mloadBN\u001b[0;34m(filename, listeners, verbose, **opts)\u001b[0m\n\u001b[1;32m    221\u001b[0m   \u001b[0mextension\u001b[0m \u001b[0;34m=\u001b[0m \u001b[0mfilename\u001b[0m\u001b[0;34m.\u001b[0m\u001b[0msplit\u001b[0m\u001b[0;34m(\u001b[0m\u001b[0;34m'.'\u001b[0m\u001b[0;34m)\u001b[0m\u001b[0;34m[\u001b[0m\u001b[0;34m-\u001b[0m\u001b[0;36m1\u001b[0m\u001b[0;34m]\u001b[0m\u001b[0;34m.\u001b[0m\u001b[0mupper\u001b[0m\u001b[0;34m(\u001b[0m\u001b[0;34m)\u001b[0m\u001b[0;34m\u001b[0m\u001b[0;34m\u001b[0m\u001b[0m\n\u001b[1;32m    222\u001b[0m   \u001b[0;32mif\u001b[0m \u001b[0mextension\u001b[0m \u001b[0;34m==\u001b[0m \u001b[0;34m\"BIF\"\u001b[0m\u001b[0;34m:\u001b[0m\u001b[0;34m\u001b[0m\u001b[0;34m\u001b[0m\u001b[0m\n\u001b[0;32m--> 223\u001b[0;31m     \u001b[0mwarns\u001b[0m \u001b[0;34m=\u001b[0m \u001b[0mbn\u001b[0m\u001b[0;34m.\u001b[0m\u001b[0mloadBIF\u001b[0m\u001b[0;34m(\u001b[0m\u001b[0mfilename\u001b[0m\u001b[0;34m,\u001b[0m \u001b[0mlisteners\u001b[0m\u001b[0;34m)\u001b[0m\u001b[0;34m\u001b[0m\u001b[0;34m\u001b[0m\u001b[0m\n\u001b[0m\u001b[1;32m    224\u001b[0m   \u001b[0;32melif\u001b[0m \u001b[0mextension\u001b[0m \u001b[0;34m==\u001b[0m \u001b[0;34m\"BIFXML\"\u001b[0m\u001b[0;34m:\u001b[0m\u001b[0;34m\u001b[0m\u001b[0;34m\u001b[0m\u001b[0m\n\u001b[1;32m    225\u001b[0m     \u001b[0mwarns\u001b[0m \u001b[0;34m=\u001b[0m \u001b[0mbn\u001b[0m\u001b[0;34m.\u001b[0m\u001b[0mloadBIFXML\u001b[0m\u001b[0;34m(\u001b[0m\u001b[0mfilename\u001b[0m\u001b[0;34m,\u001b[0m \u001b[0mlisteners\u001b[0m\u001b[0;34m)\u001b[0m\u001b[0;34m\u001b[0m\u001b[0;34m\u001b[0m\u001b[0m\n",
            "\u001b[0;32m/usr/local/lib/python3.10/dist-packages/pyAgrum/pyAgrum.py\u001b[0m in \u001b[0;36mloadBIF\u001b[0;34m(self, name, l)\u001b[0m\n\u001b[1;32m  11328\u001b[0m \u001b[0;34m\u001b[0m\u001b[0m\n\u001b[1;32m  11329\u001b[0m         \"\"\"\n\u001b[0;32m> 11330\u001b[0;31m         \u001b[0;32mreturn\u001b[0m \u001b[0m_pyAgrum\u001b[0m\u001b[0;34m.\u001b[0m\u001b[0mBayesNet_loadBIF\u001b[0m\u001b[0;34m(\u001b[0m\u001b[0mself\u001b[0m\u001b[0;34m,\u001b[0m \u001b[0mname\u001b[0m\u001b[0;34m,\u001b[0m \u001b[0ml\u001b[0m\u001b[0;34m)\u001b[0m\u001b[0;34m\u001b[0m\u001b[0;34m\u001b[0m\u001b[0m\n\u001b[0m\u001b[1;32m  11331\u001b[0m \u001b[0;34m\u001b[0m\u001b[0m\n\u001b[1;32m  11332\u001b[0m     \u001b[0;32mdef\u001b[0m \u001b[0msaveBIF\u001b[0m\u001b[0;34m(\u001b[0m\u001b[0mself\u001b[0m\u001b[0;34m,\u001b[0m \u001b[0mname\u001b[0m\u001b[0;34m:\u001b[0m \u001b[0mstr\u001b[0m\u001b[0;34m,\u001b[0m \u001b[0mallowModificationWhenSaving\u001b[0m\u001b[0;34m:\u001b[0m \u001b[0mbool\u001b[0m\u001b[0;34m=\u001b[0m\u001b[0;32mFalse\u001b[0m\u001b[0;34m)\u001b[0m \u001b[0;34m->\u001b[0m \u001b[0;32mNone\u001b[0m\u001b[0;34m:\u001b[0m\u001b[0;34m\u001b[0m\u001b[0;34m\u001b[0m\u001b[0m\n",
            "\u001b[0;31mIOError\u001b[0m: [pyAgrum] I/O Error: No such file templates/alarm.bif"
          ]
        }
      ],
      "source": [
        "!pwd\n",
        "bn = gum.loadBN(os.path.join(\"templates\",\"alarm.bif\"))\n",
        "#bn = gum.loadBN(\"alarm.bif\")"
      ]
    },
    {
      "cell_type": "code",
      "execution_count": null,
      "metadata": {
        "id": "8kLMpFcCiv1V"
      },
      "outputs": [],
      "source": [
        "gnb.showBN(bn,size='10')"
      ]
    },
    {
      "cell_type": "markdown",
      "metadata": {
        "id": "j3gJrJKBiv1V"
      },
      "source": [
        "# Visualisation and inspection\n"
      ]
    },
    {
      "cell_type": "code",
      "execution_count": null,
      "metadata": {
        "id": "OOquOfeJiv1V"
      },
      "outputs": [],
      "source": [
        "print(bn.variableFromName('SHUNT'))"
      ]
    },
    {
      "cell_type": "code",
      "execution_count": null,
      "metadata": {
        "id": "oRpkA8Vxiv1W"
      },
      "outputs": [],
      "source": [
        "print(bn.cpt(bn.idFromName('SHUNT')))"
      ]
    },
    {
      "cell_type": "code",
      "execution_count": null,
      "metadata": {
        "id": "QsM1kU1Siv1W"
      },
      "outputs": [],
      "source": [
        "gnb.showPotential(bn.cpt(bn.idFromName('SHUNT')),digits=3)"
      ]
    },
    {
      "cell_type": "markdown",
      "metadata": {
        "id": "cjE6jBXaiv1W"
      },
      "source": [
        "# Inference"
      ]
    },
    {
      "cell_type": "code",
      "execution_count": null,
      "metadata": {
        "id": "X1TNZ_mLiv1W"
      },
      "outputs": [],
      "source": [
        "ie=gum.LazyPropagation(bn)\n",
        "ie.makeInference()\n",
        "gnb.showPosterior(bn,{'SHUNT':'HIGH'},'PRESS')"
      ]
    },
    {
      "cell_type": "code",
      "execution_count": null,
      "metadata": {
        "id": "hr9TnXyyiv1W"
      },
      "outputs": [],
      "source": [
        "gnb.showPosterior(bn,{'MINVOLSET':'NORMAL'},'VENTALV')"
      ]
    },
    {
      "cell_type": "code",
      "execution_count": null,
      "metadata": {
        "id": "y16q6rQBiv1W"
      },
      "outputs": [],
      "source": [
        "gnb.showInference(bn,size=\"10\",evs={'MINVOLSET':'NORMAL'})"
      ]
    },
    {
      "cell_type": "code",
      "execution_count": null,
      "metadata": {
        "id": "PA-yLU8biv1X"
      },
      "outputs": [],
      "source": [
        "#ie=gum.LazyPropagation(bn)\n",
        "ie.evidenceImpact('PRESS',['SHUNT','VENTALV'])"
      ]
    },
    {
      "cell_type": "markdown",
      "metadata": {
        "id": "ziMnMnH6iv1X"
      },
      "source": [
        "#  Entropy of all nodes"
      ]
    },
    {
      "cell_type": "code",
      "execution_count": null,
      "metadata": {
        "id": "OAjuGWiOiv1X"
      },
      "outputs": [],
      "source": [
        "gnb.showInformation(bn,{},size=\"20\")"
      ]
    },
    {
      "cell_type": "markdown",
      "metadata": {
        "id": "X_KlaD8Ziv1X"
      },
      "source": [
        "# Impact of evidence"
      ]
    },
    {
      "cell_type": "code",
      "execution_count": null,
      "metadata": {
        "id": "1VYY3lWdiv1X"
      },
      "outputs": [],
      "source": [
        "gnb.showInformation(bn,{\"CO\":0},size=\"9\")"
      ]
    },
    {
      "cell_type": "markdown",
      "metadata": {
        "id": "kcwJZHqDiv1X"
      },
      "source": [
        "# Exploring the junction tree\n",
        "\n",
        "Lazy Propagation, like several other inference algorithms, uses a junction tree to propagate information."
      ]
    },
    {
      "cell_type": "code",
      "execution_count": null,
      "metadata": {
        "id": "thxNereliv1X"
      },
      "outputs": [],
      "source": [
        "jt=ie.junctionTree()\n",
        "gnb.showJunctionTree(bn,size=\"10\")"
      ]
    },
    {
      "cell_type": "markdown",
      "metadata": {
        "id": "JyNw6bqCiv1Y"
      },
      "source": [
        "# Inference as a function"
      ]
    },
    {
      "cell_type": "code",
      "execution_count": null,
      "metadata": {
        "id": "l3P54w3_iv1Y"
      },
      "outputs": [],
      "source": [
        "import time\n",
        "\n",
        "r=range(0,100,2)\n",
        "xs=[x/100.0 for x in r]\n",
        "\n",
        "tf=time.time()\n",
        "ys=[gum.getPosterior(bn,{'MINVOLSET':[0,x/100.0,0.5]},'VENTALV').tolist()\n",
        "        for x in r]\n",
        "delta=time.time()-tf\n",
        "\n",
        "p=plot(xs,ys)\n",
        "legend(p,[bn.variableFromName('VENTALV').label(i)\n",
        "          for i in range(bn.variableFromName('VENTALV').domainSize())],loc=7);\n",
        "title('VENTALV (100 inferences in %d ms)'%delta);\n",
        "ylabel('posterior Probability');\n",
        "xlabel('Evidence on MINVOLSET : [0,x,0.5]');"
      ]
    },
    {
      "cell_type": "code",
      "execution_count": null,
      "metadata": {
        "id": "jmMDzRtUiv1Y"
      },
      "outputs": [],
      "source": [
        "x=[p/100.0 for p in range(0,100)]\n",
        "\n",
        "tf=time.time()\n",
        "y=[gum.getPosterior(bn,{'HRBP':[1.0-p/100.0,1.0-p/100.0,p/100.0]},'TPR').tolist()\n",
        "   for p in range(0,100)]\n",
        "delta=time.time()-tf\n",
        "\n",
        "p=plot(x,y)\n",
        "title('HRBP (100 inferences in %d ms)'%delta);\n",
        "v=bn.variableFromName('TPR');\n",
        "legend([v.label(i) for i in range(v.domainSize())],loc='best');\n",
        "np1=(transpose(y)[2]>transpose(y)[0]).argmin()\n",
        "text(x[np1]-0.03,y[np1][0]+0.02,str(x[np1]),bbox=dict(facecolor='red', alpha=0.1));"
      ]
    },
    {
      "cell_type": "markdown",
      "metadata": {
        "id": "97TNfexxiv1Y"
      },
      "source": [
        "# Data generation"
      ]
    },
    {
      "cell_type": "code",
      "execution_count": null,
      "metadata": {
        "id": "fEVa4Whuiv1Y"
      },
      "outputs": [],
      "source": [
        "from pyAgrum.lib.bn2csv import generateCSV\n",
        "generateCSV(bn,os.path.join(\"data\",\"test.csv\"),1000,visible=True)"
      ]
    },
    {
      "cell_type": "code",
      "execution_count": null,
      "metadata": {
        "id": "1PBwGI6Oiv1Y"
      },
      "outputs": [],
      "source": [
        "from pyAgrum.lib._utils import oslike\n",
        "#oslike.head(os.path.join('dossier', 'test.csv'))\n",
        "oslike.head(os.path.join(\"data\",\"test.csv\"))"
      ]
    },
    {
      "cell_type": "markdown",
      "metadata": {
        "id": "KD0fnxTAiv1Y"
      },
      "source": [
        "# BN as a probabistic classifier"
      ]
    },
    {
      "cell_type": "code",
      "execution_count": null,
      "metadata": {
        "id": "_Yl7kCqRiv1Y"
      },
      "outputs": [],
      "source": [
        "from pyAgrum.lib.bn2roc import showROC\n",
        "showROC(bn,os.path.join(\"data\",\"test.csv\"),\n",
        "        variable='CATECHOL',label='HIGH',  # class and label\n",
        "        visible=True,show_fig=True,with_labels=True)"
      ]
    },
    {
      "cell_type": "code",
      "execution_count": null,
      "metadata": {
        "id": "XdA33dYQiv1Z"
      },
      "outputs": [],
      "source": [
        "showROC(bn,os.path.join(\"data\",\"test.csv\"),'SAO2','HIGH',visible=True)"
      ]
    },
    {
      "cell_type": "markdown",
      "metadata": {
        "id": "EpF5Euw3iv1Z"
      },
      "source": [
        "# Fast prototyping of BNs"
      ]
    },
    {
      "cell_type": "code",
      "execution_count": null,
      "metadata": {
        "id": "14Sck-V9iv1Z"
      },
      "outputs": [],
      "source": [
        "bn1=gum.fastBN(\"a->b;a->c;b->c;c->d\",3)\n",
        "gnb.sideBySide(*[gnb.getInference(bn1,evs={'c':val},targets={'a','c','d'}) for val in range(3)],\n",
        "              captions=[\"<pre>Inference given that c={}</pre>\".format(val) for val in range(3)])"
      ]
    },
    {
      "cell_type": "code",
      "execution_count": null,
      "metadata": {
        "id": "kHKUIbHmiv1Z"
      },
      "outputs": [],
      "source": [
        "print(gum.getPosterior(bn1,evs={'c':0},target='c'))\n",
        "print(gum.getPosterior(bn1,evs={'c':0},target='a'))"
      ]
    },
    {
      "cell_type": "markdown",
      "metadata": {
        "id": "O0uHUMWniv1Z"
      },
      "source": [
        "\n",
        "# Joint posterior, impact of evidence"
      ]
    },
    {
      "cell_type": "code",
      "execution_count": null,
      "metadata": {
        "id": "JghIWT3civ1Z"
      },
      "outputs": [],
      "source": [
        "bn=gum.fastBN(\"a->b->c->d;b->e->d->f;g->c\")\n",
        "gnb.sideBySide(bn,gnb.getInference(bn))"
      ]
    },
    {
      "cell_type": "code",
      "execution_count": null,
      "metadata": {
        "id": "q9A0GyS3iv1Z"
      },
      "outputs": [],
      "source": [
        "ie=gum.LazyPropagation(bn)\n",
        "ie.addJointTarget({\"e\",\"f\",\"g\"})\n",
        "ie.makeInference()\n",
        "gnb.sideBySide(ie.jointPosterior({\"e\",\"f\",\"g\"}),ie.jointPosterior({\"e\",\"f\"}),\n",
        "               captions=[\"Joint posterior $P(e,f,g)$\",\"Joint posterior $P(e,f)$\"])"
      ]
    },
    {
      "cell_type": "code",
      "execution_count": null,
      "metadata": {
        "id": "1-pSlAcMiv1Z"
      },
      "outputs": [],
      "source": [
        "gnb.sideBySide(ie.evidenceImpact(\"a\",[\"e\",\"f\"]),ie.evidenceImpact(\"a\",[\"d\",\"e\",\"f\"]),\n",
        "              captions=[\"$\\\\forall e,f, P(a|e,f)$\",\n",
        "                        \"$\\\\forall d,e,f, P(a|d,e,f)=P(a|d,e)$ using d-separation\"]\n",
        "                        )"
      ]
    },
    {
      "cell_type": "code",
      "execution_count": null,
      "metadata": {
        "id": "hYgxt8vfiv1a"
      },
      "outputs": [],
      "source": [
        "gnb.sideBySide(ie.evidenceJointImpact([\"a\",\"b\"],[\"e\",\"f\"]),\n",
        "               ie.evidenceJointImpact([\"a\",\"b\"],[\"d\",\"e\",\"f\"]),\n",
        "              captions=[\"$\\\\forall e,f, P(a,b|e,f)$\",\n",
        "                        \"$\\\\forall d,e,f, P(a,b|d,e,f)=P(a,b|d,e)$ using d-separation\"]\n",
        "                        )"
      ]
    },
    {
      "cell_type": "markdown",
      "metadata": {
        "id": "EybrMV1siv1a"
      },
      "source": [
        "# BN structure learning from data\n"
      ]
    },
    {
      "cell_type": "code",
      "execution_count": null,
      "metadata": {
        "id": "hTES55_qiv1a"
      },
      "outputs": [],
      "source": [
        "!pwd\n",
        "bn = gum.loadBN(os.path.join(\"templates\",\"asia.bif\"))\n",
        "bn"
      ]
    },
    {
      "cell_type": "code",
      "execution_count": null,
      "metadata": {
        "id": "r-nIgKYRiv1a"
      },
      "outputs": [],
      "source": [
        "gum.generateCSV(bn,os.path.join(\"data\",\"sample_asia.csv\"),5000,True)\n",
        "#gum.generateCSV(bn,\"sample_asia.csv\",5000,with_labels=True)"
      ]
    },
    {
      "cell_type": "code",
      "execution_count": null,
      "metadata": {
        "id": "KRu9XfbRiv1a"
      },
      "outputs": [],
      "source": [
        "import pandas\n",
        "df=pandas.read_csv(os.path.join(\"data\",\"sample_asia.csv\"))\n",
        "df.head()"
      ]
    },
    {
      "cell_type": "code",
      "execution_count": null,
      "metadata": {
        "id": "fayggOFHiv1a"
      },
      "outputs": [],
      "source": [
        "#gum.generateCSV(bn,\"sample_asia.csv\",5000,with_labels=True)\n",
        "c=pandas.crosstab(df['dyspnoea?'],[df['tuberculos_or_cancer?'],df['bronchitis?']])\n",
        "c"
      ]
    },
    {
      "cell_type": "code",
      "execution_count": null,
      "metadata": {
        "id": "VfxieSrhiv1a"
      },
      "outputs": [],
      "source": [
        "import pyAgrum.lib._utils.oslike as oslike\n",
        "print(\"===\\n  Size of the generated database\\n===\")\n",
        "oslike.wc_l(os.path.join(\"data\",\"sample_asia.csv\"))\n",
        "print(\"\\n===\\n  First lines\\n===\")\n",
        "oslike.head(os.path.join(\"data\",\"sample_asia.csv\"))"
      ]
    },
    {
      "cell_type": "code",
      "execution_count": null,
      "metadata": {
        "id": "0tZ00Zk1iv1a"
      },
      "outputs": [],
      "source": [
        "gum.generateCSV(bn,os.path.join(\"data\",\"sample_asia.csv\"),5000,with_labels=True)\n",
        "learner=gum.BNLearner(os.path.join(\"data\",\"sample_asia.csv\"),bn) #using bn as template for variables\n",
        "learner.names()"
      ]
    },
    {
      "cell_type": "code",
      "execution_count": null,
      "metadata": {
        "scrolled": true,
        "id": "UrHjnEubiv1b"
      },
      "outputs": [],
      "source": [
        "learner.setInitialDAG(bn.dag())\n",
        "bn2=learner.learnParameters()\n",
        "gnb.showBN(bn2)"
      ]
    },
    {
      "cell_type": "code",
      "execution_count": null,
      "metadata": {
        "id": "02zHIcZXiv1b"
      },
      "outputs": [],
      "source": [
        "learner.idFromName('lung_cancer?')"
      ]
    },
    {
      "cell_type": "code",
      "execution_count": null,
      "metadata": {
        "id": "t1rWEe3Civ1b"
      },
      "outputs": [],
      "source": [
        "learner.nameFromId(4)"
      ]
    },
    {
      "cell_type": "code",
      "execution_count": null,
      "metadata": {
        "id": "6vZDaZ7qiv1b"
      },
      "outputs": [],
      "source": [
        "learner=gum.BNLearner(os.path.join(\"data\",\"sample_asia.csv\"),bn) #using bn as template for variables and labels\n",
        "learner.setInitialDAG(bn.dag())\n",
        "bn2=learner.learnParameters()"
      ]
    },
    {
      "cell_type": "code",
      "execution_count": null,
      "metadata": {
        "id": "O5ogUAQbiv1b"
      },
      "outputs": [],
      "source": [
        "from IPython.display import HTML\n",
        "\n",
        "HTML('<table><tr><td style=\"text-align:center;\"><h3>original BN</h3></td>'+\n",
        "     '<td style=\"text-align:center;\"><h3>Learned BN</h3></td></tr>'+\n",
        "     '<tr><td><center>'+\n",
        "     gnb.getPotential(bn.cpt (bn.idFromName('visit_to_Asia?')))\n",
        "     +'</center></td><td><center>'+\n",
        "     gnb.getPotential(bn2.cpt(bn2.idFromName('visit_to_Asia?')))\n",
        "     +'</center></td></tr><tr><td><center>'+\n",
        "     gnb.getPotential(bn.cpt (bn.idFromName('tuberculosis?')))\n",
        "     +'</center></td><td><center>'+\n",
        "     gnb.getPotential(bn2.cpt(bn2.idFromName('tuberculosis?')))\n",
        "     +'</center></td></tr></table>')"
      ]
    },
    {
      "cell_type": "markdown",
      "metadata": {
        "id": "fD6cxitwiv1b"
      },
      "source": [
        "\n",
        "# Various score-based learning algorithms\n"
      ]
    },
    {
      "cell_type": "code",
      "execution_count": null,
      "metadata": {
        "id": "aQusDSnuiv1b"
      },
      "outputs": [],
      "source": [
        "learner=gum.BNLearner(os.path.join(\"data\",\"sample_asia.csv\"),bn) #using bn as template for variables\n",
        "learner.useLocalSearchWithTabuList()\n",
        "bn2=learner.learnBN()\n",
        "print(\"Learned in {0}ms\".format(1000*learner.currentTime()))\n",
        "gnb.sideBySide(bn2,gnb.getInformation(bn2))\n",
        "kl=gum.BruteForceKL(bn,bn2)\n",
        "kl.compute()"
      ]
    },
    {
      "cell_type": "code",
      "execution_count": null,
      "metadata": {
        "id": "bcylAa6eiv1b"
      },
      "outputs": [],
      "source": [
        "learner=gum.BNLearner(os.path.join(\"data\",\"sample_asia.csv\"),bn) #using bn as template for variables\n",
        "learner.useGreedyHillClimbing()\n",
        "bn2=learner.learnBN()\n",
        "print(\"Learned in {0}ms\".format(1000*learner.currentTime()))\n",
        "gnb.sideBySide(bn2,gnb.getInformation(bn2))"
      ]
    },
    {
      "cell_type": "code",
      "execution_count": null,
      "metadata": {
        "id": "buvdO0hIiv1b"
      },
      "outputs": [],
      "source": [
        "learner=gum.BNLearner(os.path.join(\"data\",\"sample_asia.csv\"),bn) #using bn as template for variables\n",
        "learner.useK2([0,1,2,3,4,5,6,7])\n",
        "bn2=learner.learnBN()\n",
        "print(\"Learned in {0}ms\".format(1000*learner.currentTime()))\n",
        "bn2"
      ]
    },
    {
      "cell_type": "code",
      "execution_count": null,
      "metadata": {
        "id": "0kiacA77iv1c"
      },
      "outputs": [],
      "source": [
        "learner=gum.BNLearner(os.path.join(\"data\",\"sample_asia.csv\"),bn) #using bn as template for variables\n",
        "learner.useK2([7,6,5,4,3,2,1,0])\n",
        "bn2=learner.learnBN()\n",
        "print(\"Learned in {0}s\".format(learner.currentTime()))\n",
        "bn2"
      ]
    },
    {
      "cell_type": "markdown",
      "metadata": {
        "id": "88On0vbYiv1c"
      },
      "source": [
        "\n",
        "# Plotting the score during learning"
      ]
    },
    {
      "cell_type": "code",
      "execution_count": null,
      "metadata": {
        "id": "H88bPa7-iv1c"
      },
      "outputs": [],
      "source": [
        "import numpy as np\n",
        "%matplotlib inline\n",
        "\n",
        "learner=gum.BNLearner(os.path.join(\"data\",\"sample_asia.csv\"),bn) #using bn as template for variables\n",
        "learner.useLocalSearchWithTabuList()\n",
        "\n",
        "# we could prefere a log2likelihood score\n",
        "# learner.useScoreLog2Likelihood()\n",
        "learner.setMaxTime(10)\n",
        "\n",
        "# representation of the error as a pseudo log (negative values really represents negative epsilon\n",
        "@np.vectorize\n",
        "def pseudolog(x):\n",
        "    seuil=2.0\n",
        "    y=-x if x<0 else x\n",
        "\n",
        "    if y<seuil:\n",
        "        res=y*np.log10(seuil)/seuil\n",
        "    else:\n",
        "        res=np.log10(y)\n",
        "\n",
        "    return res if x>0 else -res\n",
        "\n",
        "# in order to control the complexity, we limit the number of parents\n",
        "learner.setMaxIndegree(3) # no more than 3 parent by node\n",
        "gnb.animApproximationScheme(learner,\n",
        "                            scale=pseudolog) # scale by default is np.log10\n",
        "\n",
        "bn2=learner.learnBN()"
      ]
    },
    {
      "cell_type": "markdown",
      "metadata": {
        "id": "GAcqvbP7iv1c"
      },
      "source": [
        "# Learning a tree\n"
      ]
    },
    {
      "cell_type": "code",
      "execution_count": null,
      "metadata": {
        "id": "skLMQbtliv1c"
      },
      "outputs": [],
      "source": [
        "learner=gum.BNLearner(os.path.join(\"data\",\"sample_asia.csv\"),bn) #using bn as template for variables\n",
        "learner.useGreedyHillClimbing()\n",
        "\n",
        "learner.setMaxIndegree(1) # no more than 1 parent by node\n",
        "\n",
        "bntree=learner.learnBN()\n",
        "bntree"
      ]
    },
    {
      "cell_type": "markdown",
      "metadata": {
        "id": "cIY5BxHRiv1c"
      },
      "source": [
        "# Learning with prior structural knowledge\n"
      ]
    },
    {
      "cell_type": "code",
      "execution_count": null,
      "metadata": {
        "id": "KSJsrDmmiv1c"
      },
      "outputs": [],
      "source": [
        "learner=gum.BNLearner(os.path.join(\"data\",\"sample_asia.csv\"),bn) #using bn as template for variables\n",
        "learner.useGreedyHillClimbing()\n",
        "\n",
        "# I know that smoking causes cancer\n",
        "learner.addMandatoryArc(\"smoking?\",\"lung_cancer?\") # smoking->lung_cancer\n",
        "# I know that visit to Asia may change the risk of tuberculosis\n",
        "learner.addMandatoryArc(\"visit_to_Asia?\",\"tuberculosis?\") # visit_to_Asia->tuberculosis\n",
        "\n",
        "bn2=learner.learnBN()\n",
        "gnb.showBN(bn2,size=\"5\")"
      ]
    },
    {
      "cell_type": "markdown",
      "metadata": {
        "id": "QoSnUMy8iv1c"
      },
      "source": [
        "# Comparing BNs\n"
      ]
    },
    {
      "cell_type": "code",
      "execution_count": null,
      "metadata": {
        "id": "Rg3oilKfiv1c"
      },
      "outputs": [],
      "source": [
        "help(gnb.getBNDiff)"
      ]
    },
    {
      "cell_type": "code",
      "execution_count": null,
      "metadata": {
        "id": "qS7OGwZKiv1d"
      },
      "outputs": [],
      "source": [
        "gnb.sideBySide(bn,bn2,gnb.getBNDiff(bn,bn2),\n",
        "              captions=['target','learned BN','graphical diffs between target and learned'])"
      ]
    },
    {
      "cell_type": "code",
      "execution_count": null,
      "metadata": {
        "id": "fbKUbbYoiv1d"
      },
      "outputs": [],
      "source": [
        "kl=gum.BruteForceKL(bn,bn2)\n",
        "kl.compute()"
      ]
    },
    {
      "cell_type": "code",
      "execution_count": null,
      "metadata": {
        "id": "G_2LjYgsiv1d"
      },
      "outputs": [],
      "source": [
        "learner=gum.BNLearner(os.path.join(\"data\",\"sample_asia.csv\"),bn) #using bn as template for variables\n",
        "learner.useGreedyHillClimbing()\n",
        "\n",
        "# I know that smoking causes cancer\n",
        "learner.addMandatoryArc(0,1)\n",
        "\n",
        "# we prefere a log2likelihood score\n",
        "learner.useScoreLog2Likelihood()\n",
        "\n",
        "# in order to control the complexity, we limit the number of parents\n",
        "learner.setMaxIndegree(1) # no more than 1 parent by node\n",
        "\n",
        "bn2=learner.learnBN()\n",
        "kl=gum.BruteForceKL(bn,bn2)\n",
        "gnb.sideBySide(bn2,\n",
        "               \"<br/>\".join([\"<b>\"+k+\"</b> :\"+str(v) for k,v in kl.compute().items()]),\n",
        "               captions=[\"learned BN\",\"distances\"])"
      ]
    },
    {
      "cell_type": "code",
      "execution_count": null,
      "metadata": {
        "id": "StUeYeqBiv1d"
      },
      "outputs": [],
      "source": [
        "learner=gum.BNLearner(os.path.join(\"data\",\"sample_asia.csv\"),bn) #using bn as template for variables\n",
        "learner.useGreedyHillClimbing()\n",
        "learner.addMandatoryArc(0,1)\n",
        "bn2=learner.learnBN()\n",
        "kl=gum.BruteForceKL(bn,bn2)\n",
        "gnb.sideBySide(bn2,\n",
        "               \"<br/>\".join([\"<b>\"+k+\"</b> :\"+str(v) for k,v in kl.compute().items()]),\n",
        "               captions=[\"learned BN\",\"distances\"])"
      ]
    },
    {
      "cell_type": "code",
      "execution_count": null,
      "metadata": {
        "id": "oAcUYKIciv1d"
      },
      "outputs": [],
      "source": [
        "learner=gum.BNLearner(os.path.join(\"data\",\"sample_asia.csv\"),bn) #using bn as template for variables\n",
        "learner.useLocalSearchWithTabuList()\n",
        "\n",
        "learner.setInitialDAG(bn2.dag())\n",
        "#learner.setMaxNbDecreasingChanges(2)\n",
        "\n",
        "bn3=learner.learnBN()\n",
        "kl=gum.BruteForceKL(bn,bn3)\n",
        "gnb.sideBySide(bn3,\n",
        "               \"<br/>\".join([\"<b>\"+k+\"</b> :\"+str(v) for k,v in kl.compute().items()]),\n",
        "               captions=[\"learned BN\",\"distances\"])"
      ]
    },
    {
      "cell_type": "code",
      "execution_count": null,
      "metadata": {
        "id": "9K1CwtSyiv1d"
      },
      "outputs": [],
      "source": [
        "from pyAgrum.lib.bn2csv import generateCSV\n",
        "generateCSV(bn,os.path.join(\"data\",\"test.csv\"),1000,visible=True)"
      ]
    },
    {
      "cell_type": "code",
      "execution_count": null,
      "metadata": {
        "id": "HLNZH5Mmiv1d"
      },
      "outputs": [],
      "source": [
        "from pyAgrum.lib._utils import oslike\n",
        "oslike.head(os.path.join(\"data\",\"test.csv\"))"
      ]
    },
    {
      "cell_type": "code",
      "execution_count": null,
      "metadata": {
        "id": "rXsjP2-Jiv1d"
      },
      "outputs": [],
      "source": [
        "bn1=gum.fastBN(\"a->b;a->c;b->c;c->d\",3)\n",
        "\n",
        "gnb.sideBySide(*[gnb.getInference(bn1,evs={'c':val},\n",
        "                targets={'a','c','d'}) for val in range(3)],\n",
        "              captions=[\"<pre>Inference given that c={}</pre>\".format(val) for val in range(3)])"
      ]
    },
    {
      "cell_type": "markdown",
      "metadata": {
        "id": "jo1N-syqiv1d"
      },
      "source": [
        "---\n",
        "# TO DO\n",
        "\n",
        "- ### Implémenter avec PyAGrUM les exercices 6 et 8 du TD1 PGM.\n",
        "- ### Confirmer les résutats obtenus \"à la main\".\n",
        "---"
      ]
    },
    {
      "cell_type": "markdown",
      "metadata": {
        "id": "bCPxuSkQiv1e"
      },
      "source": [
        "### Exercice 8 du TD :\n",
        "\n",
        "\n",
        "Consider the Bayesian network Figure 2 with a new variable $L$ being the child of $B$. Suppose that $P(L=1\\mid B=1)=0.8$ and $P(L=1 \\mid B=0)=0.0$. \"$L=1$\" denotes \"the car headlights are well functioning\".\n",
        "\n",
        "- Compute $P(L=0)$.\n",
        "- Compute $L$ and $F$ independent?\n",
        "- Compute $P(F=1\\mid G=0,L=1$) and compare to $P(F=1\\mid G=0$). Are $F$ and $L$ independent given $G$?\n",
        "- Write down all the conditional and inconditional independencies encoded in this directed acyclic graph.\n",
        "- What is the compression rate in terms of memory space?\n",
        "\n",
        "\n",
        "### Exercice 6 du TD :\n",
        "\n",
        "La Figure 1 montre une chaîne de Markov cachée comprenant 3 états 1, 2 ,3. Les valuations des arcs sont les probabilités de transition entre les états.  On suppose que le systéme markovien étudié visite ces états succesivement avec les probabilités initiales $\\pi = (0.6,0.4,0)$. Dans chaque état, le systéme émet un symbole choisi dans l'alphabet V=\\{a,b\\} avec les probabilités d'émission affichées.\n",
        "\n",
        "- Evaluer la probabilité de la suite d'observation $aab$.\n",
        "- Déterminer la {\\em meilleure} suite d'états qui rend la séquence observée, $aab$, la plus probable.\n",
        "\n",
        "### Exercice 2 du CC2 :\n",
        "\n",
        "$\n",
        "    P(y \\mid \\mathbf{do}(x)) =\n",
        "\\sum_{\\mathbf{pa}_x}\n",
        "    P(y \\mid x, \\mathbf{pa}_x) P(\\mathbf{pa}_x)\n",
        "$\n",
        "\n",
        "Appliquer la formule précédente pour en déduire $P(sante \\mid \\mathbf{do}(bio))$. On supposera que les variables sont binaires et que : 30\\% des individus ont des revenus élévés, 60\\% mangent bio parmi les revenus élevés, 40\\% mangent bio parmi les revenus modestes, 80\\% sont en bonne santé sachant bio et revenus élévés, 70\\% sont en bonne santé sachant bio et revenus modestes, 60\\% sont en bonne santé sachant non bio et revenus élévés, et 50\\% sont en bonne santé sachant non bio et revenus modestes.\n",
        "\n",
        "Vous trouverez ci-dessous des examples d'inférence causale réalisés avec PyAGrUM :\n",
        "\n",
        "http://www-desir.lip6.fr/~phw/aGrUM/docs/last/notebooks/Tobacco.ipynb.html"
      ]
    },
    {
      "cell_type": "markdown",
      "source": [
        "## **Exo 6 du TD**"
      ],
      "metadata": {
        "id": "diTNBT4RYgyW"
      }
    },
    {
      "cell_type": "code",
      "execution_count": null,
      "metadata": {
        "id": "HZYJ_L3civ1e",
        "colab": {
          "base_uri": "https://localhost:8080/",
          "height": 402
        },
        "outputId": "6591a09a-43b0-4acc-975b-f305b9c5ddf2"
      },
      "outputs": [
        {
          "output_type": "stream",
          "name": "stdout",
          "text": [
            "La probabilité de la séquence 'aab' est : 0.49999999999999994\n",
            "La séquence d'états la plus probable pour 'aab' est : [([{'etat_1': 0}], 0.6), ([{'etat_2': 1}], 0.5800000000000001), ([{'etat_3': 0}], 0.474)]\n"
          ]
        },
        {
          "output_type": "display_data",
          "data": {
            "text/plain": [
              "<IPython.core.display.SVG object>"
            ],
            "image/svg+xml": "<svg xmlns=\"http://www.w3.org/2000/svg\" xmlns:xlink=\"http://www.w3.org/1999/xlink\" width=\"195pt\" height=\"260pt\" viewBox=\"0.00 0.00 195.34 260.00\">\n<g id=\"graph0\" class=\"graph\" transform=\"scale(1 1) rotate(0) translate(4 256)\">\n<title>G</title>\n<!-- etat_3 -->\n<g id=\"node1\" class=\"node\">\n<title>etat_3</title>\n<g id=\"a_node1\"><a xlink:title=\"(2) etat_3\">\n<ellipse fill=\"#404040\" stroke=\"black\" cx=\"32.5\" cy=\"-90\" rx=\"32.49\" ry=\"18\"/>\n<text text-anchor=\"middle\" x=\"32.5\" y=\"-86.3\" font-family=\"Times,serif\" font-size=\"14.00\" fill=\"white\">etat_3</text>\n</a>\n</g>\n</g>\n<!-- obs_3 -->\n<g id=\"node6\" class=\"node\">\n<title>obs_3</title>\n<g id=\"a_node6\"><a xlink:title=\"(5) obs_3\">\n<ellipse fill=\"#404040\" stroke=\"black\" cx=\"32.5\" cy=\"-18\" rx=\"31.7\" ry=\"18\"/>\n<text text-anchor=\"middle\" x=\"32.5\" y=\"-14.3\" font-family=\"Times,serif\" font-size=\"14.00\" fill=\"white\">obs_3</text>\n</a>\n</g>\n</g>\n<!-- etat_3&#45;&gt;obs_3 -->\n<g id=\"edge5\" class=\"edge\">\n<title>etat_3-&gt;obs_3</title>\n<g id=\"a_edge5\"><a xlink:title=\"2 → 5\">\n<path fill=\"none\" stroke=\"#4a4a4a\" d=\"M32.5,-71.7C32.5,-63.98 32.5,-54.71 32.5,-46.11\"/>\n<polygon fill=\"#4a4a4a\" stroke=\"#4a4a4a\" points=\"36,-46.1 32.5,-36.1 29,-46.1 36,-46.1\"/>\n</a>\n</g>\n</g>\n<!-- etat_2 -->\n<g id=\"node2\" class=\"node\">\n<title>etat_2</title>\n<g id=\"a_node2\"><a xlink:title=\"(1) etat_2\">\n<ellipse fill=\"#404040\" stroke=\"black\" cx=\"73.5\" cy=\"-162\" rx=\"32.49\" ry=\"18\"/>\n<text text-anchor=\"middle\" x=\"73.5\" y=\"-158.3\" font-family=\"Times,serif\" font-size=\"14.00\" fill=\"white\">etat_2</text>\n</a>\n</g>\n</g>\n<!-- etat_2&#45;&gt;etat_3 -->\n<g id=\"edge2\" class=\"edge\">\n<title>etat_2-&gt;etat_3</title>\n<g id=\"a_edge2\"><a xlink:title=\"1 → 2\">\n<path fill=\"none\" stroke=\"#4a4a4a\" d=\"M63.99,-144.76C59.04,-136.32 52.88,-125.8 47.32,-116.31\"/>\n<polygon fill=\"#4a4a4a\" stroke=\"#4a4a4a\" points=\"50.31,-114.49 42.24,-107.63 44.27,-118.03 50.31,-114.49\"/>\n</a>\n</g>\n</g>\n<!-- obs_2 -->\n<g id=\"node4\" class=\"node\">\n<title>obs_2</title>\n<g id=\"a_node4\"><a xlink:title=\"(4) obs_2\">\n<ellipse fill=\"#404040\" stroke=\"black\" cx=\"114.5\" cy=\"-90\" rx=\"31.7\" ry=\"18\"/>\n<text text-anchor=\"middle\" x=\"114.5\" y=\"-86.3\" font-family=\"Times,serif\" font-size=\"14.00\" fill=\"white\">obs_2</text>\n</a>\n</g>\n</g>\n<!-- etat_2&#45;&gt;obs_2 -->\n<g id=\"edge4\" class=\"edge\">\n<title>etat_2-&gt;obs_2</title>\n<g id=\"a_edge4\"><a xlink:title=\"1 → 4\">\n<path fill=\"none\" stroke=\"#4a4a4a\" d=\"M83.01,-144.76C87.95,-136.32 94.11,-125.8 99.67,-116.31\"/>\n<polygon fill=\"#4a4a4a\" stroke=\"#4a4a4a\" points=\"102.72,-118.03 104.75,-107.63 96.68,-114.49 102.72,-118.03\"/>\n</a>\n</g>\n</g>\n<!-- etat_1 -->\n<g id=\"node3\" class=\"node\">\n<title>etat_1</title>\n<g id=\"a_node3\"><a xlink:title=\"(0) etat_1\">\n<ellipse fill=\"#404040\" stroke=\"black\" cx=\"114.5\" cy=\"-234\" rx=\"32.49\" ry=\"18\"/>\n<text text-anchor=\"middle\" x=\"114.5\" y=\"-230.3\" font-family=\"Times,serif\" font-size=\"14.00\" fill=\"white\">etat_1</text>\n</a>\n</g>\n</g>\n<!-- etat_1&#45;&gt;etat_2 -->\n<g id=\"edge1\" class=\"edge\">\n<title>etat_1-&gt;etat_2</title>\n<g id=\"a_edge1\"><a xlink:title=\"0 → 1\">\n<path fill=\"none\" stroke=\"#4a4a4a\" d=\"M104.99,-216.76C100.04,-208.32 93.88,-197.8 88.32,-188.31\"/>\n<polygon fill=\"#4a4a4a\" stroke=\"#4a4a4a\" points=\"91.31,-186.49 83.24,-179.63 85.27,-190.03 91.31,-186.49\"/>\n</a>\n</g>\n</g>\n<!-- obs_1 -->\n<g id=\"node5\" class=\"node\">\n<title>obs_1</title>\n<g id=\"a_node5\"><a xlink:title=\"(3) obs_1\">\n<ellipse fill=\"#404040\" stroke=\"black\" cx=\"155.5\" cy=\"-162\" rx=\"31.7\" ry=\"18\"/>\n<text text-anchor=\"middle\" x=\"155.5\" y=\"-158.3\" font-family=\"Times,serif\" font-size=\"14.00\" fill=\"white\">obs_1</text>\n</a>\n</g>\n</g>\n<!-- etat_1&#45;&gt;obs_1 -->\n<g id=\"edge3\" class=\"edge\">\n<title>etat_1-&gt;obs_1</title>\n<g id=\"a_edge3\"><a xlink:title=\"0 → 3\">\n<path fill=\"none\" stroke=\"#4a4a4a\" d=\"M124.01,-216.76C128.95,-208.32 135.11,-197.8 140.67,-188.31\"/>\n<polygon fill=\"#4a4a4a\" stroke=\"#4a4a4a\" points=\"143.72,-190.03 145.75,-179.63 137.68,-186.49 143.72,-190.03\"/>\n</a>\n</g>\n</g>\n</g>\n</svg>"
          },
          "metadata": {}
        }
      ],
      "source": [
        "import pyAgrum as gum\n",
        "import pyAgrum.lib.notebook as gnb\n",
        "\n",
        "hmm = gum.BayesNet('HiddenMarkovModel')\n",
        "states = [hmm.add(gum.LabelizedVariable(f'etat_{i+1}', '', 3)) for i in range(3)]\n",
        "\n",
        "hmm.cpt(states[0]).fillWith([0.6, 0.4, 0.0])\n",
        "\n",
        "#transitions entre les états\n",
        "hmm.addArc(states[0], states[1])\n",
        "hmm.addArc(states[1], states[2])\n",
        "\n",
        "#probabilités de transition\n",
        "hmm.cpt(states[1])[{'etat_1': 0}] = [0.5, 0.5, 0.0]\n",
        "hmm.cpt(states[1])[{'etat_1': 1}] = [0.0, 0.7, 0.3]\n",
        "hmm.cpt(states[1])[{'etat_1': 2}] = [0.0, 0.0, 1.0]\n",
        "\n",
        "hmm.cpt(states[2])[{'etat_2': 0}] = [1.0, 0.0, 0.0]\n",
        "hmm.cpt(states[2])[{'etat_2': 1}] = [0.3, 0.2, 0.5]\n",
        "hmm.cpt(states[2])[{'etat_2': 2}] = [0.0, 0.0, 1.0]\n",
        "\n",
        "#variables observées\n",
        "obs_vars = []\n",
        "for i in range(3):\n",
        "    obs_var = hmm.add(gum.LabelizedVariable(f'obs_{i+1}', '', 2))\n",
        "    obs_vars.append(obs_var)\n",
        "    hmm.addArc(states[i], obs_var)\n",
        "\n",
        "# probabilités d'émission des observations\n",
        "# État 1 émet 'a' avec une probabilité de 1\n",
        "hmm.cpt(obs_vars[0])[{'etat_1': 0}] = [1, 0]\n",
        "hmm.cpt(obs_vars[0])[{'etat_1': 1}] = [1, 0]\n",
        "hmm.cpt(obs_vars[0])[{'etat_1': 2}] = [1, 0]\n",
        "\n",
        "# État 2 émet 'a' ou 'b' avec une probabilité de 0.5\n",
        "hmm.cpt(obs_vars[1])[{'etat_2': 0}] = [0.5, 0.5]\n",
        "hmm.cpt(obs_vars[1])[{'etat_2': 1}] = [0.5, 0.5]\n",
        "hmm.cpt(obs_vars[1])[{'etat_2': 2}] = [0.5, 0.5]\n",
        "\n",
        "# État 3 émet 'b' avec une probabilité de 1\n",
        "hmm.cpt(obs_vars[2])[{'etat_3': 0}] = [0, 1]\n",
        "hmm.cpt(obs_vars[2])[{'etat_3': 1}] = [0, 1]\n",
        "hmm.cpt(obs_vars[2])[{'etat_3': 2}] = [0, 1]\n",
        "\n",
        "ie = gum.LazyPropagation(hmm)\n",
        "\n",
        "ie.setEvidence({'obs_1': 0, 'obs_2': 0, 'obs_3': 1})\n",
        "\n",
        "prob_aab = ie.evidenceProbability()\n",
        "\n",
        "print(f\"La probabilité de la séquence 'aab' est : {prob_aab}\")\n",
        "\n",
        "ie.makeInference()\n",
        "\n",
        "most_probable_states = [ie.posterior(state).argmax() for state in states]\n",
        "print(f\"La séquence d'états la plus probable pour 'aab' est : {most_probable_states}\")\n",
        "\n",
        "gnb.showBN(hmm)"
      ]
    },
    {
      "cell_type": "markdown",
      "source": [
        "## **Exo 2 du CC**"
      ],
      "metadata": {
        "id": "n6orRGbcYbs0"
      }
    },
    {
      "cell_type": "code",
      "source": [
        "import pyAgrum as gum\n",
        "import pyAgrum.lib.notebook as gnb\n",
        "\n",
        "bn = gum.BayesNet('Bio et Sante')\n",
        "\n",
        "revenus = bn.add(gum.LabelizedVariable('revenus', 'Revenus élevés ou modestes', 2))\n",
        "bio = bn.add(gum.LabelizedVariable('bio', 'Mange bio ou non', 2))\n",
        "sante = bn.add(gum.LabelizedVariable('sante', 'Bonne santé ou non', 2))\n",
        "\n",
        "bn.addArc(revenus, bio)\n",
        "bn.addArc(revenus, sante)\n",
        "bn.addArc(bio, sante)\n",
        "\n",
        "bn.cpt(revenus)[{'revenus': 0}] = 0.7  # Revenus modestes\n",
        "bn.cpt(revenus)[{'revenus': 1}] = 0.3  # Revenus élevés\n",
        "\n",
        "bn.cpt(bio)[{'revenus': 0, 'bio': 0}] = 0.6  # Ne mange pas bio avec revenus modestes\n",
        "bn.cpt(bio)[{'revenus': 0, 'bio': 1}] = 0.4  # Mange bio avec revenus modestes\n",
        "bn.cpt(bio)[{'revenus': 1, 'bio': 0}] = 0.4  # Ne mange pas bio avec revenus élevés\n",
        "bn.cpt(bio)[{'revenus': 1, 'bio': 1}] = 0.6  # Mange bio avec revenus élevés\n",
        "\n",
        "bn.cpt(sante)[{'revenus': 0, 'bio': 0, 'sante': 0}] = 0.5  # Mauvaise santé, ne mange pas bio, revenus modestes\n",
        "bn.cpt(sante)[{'revenus': 0, 'bio': 0, 'sante': 1}] = 0.5  # Bonne santé, ne mange pas bio, revenus modestes\n",
        "bn.cpt(sante)[{'revenus': 0, 'bio': 1, 'sante': 0}] = 0.3  # Mauvaise santé, mange bio, revenus modestes\n",
        "bn.cpt(sante)[{'revenus': 0, 'bio': 1, 'sante': 1}] = 0.7  # Bonne santé, mange bio, revenus modestes\n",
        "bn.cpt(sante)[{'revenus': 1, 'bio': 0, 'sante': 0}] = 0.4  # Mauvaise santé, ne mange pas bio, revenus élevés\n",
        "bn.cpt(sante)[{'revenus': 1, 'bio': 0, 'sante': 1}] = 0.6  # Bonne santé, ne mange pas bio, revenus élevés\n",
        "bn.cpt(sante)[{'revenus': 1, 'bio': 1, 'sante': 0}] = 0.2  # Mauvaise santé, mange bio, revenus élevés\n",
        "bn.cpt(sante)[{'revenus': 1, 'bio': 1, 'sante': 1}] = 0.8  # Bonne santé, mange bio, revenus élevés\n",
        "\n",
        "gnb.showBN(bn)\n",
        "\n",
        "# Calcul de l'effet causal\n",
        "ie = gum.LazyPropagation(bn)\n",
        "ie.setEvidence({'bio': 1})\n",
        "ie.makeInference()\n",
        "p_sante_do_bio = ie.posterior('sante')\n",
        "print(p_sante_do_bio)"
      ],
      "metadata": {
        "id": "jcEKWrkJ2DOq",
        "colab": {
          "base_uri": "https://localhost:8080/",
          "height": 374
        },
        "outputId": "4331233f-8056-4e8c-d5b3-f3f3b5236d96"
      },
      "execution_count": null,
      "outputs": [
        {
          "output_type": "display_data",
          "data": {
            "text/plain": [
              "<IPython.core.display.SVG object>"
            ],
            "image/svg+xml": "<svg xmlns=\"http://www.w3.org/2000/svg\" xmlns:xlink=\"http://www.w3.org/1999/xlink\" width=\"101pt\" height=\"188pt\" viewBox=\"0.00 0.00 101.35 188.00\">\n<g id=\"graph0\" class=\"graph\" transform=\"scale(1 1) rotate(0) translate(4 184)\">\n<title>G</title>\n<!-- sante -->\n<g id=\"node1\" class=\"node\">\n<title>sante</title>\n<g id=\"a_node1\"><a xlink:title=\"(2) sante\">\n<ellipse fill=\"#404040\" stroke=\"black\" cx=\"38.35\" cy=\"-18\" rx=\"28.7\" ry=\"18\"/>\n<text text-anchor=\"middle\" x=\"38.35\" y=\"-14.3\" font-family=\"Times,serif\" font-size=\"14.00\" fill=\"white\">sante</text>\n</a>\n</g>\n</g>\n<!-- revenus -->\n<g id=\"node2\" class=\"node\">\n<title>revenus</title>\n<g id=\"a_node2\"><a xlink:title=\"(0) revenus\">\n<ellipse fill=\"#404040\" stroke=\"black\" cx=\"38.35\" cy=\"-162\" rx=\"38.19\" ry=\"18\"/>\n<text text-anchor=\"middle\" x=\"38.35\" y=\"-158.3\" font-family=\"Times,serif\" font-size=\"14.00\" fill=\"white\">revenus</text>\n</a>\n</g>\n</g>\n<!-- revenus&#45;&gt;sante -->\n<g id=\"edge2\" class=\"edge\">\n<title>revenus-&gt;sante</title>\n<g id=\"a_edge2\"><a xlink:title=\"0 → 2\">\n<path fill=\"none\" stroke=\"#4a4a4a\" d=\"M35.1,-143.89C33.3,-133.54 31.25,-120.06 30.35,-108 29.15,-92.04 29.15,-87.96 30.35,-72 30.98,-63.52 32.19,-54.34 33.47,-46.04\"/>\n<polygon fill=\"#4a4a4a\" stroke=\"#4a4a4a\" points=\"36.93,-46.55 35.1,-36.11 30.02,-45.41 36.93,-46.55\"/>\n</a>\n</g>\n</g>\n<!-- bio -->\n<g id=\"node3\" class=\"node\">\n<title>bio</title>\n<g id=\"a_node3\"><a xlink:title=\"(1) bio\">\n<ellipse fill=\"#404040\" stroke=\"black\" cx=\"66.35\" cy=\"-90\" rx=\"27\" ry=\"18\"/>\n<text text-anchor=\"middle\" x=\"66.35\" y=\"-86.3\" font-family=\"Times,serif\" font-size=\"14.00\" fill=\"white\">bio</text>\n</a>\n</g>\n</g>\n<!-- revenus&#45;&gt;bio -->\n<g id=\"edge1\" class=\"edge\">\n<title>revenus-&gt;bio</title>\n<g id=\"a_edge1\"><a xlink:title=\"0 → 1\">\n<path fill=\"none\" stroke=\"#4a4a4a\" d=\"M45.12,-144.05C48.36,-135.97 52.3,-126.12 55.9,-117.11\"/>\n<polygon fill=\"#4a4a4a\" stroke=\"#4a4a4a\" points=\"59.17,-118.37 59.63,-107.79 52.67,-115.77 59.17,-118.37\"/>\n</a>\n</g>\n</g>\n<!-- bio&#45;&gt;sante -->\n<g id=\"edge3\" class=\"edge\">\n<title>bio-&gt;sante</title>\n<g id=\"a_edge3\"><a xlink:title=\"1 → 2\">\n<path fill=\"none\" stroke=\"#4a4a4a\" d=\"M59.71,-72.41C56.48,-64.34 52.52,-54.43 48.89,-45.35\"/>\n<polygon fill=\"#4a4a4a\" stroke=\"#4a4a4a\" points=\"52.09,-43.94 45.13,-35.96 45.59,-46.54 52.09,-43.94\"/>\n</a>\n</g>\n</g>\n</g>\n</svg>"
          },
          "metadata": {}
        },
        {
          "output_type": "stream",
          "name": "stdout",
          "text": [
            "\n",
            "  sante            |\n",
            "0        |1        |\n",
            "---------|---------|\n",
            " 0.2609  | 0.7391  |\n",
            "\n"
          ]
        }
      ]
    },
    {
      "cell_type": "markdown",
      "source": [
        "## **Exo 8 du TD**"
      ],
      "metadata": {
        "id": "c7GbmMkkaKvA"
      }
    },
    {
      "cell_type": "code",
      "source": [
        "import pyAgrum as gum\n",
        "\n",
        "bn = gum.BayesNet('CarDiagnostics')\n",
        "\n",
        "B = bn.add(gum.LabelizedVariable('B', 'Battery', 2))  # 0 pour déchargée, 1 pour chargée\n",
        "F = bn.add(gum.LabelizedVariable('F', 'Fuel tank', 2))  # 0 pour vide, 1 pour plein\n",
        "L = bn.add(gum.LabelizedVariable('L', 'headLights', 2))  # 0 pour non fonctionnel, 1 pour fonctionnel\n",
        "G = bn.add(gum.LabelizedVariable('G', 'Gauge reading', 2))  # 0 pour Empty, 1 pour Full\n",
        "\n",
        "bn.addArc(B, L)\n",
        "bn.addArc(B, G)\n",
        "bn.addArc(F, G)\n",
        "\n",
        "bn.cpt(B).fillWith([0.1, 0.9])  # P(B=1) = 0.9, P(B=0) = 0.1\n",
        "bn.cpt(F).fillWith([0.1, 0.9])  # P(F=1) = 0.9, P(F=0) = 0.1\n",
        "bn.cpt(L)[{'B': 0}] = [1, 0]  # P(L=1 | B=0) = 0.0\n",
        "bn.cpt(L)[{'B': 1}] = [0.2, 0.8]  # P(L=1 | B=1) = 0.8\n",
        "bn.cpt(G)[{'B': 0, 'F': 0}] = [0.9, 0.1]  # P(G=1 | B=0, F=0) = 0.1\n",
        "bn.cpt(G)[{'B': 0, 'F': 1}] = [0.8, 0.2]  # P(G=1 | B=0, F=1) = 0.2\n",
        "bn.cpt(G)[{'B': 1, 'F': 0}] = [0.8, 0.2]  # P(G=1 | B=1, F=0) = 0.2\n",
        "bn.cpt(G)[{'B': 1, 'F': 1}] = [0.2, 0.8]  # P(G=1 | B=1, F=1) = 0.8\n",
        "\n",
        "# a) Calcul de P(L=0)\n",
        "prob_L_eq_0 = bn.cpt(L)[0, 0] + bn.cpt(L)[0, 1]\n",
        "\n",
        "# b) Vérification de l'indépendance entre L et F\n",
        "are_independent = bn.isIndependent(L, F)\n",
        "# c) Calcul de P(F=1 | G=0, L=1) et comparaison avec P(F=1 | G=0)\n",
        "ie = gum.LazyPropagation(bn)\n",
        "ie.setEvidence({'G': 0, 'L': 1})\n",
        "ie.makeInference()\n",
        "prob_F_eq_1_given_G_eq_0_and_L_eq_1 = ie.posterior(F)[1]\n",
        "\n",
        "ie.setEvidence({'G': 0})\n",
        "ie.makeInference()\n",
        "prob_F_eq_1_given_G_eq_0 = ie.posterior(F)[1]\n",
        "\n",
        "print(f\"P(L=0) = {prob_L_eq_0}\")\n",
        "print(\"Are L and F independent?\", are_independent)\n",
        "print(f\"P(F=1 | G=0, L=1) = {prob_F_eq_1_given_G_eq_0_and_L_eq_1}\")\n",
        "print(f\"P(F=1 | G=0) = {prob_F_eq_1_given_G_eq_0}\")\n"
      ],
      "metadata": {
        "id": "xkpLHK2rTwC5",
        "colab": {
          "base_uri": "https://localhost:8080/"
        },
        "outputId": "3474681e-beba-46ac-bc2a-baaf17974885"
      },
      "execution_count": null,
      "outputs": [
        {
          "output_type": "stream",
          "name": "stdout",
          "text": [
            "P(L=0) = 1.0\n",
            "Are L and F independent? True\n",
            "P(F=1 | G=0, L=1) = 0.6923076923076923\n",
            "P(F=1 | G=0) = 0.7428571428571428\n"
          ]
        }
      ]
    }
  ],
  "metadata": {
    "kernelspec": {
      "display_name": "Python 3",
      "language": "python",
      "name": "python3"
    },
    "language_info": {
      "codemirror_mode": {
        "name": "ipython",
        "version": 3
      },
      "file_extension": ".py",
      "mimetype": "text/x-python",
      "name": "python",
      "nbconvert_exporter": "python",
      "pygments_lexer": "ipython3",
      "version": "3.8.5"
    },
    "colab": {
      "provenance": []
    }
  },
  "nbformat": 4,
  "nbformat_minor": 0
}